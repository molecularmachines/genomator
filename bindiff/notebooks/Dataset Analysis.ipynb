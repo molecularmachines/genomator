{
 "cells": [
  {
   "cell_type": "code",
   "execution_count": 1,
   "id": "3e96c6c1",
   "metadata": {},
   "outputs": [],
   "source": [
    "import os\n",
    "from tqdm import tqdm\n",
    "from moleculib.protein.dataset import ProteinDNADataset\n",
    "from moleculib.protein.datum import ProteinDNADatum\n",
    "import plotly.express as px\n",
    "import pandas as pd"
   ]
  },
  {
   "cell_type": "code",
   "execution_count": 3,
   "id": "ebb390bb",
   "metadata": {},
   "outputs": [],
   "source": [
    "PDB_IDS_PATH = \"../data/protdna_1_1_25A.txt\"\n",
    "DATASET_PATH = \"../data/protdna_1_1_25A\"\n",
    "\n",
    "if not os.path.exists(DATASET_PATH):\n",
    "    os.makedirs(DATASET_PATH)\n",
    "\n",
    "with open(PDB_IDS_PATH) as f:\n",
    "    pdb_ids = f.read().split(\",\")"
   ]
  },
  {
   "cell_type": "code",
   "execution_count": null,
   "id": "abccc975",
   "metadata": {},
   "outputs": [],
   "source": [
    "dataset = ProteinDNADataset.build(pdb_ids, save_path=DATASET_PATH)"
   ]
  },
  {
   "cell_type": "code",
   "execution_count": null,
   "id": "a63c3ba7",
   "metadata": {},
   "outputs": [],
   "source": [
    "lengths = [len(x.dna_sequence) for x in dataset]\n",
    "dna_df = pd.DataFrame(lengths, columns=[\"dna_length\"])\n",
    "fig = px.histogram(dna_df)\n",
    "fig.show()"
   ]
  },
  {
   "cell_type": "code",
   "execution_count": null,
   "id": "e8a81524",
   "metadata": {},
   "outputs": [],
   "source": [
    "plengths = [len(x.sequence) for x in dataset]\n",
    "aa_df = pd.DataFrame(plengths, columns=[\"aa_length\"])\n",
    "fig = px.histogram(aa_df)\n",
    "fig.show()"
   ]
  },
  {
   "cell_type": "code",
   "execution_count": null,
   "id": "979b7b16",
   "metadata": {},
   "outputs": [],
   "source": [
    "dna_aa = list(zip(lengths, plengths))\n",
    "dna_aa = [(i, x, y) for i, (x, y) in enumerate(dna_aa)]"
   ]
  },
  {
   "cell_type": "code",
   "execution_count": null,
   "id": "f593a437",
   "metadata": {},
   "outputs": [],
   "source": [
    "df = pd.DataFrame.from_records((dna_aa), columns=['index', 'dna_length', 'aa_length'])"
   ]
  },
  {
   "cell_type": "code",
   "execution_count": null,
   "id": "a8b6eded",
   "metadata": {},
   "outputs": [],
   "source": [
    "px.scatter(df, x=\"dna_length\", y=\"aa_length\", color=\"index\")"
   ]
  }
 ],
 "metadata": {
  "kernelspec": {
   "display_name": "genomator",
   "language": "python",
   "name": "genomator"
  },
  "language_info": {
   "codemirror_mode": {
    "name": "ipython",
    "version": 3
   },
   "file_extension": ".py",
   "mimetype": "text/x-python",
   "name": "python",
   "nbconvert_exporter": "python",
   "pygments_lexer": "ipython3",
   "version": "3.9.1"
  }
 },
 "nbformat": 4,
 "nbformat_minor": 5
}
