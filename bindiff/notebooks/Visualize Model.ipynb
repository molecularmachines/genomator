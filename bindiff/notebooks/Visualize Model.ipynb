{
 "cells": [
  {
   "cell_type": "code",
   "execution_count": 1,
   "id": "f7af2d89",
   "metadata": {},
   "outputs": [],
   "source": [
    "from moleculib.protein.dataset import ProteinDataset\n",
    "from moleculib.protein.batch import PadBatch\n",
    "from preprocess import StandardizeTransform\n",
    "from torch.utils.data import DataLoader\n",
    "from visualize import backbone_to_pdb, backbones_to_animation, pred_to_pdb\n",
    "from models.en_denoiser import EnDenoiser\n",
    "from einops import rearrange\n",
    "import torch\n",
    "import torch.nn.functional as F\n",
    "import plotly.express as px\n",
    "import pandas as pd\n",
    "import plotly.graph_objects as go"
   ]
  },
  {
   "cell_type": "markdown",
   "id": "655e9fda",
   "metadata": {},
   "source": [
    "# Load data"
   ]
  },
  {
   "cell_type": "code",
   "execution_count": 2,
   "id": "35bf5984",
   "metadata": {},
   "outputs": [
    {
     "name": "stderr",
     "output_type": "stream",
     "text": [
      "/Users/ido/genomator/venv/lib/python3.9/site-packages/biotite/structure/io/pdb/file.py:423: UserWarning: 1368 elements were guessed from atom_name.\n",
      "  warn(\"{} elements were guessed from atom_name.\".format(rep_num))\n"
     ]
    }
   ],
   "source": [
    "CHECKPOINT = \"../checkpoints/ex_20230413_190231/epoch=10599-step=10600.ckpt\"\n",
    "TRAIN_DIR = \"../data/single\"\n",
    "transform = [StandardizeTransform()]\n",
    "train_dataset = ProteinDataset(TRAIN_DIR, transform=transform, preload=True)"
   ]
  },
  {
   "cell_type": "code",
   "execution_count": 3,
   "id": "fc465143",
   "metadata": {},
   "outputs": [],
   "source": [
    "loader = DataLoader(train_dataset, collate_fn=PadBatch.collate, batch_size=2, shuffle=False)\n",
    "batch = next(iter(loader))"
   ]
  },
  {
   "cell_type": "code",
   "execution_count": 4,
   "id": "2be22d28",
   "metadata": {},
   "outputs": [],
   "source": [
    "model = EnDenoiser.load_from_checkpoint(CHECKPOINT).eval()"
   ]
  },
  {
   "cell_type": "code",
   "execution_count": null,
   "id": "1baf6609",
   "metadata": {},
   "outputs": [],
   "source": [
    "model.distmap_score(batch)"
   ]
  },
  {
   "cell_type": "code",
   "execution_count": null,
   "id": "59f4e4f7",
   "metadata": {},
   "outputs": [],
   "source": [
    "def rescale_protein(coords, std_const=9.0):\n",
    "    return std_const * coords"
   ]
  },
  {
   "cell_type": "code",
   "execution_count": null,
   "id": "e3e8447d",
   "metadata": {},
   "outputs": [],
   "source": [
    "def rearrange_coords(coords):\n",
    "    new_coords = coords.squeeze(0)[:,:num_backbone, :]\n",
    "    new_coords = rearrange(new_coords, \"s b c -> (s b) c\")\n",
    "    return new_coords"
   ]
  },
  {
   "cell_type": "markdown",
   "id": "6e0330ff",
   "metadata": {},
   "source": [
    "# Visualize the sample backbone"
   ]
  },
  {
   "cell_type": "code",
   "execution_count": 5,
   "id": "f72b6fc4",
   "metadata": {},
   "outputs": [],
   "source": [
    "pdb_fname = \"test.pdb\"\n",
    "coord = batch.atom_coord[0]\n",
    "seq = str(batch.sequence[0])"
   ]
  },
  {
   "cell_type": "code",
   "execution_count": 7,
   "id": "91c0fc94",
   "metadata": {},
   "outputs": [
    {
     "name": "stdout",
     "output_type": "stream",
     "text": [
      "File test.pdb has been saved.\n"
     ]
    }
   ],
   "source": [
    "pred_to_pdb(coord, seq, pdb_fname, rearrange=True)"
   ]
  },
  {
   "cell_type": "code",
   "execution_count": 15,
   "id": "e92d905e",
   "metadata": {},
   "outputs": [
    {
     "name": "stdout",
     "output_type": "stream",
     "text": [
      "File test2.pdb has been saved.\n"
     ]
    }
   ],
   "source": [
    "coords, seqs, masks = model.prepare_inputs(batch)\n",
    "pdb_fname = \"test2.pdb\"\n",
    "coord = coords[0]\n",
    "seq = str(batch.sequence[0])\n",
    "pred_to_pdb(coord, seq, pdb_fname, rearrange=False)"
   ]
  },
  {
   "cell_type": "code",
   "execution_count": 17,
   "id": "5ff73a95",
   "metadata": {},
   "outputs": [
    {
     "data": {
      "text/plain": [
       "tensor([[ 13.9157,   9.6683,   0.5851],\n",
       "        [ 13.7884,   9.4367,  -0.7392],\n",
       "        [ 12.9711,   8.3390,  -1.0348],\n",
       "        ...,\n",
       "        [ -8.1376,  11.9117, -14.8142],\n",
       "        [ -9.3939,  12.7790, -14.4148],\n",
       "        [ -9.2148,  14.1418, -13.6587]])"
      ]
     },
     "execution_count": 17,
     "metadata": {},
     "output_type": "execute_result"
    }
   ],
   "source": [
    "coord * 9"
   ]
  },
  {
   "cell_type": "markdown",
   "id": "5d6d6f6b",
   "metadata": {},
   "source": [
    "# Visualize noise steps"
   ]
  },
  {
   "cell_type": "code",
   "execution_count": null,
   "id": "f40c265e",
   "metadata": {},
   "outputs": [],
   "source": [
    "def visualize_noise(batch, num_steps):\n",
    "    x = batch.atom_coord[:,:,:num_backbone, :]\n",
    "    coords_list = [coord]\n",
    "    for i in range(num_steps):\n",
    "        ts = torch.tensor([i])\n",
    "        noised_x, noise = model.diffusion.q_sample(x, ts)\n",
    "        noised_x = rescale_protein(rearrange_coords(noised_x))\n",
    "        coords_list.append(noised_x)\n",
    "    backbones_to_animation(coords_list, seq, \"test_noise.pdb\")"
   ]
  },
  {
   "cell_type": "code",
   "execution_count": null,
   "id": "965664ca",
   "metadata": {},
   "outputs": [],
   "source": [
    "visualize_noise(batch, model.diffusion.timesteps)"
   ]
  },
  {
   "cell_type": "markdown",
   "id": "9133019c",
   "metadata": {},
   "source": [
    "# Perform backward diffusion"
   ]
  },
  {
   "cell_type": "code",
   "execution_count": null,
   "id": "338e2cf2",
   "metadata": {},
   "outputs": [],
   "source": [
    "coords, seqs, masks = model.prepare_inputs(batch)\n",
    "timesteps = model.diffusion.timesteps"
   ]
  },
  {
   "cell_type": "code",
   "execution_count": null,
   "id": "5801bfbd",
   "metadata": {},
   "outputs": [],
   "source": [
    "results = model.diffusion.sample(model.transformer, coords, seqs, masks, timesteps)"
   ]
  },
  {
   "cell_type": "code",
   "execution_count": null,
   "id": "941dc603",
   "metadata": {},
   "outputs": [],
   "source": [
    "results = [x.squeeze(0) for x in results]\n",
    "original = coords[0]\n",
    "losses = [float(F.mse_loss(x, original)) for x in results]"
   ]
  },
  {
   "cell_type": "code",
   "execution_count": null,
   "id": "f1cb156b",
   "metadata": {},
   "outputs": [],
   "source": [
    "fig = px.line(pd.Series(losses), title='Loss from original over time')\n",
    "fig.show()"
   ]
  },
  {
   "cell_type": "code",
   "execution_count": null,
   "id": "eed53799",
   "metadata": {},
   "outputs": [],
   "source": [
    "model.distmap_score(batch)"
   ]
  },
  {
   "cell_type": "code",
   "execution_count": null,
   "id": "33524714",
   "metadata": {},
   "outputs": [],
   "source": [
    "# save PDB files for diffusion steps\n",
    "last_result = rescale_protein(results[-1])\n",
    "backbone_to_pdb(last_result, seq, f\"backward_{model.diffusion.timesteps}.pdb\", num_backbone)\n",
    "backbones_to_animation(results, seq, \"denoise.pdb\")"
   ]
  },
  {
   "cell_type": "markdown",
   "id": "40c544e1",
   "metadata": {},
   "source": [
    "# 3D Scatter Visualize"
   ]
  },
  {
   "cell_type": "code",
   "execution_count": null,
   "id": "ab2edf30",
   "metadata": {},
   "outputs": [],
   "source": [
    "def show_scatter(mat):\n",
    "    x, y, z = mat.T\n",
    "    scatters = [\n",
    "        go.Scatter3d(\n",
    "            name=\"coord\",\n",
    "            x=x, y=y, z=z,\n",
    "            mode='markers',\n",
    "            marker=dict(\n",
    "                size=3,\n",
    "                colorscale=\"Viridis\",\n",
    "            )\n",
    "        )\n",
    "    ]\n",
    "    fig = go.Figure(data=scatters)\n",
    "    fig.update_layout(\n",
    "        autosize=False,\n",
    "        width=650,\n",
    "        height=650,\n",
    "    )\n",
    "    fig.show()"
   ]
  },
  {
   "cell_type": "code",
   "execution_count": null,
   "id": "62ab4ed2",
   "metadata": {},
   "outputs": [],
   "source": [
    "show_scatter(original)"
   ]
  },
  {
   "cell_type": "code",
   "execution_count": null,
   "id": "2f29be74",
   "metadata": {},
   "outputs": [],
   "source": [
    "show_scatter(results[-1])"
   ]
  },
  {
   "cell_type": "markdown",
   "id": "18dbac6d",
   "metadata": {},
   "source": [
    "# Manually Noise-Denoise"
   ]
  },
  {
   "cell_type": "code",
   "execution_count": null,
   "id": "83cbc37f",
   "metadata": {},
   "outputs": [],
   "source": [
    "prediction_losses = []\n",
    "\n",
    "for i in range(0, model.timesteps, 10):\n",
    "    coords, seq, masks = model.prepare_inputs(batch)\n",
    "    ts = torch.tensor([i])\n",
    "\n",
    "    # forward diffusion\n",
    "    noised_coords, noise = model.q_sample(coords, ts)\n",
    "    ts = ts.type(torch.float64)\n",
    "\n",
    "    # predict noisy input with transformer\n",
    "    feats, prediction = model.transformer(seq, noised_coords, ts, mask=masks)\n",
    "    \n",
    "    pred_noise = prediction - noised_coords\n",
    "    prediction_losses.append(float(F.mse_loss(pred_noise, noise)))"
   ]
  },
  {
   "cell_type": "code",
   "execution_count": null,
   "id": "facc0051",
   "metadata": {},
   "outputs": [],
   "source": [
    "fig = px.line(pd.Series(prediction_losses), title='Loss from original over time')\n",
    "fig.show()"
   ]
  }
 ],
 "metadata": {
  "kernelspec": {
   "display_name": "genomator",
   "language": "python",
   "name": "genomator"
  },
  "language_info": {
   "codemirror_mode": {
    "name": "ipython",
    "version": 3
   },
   "file_extension": ".py",
   "mimetype": "text/x-python",
   "name": "python",
   "nbconvert_exporter": "python",
   "pygments_lexer": "ipython3",
   "version": "3.9.1"
  }
 },
 "nbformat": 4,
 "nbformat_minor": 5
}
