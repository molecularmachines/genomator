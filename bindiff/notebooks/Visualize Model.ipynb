{
 "cells": [
  {
   "cell_type": "code",
   "execution_count": 33,
   "id": "f7af2d89",
   "metadata": {},
   "outputs": [],
   "source": [
    "from moleculib.protein.dataset import ProteinDataset\n",
    "from moleculib.protein.batch import PadBatch\n",
    "from preprocess import StandardizeTransform\n",
    "from torch.utils.data import DataLoader\n",
    "from visualize import backbone_to_pdb, backbones_to_animation\n",
    "from models.en_denoiser import EnDenoiser\n",
    "from einops import rearrange\n",
    "import torch\n",
    "import torch.nn.functional as F\n",
    "import plotly.express as px\n",
    "import pandas as pd\n",
    "import plotly.graph_objects as go"
   ]
  },
  {
   "cell_type": "markdown",
   "id": "655e9fda",
   "metadata": {},
   "source": [
    "# Load data"
   ]
  },
  {
   "cell_type": "code",
   "execution_count": 34,
   "id": "35bf5984",
   "metadata": {},
   "outputs": [],
   "source": [
    "CHECKPOINT = \"../checkpoints/ex_20230411_015817/epoch=3649-step=3650.ckpt\"\n",
    "TRAIN_DIR = \"../data/single\"\n",
    "transform = [StandardizeTransform()]\n",
    "train_dataset = ProteinDataset(TRAIN_DIR, transform=transform, preload=True)"
   ]
  },
  {
   "cell_type": "code",
   "execution_count": 35,
   "id": "fc465143",
   "metadata": {},
   "outputs": [],
   "source": [
    "loader = DataLoader(train_dataset, collate_fn=PadBatch.collate, batch_size=1, shuffle=False)\n",
    "batch = next(iter(loader))"
   ]
  },
  {
   "cell_type": "code",
   "execution_count": 36,
   "id": "2be22d28",
   "metadata": {},
   "outputs": [
    {
     "data": {
      "text/plain": [
       "EnDenoiser(\n",
       "  (transformer): EnTransformer(\n",
       "    (token_emb): Embedding(23, 64)\n",
       "    (time_mlp): Sequential(\n",
       "      (0): SinusoidalPositionEmbeddings()\n",
       "      (1): Linear(in_features=64, out_features=256, bias=True)\n",
       "      (2): GELU(approximate='none')\n",
       "      (3): Linear(in_features=256, out_features=256, bias=True)\n",
       "    )\n",
       "    (layers): ModuleList(\n",
       "      (0): Block(\n",
       "        (attn): Residual(\n",
       "          (fn): EquivariantAttention(\n",
       "            (time_mlp): Sequential(\n",
       "              (0): SiLU()\n",
       "              (1): Linear(in_features=256, out_features=128, bias=True)\n",
       "            )\n",
       "            (norm): LayerNorm()\n",
       "            (to_qkv): Linear(in_features=64, out_features=768, bias=False)\n",
       "            (to_out): Linear(in_features=256, out_features=64, bias=True)\n",
       "            (coors_mlp): Sequential(\n",
       "              (0): Linear(in_features=4, out_features=16, bias=False)\n",
       "              (1): GELU(approximate='none')\n",
       "              (2): Linear(in_features=16, out_features=4, bias=False)\n",
       "            )\n",
       "            (coors_gate): Sequential(\n",
       "              (0): Linear(in_features=4, out_features=4, bias=True)\n",
       "              (1): Tanh()\n",
       "            )\n",
       "            (norm_rel_coors): CoorsNorm()\n",
       "            (dynamic_pos_bias_mlp): DynamicPositionBias(\n",
       "              (mlp): ModuleList(\n",
       "                (0): Sequential(\n",
       "                  (0): Linear(in_features=2, out_features=32, bias=True)\n",
       "                  (1): LayerNorm((32,), eps=1e-05, elementwise_affine=True)\n",
       "                  (2): SiLU()\n",
       "                )\n",
       "                (1): Sequential(\n",
       "                  (0): Linear(in_features=32, out_features=32, bias=True)\n",
       "                  (1): LayerNorm((32,), eps=1e-05, elementwise_affine=True)\n",
       "                  (2): SiLU()\n",
       "                )\n",
       "                (2): Sequential(\n",
       "                  (0): Linear(in_features=32, out_features=32, bias=True)\n",
       "                  (1): LayerNorm((32,), eps=1e-05, elementwise_affine=True)\n",
       "                  (2): SiLU()\n",
       "                )\n",
       "              )\n",
       "              (qk_pos_head): Linear(in_features=32, out_features=4, bias=True)\n",
       "              (value_pos_head): Linear(in_features=32, out_features=256, bias=True)\n",
       "            )\n",
       "            (node_dropout): Dropout(p=0.0, inplace=False)\n",
       "            (coor_dropout): Dropout(p=0.0, inplace=False)\n",
       "          )\n",
       "        )\n",
       "        (ff): Residual(\n",
       "          (fn): FeedForward(\n",
       "            (net): Sequential(\n",
       "              (0): LayerNorm()\n",
       "              (1): Linear(in_features=64, out_features=340, bias=False)\n",
       "              (2): GEGLU()\n",
       "              (3): LayerNorm()\n",
       "              (4): Dropout(p=0.0, inplace=False)\n",
       "              (5): Linear(in_features=170, out_features=64, bias=False)\n",
       "            )\n",
       "          )\n",
       "        )\n",
       "      )\n",
       "      (1): Block(\n",
       "        (attn): Residual(\n",
       "          (fn): EquivariantAttention(\n",
       "            (time_mlp): Sequential(\n",
       "              (0): SiLU()\n",
       "              (1): Linear(in_features=256, out_features=128, bias=True)\n",
       "            )\n",
       "            (norm): LayerNorm()\n",
       "            (to_qkv): Linear(in_features=64, out_features=768, bias=False)\n",
       "            (to_out): Linear(in_features=256, out_features=64, bias=True)\n",
       "            (coors_mlp): Sequential(\n",
       "              (0): Linear(in_features=4, out_features=16, bias=False)\n",
       "              (1): GELU(approximate='none')\n",
       "              (2): Linear(in_features=16, out_features=4, bias=False)\n",
       "            )\n",
       "            (coors_gate): Sequential(\n",
       "              (0): Linear(in_features=4, out_features=4, bias=True)\n",
       "              (1): Tanh()\n",
       "            )\n",
       "            (norm_rel_coors): CoorsNorm()\n",
       "            (dynamic_pos_bias_mlp): DynamicPositionBias(\n",
       "              (mlp): ModuleList(\n",
       "                (0): Sequential(\n",
       "                  (0): Linear(in_features=2, out_features=32, bias=True)\n",
       "                  (1): LayerNorm((32,), eps=1e-05, elementwise_affine=True)\n",
       "                  (2): SiLU()\n",
       "                )\n",
       "                (1): Sequential(\n",
       "                  (0): Linear(in_features=32, out_features=32, bias=True)\n",
       "                  (1): LayerNorm((32,), eps=1e-05, elementwise_affine=True)\n",
       "                  (2): SiLU()\n",
       "                )\n",
       "                (2): Sequential(\n",
       "                  (0): Linear(in_features=32, out_features=32, bias=True)\n",
       "                  (1): LayerNorm((32,), eps=1e-05, elementwise_affine=True)\n",
       "                  (2): SiLU()\n",
       "                )\n",
       "              )\n",
       "              (qk_pos_head): Linear(in_features=32, out_features=4, bias=True)\n",
       "              (value_pos_head): Linear(in_features=32, out_features=256, bias=True)\n",
       "            )\n",
       "            (node_dropout): Dropout(p=0.0, inplace=False)\n",
       "            (coor_dropout): Dropout(p=0.0, inplace=False)\n",
       "          )\n",
       "        )\n",
       "        (ff): Residual(\n",
       "          (fn): FeedForward(\n",
       "            (net): Sequential(\n",
       "              (0): LayerNorm()\n",
       "              (1): Linear(in_features=64, out_features=340, bias=False)\n",
       "              (2): GEGLU()\n",
       "              (3): LayerNorm()\n",
       "              (4): Dropout(p=0.0, inplace=False)\n",
       "              (5): Linear(in_features=170, out_features=64, bias=False)\n",
       "            )\n",
       "          )\n",
       "        )\n",
       "      )\n",
       "      (2): Block(\n",
       "        (attn): Residual(\n",
       "          (fn): EquivariantAttention(\n",
       "            (time_mlp): Sequential(\n",
       "              (0): SiLU()\n",
       "              (1): Linear(in_features=256, out_features=128, bias=True)\n",
       "            )\n",
       "            (norm): LayerNorm()\n",
       "            (to_qkv): Linear(in_features=64, out_features=768, bias=False)\n",
       "            (to_out): Linear(in_features=256, out_features=64, bias=True)\n",
       "            (coors_mlp): Sequential(\n",
       "              (0): Linear(in_features=4, out_features=16, bias=False)\n",
       "              (1): GELU(approximate='none')\n",
       "              (2): Linear(in_features=16, out_features=4, bias=False)\n",
       "            )\n",
       "            (coors_gate): Sequential(\n",
       "              (0): Linear(in_features=4, out_features=4, bias=True)\n",
       "              (1): Tanh()\n",
       "            )\n",
       "            (norm_rel_coors): CoorsNorm()\n",
       "            (dynamic_pos_bias_mlp): DynamicPositionBias(\n",
       "              (mlp): ModuleList(\n",
       "                (0): Sequential(\n",
       "                  (0): Linear(in_features=2, out_features=32, bias=True)\n",
       "                  (1): LayerNorm((32,), eps=1e-05, elementwise_affine=True)\n",
       "                  (2): SiLU()\n",
       "                )\n",
       "                (1): Sequential(\n",
       "                  (0): Linear(in_features=32, out_features=32, bias=True)\n",
       "                  (1): LayerNorm((32,), eps=1e-05, elementwise_affine=True)\n",
       "                  (2): SiLU()\n",
       "                )\n",
       "                (2): Sequential(\n",
       "                  (0): Linear(in_features=32, out_features=32, bias=True)\n",
       "                  (1): LayerNorm((32,), eps=1e-05, elementwise_affine=True)\n",
       "                  (2): SiLU()\n",
       "                )\n",
       "              )\n",
       "              (qk_pos_head): Linear(in_features=32, out_features=4, bias=True)\n",
       "              (value_pos_head): Linear(in_features=32, out_features=256, bias=True)\n",
       "            )\n",
       "            (node_dropout): Dropout(p=0.0, inplace=False)\n",
       "            (coor_dropout): Dropout(p=0.0, inplace=False)\n",
       "          )\n",
       "        )\n",
       "        (ff): Residual(\n",
       "          (fn): FeedForward(\n",
       "            (net): Sequential(\n",
       "              (0): LayerNorm()\n",
       "              (1): Linear(in_features=64, out_features=340, bias=False)\n",
       "              (2): GEGLU()\n",
       "              (3): LayerNorm()\n",
       "              (4): Dropout(p=0.0, inplace=False)\n",
       "              (5): Linear(in_features=170, out_features=64, bias=False)\n",
       "            )\n",
       "          )\n",
       "        )\n",
       "      )\n",
       "      (3): Block(\n",
       "        (attn): Residual(\n",
       "          (fn): EquivariantAttention(\n",
       "            (time_mlp): Sequential(\n",
       "              (0): SiLU()\n",
       "              (1): Linear(in_features=256, out_features=128, bias=True)\n",
       "            )\n",
       "            (norm): LayerNorm()\n",
       "            (to_qkv): Linear(in_features=64, out_features=768, bias=False)\n",
       "            (to_out): Linear(in_features=256, out_features=64, bias=True)\n",
       "            (coors_mlp): Sequential(\n",
       "              (0): Linear(in_features=4, out_features=16, bias=False)\n",
       "              (1): GELU(approximate='none')\n",
       "              (2): Linear(in_features=16, out_features=4, bias=False)\n",
       "            )\n",
       "            (coors_gate): Sequential(\n",
       "              (0): Linear(in_features=4, out_features=4, bias=True)\n",
       "              (1): Tanh()\n",
       "            )\n",
       "            (norm_rel_coors): CoorsNorm()\n",
       "            (dynamic_pos_bias_mlp): DynamicPositionBias(\n",
       "              (mlp): ModuleList(\n",
       "                (0): Sequential(\n",
       "                  (0): Linear(in_features=2, out_features=32, bias=True)\n",
       "                  (1): LayerNorm((32,), eps=1e-05, elementwise_affine=True)\n",
       "                  (2): SiLU()\n",
       "                )\n",
       "                (1): Sequential(\n",
       "                  (0): Linear(in_features=32, out_features=32, bias=True)\n",
       "                  (1): LayerNorm((32,), eps=1e-05, elementwise_affine=True)\n",
       "                  (2): SiLU()\n",
       "                )\n",
       "                (2): Sequential(\n",
       "                  (0): Linear(in_features=32, out_features=32, bias=True)\n",
       "                  (1): LayerNorm((32,), eps=1e-05, elementwise_affine=True)\n",
       "                  (2): SiLU()\n",
       "                )\n",
       "              )\n",
       "              (qk_pos_head): Linear(in_features=32, out_features=4, bias=True)\n",
       "              (value_pos_head): Linear(in_features=32, out_features=256, bias=True)\n",
       "            )\n",
       "            (node_dropout): Dropout(p=0.0, inplace=False)\n",
       "            (coor_dropout): Dropout(p=0.0, inplace=False)\n",
       "          )\n",
       "        )\n",
       "        (ff): Residual(\n",
       "          (fn): FeedForward(\n",
       "            (net): Sequential(\n",
       "              (0): LayerNorm()\n",
       "              (1): Linear(in_features=64, out_features=340, bias=False)\n",
       "              (2): GEGLU()\n",
       "              (3): LayerNorm()\n",
       "              (4): Dropout(p=0.0, inplace=False)\n",
       "              (5): Linear(in_features=170, out_features=64, bias=False)\n",
       "            )\n",
       "          )\n",
       "        )\n",
       "      )\n",
       "      (4): Block(\n",
       "        (attn): Residual(\n",
       "          (fn): EquivariantAttention(\n",
       "            (time_mlp): Sequential(\n",
       "              (0): SiLU()\n",
       "              (1): Linear(in_features=256, out_features=128, bias=True)\n",
       "            )\n",
       "            (norm): LayerNorm()\n",
       "            (to_qkv): Linear(in_features=64, out_features=768, bias=False)\n",
       "            (to_out): Linear(in_features=256, out_features=64, bias=True)\n",
       "            (coors_mlp): Sequential(\n",
       "              (0): Linear(in_features=4, out_features=16, bias=False)\n",
       "              (1): GELU(approximate='none')\n",
       "              (2): Linear(in_features=16, out_features=4, bias=False)\n",
       "            )\n",
       "            (coors_gate): Sequential(\n",
       "              (0): Linear(in_features=4, out_features=4, bias=True)\n",
       "              (1): Tanh()\n",
       "            )\n",
       "            (norm_rel_coors): CoorsNorm()\n",
       "            (dynamic_pos_bias_mlp): DynamicPositionBias(\n",
       "              (mlp): ModuleList(\n",
       "                (0): Sequential(\n",
       "                  (0): Linear(in_features=2, out_features=32, bias=True)\n",
       "                  (1): LayerNorm((32,), eps=1e-05, elementwise_affine=True)\n",
       "                  (2): SiLU()\n",
       "                )\n",
       "                (1): Sequential(\n",
       "                  (0): Linear(in_features=32, out_features=32, bias=True)\n",
       "                  (1): LayerNorm((32,), eps=1e-05, elementwise_affine=True)\n",
       "                  (2): SiLU()\n",
       "                )\n",
       "                (2): Sequential(\n",
       "                  (0): Linear(in_features=32, out_features=32, bias=True)\n",
       "                  (1): LayerNorm((32,), eps=1e-05, elementwise_affine=True)\n",
       "                  (2): SiLU()\n",
       "                )\n",
       "              )\n",
       "              (qk_pos_head): Linear(in_features=32, out_features=4, bias=True)\n",
       "              (value_pos_head): Linear(in_features=32, out_features=256, bias=True)\n",
       "            )\n",
       "            (node_dropout): Dropout(p=0.0, inplace=False)\n",
       "            (coor_dropout): Dropout(p=0.0, inplace=False)\n",
       "          )\n",
       "        )\n",
       "        (ff): Residual(\n",
       "          (fn): FeedForward(\n",
       "            (net): Sequential(\n",
       "              (0): LayerNorm()\n",
       "              (1): Linear(in_features=64, out_features=340, bias=False)\n",
       "              (2): GEGLU()\n",
       "              (3): LayerNorm()\n",
       "              (4): Dropout(p=0.0, inplace=False)\n",
       "              (5): Linear(in_features=170, out_features=64, bias=False)\n",
       "            )\n",
       "          )\n",
       "        )\n",
       "      )\n",
       "      (5): Block(\n",
       "        (attn): Residual(\n",
       "          (fn): EquivariantAttention(\n",
       "            (time_mlp): Sequential(\n",
       "              (0): SiLU()\n",
       "              (1): Linear(in_features=256, out_features=128, bias=True)\n",
       "            )\n",
       "            (norm): LayerNorm()\n",
       "            (to_qkv): Linear(in_features=64, out_features=768, bias=False)\n",
       "            (to_out): Linear(in_features=256, out_features=64, bias=True)\n",
       "            (coors_mlp): Sequential(\n",
       "              (0): Linear(in_features=4, out_features=16, bias=False)\n",
       "              (1): GELU(approximate='none')\n",
       "              (2): Linear(in_features=16, out_features=4, bias=False)\n",
       "            )\n",
       "            (coors_gate): Sequential(\n",
       "              (0): Linear(in_features=4, out_features=4, bias=True)\n",
       "              (1): Tanh()\n",
       "            )\n",
       "            (norm_rel_coors): CoorsNorm()\n",
       "            (dynamic_pos_bias_mlp): DynamicPositionBias(\n",
       "              (mlp): ModuleList(\n",
       "                (0): Sequential(\n",
       "                  (0): Linear(in_features=2, out_features=32, bias=True)\n",
       "                  (1): LayerNorm((32,), eps=1e-05, elementwise_affine=True)\n",
       "                  (2): SiLU()\n",
       "                )\n",
       "                (1): Sequential(\n",
       "                  (0): Linear(in_features=32, out_features=32, bias=True)\n",
       "                  (1): LayerNorm((32,), eps=1e-05, elementwise_affine=True)\n",
       "                  (2): SiLU()\n",
       "                )\n",
       "                (2): Sequential(\n",
       "                  (0): Linear(in_features=32, out_features=32, bias=True)\n",
       "                  (1): LayerNorm((32,), eps=1e-05, elementwise_affine=True)\n",
       "                  (2): SiLU()\n",
       "                )\n",
       "              )\n",
       "              (qk_pos_head): Linear(in_features=32, out_features=4, bias=True)\n",
       "              (value_pos_head): Linear(in_features=32, out_features=256, bias=True)\n",
       "            )\n",
       "            (node_dropout): Dropout(p=0.0, inplace=False)\n",
       "            (coor_dropout): Dropout(p=0.0, inplace=False)\n",
       "          )\n",
       "        )\n",
       "        (ff): Residual(\n",
       "          (fn): FeedForward(\n",
       "            (net): Sequential(\n",
       "              (0): LayerNorm()\n",
       "              (1): Linear(in_features=64, out_features=340, bias=False)\n",
       "              (2): GEGLU()\n",
       "              (3): LayerNorm()\n",
       "              (4): Dropout(p=0.0, inplace=False)\n",
       "              (5): Linear(in_features=170, out_features=64, bias=False)\n",
       "            )\n",
       "          )\n",
       "        )\n",
       "      )\n",
       "      (6): Block(\n",
       "        (attn): Residual(\n",
       "          (fn): EquivariantAttention(\n",
       "            (time_mlp): Sequential(\n",
       "              (0): SiLU()\n",
       "              (1): Linear(in_features=256, out_features=128, bias=True)\n",
       "            )\n",
       "            (norm): LayerNorm()\n",
       "            (to_qkv): Linear(in_features=64, out_features=768, bias=False)\n",
       "            (to_out): Linear(in_features=256, out_features=64, bias=True)\n",
       "            (coors_mlp): Sequential(\n",
       "              (0): Linear(in_features=4, out_features=16, bias=False)\n",
       "              (1): GELU(approximate='none')\n",
       "              (2): Linear(in_features=16, out_features=4, bias=False)\n",
       "            )\n",
       "            (coors_gate): Sequential(\n",
       "              (0): Linear(in_features=4, out_features=4, bias=True)\n",
       "              (1): Tanh()\n",
       "            )\n",
       "            (norm_rel_coors): CoorsNorm()\n",
       "            (dynamic_pos_bias_mlp): DynamicPositionBias(\n",
       "              (mlp): ModuleList(\n",
       "                (0): Sequential(\n",
       "                  (0): Linear(in_features=2, out_features=32, bias=True)\n",
       "                  (1): LayerNorm((32,), eps=1e-05, elementwise_affine=True)\n",
       "                  (2): SiLU()\n",
       "                )\n",
       "                (1): Sequential(\n",
       "                  (0): Linear(in_features=32, out_features=32, bias=True)\n",
       "                  (1): LayerNorm((32,), eps=1e-05, elementwise_affine=True)\n",
       "                  (2): SiLU()\n",
       "                )\n",
       "                (2): Sequential(\n",
       "                  (0): Linear(in_features=32, out_features=32, bias=True)\n",
       "                  (1): LayerNorm((32,), eps=1e-05, elementwise_affine=True)\n",
       "                  (2): SiLU()\n",
       "                )\n",
       "              )\n",
       "              (qk_pos_head): Linear(in_features=32, out_features=4, bias=True)\n",
       "              (value_pos_head): Linear(in_features=32, out_features=256, bias=True)\n",
       "            )\n",
       "            (node_dropout): Dropout(p=0.0, inplace=False)\n",
       "            (coor_dropout): Dropout(p=0.0, inplace=False)\n",
       "          )\n",
       "        )\n",
       "        (ff): Residual(\n",
       "          (fn): FeedForward(\n",
       "            (net): Sequential(\n",
       "              (0): LayerNorm()\n",
       "              (1): Linear(in_features=64, out_features=340, bias=False)\n",
       "              (2): GEGLU()\n",
       "              (3): LayerNorm()\n",
       "              (4): Dropout(p=0.0, inplace=False)\n",
       "              (5): Linear(in_features=170, out_features=64, bias=False)\n",
       "            )\n",
       "          )\n",
       "        )\n",
       "      )\n",
       "      (7): Block(\n",
       "        (attn): Residual(\n",
       "          (fn): EquivariantAttention(\n",
       "            (time_mlp): Sequential(\n",
       "              (0): SiLU()\n",
       "              (1): Linear(in_features=256, out_features=128, bias=True)\n",
       "            )\n",
       "            (norm): LayerNorm()\n",
       "            (to_qkv): Linear(in_features=64, out_features=768, bias=False)\n",
       "            (to_out): Linear(in_features=256, out_features=64, bias=True)\n",
       "            (coors_mlp): Sequential(\n",
       "              (0): Linear(in_features=4, out_features=16, bias=False)\n",
       "              (1): GELU(approximate='none')\n",
       "              (2): Linear(in_features=16, out_features=4, bias=False)\n",
       "            )\n",
       "            (coors_gate): Sequential(\n",
       "              (0): Linear(in_features=4, out_features=4, bias=True)\n",
       "              (1): Tanh()\n",
       "            )\n",
       "            (norm_rel_coors): CoorsNorm()\n",
       "            (dynamic_pos_bias_mlp): DynamicPositionBias(\n",
       "              (mlp): ModuleList(\n",
       "                (0): Sequential(\n",
       "                  (0): Linear(in_features=2, out_features=32, bias=True)\n",
       "                  (1): LayerNorm((32,), eps=1e-05, elementwise_affine=True)\n",
       "                  (2): SiLU()\n",
       "                )\n",
       "                (1): Sequential(\n",
       "                  (0): Linear(in_features=32, out_features=32, bias=True)\n",
       "                  (1): LayerNorm((32,), eps=1e-05, elementwise_affine=True)\n",
       "                  (2): SiLU()\n",
       "                )\n",
       "                (2): Sequential(\n",
       "                  (0): Linear(in_features=32, out_features=32, bias=True)\n",
       "                  (1): LayerNorm((32,), eps=1e-05, elementwise_affine=True)\n",
       "                  (2): SiLU()\n",
       "                )\n",
       "              )\n",
       "              (qk_pos_head): Linear(in_features=32, out_features=4, bias=True)\n",
       "              (value_pos_head): Linear(in_features=32, out_features=256, bias=True)\n",
       "            )\n",
       "            (node_dropout): Dropout(p=0.0, inplace=False)\n",
       "            (coor_dropout): Dropout(p=0.0, inplace=False)\n",
       "          )\n",
       "        )\n",
       "        (ff): Residual(\n",
       "          (fn): FeedForward(\n",
       "            (net): Sequential(\n",
       "              (0): LayerNorm()\n",
       "              (1): Linear(in_features=64, out_features=340, bias=False)\n",
       "              (2): GEGLU()\n",
       "              (3): LayerNorm()\n",
       "              (4): Dropout(p=0.0, inplace=False)\n",
       "              (5): Linear(in_features=170, out_features=64, bias=False)\n",
       "            )\n",
       "          )\n",
       "        )\n",
       "      )\n",
       "    )\n",
       "  )\n",
       ")"
      ]
     },
     "execution_count": 36,
     "metadata": {},
     "output_type": "execute_result"
    }
   ],
   "source": [
    "model = EnDenoiser.load_from_checkpoint(CHECKPOINT)\n",
    "model.eval()"
   ]
  },
  {
   "cell_type": "code",
   "execution_count": 37,
   "id": "59f4e4f7",
   "metadata": {},
   "outputs": [],
   "source": [
    "def rescale_protein(coords, std_const=9.0):\n",
    "    return std_const * coords"
   ]
  },
  {
   "cell_type": "code",
   "execution_count": 38,
   "id": "e3e8447d",
   "metadata": {},
   "outputs": [],
   "source": [
    "def rearrange_coords(coords):\n",
    "    new_coords = coords.squeeze(0)[:,:num_backbone, :]\n",
    "    new_coords = rearrange(new_coords, \"s b c -> (s b) c\")\n",
    "    return new_coords"
   ]
  },
  {
   "cell_type": "markdown",
   "id": "6e0330ff",
   "metadata": {},
   "source": [
    "# Visualize the sample backbone"
   ]
  },
  {
   "cell_type": "code",
   "execution_count": 39,
   "id": "9a69186c",
   "metadata": {},
   "outputs": [
    {
     "name": "stdout",
     "output_type": "stream",
     "text": [
      "File test.pdb has been saved.\n"
     ]
    },
    {
     "data": {
      "text/plain": [
       "'test.pdb'"
      ]
     },
     "execution_count": 39,
     "metadata": {},
     "output_type": "execute_result"
    }
   ],
   "source": [
    "pdb_fname = \"test.pdb\"\n",
    "num_backbone = 4\n",
    "coord = batch.atom_coord\n",
    "coord = rescale_protein(rearrange_coords(coord))\n",
    "seq = str(batch.sequence[0])\n",
    "backbone_to_pdb(coord, seq, pdb_fname, num_backbone)"
   ]
  },
  {
   "cell_type": "markdown",
   "id": "5d6d6f6b",
   "metadata": {},
   "source": [
    "# Visualize noise steps"
   ]
  },
  {
   "cell_type": "code",
   "execution_count": 40,
   "id": "f40c265e",
   "metadata": {},
   "outputs": [],
   "source": [
    "def visualize_noise(batch, num_steps):\n",
    "    x = batch.atom_coord[:,:,:num_backbone, :]\n",
    "    coords_list = [coord]\n",
    "    for i in range(num_steps):\n",
    "        ts = torch.tensor([i])\n",
    "        noised_x, noise = model.diffusion.q_sample(x, ts)\n",
    "        noised_x = rescale_protein(rearrange_coords(noised_x))\n",
    "        coords_list.append(noised_x)\n",
    "    backbones_to_animation(coords_list, seq, \"test_noise.pdb\")"
   ]
  },
  {
   "cell_type": "code",
   "execution_count": 41,
   "id": "965664ca",
   "metadata": {},
   "outputs": [
    {
     "name": "stdout",
     "output_type": "stream",
     "text": [
      "File test_noise.pdb has been saved.\n"
     ]
    }
   ],
   "source": [
    "visualize_noise(batch, model.diffusion.timesteps)"
   ]
  },
  {
   "cell_type": "markdown",
   "id": "9133019c",
   "metadata": {},
   "source": [
    "# Perform backward diffusion"
   ]
  },
  {
   "cell_type": "code",
   "execution_count": 42,
   "id": "5801bfbd",
   "metadata": {},
   "outputs": [
    {
     "name": "stderr",
     "output_type": "stream",
     "text": [
      "sampling loop time step: 100%|████████████████████████████████████████████████████████████████| 99/99 [01:33<00:00,  1.06it/s]\n"
     ]
    }
   ],
   "source": [
    "results = model.diffusion.sample(model, batch, model.diffusion.timesteps - 1)"
   ]
  },
  {
   "cell_type": "code",
   "execution_count": 43,
   "id": "7261c6d8",
   "metadata": {},
   "outputs": [],
   "source": [
    "results = [x.squeeze(0) for x in results]\n",
    "original = rearrange_coords(batch.atom_coord)\n",
    "losses = [float(F.mse_loss(x, original)) for x in results]"
   ]
  },
  {
   "cell_type": "code",
   "execution_count": 44,
   "id": "f1cb156b",
   "metadata": {},
   "outputs": [
    {
     "data": {
      "application/vnd.plotly.v1+json": {
       "config": {
        "plotlyServerURL": "https://plot.ly"
       },
       "data": [
        {
         "hovertemplate": "variable=0<br>index=%{x}<br>value=%{y}<extra></extra>",
         "legendgroup": "0",
         "line": {
          "color": "#636efa",
          "dash": "solid"
         },
         "marker": {
          "symbol": "circle"
         },
         "mode": "lines",
         "name": "0",
         "orientation": "v",
         "showlegend": true,
         "type": "scatter",
         "x": [
          0,
          1,
          2,
          3,
          4,
          5,
          6,
          7,
          8,
          9,
          10,
          11,
          12,
          13,
          14,
          15,
          16,
          17,
          18,
          19,
          20,
          21,
          22,
          23,
          24,
          25,
          26,
          27,
          28,
          29,
          30,
          31,
          32,
          33,
          34,
          35,
          36,
          37,
          38,
          39,
          40,
          41,
          42,
          43,
          44,
          45,
          46,
          47,
          48,
          49,
          50,
          51,
          52,
          53,
          54,
          55,
          56,
          57,
          58,
          59,
          60,
          61,
          62,
          63,
          64,
          65,
          66,
          67,
          68,
          69,
          70,
          71,
          72,
          73,
          74,
          75,
          76,
          77,
          78,
          79,
          80,
          81,
          82,
          83,
          84,
          85,
          86,
          87,
          88,
          89,
          90,
          91,
          92,
          93,
          94,
          95,
          96,
          97,
          98
         ],
         "xaxis": "x",
         "y": [
          1.9292494196130017,
          1.9355341432149746,
          1.9315741905994122,
          1.9204787717587832,
          1.9286894239323213,
          1.9354802836201703,
          1.9475915974288645,
          1.9465606369144615,
          1.9504384945400102,
          1.9545460015082878,
          1.9483626130210452,
          1.9428060344571143,
          1.926397226909417,
          1.918905010389042,
          1.9107392781036567,
          1.9062380239050014,
          1.9137278774351358,
          1.9088762269991422,
          1.9002114589426389,
          1.897601563935667,
          1.8850707868536023,
          1.8859342857784738,
          1.8867771644065556,
          1.8758019246309914,
          1.861088580352067,
          1.8563972836069988,
          1.8448871219479548,
          1.838860971525136,
          1.8200687243386189,
          1.8199264261771875,
          1.8125195401965681,
          1.8108462653055113,
          1.8020212552161876,
          1.79139471773504,
          1.7835475321996805,
          1.7734530945184594,
          1.7684280600536704,
          1.7733516959046027,
          1.7688028746418798,
          1.7624414822983083,
          1.7482962508558921,
          1.739663421864526,
          1.7321499096857687,
          1.7246396631409355,
          1.714321357890401,
          1.709339604868319,
          1.7070416870515854,
          1.7077385257580533,
          1.6909623296384804,
          1.6972294771356022,
          1.6839596397905108,
          1.678498888555001,
          1.655958187992484,
          1.6564142370278467,
          1.6410289785610195,
          1.6308112412072013,
          1.6247130416068152,
          1.617393194748573,
          1.608164094986253,
          1.6026468522881572,
          1.58345465527354,
          1.5844040519651876,
          1.5745897936101636,
          1.557272043195304,
          1.5534618702304148,
          1.544278953482016,
          1.5279608695715203,
          1.5195057579102376,
          1.5120597203533317,
          1.502108663512245,
          1.4952358469178757,
          1.4900470762417872,
          1.4821178043376888,
          1.4743443895028443,
          1.4682083851564864,
          1.464312560021635,
          1.4566176233747294,
          1.446608167886411,
          1.4369769551753218,
          1.4293690020422434,
          1.4251571965205467,
          1.4137804885493856,
          1.4072880615103014,
          1.3978506222198852,
          1.388024744067652,
          1.380996161840124,
          1.3737810977108897,
          1.3629677709261236,
          1.3553448080797963,
          1.3440982546088847,
          1.3350776900910246,
          1.3266606817999524,
          1.3165055425007344,
          1.3056658397205065,
          1.2965523838290913,
          1.2877289974189214,
          1.2792505932953473,
          1.2723028603458848,
          1.2657001654500293
         ],
         "yaxis": "y"
        }
       ],
       "layout": {
        "legend": {
         "title": {
          "text": "variable"
         },
         "tracegroupgap": 0
        },
        "template": {
         "data": {
          "bar": [
           {
            "error_x": {
             "color": "#2a3f5f"
            },
            "error_y": {
             "color": "#2a3f5f"
            },
            "marker": {
             "line": {
              "color": "#E5ECF6",
              "width": 0.5
             },
             "pattern": {
              "fillmode": "overlay",
              "size": 10,
              "solidity": 0.2
             }
            },
            "type": "bar"
           }
          ],
          "barpolar": [
           {
            "marker": {
             "line": {
              "color": "#E5ECF6",
              "width": 0.5
             },
             "pattern": {
              "fillmode": "overlay",
              "size": 10,
              "solidity": 0.2
             }
            },
            "type": "barpolar"
           }
          ],
          "carpet": [
           {
            "aaxis": {
             "endlinecolor": "#2a3f5f",
             "gridcolor": "white",
             "linecolor": "white",
             "minorgridcolor": "white",
             "startlinecolor": "#2a3f5f"
            },
            "baxis": {
             "endlinecolor": "#2a3f5f",
             "gridcolor": "white",
             "linecolor": "white",
             "minorgridcolor": "white",
             "startlinecolor": "#2a3f5f"
            },
            "type": "carpet"
           }
          ],
          "choropleth": [
           {
            "colorbar": {
             "outlinewidth": 0,
             "ticks": ""
            },
            "type": "choropleth"
           }
          ],
          "contour": [
           {
            "colorbar": {
             "outlinewidth": 0,
             "ticks": ""
            },
            "colorscale": [
             [
              0,
              "#0d0887"
             ],
             [
              0.1111111111111111,
              "#46039f"
             ],
             [
              0.2222222222222222,
              "#7201a8"
             ],
             [
              0.3333333333333333,
              "#9c179e"
             ],
             [
              0.4444444444444444,
              "#bd3786"
             ],
             [
              0.5555555555555556,
              "#d8576b"
             ],
             [
              0.6666666666666666,
              "#ed7953"
             ],
             [
              0.7777777777777778,
              "#fb9f3a"
             ],
             [
              0.8888888888888888,
              "#fdca26"
             ],
             [
              1,
              "#f0f921"
             ]
            ],
            "type": "contour"
           }
          ],
          "contourcarpet": [
           {
            "colorbar": {
             "outlinewidth": 0,
             "ticks": ""
            },
            "type": "contourcarpet"
           }
          ],
          "heatmap": [
           {
            "colorbar": {
             "outlinewidth": 0,
             "ticks": ""
            },
            "colorscale": [
             [
              0,
              "#0d0887"
             ],
             [
              0.1111111111111111,
              "#46039f"
             ],
             [
              0.2222222222222222,
              "#7201a8"
             ],
             [
              0.3333333333333333,
              "#9c179e"
             ],
             [
              0.4444444444444444,
              "#bd3786"
             ],
             [
              0.5555555555555556,
              "#d8576b"
             ],
             [
              0.6666666666666666,
              "#ed7953"
             ],
             [
              0.7777777777777778,
              "#fb9f3a"
             ],
             [
              0.8888888888888888,
              "#fdca26"
             ],
             [
              1,
              "#f0f921"
             ]
            ],
            "type": "heatmap"
           }
          ],
          "heatmapgl": [
           {
            "colorbar": {
             "outlinewidth": 0,
             "ticks": ""
            },
            "colorscale": [
             [
              0,
              "#0d0887"
             ],
             [
              0.1111111111111111,
              "#46039f"
             ],
             [
              0.2222222222222222,
              "#7201a8"
             ],
             [
              0.3333333333333333,
              "#9c179e"
             ],
             [
              0.4444444444444444,
              "#bd3786"
             ],
             [
              0.5555555555555556,
              "#d8576b"
             ],
             [
              0.6666666666666666,
              "#ed7953"
             ],
             [
              0.7777777777777778,
              "#fb9f3a"
             ],
             [
              0.8888888888888888,
              "#fdca26"
             ],
             [
              1,
              "#f0f921"
             ]
            ],
            "type": "heatmapgl"
           }
          ],
          "histogram": [
           {
            "marker": {
             "pattern": {
              "fillmode": "overlay",
              "size": 10,
              "solidity": 0.2
             }
            },
            "type": "histogram"
           }
          ],
          "histogram2d": [
           {
            "colorbar": {
             "outlinewidth": 0,
             "ticks": ""
            },
            "colorscale": [
             [
              0,
              "#0d0887"
             ],
             [
              0.1111111111111111,
              "#46039f"
             ],
             [
              0.2222222222222222,
              "#7201a8"
             ],
             [
              0.3333333333333333,
              "#9c179e"
             ],
             [
              0.4444444444444444,
              "#bd3786"
             ],
             [
              0.5555555555555556,
              "#d8576b"
             ],
             [
              0.6666666666666666,
              "#ed7953"
             ],
             [
              0.7777777777777778,
              "#fb9f3a"
             ],
             [
              0.8888888888888888,
              "#fdca26"
             ],
             [
              1,
              "#f0f921"
             ]
            ],
            "type": "histogram2d"
           }
          ],
          "histogram2dcontour": [
           {
            "colorbar": {
             "outlinewidth": 0,
             "ticks": ""
            },
            "colorscale": [
             [
              0,
              "#0d0887"
             ],
             [
              0.1111111111111111,
              "#46039f"
             ],
             [
              0.2222222222222222,
              "#7201a8"
             ],
             [
              0.3333333333333333,
              "#9c179e"
             ],
             [
              0.4444444444444444,
              "#bd3786"
             ],
             [
              0.5555555555555556,
              "#d8576b"
             ],
             [
              0.6666666666666666,
              "#ed7953"
             ],
             [
              0.7777777777777778,
              "#fb9f3a"
             ],
             [
              0.8888888888888888,
              "#fdca26"
             ],
             [
              1,
              "#f0f921"
             ]
            ],
            "type": "histogram2dcontour"
           }
          ],
          "mesh3d": [
           {
            "colorbar": {
             "outlinewidth": 0,
             "ticks": ""
            },
            "type": "mesh3d"
           }
          ],
          "parcoords": [
           {
            "line": {
             "colorbar": {
              "outlinewidth": 0,
              "ticks": ""
             }
            },
            "type": "parcoords"
           }
          ],
          "pie": [
           {
            "automargin": true,
            "type": "pie"
           }
          ],
          "scatter": [
           {
            "fillpattern": {
             "fillmode": "overlay",
             "size": 10,
             "solidity": 0.2
            },
            "type": "scatter"
           }
          ],
          "scatter3d": [
           {
            "line": {
             "colorbar": {
              "outlinewidth": 0,
              "ticks": ""
             }
            },
            "marker": {
             "colorbar": {
              "outlinewidth": 0,
              "ticks": ""
             }
            },
            "type": "scatter3d"
           }
          ],
          "scattercarpet": [
           {
            "marker": {
             "colorbar": {
              "outlinewidth": 0,
              "ticks": ""
             }
            },
            "type": "scattercarpet"
           }
          ],
          "scattergeo": [
           {
            "marker": {
             "colorbar": {
              "outlinewidth": 0,
              "ticks": ""
             }
            },
            "type": "scattergeo"
           }
          ],
          "scattergl": [
           {
            "marker": {
             "colorbar": {
              "outlinewidth": 0,
              "ticks": ""
             }
            },
            "type": "scattergl"
           }
          ],
          "scattermapbox": [
           {
            "marker": {
             "colorbar": {
              "outlinewidth": 0,
              "ticks": ""
             }
            },
            "type": "scattermapbox"
           }
          ],
          "scatterpolar": [
           {
            "marker": {
             "colorbar": {
              "outlinewidth": 0,
              "ticks": ""
             }
            },
            "type": "scatterpolar"
           }
          ],
          "scatterpolargl": [
           {
            "marker": {
             "colorbar": {
              "outlinewidth": 0,
              "ticks": ""
             }
            },
            "type": "scatterpolargl"
           }
          ],
          "scatterternary": [
           {
            "marker": {
             "colorbar": {
              "outlinewidth": 0,
              "ticks": ""
             }
            },
            "type": "scatterternary"
           }
          ],
          "surface": [
           {
            "colorbar": {
             "outlinewidth": 0,
             "ticks": ""
            },
            "colorscale": [
             [
              0,
              "#0d0887"
             ],
             [
              0.1111111111111111,
              "#46039f"
             ],
             [
              0.2222222222222222,
              "#7201a8"
             ],
             [
              0.3333333333333333,
              "#9c179e"
             ],
             [
              0.4444444444444444,
              "#bd3786"
             ],
             [
              0.5555555555555556,
              "#d8576b"
             ],
             [
              0.6666666666666666,
              "#ed7953"
             ],
             [
              0.7777777777777778,
              "#fb9f3a"
             ],
             [
              0.8888888888888888,
              "#fdca26"
             ],
             [
              1,
              "#f0f921"
             ]
            ],
            "type": "surface"
           }
          ],
          "table": [
           {
            "cells": {
             "fill": {
              "color": "#EBF0F8"
             },
             "line": {
              "color": "white"
             }
            },
            "header": {
             "fill": {
              "color": "#C8D4E3"
             },
             "line": {
              "color": "white"
             }
            },
            "type": "table"
           }
          ]
         },
         "layout": {
          "annotationdefaults": {
           "arrowcolor": "#2a3f5f",
           "arrowhead": 0,
           "arrowwidth": 1
          },
          "autotypenumbers": "strict",
          "coloraxis": {
           "colorbar": {
            "outlinewidth": 0,
            "ticks": ""
           }
          },
          "colorscale": {
           "diverging": [
            [
             0,
             "#8e0152"
            ],
            [
             0.1,
             "#c51b7d"
            ],
            [
             0.2,
             "#de77ae"
            ],
            [
             0.3,
             "#f1b6da"
            ],
            [
             0.4,
             "#fde0ef"
            ],
            [
             0.5,
             "#f7f7f7"
            ],
            [
             0.6,
             "#e6f5d0"
            ],
            [
             0.7,
             "#b8e186"
            ],
            [
             0.8,
             "#7fbc41"
            ],
            [
             0.9,
             "#4d9221"
            ],
            [
             1,
             "#276419"
            ]
           ],
           "sequential": [
            [
             0,
             "#0d0887"
            ],
            [
             0.1111111111111111,
             "#46039f"
            ],
            [
             0.2222222222222222,
             "#7201a8"
            ],
            [
             0.3333333333333333,
             "#9c179e"
            ],
            [
             0.4444444444444444,
             "#bd3786"
            ],
            [
             0.5555555555555556,
             "#d8576b"
            ],
            [
             0.6666666666666666,
             "#ed7953"
            ],
            [
             0.7777777777777778,
             "#fb9f3a"
            ],
            [
             0.8888888888888888,
             "#fdca26"
            ],
            [
             1,
             "#f0f921"
            ]
           ],
           "sequentialminus": [
            [
             0,
             "#0d0887"
            ],
            [
             0.1111111111111111,
             "#46039f"
            ],
            [
             0.2222222222222222,
             "#7201a8"
            ],
            [
             0.3333333333333333,
             "#9c179e"
            ],
            [
             0.4444444444444444,
             "#bd3786"
            ],
            [
             0.5555555555555556,
             "#d8576b"
            ],
            [
             0.6666666666666666,
             "#ed7953"
            ],
            [
             0.7777777777777778,
             "#fb9f3a"
            ],
            [
             0.8888888888888888,
             "#fdca26"
            ],
            [
             1,
             "#f0f921"
            ]
           ]
          },
          "colorway": [
           "#636efa",
           "#EF553B",
           "#00cc96",
           "#ab63fa",
           "#FFA15A",
           "#19d3f3",
           "#FF6692",
           "#B6E880",
           "#FF97FF",
           "#FECB52"
          ],
          "font": {
           "color": "#2a3f5f"
          },
          "geo": {
           "bgcolor": "white",
           "lakecolor": "white",
           "landcolor": "#E5ECF6",
           "showlakes": true,
           "showland": true,
           "subunitcolor": "white"
          },
          "hoverlabel": {
           "align": "left"
          },
          "hovermode": "closest",
          "mapbox": {
           "style": "light"
          },
          "paper_bgcolor": "white",
          "plot_bgcolor": "#E5ECF6",
          "polar": {
           "angularaxis": {
            "gridcolor": "white",
            "linecolor": "white",
            "ticks": ""
           },
           "bgcolor": "#E5ECF6",
           "radialaxis": {
            "gridcolor": "white",
            "linecolor": "white",
            "ticks": ""
           }
          },
          "scene": {
           "xaxis": {
            "backgroundcolor": "#E5ECF6",
            "gridcolor": "white",
            "gridwidth": 2,
            "linecolor": "white",
            "showbackground": true,
            "ticks": "",
            "zerolinecolor": "white"
           },
           "yaxis": {
            "backgroundcolor": "#E5ECF6",
            "gridcolor": "white",
            "gridwidth": 2,
            "linecolor": "white",
            "showbackground": true,
            "ticks": "",
            "zerolinecolor": "white"
           },
           "zaxis": {
            "backgroundcolor": "#E5ECF6",
            "gridcolor": "white",
            "gridwidth": 2,
            "linecolor": "white",
            "showbackground": true,
            "ticks": "",
            "zerolinecolor": "white"
           }
          },
          "shapedefaults": {
           "line": {
            "color": "#2a3f5f"
           }
          },
          "ternary": {
           "aaxis": {
            "gridcolor": "white",
            "linecolor": "white",
            "ticks": ""
           },
           "baxis": {
            "gridcolor": "white",
            "linecolor": "white",
            "ticks": ""
           },
           "bgcolor": "#E5ECF6",
           "caxis": {
            "gridcolor": "white",
            "linecolor": "white",
            "ticks": ""
           }
          },
          "title": {
           "x": 0.05
          },
          "xaxis": {
           "automargin": true,
           "gridcolor": "white",
           "linecolor": "white",
           "ticks": "",
           "title": {
            "standoff": 15
           },
           "zerolinecolor": "white",
           "zerolinewidth": 2
          },
          "yaxis": {
           "automargin": true,
           "gridcolor": "white",
           "linecolor": "white",
           "ticks": "",
           "title": {
            "standoff": 15
           },
           "zerolinecolor": "white",
           "zerolinewidth": 2
          }
         }
        },
        "title": {
         "text": "Loss from original over time"
        },
        "xaxis": {
         "anchor": "y",
         "domain": [
          0,
          1
         ],
         "title": {
          "text": "index"
         }
        },
        "yaxis": {
         "anchor": "x",
         "domain": [
          0,
          1
         ],
         "title": {
          "text": "value"
         }
        }
       }
      },
      "text/html": [
       "<div>                            <div id=\"9b272ecf-6a25-4973-97ca-2366e2d185dd\" class=\"plotly-graph-div\" style=\"height:525px; width:100%;\"></div>            <script type=\"text/javascript\">                require([\"plotly\"], function(Plotly) {                    window.PLOTLYENV=window.PLOTLYENV || {};                                    if (document.getElementById(\"9b272ecf-6a25-4973-97ca-2366e2d185dd\")) {                    Plotly.newPlot(                        \"9b272ecf-6a25-4973-97ca-2366e2d185dd\",                        [{\"hovertemplate\":\"variable=0<br>index=%{x}<br>value=%{y}<extra></extra>\",\"legendgroup\":\"0\",\"line\":{\"color\":\"#636efa\",\"dash\":\"solid\"},\"marker\":{\"symbol\":\"circle\"},\"mode\":\"lines\",\"name\":\"0\",\"orientation\":\"v\",\"showlegend\":true,\"x\":[0,1,2,3,4,5,6,7,8,9,10,11,12,13,14,15,16,17,18,19,20,21,22,23,24,25,26,27,28,29,30,31,32,33,34,35,36,37,38,39,40,41,42,43,44,45,46,47,48,49,50,51,52,53,54,55,56,57,58,59,60,61,62,63,64,65,66,67,68,69,70,71,72,73,74,75,76,77,78,79,80,81,82,83,84,85,86,87,88,89,90,91,92,93,94,95,96,97,98],\"xaxis\":\"x\",\"y\":[1.9292494196130017,1.9355341432149746,1.9315741905994122,1.9204787717587832,1.9286894239323213,1.9354802836201703,1.9475915974288645,1.9465606369144615,1.9504384945400102,1.9545460015082878,1.9483626130210452,1.9428060344571143,1.926397226909417,1.918905010389042,1.9107392781036567,1.9062380239050014,1.9137278774351358,1.9088762269991422,1.9002114589426389,1.897601563935667,1.8850707868536023,1.8859342857784738,1.8867771644065556,1.8758019246309914,1.861088580352067,1.8563972836069988,1.8448871219479548,1.838860971525136,1.8200687243386189,1.8199264261771875,1.8125195401965681,1.8108462653055113,1.8020212552161876,1.79139471773504,1.7835475321996805,1.7734530945184594,1.7684280600536704,1.7733516959046027,1.7688028746418798,1.7624414822983083,1.7482962508558921,1.739663421864526,1.7321499096857687,1.7246396631409355,1.714321357890401,1.709339604868319,1.7070416870515854,1.7077385257580533,1.6909623296384804,1.6972294771356022,1.6839596397905108,1.678498888555001,1.655958187992484,1.6564142370278467,1.6410289785610195,1.6308112412072013,1.6247130416068152,1.617393194748573,1.608164094986253,1.6026468522881572,1.58345465527354,1.5844040519651876,1.5745897936101636,1.557272043195304,1.5534618702304148,1.544278953482016,1.5279608695715203,1.5195057579102376,1.5120597203533317,1.502108663512245,1.4952358469178757,1.4900470762417872,1.4821178043376888,1.4743443895028443,1.4682083851564864,1.464312560021635,1.4566176233747294,1.446608167886411,1.4369769551753218,1.4293690020422434,1.4251571965205467,1.4137804885493856,1.4072880615103014,1.3978506222198852,1.388024744067652,1.380996161840124,1.3737810977108897,1.3629677709261236,1.3553448080797963,1.3440982546088847,1.3350776900910246,1.3266606817999524,1.3165055425007344,1.3056658397205065,1.2965523838290913,1.2877289974189214,1.2792505932953473,1.2723028603458848,1.2657001654500293],\"yaxis\":\"y\",\"type\":\"scatter\"}],                        {\"template\":{\"data\":{\"histogram2dcontour\":[{\"type\":\"histogram2dcontour\",\"colorbar\":{\"outlinewidth\":0,\"ticks\":\"\"},\"colorscale\":[[0.0,\"#0d0887\"],[0.1111111111111111,\"#46039f\"],[0.2222222222222222,\"#7201a8\"],[0.3333333333333333,\"#9c179e\"],[0.4444444444444444,\"#bd3786\"],[0.5555555555555556,\"#d8576b\"],[0.6666666666666666,\"#ed7953\"],[0.7777777777777778,\"#fb9f3a\"],[0.8888888888888888,\"#fdca26\"],[1.0,\"#f0f921\"]]}],\"choropleth\":[{\"type\":\"choropleth\",\"colorbar\":{\"outlinewidth\":0,\"ticks\":\"\"}}],\"histogram2d\":[{\"type\":\"histogram2d\",\"colorbar\":{\"outlinewidth\":0,\"ticks\":\"\"},\"colorscale\":[[0.0,\"#0d0887\"],[0.1111111111111111,\"#46039f\"],[0.2222222222222222,\"#7201a8\"],[0.3333333333333333,\"#9c179e\"],[0.4444444444444444,\"#bd3786\"],[0.5555555555555556,\"#d8576b\"],[0.6666666666666666,\"#ed7953\"],[0.7777777777777778,\"#fb9f3a\"],[0.8888888888888888,\"#fdca26\"],[1.0,\"#f0f921\"]]}],\"heatmap\":[{\"type\":\"heatmap\",\"colorbar\":{\"outlinewidth\":0,\"ticks\":\"\"},\"colorscale\":[[0.0,\"#0d0887\"],[0.1111111111111111,\"#46039f\"],[0.2222222222222222,\"#7201a8\"],[0.3333333333333333,\"#9c179e\"],[0.4444444444444444,\"#bd3786\"],[0.5555555555555556,\"#d8576b\"],[0.6666666666666666,\"#ed7953\"],[0.7777777777777778,\"#fb9f3a\"],[0.8888888888888888,\"#fdca26\"],[1.0,\"#f0f921\"]]}],\"heatmapgl\":[{\"type\":\"heatmapgl\",\"colorbar\":{\"outlinewidth\":0,\"ticks\":\"\"},\"colorscale\":[[0.0,\"#0d0887\"],[0.1111111111111111,\"#46039f\"],[0.2222222222222222,\"#7201a8\"],[0.3333333333333333,\"#9c179e\"],[0.4444444444444444,\"#bd3786\"],[0.5555555555555556,\"#d8576b\"],[0.6666666666666666,\"#ed7953\"],[0.7777777777777778,\"#fb9f3a\"],[0.8888888888888888,\"#fdca26\"],[1.0,\"#f0f921\"]]}],\"contourcarpet\":[{\"type\":\"contourcarpet\",\"colorbar\":{\"outlinewidth\":0,\"ticks\":\"\"}}],\"contour\":[{\"type\":\"contour\",\"colorbar\":{\"outlinewidth\":0,\"ticks\":\"\"},\"colorscale\":[[0.0,\"#0d0887\"],[0.1111111111111111,\"#46039f\"],[0.2222222222222222,\"#7201a8\"],[0.3333333333333333,\"#9c179e\"],[0.4444444444444444,\"#bd3786\"],[0.5555555555555556,\"#d8576b\"],[0.6666666666666666,\"#ed7953\"],[0.7777777777777778,\"#fb9f3a\"],[0.8888888888888888,\"#fdca26\"],[1.0,\"#f0f921\"]]}],\"surface\":[{\"type\":\"surface\",\"colorbar\":{\"outlinewidth\":0,\"ticks\":\"\"},\"colorscale\":[[0.0,\"#0d0887\"],[0.1111111111111111,\"#46039f\"],[0.2222222222222222,\"#7201a8\"],[0.3333333333333333,\"#9c179e\"],[0.4444444444444444,\"#bd3786\"],[0.5555555555555556,\"#d8576b\"],[0.6666666666666666,\"#ed7953\"],[0.7777777777777778,\"#fb9f3a\"],[0.8888888888888888,\"#fdca26\"],[1.0,\"#f0f921\"]]}],\"mesh3d\":[{\"type\":\"mesh3d\",\"colorbar\":{\"outlinewidth\":0,\"ticks\":\"\"}}],\"scatter\":[{\"fillpattern\":{\"fillmode\":\"overlay\",\"size\":10,\"solidity\":0.2},\"type\":\"scatter\"}],\"parcoords\":[{\"type\":\"parcoords\",\"line\":{\"colorbar\":{\"outlinewidth\":0,\"ticks\":\"\"}}}],\"scatterpolargl\":[{\"type\":\"scatterpolargl\",\"marker\":{\"colorbar\":{\"outlinewidth\":0,\"ticks\":\"\"}}}],\"bar\":[{\"error_x\":{\"color\":\"#2a3f5f\"},\"error_y\":{\"color\":\"#2a3f5f\"},\"marker\":{\"line\":{\"color\":\"#E5ECF6\",\"width\":0.5},\"pattern\":{\"fillmode\":\"overlay\",\"size\":10,\"solidity\":0.2}},\"type\":\"bar\"}],\"scattergeo\":[{\"type\":\"scattergeo\",\"marker\":{\"colorbar\":{\"outlinewidth\":0,\"ticks\":\"\"}}}],\"scatterpolar\":[{\"type\":\"scatterpolar\",\"marker\":{\"colorbar\":{\"outlinewidth\":0,\"ticks\":\"\"}}}],\"histogram\":[{\"marker\":{\"pattern\":{\"fillmode\":\"overlay\",\"size\":10,\"solidity\":0.2}},\"type\":\"histogram\"}],\"scattergl\":[{\"type\":\"scattergl\",\"marker\":{\"colorbar\":{\"outlinewidth\":0,\"ticks\":\"\"}}}],\"scatter3d\":[{\"type\":\"scatter3d\",\"line\":{\"colorbar\":{\"outlinewidth\":0,\"ticks\":\"\"}},\"marker\":{\"colorbar\":{\"outlinewidth\":0,\"ticks\":\"\"}}}],\"scattermapbox\":[{\"type\":\"scattermapbox\",\"marker\":{\"colorbar\":{\"outlinewidth\":0,\"ticks\":\"\"}}}],\"scatterternary\":[{\"type\":\"scatterternary\",\"marker\":{\"colorbar\":{\"outlinewidth\":0,\"ticks\":\"\"}}}],\"scattercarpet\":[{\"type\":\"scattercarpet\",\"marker\":{\"colorbar\":{\"outlinewidth\":0,\"ticks\":\"\"}}}],\"carpet\":[{\"aaxis\":{\"endlinecolor\":\"#2a3f5f\",\"gridcolor\":\"white\",\"linecolor\":\"white\",\"minorgridcolor\":\"white\",\"startlinecolor\":\"#2a3f5f\"},\"baxis\":{\"endlinecolor\":\"#2a3f5f\",\"gridcolor\":\"white\",\"linecolor\":\"white\",\"minorgridcolor\":\"white\",\"startlinecolor\":\"#2a3f5f\"},\"type\":\"carpet\"}],\"table\":[{\"cells\":{\"fill\":{\"color\":\"#EBF0F8\"},\"line\":{\"color\":\"white\"}},\"header\":{\"fill\":{\"color\":\"#C8D4E3\"},\"line\":{\"color\":\"white\"}},\"type\":\"table\"}],\"barpolar\":[{\"marker\":{\"line\":{\"color\":\"#E5ECF6\",\"width\":0.5},\"pattern\":{\"fillmode\":\"overlay\",\"size\":10,\"solidity\":0.2}},\"type\":\"barpolar\"}],\"pie\":[{\"automargin\":true,\"type\":\"pie\"}]},\"layout\":{\"autotypenumbers\":\"strict\",\"colorway\":[\"#636efa\",\"#EF553B\",\"#00cc96\",\"#ab63fa\",\"#FFA15A\",\"#19d3f3\",\"#FF6692\",\"#B6E880\",\"#FF97FF\",\"#FECB52\"],\"font\":{\"color\":\"#2a3f5f\"},\"hovermode\":\"closest\",\"hoverlabel\":{\"align\":\"left\"},\"paper_bgcolor\":\"white\",\"plot_bgcolor\":\"#E5ECF6\",\"polar\":{\"bgcolor\":\"#E5ECF6\",\"angularaxis\":{\"gridcolor\":\"white\",\"linecolor\":\"white\",\"ticks\":\"\"},\"radialaxis\":{\"gridcolor\":\"white\",\"linecolor\":\"white\",\"ticks\":\"\"}},\"ternary\":{\"bgcolor\":\"#E5ECF6\",\"aaxis\":{\"gridcolor\":\"white\",\"linecolor\":\"white\",\"ticks\":\"\"},\"baxis\":{\"gridcolor\":\"white\",\"linecolor\":\"white\",\"ticks\":\"\"},\"caxis\":{\"gridcolor\":\"white\",\"linecolor\":\"white\",\"ticks\":\"\"}},\"coloraxis\":{\"colorbar\":{\"outlinewidth\":0,\"ticks\":\"\"}},\"colorscale\":{\"sequential\":[[0.0,\"#0d0887\"],[0.1111111111111111,\"#46039f\"],[0.2222222222222222,\"#7201a8\"],[0.3333333333333333,\"#9c179e\"],[0.4444444444444444,\"#bd3786\"],[0.5555555555555556,\"#d8576b\"],[0.6666666666666666,\"#ed7953\"],[0.7777777777777778,\"#fb9f3a\"],[0.8888888888888888,\"#fdca26\"],[1.0,\"#f0f921\"]],\"sequentialminus\":[[0.0,\"#0d0887\"],[0.1111111111111111,\"#46039f\"],[0.2222222222222222,\"#7201a8\"],[0.3333333333333333,\"#9c179e\"],[0.4444444444444444,\"#bd3786\"],[0.5555555555555556,\"#d8576b\"],[0.6666666666666666,\"#ed7953\"],[0.7777777777777778,\"#fb9f3a\"],[0.8888888888888888,\"#fdca26\"],[1.0,\"#f0f921\"]],\"diverging\":[[0,\"#8e0152\"],[0.1,\"#c51b7d\"],[0.2,\"#de77ae\"],[0.3,\"#f1b6da\"],[0.4,\"#fde0ef\"],[0.5,\"#f7f7f7\"],[0.6,\"#e6f5d0\"],[0.7,\"#b8e186\"],[0.8,\"#7fbc41\"],[0.9,\"#4d9221\"],[1,\"#276419\"]]},\"xaxis\":{\"gridcolor\":\"white\",\"linecolor\":\"white\",\"ticks\":\"\",\"title\":{\"standoff\":15},\"zerolinecolor\":\"white\",\"automargin\":true,\"zerolinewidth\":2},\"yaxis\":{\"gridcolor\":\"white\",\"linecolor\":\"white\",\"ticks\":\"\",\"title\":{\"standoff\":15},\"zerolinecolor\":\"white\",\"automargin\":true,\"zerolinewidth\":2},\"scene\":{\"xaxis\":{\"backgroundcolor\":\"#E5ECF6\",\"gridcolor\":\"white\",\"linecolor\":\"white\",\"showbackground\":true,\"ticks\":\"\",\"zerolinecolor\":\"white\",\"gridwidth\":2},\"yaxis\":{\"backgroundcolor\":\"#E5ECF6\",\"gridcolor\":\"white\",\"linecolor\":\"white\",\"showbackground\":true,\"ticks\":\"\",\"zerolinecolor\":\"white\",\"gridwidth\":2},\"zaxis\":{\"backgroundcolor\":\"#E5ECF6\",\"gridcolor\":\"white\",\"linecolor\":\"white\",\"showbackground\":true,\"ticks\":\"\",\"zerolinecolor\":\"white\",\"gridwidth\":2}},\"shapedefaults\":{\"line\":{\"color\":\"#2a3f5f\"}},\"annotationdefaults\":{\"arrowcolor\":\"#2a3f5f\",\"arrowhead\":0,\"arrowwidth\":1},\"geo\":{\"bgcolor\":\"white\",\"landcolor\":\"#E5ECF6\",\"subunitcolor\":\"white\",\"showland\":true,\"showlakes\":true,\"lakecolor\":\"white\"},\"title\":{\"x\":0.05},\"mapbox\":{\"style\":\"light\"}}},\"xaxis\":{\"anchor\":\"y\",\"domain\":[0.0,1.0],\"title\":{\"text\":\"index\"}},\"yaxis\":{\"anchor\":\"x\",\"domain\":[0.0,1.0],\"title\":{\"text\":\"value\"}},\"legend\":{\"title\":{\"text\":\"variable\"},\"tracegroupgap\":0},\"title\":{\"text\":\"Loss from original over time\"}},                        {\"responsive\": true}                    ).then(function(){\n",
       "                            \n",
       "var gd = document.getElementById('9b272ecf-6a25-4973-97ca-2366e2d185dd');\n",
       "var x = new MutationObserver(function (mutations, observer) {{\n",
       "        var display = window.getComputedStyle(gd).display;\n",
       "        if (!display || display === 'none') {{\n",
       "            console.log([gd, 'removed!']);\n",
       "            Plotly.purge(gd);\n",
       "            observer.disconnect();\n",
       "        }}\n",
       "}});\n",
       "\n",
       "// Listen for the removal of the full notebook cells\n",
       "var notebookContainer = gd.closest('#notebook-container');\n",
       "if (notebookContainer) {{\n",
       "    x.observe(notebookContainer, {childList: true});\n",
       "}}\n",
       "\n",
       "// Listen for the clearing of the current output cell\n",
       "var outputEl = gd.closest('.output');\n",
       "if (outputEl) {{\n",
       "    x.observe(outputEl, {childList: true});\n",
       "}}\n",
       "\n",
       "                        })                };                });            </script>        </div>"
      ]
     },
     "metadata": {},
     "output_type": "display_data"
    }
   ],
   "source": [
    "fig = px.line(pd.Series(losses), title='Loss from original over time')\n",
    "fig.show()"
   ]
  },
  {
   "cell_type": "code",
   "execution_count": 20,
   "id": "33524714",
   "metadata": {},
   "outputs": [
    {
     "name": "stdout",
     "output_type": "stream",
     "text": [
      "File backward_100.pdb has been saved.\n",
      "File denoise.pdb has been saved.\n"
     ]
    },
    {
     "data": {
      "text/plain": [
       "'denoise.pdb'"
      ]
     },
     "execution_count": 20,
     "metadata": {},
     "output_type": "execute_result"
    }
   ],
   "source": [
    "# save PDB files for diffusion steps\n",
    "last_result = rescale_protein(results[-1])\n",
    "backbone_to_pdb(last_result, seq, f\"backward_{model.diffusion.timesteps}.pdb\", num_backbone)\n",
    "backbones_to_animation(results, seq, \"denoise.pdb\")"
   ]
  },
  {
   "cell_type": "markdown",
   "id": "40c544e1",
   "metadata": {},
   "source": [
    "# 3D Scatter Visualize"
   ]
  },
  {
   "cell_type": "code",
   "execution_count": 26,
   "id": "ab2edf30",
   "metadata": {},
   "outputs": [],
   "source": [
    "def show_scatter(mat):\n",
    "    x, y, z = mat.T\n",
    "    scatters = [\n",
    "        go.Scatter3d(\n",
    "            name=\"coord\",\n",
    "            x=x, y=y, z=z,\n",
    "            mode='markers',\n",
    "            marker=dict(\n",
    "                size=3,\n",
    "                colorscale=\"Viridis\",\n",
    "            )\n",
    "        )\n",
    "    ]\n",
    "    fig = go.Figure(data=scatters)\n",
    "    fig.update_layout(\n",
    "        autosize=False,\n",
    "        width=650,\n",
    "        height=650,\n",
    "    )\n",
    "    fig.show()"
   ]
  },
  {
   "cell_type": "code",
   "execution_count": 27,
   "id": "62ab4ed2",
   "metadata": {},
   "outputs": [
    {
     "data": {
      "application/vnd.plotly.v1+json": {
       "config": {
        "plotlyServerURL": "https://plot.ly"
       },
       "data": [
        {
         "marker": {
          "colorscale": [
           [
            0,
            "#440154"
           ],
           [
            0.1111111111111111,
            "#482878"
           ],
           [
            0.2222222222222222,
            "#3e4989"
           ],
           [
            0.3333333333333333,
            "#31688e"
           ],
           [
            0.4444444444444444,
            "#26828e"
           ],
           [
            0.5555555555555556,
            "#1f9e89"
           ],
           [
            0.6666666666666666,
            "#35b779"
           ],
           [
            0.7777777777777778,
            "#6ece58"
           ],
           [
            0.8888888888888888,
            "#b5de2b"
           ],
           [
            1,
            "#fde725"
           ]
          ],
          "size": 3
         },
         "mode": "markers",
         "name": "coord",
         "type": "scatter3d",
         "x": [
          1.5461924839825356,
          1.5320395307931294,
          1.441231358895602,
          1.4177960797979745,
          1.3564155335702093,
          1.2773737321820182,
          1.4007870907749422,
          1.5480179764993633,
          1.3318590557056258,
          1.4365958052071919,
          1.375676210241088,
          1.2563513098326966,
          1.4438602628453827,
          1.386484246504935,
          1.4904545169902201,
          1.6405744001104745,
          1.39597140108323,
          1.4661503842002475,
          1.5791216448114005,
          1.5427960797979745,
          1.7038598559443412,
          1.8197066993044142,
          1.7643429989780672,
          1.7235737355054397,
          1.7474152216127439,
          1.6890389068781988,
          1.7771213871074076,
          1.926351174199016,
          1.672859082832362,
          1.7423734609146573,
          1.7672319963739005,
          1.8064628685349535,
          1.7379700311830564,
          1.7517067535578863,
          1.603676427254977,
          1.509906607684259,
          1.5753045580927787,
          1.4449287994563238,
          1.387120302037963,
          1.482907028148669,
          1.2226366435962508,
          1.152595832333928,
          1.1964549510179978,
          1.173574074589641,
          1.2478594219165633,
          1.2947060211360113,
          1.469677132550116,
          1.534573287914294,
          1.5371931892776745,
          1.7058167931629211,
          1.7034536489346646,
          1.6072407276929397,
          1.7921929858271537,
          1.7780400326377475,
          1.8726770104798034,
          1.939685660418634,
          1.86563692842698,
          1.9530396935535461,
          1.8761204105449076,
          1.785573586308391,
          1.9055267938783689,
          1.8423727827462544,
          1.9618985409702547,
          2.1077968257832174,
          1.8880826071379175,
          1.9862614681846225,
          1.903787985957234,
          1.7799074893031828,
          1.9598599508879175,
          1.8943730404502475,
          1.8346758440301505,
          1.9002399952710647,
          1.6958591642125702,
          1.6213729590700392,
          1.5728994497159146,
          1.5925736405618633,
          1.4959707229148274,
          1.4430401004545876,
          1.282231386022338,
          1.2276851314472799,
          1.1965254646682995,
          1.0407065229806294,
          0.9747871314650465,
          0.8770178137389466,
          1.0191929044469452,
          0.9711501807497266,
          0.9937877146898728,
          0.8973509978752313,
          1.1095266311179524,
          1.145151238692435,
          1.065899056378241,
          1.0221288977233216,
          1.0370812914912162,
          0.9594839888009419,
          0.8014540693990742,
          0.7397963714103876,
          0.7264148893102266,
          0.5755948964615322,
          0.5395649295878763,
          0.4292401715948494,
          0.6238597203106606,
          0.6058174713313238,
          0.6117873213521992,
          0.5285740406812209,
          0.7060817051739419,
          0.7292619225574524,
          0.5971210819316263,
          0.5625740135544848,
          0.5113041105016328,
          0.380151001333494,
          0.25678735526061935,
          0.19757360665344315,
          0.20852650226595573,
          0.09403938159608079,
          0.12267616276929989,
          0.028685090757175798,
          0.23963747774338628,
          0.2763725860774176,
          0.2356768205926506,
          0.16468498225023134,
          0.2680815559768932,
          0.23892836542854606,
          0.08278714502841449,
          0.031017990062731354,
          -0.0014734299172039932,
          -0.15240447284185324,
          -0.24221234634528344,
          -0.3446483103929978,
          -0.21302891087423526,
          -0.2888494123492317,
          -0.2778789180683737,
          -0.37753693479620964,
          -0.16980669543369706,
          -0.1446267289724956,
          -0.2382128481899015,
          -0.28998200315558464,
          -0.2678071158981068,
          -0.35896015724940533,
          -0.5115460797979744,
          -0.5888703156013312,
          -0.5603621831724124,
          -0.7009604827702387,
          -0.7362122514017071,
          -0.8546487512024596,
          -0.6478069124475859,
          -0.6854049950315234,
          -0.7072120750779223,
          -0.7928710005514179,
          -0.6475848122956762,
          -0.6786267018457595,
          -0.7617681799498841,
          -0.8062037913500291,
          -0.7972514925257109,
          -0.883737887555395,
          -1.0029901376864292,
          -1.0999821048808451,
          -1.0093622238625164,
          -1.1168489511947177,
          -1.047878951976794,
          -0.9212041982510707,
          -1.1372512212583499,
          -1.0651826914290927,
          -1.0718793317510995,
          -0.9819816505080152,
          -1.1896956792661624,
          -1.2157377722667664,
          -1.0845458220939814,
          -1.0762038252584492,
          -0.991918037122065,
          -0.8597383554915928,
          -0.7332122039299188,
          -0.5947593604689527,
          -0.7906961472023603,
          -0.68251599763569,
          -0.7438789451951098,
          -0.8486486562588832,
          -0.693028876965815,
          -0.7381826032672004,
          -0.6471017709872106,
          -0.5013153839607062,
          -0.7461404831398603,
          -0.6877378943370789,
          -0.7028794266946758,
          -0.8162042321594909,
          -0.6014735994593047,
          -0.6066272579438498,
          -0.5297676170701098,
          -0.4093150584398728,
          -0.6093623934046172,
          -0.5370717634234504,
          -0.5849900223978008,
          -0.6863154856859666,
          -0.5232511127514053,
          -0.5624047441092144,
          -0.49299054458747094,
          -0.38142623058614017,
          -0.572362373059565,
          -0.5184051781369922,
          -0.5914343176451966,
          -0.6644259050653069,
          -0.5841404627948081,
          -0.6562937686317838,
          -0.6544344668422453,
          -0.7629815759094909,
          -0.5432511466598255,
          -0.5302934702376866,
          -0.5878790197936341,
          -0.5489821455709492,
          -0.6886962285825686,
          -0.753515990854006,
          -0.8803238847024883,
          -0.930426440818345,
          -0.9405849275843047,
          -1.0534046016938499,
          -0.9912120479511862,
          -1.0610925378235534,
          -0.8702512348217178,
          -0.808738396181697,
          -0.7707683223652487,
          -0.806314841425984,
          -0.7106960115686797,
          -0.6691823591265754,
          -0.7812121157680265,
          -0.7976486969489874,
          -0.8772516281593915,
          -0.9881826032672004,
          -1.1418790265753183,
          -1.2098708174459492,
          -1.2040296161693742,
          -1.348515516136124,
          -1.3562124548522279,
          -1.4462040287089701,
          -1.2662515671242351,
          -1.2625161332693706,
          -1.1777676984503183,
          -1.239537294225463,
          -1.0473625426016657,
          -0.9591824269434157,
          -1.018878775653009,
          -1.0336487579841436,
          -1.0624738300365617,
          -1.1228490461382943,
          -1.2635458288756654,
          -1.2777597131165221,
          -1.3803627257071345,
          -1.5177380299707595,
          -1.4938789451951098,
          -1.5533147939541958,
          -1.4161403475061798,
          -1.3842939856456726,
          -1.2991013505228008,
          -1.299093195646904,
          -1.2359179421784887,
          -1.1567379689356032,
          -1.2495458899108216,
          -1.2174264611633971,
          -1.3750289312192874,
          -1.4705163163748394,
          -1.4336567433179397,
          -1.4688709598613139,
          -1.372473931761822,
          -1.3381827728093012,
          -1.4148791079555265,
          -1.3880926259854458,
          -1.5262511602231936,
          -1.6056269595497525,
          -1.503323287914294,
          -1.5392038049133971,
          -1.3865849208026206,
          -1.2778495208561762,
          -1.1662125565774883,
          -1.0149821726976853,
          -1.2574735248607805,
          -1.18251599763569,
          -1.217212515887384,
          -1.3348708174459492,
          -1.1249178811433325,
          -1.1426269798948046,
          -1.0247678205206308,
          -0.8876484256816263,
          -1.0922513568920305,
          -0.9970716956066101,
          -1.007656784008044,
          -1.1182036421529804,
          -0.9035849072392526,
          -0.8954049272146831,
          -0.9859901512497973,
          -1.0104265764520255,
          -1.0470293923738012,
          -1.1387385318153775,
          -1.2936565059589986,
          -1.3789814334941264,
          -1.339362359496197,
          -1.4804048593978427,
          -1.492879494511516,
          -1.590203764223293,
          -1.4113626511086101,
          -1.4221824065983637,
          -1.297767901900839,
          -1.2864258575935186,
          -2.495140184745763,
          -2.431293599089683,
          -2.269212773591377,
          -2.203537572274508,
          -2.216918206664166,
          -2.0664050899751,
          -1.932212244620023,
          -1.9267592451803242,
          -1.83547391141677,
          -1.7036273800141624,
          -1.587990069869589,
          -1.5392038049133971,
          -1.5604740809588706,
          -1.4564044796235374,
          -1.2853235117098667,
          -1.247203988018866,
          -1.1951405238299644,
          -1.0324051171018358,
          -0.9457679832810473,
          -0.8463149092428242,
          -0.9991405306116484,
          -0.9340715464095616,
          -0.9881009504034431,
          -0.9062039608921297,
          -1.1322514247088706,
          -1.1947382876747525,
          -1.1378795284199361,
          -1.126426434036661,
          -1.1096955436324818,
          -1.0522941009343012,
          -0.8803238847024883,
          -0.8046482425761575,
          -0.8286956182310061,
          -0.6649607608192838,
          -0.6396571773457175,
          -0.5096483782098381,
          -0.7748066615252769,
          -0.7777384707802213,
          -0.7731012216708043,
          -0.678537741816609,
          -0.8848072718768394,
          -0.8918496293631206,
          -0.7302121564581306,
          -0.7046480730340569,
          -0.6332517231029678,
          -0.47484896475808586,
          -0.3643233489494501,
          -0.2365372467536749,
          -0.42091804390374915,
          -0.3316274274859505,
          -0.3857678815557869,
          -0.2909814538391784,
          -0.546029093979704,
          -0.6208492970606032,
          -0.6811017438604744,
          -0.6990930261048034,
          -0.7246959505335234,
          -0.7951826575206726,
          -0.9482127803730612,
          -1.023537267098727,
          -1.012140171182395,
          -1.1657381113509677,
          -1.251989839292332,
          -1.1746484460266784,
          -1.4063628545591311,
          -1.4724050153765755,
          -1.3705455440449361,
          -1.3059816911981192,
          -1.3616961404206762,
          -1.2600713361773568,
          -1.0834344736239292,
          -1.0168708716994215,
          -1.0115849208026206,
          -0.8554048593978428,
          -0.8069901444681133,
          -0.8420933109355325,
          -0.7411406865903811,
          -0.6820717973318706,
          -0.5041014861564813,
          -0.4158704037632235,
          -0.465584758042204,
          -0.29696030644645394,
          -0.2735454219746237,
          -0.3729821862610534,
          -0.1592518519549644,
          -0.1516271223101692,
          -0.21887911473721053,
          -0.336981616599595,
          -0.15536255616503386,
          -0.19718223705626295,
          -0.10476795615431121,
          0.04490687895162024,
          -0.20814016440071093,
          -0.14951632315652338,
          -0.15776766454189803,
          -0.2573154789042825,
          -0.06458462919020747,
          -0.058960496333606706,
          -0.01087893163174177,
          0.13268475845465844,
          -0.14336236627788107,
          -0.11484920211702684,
          -0.10510110638217579,
          -0.2085373688239874,
          0.008415113105799479,
          0.02726183439555996,
          -0.051435097538859824,
          -0.12664853418857072,
          -0.0473625426016658,
          -0.12329409415261712,
          -0.001212488760648019,
          0.09101809178799176,
          -0.005917976086908854,
          0.11103936803271273,
          0.07556549924933462,
          0.022573945737644548,
          0.09752644123079948,
          0.06659560175667106,
          0.11912086491773739,
          0.0444626786478008,
          0.235526081801546,
          0.29403972068028217,
          0.26323165050801517,
          0.3080184173088251,
          0.1789710755623967,
          0.14359484220805996,
          -0.015878728181220936,
          -0.061315485685966564,
          -0.11136299019281164,
          -0.2644048322711067,
          -0.36310095040344315,
          -0.4845374976759839,
          -0.3210289244376033,
          -0.40429401955409283,
          -0.33654557117167233,
          -0.19098213200758116,
          -0.45325141792718665,
          -0.38840453387700946,
          -0.3225456322068286,
          -0.34120406261739017,
          -0.25669617432909636,
          -0.188849242807131,
          -0.06099049033399871,
          -0.06464868338561934,
          0.04152668537142448,
          0.16848447030050787,
          0.24234321599195616,
          0.29401847834398137,
          0.23941537759147657,
          0.30481751202142804,
          0.21700938759568877,
          0.2865738847024883,
          0.054415275866216146,
          -0.045515807748537265,
          -0.020657272289293854,
          -0.012537375605671426,
          -0.018251316201926215,
          0.008595249109101625,
          0.16300938081400476,
          0.18024046998894663,
          0.2640820578215113,
          0.414817274662487,
          0.4187873756056714,
          0.5086850568487556,
          0.31097062118956686,
          0.28848382604052525,
          0.22089868338561935,
          0.275017895119155,
          0.09086004583149393,
          0.012372647112573847,
          0.11778741629577559,
          0.10390752999328691,
          0.21163759981369878,
          0.31126180726882385,
          0.41900947575758113,
          0.4672404903339987,
          0.4456370640606606,
          0.5433725725140496,
          0.4788985274068867,
          0.5572402190666376,
          0.32119316215093835,
          0.24003971389859816,
          0.1965651533834492,
          0.1427962493400751,
          0.20952595294954948,
          0.164039924130803,
          0.2657874976759839,
          0.413018383400405,
          0.17619312824251823,
          0.2572618004871398,
          0.3240099504754631,
          0.45690689929667233,
          0.22319274168652864,
          0.2788173831694315,
          0.2441208649177374,
          0.1314623599086515,
          0.333304402114046,
          0.3121510555869662,
          0.4011210887133103,
          0.551351174199016,
          0.2971927823766328,
          0.36470656367073356,
          0.3384540897441263,
          0.2316846296026619,
          0.42752657686448003,
          0.41403992413080304,
          0.47278738238735546,
          0.6096846770744501,
          0.3571928841018932,
          0.38903924596240025,
          0.4092319828105325,
          0.3135734642380786,
          0.5224150520706432,
          0.5551506622492925,
          0.6903429582879631,
          0.7579068586065681,
          0.7210819425328828,
          0.8528165761490322,
          0.9994538116950812,
          1.1403522999585647,
          0.955970655097987,
          1.0865947879545876,
          1.1223430125414353,
          1.0381285857658564,
          1.2416372268210774,
          1.2777060346993794,
          1.2438979170553242,
          1.3520188309915508,
          1.0815267531882649,
          1.0228181359363586,
          1.0596768612827547,
          1.1292405106790508,
          0.9981934198549314,
          1.0290403310318448,
          0.9420095571377894,
          1.0007954151929397,
          0.7947479852846189,
          0.7045952423274175,
          0.7347875722745082,
          0.6826852670809606,
          0.8007480802281953,
          0.8355944895604905,
          0.9758993276456019,
          0.9927964188821758,
          1.063970668661355,
          1.1991503977636155,
          1.1805654653409146,
          1.296017379711169,
          1.0226379999330564,
          0.983040168271428,
          0.9240092723070603,
          0.8834621089863425,
          0.9079715909703828,
          0.8460399783842752,
          0.9451206546855325,
          1.095906838261516,
          0.8515259393861814,
          0.9235953169259419,
          0.8896769969164353,
          0.7717965952059606,
          0.9778602357186467,
          0.9443727013660461,
          0.8931203969815394,
          0.7863517845505785,
          0.96341524873948,
          0.945261101973685,
          0.9430098555318867,
          1.0539078690774883,
          0.8081926738696884,
          0.7979290164702127,
          0.8101210615865742,
          0.7267958831291376,
          0.9035261970901745,
          0.91526232267681,
          0.8143426598938659,
          0.8403509436217591,
          0.6906372675111814,
          0.5889285349706468,
          0.6593430328864874,
          0.7802397918205438,
          0.5763040087763724,
          0.6240398563139627,
          0.5380093808140047,
          0.42368512466559594,
          0.5887483989673447,
          0.531484280413355,
          0.4237871721551506,
          0.4379071637823494,
          0.6975266107729001,
          0.8417064822905252,
          0.8474542321594909,
          0.7724628956616897,
          0.9220825800111814,
          0.9279288130196919,
          1.005565804425116,
          1.1263515132832174,
          0.9278588793818412,
          0.9877059668825391,
          1.1693434736959492,
          1.2596845075323495,
          1.2144155471335774,
          1.3822626481976432,
          1.449898351083102,
          1.3797966087693285,
          1.5704149639087508,
          1.6398174442045876,
          1.5571201664042826,
          1.5379064856139466,
          1.4987478225242024,
          1.4119291249771573,
          1.2666758982836228,
          1.217129440258044,
          1.1836368741735077,
          1.0449281212879211,
          0.91989787636522,
          0.9424627600280091,
          0.7799706957880912,
          0.647817288225855,
          0.5131206004320603,
          0.5126845550041376,
          0.38863700980718835,
          0.25192885370979606,
          0.16400967920810197,
          0.19435145902974524,
          0.04630438176899392,
          -0.04396025897466574,
          -0.14576832236524873,
          -0.17353709755662627,
          -0.21569580811815886,
          -0.3140713429590407,
          -0.22554551013651608,
          -0.27798181326843185,
          -0.0998070006094783,
          0.0027062042414800975,
          0.04901012001756379,
          0.060129216462470936,
          0.06674861598123351,
          0.10726197002924051,
          -0.022545971291029962,
          0.004018410527141075,
          -0.17047384359992968,
          -0.3061825490137282,
          -0.3321010250019675,
          -0.34231541108744223,
          -0.35125149930739497,
          -0.3672939992090407,
          -0.24465714343729733,
          -0.2745375654928242,
          -0.11902883627571094,
          0.005039951257539125,
          -0.007989934235908436,
          0.056462868534953574,
          -0.0962517027579158,
          -0.12318219636615879,
          -0.2602126311760126,
          -0.2649821726976853,
          -0.3781400287670304,
          -0.5159603810449782,
          -0.5042125362324362,
          -0.5860932159919562,
          -0.4128071498065269,
          -0.3837378875553949,
          -0.30765729263434594,
          -0.34231541108744223,
          -0.22102960260600607,
          -0.14773782652023865,
          -0.24432399320943274,
          -0.1854262373678242,
          -0.3949179150517526,
          -0.49907144468430115,
          -0.6486573197610821,
          -0.747092937942911,
          -0.6716962421459366,
          -0.7948495072928081,
          -0.9008791689906828,
          -1.0186485206252027,
          -0.8720288837474991,
          -0.9692939178288325,
          -0.9512128278448494,
          -0.9710928090909144,
          -0.9234738910717178,
          -0.9041829694781379,
          -1.043768403745457,
          -1.0238704173265916
         ],
         "y": [
          1.074256212855409,
          1.048527505043034,
          0.9265547833557327,
          0.8692009264652888,
          0.8978120532416938,
          0.7726384262669923,
          0.658998698828823,
          0.7103128513784832,
          0.502144871167041,
          0.38419373768192283,
          0.2623329137810799,
          0.2656463067821291,
          0.15281184979117293,
          0.02863852121056867,
          -0.09211180193072563,
          -0.05657693269269733,
          -0.23507674070361873,
          -0.3652501642277994,
          -0.42600123335433676,
          -0.4321313353619682,
          -0.4728544506645562,
          -0.5314726305906466,
          -0.6693348379550312,
          -0.7324649942161349,
          -0.7149656567192437,
          -0.8382505846922091,
          -0.9697786991746492,
          -0.953132515374989,
          -1.1014114439371256,
          -1.228695870065473,
          -1.2232220992397533,
          -1.3144657266380098,
          -1.1203001293754937,
          -1.108029366159223,
          -1.1136673846130174,
          -1.0199100625755098,
          -1.2284103453043131,
          -1.253472752660959,
          -1.1038898916659687,
          -0.9755764986649196,
          -1.1218548304388618,
          -0.9932510594100911,
          -1.0162230622388853,
          -1.1091315930659613,
          -0.935965480395459,
          -0.952694893502973,
          -0.9077788483716979,
          -0.7894650484696071,
          -1.0115219175699381,
          -0.9772513713675564,
          -0.7932226417744757,
          -0.7204648043289821,
          -0.7210776494492784,
          -0.5524738106036674,
          -0.46133380713905897,
          -0.3085758340598848,
          -0.5568557798746256,
          -0.4903620620142577,
          -0.3751114764098923,
          -0.3970208617291557,
          -0.2576326217800076,
          -0.13247225081634106,
          -0.03288905073714924,
          -0.00424267705033622,
          0.016922160663568775,
          0.12441624473487423,
          0.2787768021274341,
          0.2995343818689346,
          0.38381126656634657,
          0.5380820162192492,
          0.559111274783684,
          0.5162007094513998,
          0.6186999791314507,
          0.6459718274171659,
          0.814665474002434,
          0.9338676745121638,
          0.8198108189752007,
          0.9729710678685548,
          0.9835548376092049,
          0.8938676066953235,
          1.0868108054118326,
          1.095860268714909,
          1.0459988887159757,
          0.9925343276154623,
          1.0619220250298882,
          1.0239710271784506,
          0.8674439299486146,
          0.8189791653975804,
          0.7853666457981174,
          0.6355263385933811,
          0.5555542815111146,
          0.4647565498376846,
          0.5842558059543674,
          0.5146377345352214,
          0.5278884015197952,
          0.4420904663958443,
          0.6310341669569716,
          0.6538606213624784,
          0.573332466189934,
          0.5427577841041776,
          0.5317011455811035,
          0.4513052828208117,
          0.29955418656753824,
          0.24153402922136516,
          0.23392248618440212,
          0.09319337147098533,
          0.055332181359204924,
          -0.044020644715266774,
          0.12936756810714517,
          0.10074986289893673,
          0.09433195078194798,
          0.006535114290809613,
          0.18014542726513127,
          0.17663860259077702,
          0.050998685265454924,
          -0.0030202785043292758,
          0.002144871167040997,
          -0.1170286608640841,
          -0.2500012740444409,
          -0.3105764308480793,
          -0.2931889911376465,
          -0.41125032698821606,
          -0.4093335494350659,
          -0.5031321762907877,
          -0.3048551830864312,
          -0.2844735257729383,
          -0.3173332239142326,
          -0.3609100897022459,
          -0.29885508814285483,
          -0.3196958971922091,
          -0.4736679949645798,
          -0.5062432738385306,
          -0.5701885706732368,
          -0.7199169800915146,
          -0.7956674388664895,
          -0.8780202785043293,
          -0.7721878111246256,
          -0.8368060859942924,
          -0.8064452302076354,
          -0.8791324746848849,
          -0.7025212665282715,
          -0.6548060317408202,
          -0.7191123987189201,
          -0.6959100218854056,
          -0.8002995868407715,
          -0.8620288643146049,
          -1.0168893626946145,
          -1.0507989379010307,
          -1.1144102367973687,
          -1.2589167495142577,
          -1.2703344581807257,
          -1.363687189311621,
          -1.1820778800265355,
          -1.188139704158355,
          -1.0607787263013853,
          -1.065132027093739,
          -0.9518549660725424,
          -0.8288070896835286,
          -0.6951120189446145,
          -0.6961321220373153,
          -0.5868545591715006,
          -0.4702509780298827,
          -0.4876670862189201,
          -0.3920210651796765,
          -0.611411037036084,
          -0.6416953410941189,
          -0.7245563955722187,
          -0.7342434908524196,
          -0.7890775951958062,
          -0.8648059639239799,
          -0.7448895797085034,
          -0.7610209702361002,
          -0.6272988272921604,
          -0.5123618450003689,
          -0.43255573096718397,
          -0.3342428126840168,
          -0.4865212394015354,
          -0.418362618112348,
          -0.2614453658413159,
          -0.2155769055659612,
          -0.17829878660205623,
          -0.01969454085540355,
          0.019555407270663256,
          0.0677567668515735,
          -0.008632920174104837,
          0.02597162396664506,
          0.19599956688437853,
          0.2697577027239693,
          0.25770076580679796,
          0.4118596176732423,
          0.5036659215935799,
          0.4893130277022679,
          0.5965899937798882,
          0.695193290090777,
          0.8667776294928855,
          0.9278675795685873,
          0.9433663202772841,
          1.108860756996159,
          1.2201101490241355,
          1.1898677694557402,
          1.3434788962321451,
          1.455748981280013,
          1.4211107865024342,
          1.4430907647899416,
          1.3645885831896105,
          1.325749184730534,
          1.1861101761508717,
          1.152090398579004,
          1.1003673917833605,
          0.9641938733156034,
          0.9997766258036493,
          0.9225354805017472,
          1.1176996807373536,
          1.1720830063451173,
          1.1378890118713576,
          1.0947563463871637,
          1.1502568503337076,
          1.1220833454293186,
          0.9717767478739618,
          0.9312007772682401,
          0.8833670662625271,
          0.7398608519397354,
          0.6419987123921911,
          0.5716460626415041,
          0.6422561586019369,
          0.5509706067140409,
          0.5912208532342049,
          0.5129794095382054,
          0.7084776077121799,
          0.7606382363798395,
          0.8078888762376771,
          0.7825343954323026,
          0.8647004809760688,
          0.9208606077991104,
          0.8323334563158021,
          0.7875341919817819,
          0.8061457256592285,
          0.7194157700169923,
          0.5736664641283021,
          0.5503125801111222,
          0.47114409805506186,
          0.33252747791629783,
          0.3354445538635452,
          0.2607567125981013,
          0.41614464058978407,
          0.42519410389286033,
          0.4843330358513924,
          0.4490908597335179,
          0.5707009150038466,
          0.6309707423477214,
          0.5191112069668438,
          0.5389786906796985,
          0.3981443557590549,
          0.28397062027740894,
          0.15800009585573271,
          0.09209114456424711,
          0.1239218758328396,
          0.009303940047374226,
          -0.10600069081961452,
          -0.20279851743662095,
          -0.10252194469667428,
          -0.20847288829463967,
          -0.16088994591944092,
          -0.009020373447905664,
          -0.2891877975612576,
          -0.25625154769134106,
          -0.28177854997760066,
          -0.22990999475866955,
          -0.3649663348876465,
          -0.40302923052554246,
          -0.2655567617831562,
          -0.24246458731509316,
          -0.17463328638504233,
          -0.034029325469118826,
          -0.018889959482808964,
          -0.009020373447905664,
          -0.021855508607264557,
          -0.013250245608007718,
          0.08977635453628825,
          0.1563119968862957,
          0.10314449139273545,
          0.19152778987376312,
          0.12866592159357992,
          0.10353523636112211,
          0.0975885967529785,
          0.04119311376699228,
          0.13088861853368408,
          0.09453424623525405,
          0.24570057591964517,
          0.33530457752567283,
          0.29677708695816324,
          0.3929792060876846,
          0.15347815024690212,
          0.09863736832428395,
          -0.04555554108003119,
          -0.046797744324641774,
          -0.17318878768712567,
          -0.3101405043970702,
          -0.31844542009478816,
          -0.4032430568246418,
          -0.4426335712157715,
          -0.3948064386418619,
          -0.30100123335433676,
          -0.2477983818029404,
          -0.28418800101177843,
          -0.19769509695349383,
          -0.287778644921177,
          -0.3943539644852321,
          -0.2505220260768826,
          -0.3302515883814452,
          -0.34911219526839926,
          -0.21879820547915566,
          -0.5119661178737576,
          -0.5385849217147786,
          -0.5682233199428784,
          -0.6594652519201278,
          -0.49196693167584093,
          -0.4962502591713758,
          -0.6319999719611076,
          -0.662910347406239,
          -0.7166322555690701,
          -0.8452509780298827,
          -0.9726676965704826,
          -1.0626872300017252,
          -0.9843002378824381,
          -1.1013612753389106,
          -1.1071111915791632,
          -1.2035767156788084,
          -1.008966918112473,
          -0.9995834568710286,
          -1.0376667471347187,
          -0.9959096828012043,
          -1.113855834128098,
          -1.1536955309812715,
          -1.3048888337232603,
          -1.3292430161345377,
          -1.4085217005560493,
          -1.557917807456966,
          -1.573667316796177,
          -1.644353964485232,
          -1.5147432174831326,
          -1.5180279420055771,
          -1.501555975107809,
          -1.5321323526145723,
          -1.454855861254834,
          -1.4289166138805771,
          -1.5534443350253437,
          -1.5416877454097113,
          -1.670632940519157,
          -1.7954734172659939,
          -1.9217787873365415,
          -1.9713540526471245,
          -1.9727442482991049,
          -2.0884726848441186,
          -2.0500009349602397,
          -2.1271318778966903,
          -1.933188380786084,
          -1.8950285387937715,
          -1.917112141014927,
          -1.8983543103511176,
          -1.96396620603565,
          -1.9811398194469834,
          -1.844889749250604,
          -1.7475762816510307,
          -1.8238549186007542,
          -1.699917793893598,
          -1.6144447351447013,
          -1.4626879081701278,
          -1.7176325539631674,
          -1.6515838841171222,
          -1.6074451895175312,
          -1.6666877454097113,
          -1.5310769034640355,
          -1.494473457956098,
          -1.3142221263664895,
          -1.1910204277013778,
          -1.299189086081223,
          -1.137139744848459,
          -1.1354450674472187,
          -1.164131050531239,
          -1.1127436379475424,
          -1.0943625774222439,
          -0.9074448504333298,
          -0.8083537339079752,
          -0.8638558341280979,
          -0.6918068997963758,
          -0.6078893898213507,
          -0.6131310912213431,
          -0.5346322013155979,
          -0.4406947036158202,
          -0.2786674524298576,
          -0.2414659843420029,
          -0.18718787894146593,
          -0.026584731827625774,
          0.00833341562569798,
          -0.010464872145822332,
          0.05547772978249239,
          0.10541566151004783,
          0.28355449852500353,
          0.3573126343645943,
          0.3502554939969021,
          0.5217500256593534,
          0.5745548647359411,
          0.5992017402673722,
          0.5852561043484646,
          0.634860038137652,
          0.5533332799920174,
          0.6368689087786569,
          0.38469966717398546,
          0.2939719087973742,
          0.18644417408923963,
          0.15031190194271934,
          0.13758866456981877,
          0.044860309405013114,
          -0.10811148997326035,
          -0.1423533676970376,
          -0.20185496607254233,
          -0.34813997542571606,
          -0.4407785228508645,
          -0.5094645737517252,
          -0.4465211715846951,
          -0.5324729289847439,
          -0.4734458948126701,
          -0.5280209566727321,
          -0.3668550338893826,
          -0.3109170072182508,
          -0.2726673574862812,
          -0.2554650755963432,
          -0.26396671466195204,
          -0.22136147878943133,
          -0.33422300798541316,
          -0.2896871486215168,
          -0.4779661450004937,
          -0.5958070761201605,
          -0.7191123987189201,
          -0.7225756034826278,
          -0.8238557663112576,
          -0.9419171021618271,
          -1.0605566261494757,
          -1.0402432467117946,
          -1.1842988815456326,
          -1.3058070083033202,
          -1.2507777768656214,
          -1.2555769733828015,
          -1.2009665654649035,
          -1.1441401381861327,
          -1.2571118697475658,
          -1.2001316201926973,
          -1.4200776901393826,
          -1.5281394328909939,
          -1.5385568431633645,
          -1.5311320542204752,
          -1.5588546812418131,
          -1.564694405221723,
          -1.4206674388664895,
          -1.4171319457135307,
          -1.306633679722716,
          -1.1691391209335285,
          -1.1700011384107603,
          -1.0941322034175238,
          -1.2598553187201118,
          -1.2706948392495008,
          -1.3807792688361076,
          -1.3460209024192598,
          -1.516743814271327,
          -1.6266951037351778,
          -1.5376667471347187,
          -1.532354452766482,
          -1.4710776494492785,
          -1.3801393515107856,
          -1.2597787669914895,
          -1.2151310098411348,
          -1.208521361471848,
          -1.1015833754908202,
          -1.1882235233933993,
          -1.1186869858611002,
          -1.3424104538112576,
          -1.4362510051566189,
          -1.4637786042310728,
          -1.4241323390512042,
          -1.52852190400657,
          -1.562805706219987,
          -1.4315554325730868,
          -1.4384654282439127,
          -1.3136323776393826,
          -1.183806208064605,
          -1.1445562599385382,
          -1.1446879624236002,
          -1.1119654397053549,
          -1.06036260454898,
          -0.8858892677510382,
          -0.8205760239470377,
          -0.8134102774874729,
          -0.6498062351913411,
          -0.576444416405552,
          -0.5682431246414821,
          -0.5317432039197646,
          -0.45580599105071606,
          -0.2903336443786423,
          -0.2515757798064126,
          -0.19407806991368817,
          -0.03413952783457022,
          0.04833348344253826,
          0.05364577781077489,
          0.10692188939620767,
          0.19186009239112423,
          0.36688783185833684,
          0.4257567804149416,
          0.44570091500384657,
          0.619082450247027,
          0.6812222773878508,
          0.7005353584314347,
          0.7144777026557563,
          0.7624150375951173,
          0.8897777108730938,
          0.9785352363611222,
          0.8955893563015896,
          1.007415241045638,
          0.9504432653435799,
          1.0166466051762262,
          0.8274775127686035,
          0.7710820297826173,
          0.6226658266500036,
          0.5877576484704972,
          0.5381454408284994,
          0.3961939275690756,
          0.2982215856560799,
          0.2682013062395943,
          0.25014427437884657,
          0.15797201730431867,
          0.007333117231600757,
          0.005534815896712391,
          -0.12063243189285483,
          -0.26591714285193135,
          -0.31055662614947566,
          -0.3859090724496418,
          -0.2705212122747993,
          -0.31047280691443135,
          -0.20811250722586452,
          -0.2191322034175237,
          -0.10863224200570205,
          -0.009250747452625774,
          -0.06933382070242702,
          -0.04024324671179455,
          -0.15707720185813262,
          -0.22136147878943133,
          -0.3707779803161423,
          -0.4327993312387043,
          -0.43029938339025064,
          -0.5652505033120008,
          -0.520444660546177,
          -0.5935761053272459,
          -0.4036321063720215,
          -0.34869607351599385,
          -0.3375562056850659,
          -0.2911316473194334,
          -0.38896671466195204,
          -0.36469576155852856,
          -0.18344582699582979,
          -0.12213208134721122,
          -0.1028542472140354,
          0.06641589208730478,
          0.14722230451458687,
          0.1334238132925457,
          0.23125558894047848,
          0.3318594820395617,
          0.5031098235033021,
          0.5775342597986222,
          0.5623679207547146,
          0.7271943615968534,
          0.845888347266323,
          0.8616461304583444,
          0.9275887323866591,
          1.0415271117053604,
          1.183443278906948,
          1.309867972906261,
          1.1620332446479438,
          1.2921934121610894,
          1.4420000687289967,
          1.4662010485356012,
          1.543589437681798,
          1.692748492998763,
          1.7112210566847257,
          1.6883130683923722,
          1.755255968714784,
          1.780305120060395,
          1.9208886863505243,
          2.052091076747407,
          2.8575898852729438,
          2.8741941445829644,
          2.758333415625698,
          2.684867972906261,
          2.737033583732145,
          2.627527342282617,
          2.4927779278869826,
          2.5163126072378583,
          2.3448114971436036,
          2.2043044825820965,
          2.2079997567715313,
          2.325867660948796,
          2.076811212312874,
          2.071415688636784,
          1.9493327645840313,
          1.870535222797754,
          1.9313678258111382,
          1.8164158920873048,
          1.7947764901699688,
          1.9224235827152887,
          1.6303678665012424,
          1.60363886029477,
          1.5735545663418438,
          1.4876464288524416,
          1.6471457527859645,
          1.628081744951888,
          1.7099986581387188,
          1.8635348294600804,
          1.6024781909370063,
          1.6570819212756729,
          1.653110501671705,
          1.5729786635529623,
          1.7358111851861382,
          1.738860553545638,
          1.6211111255866355,
          1.6027570381189347,
          1.539255941588048,
          1.4286375039579644,
          1.4794434416673647,
          1.4109794909184137,
          1.5942553990533257,
          1.6499713255725479,
          1.6456659080302118,
          1.6196451267691083,
          1.6650341398302355,
          1.6668611096437285,
          1.5178888084208368,
          1.5093122139001847,
          1.400701050637527,
          1.2534157428902561,
          1.1855540780605938,
          1.1268676202586916,
          1.1947006166097494,
          1.1409720308676867,
          1.2014435637376772,
          1.1352023099288304,
          1.3231457120958605,
          1.3915264335369575,
          1.335444553863545,
          1.318200967155393,
          1.3042553312364855,
          1.2500825451906035,
          1.0972209481777813,
          1.0723123630972333,
          0.9923673782199924,
          0.8455262707765409,
          0.8511102439677118,
          0.7847570923724069,
          0.9310338278727701,
          0.9551928831897354,
          1.0015551224399342,
          0.9769788398767472,
          1.0673677173041938,
          1.1146387517878256,
          0.9872220332472258,
          0.9784233385746638,
          0.8863679614448188,
          0.7573050386801867,
          0.6271112205302118,
          0.551200980718761,
          0.5988109952989854,
          0.4808598618138673,
          0.5266660029737883,
          0.476646537359386,
          0.6186999791314507,
          0.6873044961454645,
          0.7921112883470521,
          0.8287566583446291,
          0.8429227981418674,
          0.9374163939319229,
          1.1196666268887188,
          1.2199784465390735,
          1.155034546731277,
          1.3235264877904298,
          1.4198883879564272,
          1.571312064703136
         ],
         "z": [
          0.06500649763981661,
          -0.08212866423054896,
          -0.11498247142191283,
          0.013925899466459748,
          -0.27910462703466254,
          -0.29612865087910856,
          -0.2823157829267007,
          -0.28285185224422005,
          -0.27910462703466254,
          -0.2625731167282432,
          -0.32364911392883017,
          -0.2798518577543383,
          -0.43021572648975426,
          -0.48112865988603265,
          -0.4200935617641166,
          -0.3842962953111349,
          -0.4081046020272027,
          -0.3462397592351605,
          -0.45242689605112424,
          -0.5489629612360549,
          -0.437104619405268,
          -0.5253508823201825,
          -0.5742046755773049,
          -0.461296290754691,
          -0.7445490593992323,
          -0.7993508779756662,
          -0.7382046767958887,
          -0.7148518535157858,
          -0.7104379503544156,
          -0.643350882207596,
          -0.46364912611466863,
          -0.37540740165387443,
          -0.4093268416274902,
          -0.23479533895046542,
          -0.15787132470696058,
          -0.18751851446040657,
          -0.06510461389514975,
          0.029649118209636584,
          0.1202397622444012,
          0.19370368063507953,
          0.11145096666786565,
          0.2075379884488944,
          0.38568419990716163,
          0.4651481602595099,
          0.44500650611692166,
          0.6108713874797917,
          0.6361286121386069,
          0.7523703867202847,
          0.5215620760835558,
          0.5117602543282076,
          0.48968418549608306,
          0.44859258605432323,
          0.506339844536518,
          0.48698241805840503,
          0.37390642806335733,
          0.4201481899293775,
          0.2213398381786892,
          0.09864909744072925,
          0.002573093882313514,
          -0.044074082307764426,
          -0.03221572458240561,
          -0.11290643649820847,
          -0.1982046752064316,
          -0.1419629758590611,
          -0.3372157383577013,
          -0.4180175533313655,
          -0.4322046825179347,
          -0.42474073562299064,
          -0.450882391990819,
          -0.4597953230558935,
          -0.6040935670887982,
          -0.6842962939865873,
          -0.6397712812108448,
          -0.7667953243274592,
          -0.7689824623090249,
          -0.6396296295186698,
          -0.9224379561294435,
          -0.9507953395862483,
          -0.9140935727843531,
          -0.8926296206971824,
          -0.903104620041051,
          -0.8734619952326784,
          -1.0009824688787812,
          -0.9659629635672589,
          -1.1524379222210233,
          -1.2863508665315744,
          -1.2908713276739472,
          -1.298407419455795,
          -1.2857712873435005,
          -1.2827953037704796,
          -1.1578713247069605,
          -1.1717407676240623,
          -1.0425490507101998,
          -0.9152397649572064,
          -0.9358713350914142,
          -0.8912963045299868,
          -1.0095490583395943,
          -1.0352397829710547,
          -1.1619824557392684,
          -1.140851839316635,
          -1.2931046189814128,
          -1.4177953207246896,
          -1.3635380257059024,
          -1.3857407277816687,
          -1.298437936632102,
          -1.2310175700736479,
          -1.1365380011222979,
          -1.1286296552413855,
          -1.071549068088265,
          -0.9804620018024348,
          -1.0773157797477861,
          -1.048962961236055,
          -1.196882377261849,
          -1.2963508834857844,
          -1.3878713437804469,
          -1.3892962905427635,
          -1.4681045977886502,
          -1.5519064072521962,
          -1.4610935571017087,
          -1.4989629559378643,
          -1.3453268178915962,
          -1.2373508682269954,
          -1.1865380329114419,
          -1.1600740988381193,
          -1.1761046219483997,
          -1.1259064479423002,
          -1.245093582956879,
          -1.1978518405882008,
          -1.4024379222210233,
          -1.5283508635645875,
          -1.556093559220985,
          -1.5826296514266882,
          -1.5487712987875923,
          -1.5611286498194703,
          -1.4485380108709687,
          -1.4719629525470224,
          -1.3314379290027074,
          -1.2115731044364408,
          -1.250760209781152,
          -1.2065185148842619,
          -1.3434379599441408,
          -1.3895731307154664,
          -1.5244269095085283,
          -1.5360740263588712,
          -1.6333268187393069,
          -1.7583508296561674,
          -1.7230935880431422,
          -1.7697407642332204,
          -1.6436601978490073,
          -1.6019063860594336,
          -1.4443157767807995,
          -1.3965185191228144,
          -1.3706601694507055,
          -1.2240175476093196,
          -1.1907602140197047,
          -1.0902962922381845,
          -1.2791046270346627,
          -1.2449064589625367,
          -1.1282046889817272,
          -1.0309629678058114,
          -1.1312157016942221,
          -1.0144620011666519,
          -0.8335380145797022,
          -0.715518518222122,
          -0.8176601696626329,
          -0.6521286603893608,
          -0.5685380090166021,
          -0.4097407366826288,
          -0.6814379462218269,
          -0.617017549317986,
          -0.5396491211873513,
          -0.48674074537166145,
          -0.5405490632139296,
          -0.45912866497229565,
          -0.304093571724715,
          -0.2845185305669061,
          -0.1981046168621365,
          -0.043906457267115805,
          -0.0029824828660046285,
          -0.013074050942475799,
          0.03633984241724174,
          0.08564913897854393,
          0.2672397571581382,
          0.33859261148563835,
          0.33600651205089516,
          0.5107602738255491,
          0.556239738508507,
          0.514037002524321,
          0.6357842847424099,
          0.6744268930204276,
          0.8193508530104602,
          0.9074814876588696,
          0.8420065010306587,
          0.9796490864204928,
          0.9857953135614044,
          0.92292592532163,
          1.0535620879515026,
          1.0645379685276977,
          0.9666842100796877,
          0.9039259778796812,
          0.9438953695744954,
          0.8533157437623439,
          0.6990174993320748,
          0.6600370169353996,
          0.6097842618542263,
          0.46842688284790157,
          0.44757310659797106,
          0.35414809922435364,
          0.5294509759926812,
          0.51653805668959,
          0.42857305319220934,
          0.39103706949345085,
          0.3911176553750054,
          0.30264914660793846,
          0.15701752349182416,
          0.10281480954811123,
          0.09178429491493596,
          -0.044906437769774224,
          -0.057649107994856626,
          -0.14051853014305088,
          0.024562070573437487,
          0.020982443913575385,
          0.07146197005554485,
          0.009814821416058273,
          0.16900648322873804,
          0.226315782757027,
          0.1885731231283259,
          0.18092592828861687,
          0.15656204005585936,
          0.12431575817342239,
          -0.035871319196842305,
          -0.08374073498720778,
          -0.12366016394058704,
          -0.2689064413725439,
          -0.37442689361395654,
          -0.43751851446040657,
          -0.4013268386605035,
          -0.49446199374918504,
          -0.498982454891558,
          -0.5960740742743829,
          -0.39521572013192546,
          -0.3949064483661555,
          -0.46687133996574964,
          -0.5279629666931913,
          -0.4596601693447415,
          -0.5221286552236248,
          -0.6755380122749893,
          -0.7462962971125198,
          -0.7306601705103435,
          -0.8720175495166682,
          -0.9495380178645804,
          -1.060407397415322,
          -0.8965490627900744,
          -0.9585731099465592,
          -0.9562046781734183,
          -1.028074076373791,
          -0.8803268242494249,
          -0.8681286510910362,
          -0.7483157835624836,
          -0.7518518473698846,
          -0.6485490585647673,
          -0.524795327294446,
          -0.36964911774352743,
          -0.2847407366826288,
          -0.33832684840917426,
          -0.19001757473605568,
          -0.036649146565684534,
          0.1157037179343417,
          -0.08366014910565323,
          0.04442688454332257,
          0.1164619933675837,
          0.13392594397126117,
          0.15211759984996742,
          0.23109358511840938,
          0.4083509191318795,
          0.47125930527904114,
          0.483117557040587,
          0.6549824273832205,
          0.7644620217658855,
          0.744592642850927,
          0.8758954238279677,
          0.9978713654393186,
          1.1596841558262154,
          1.219481550389447,
          1.2276731363320366,
          1.3878713908706337,
          1.5137952974549047,
          1.6557036268054626,
          1.4631175231321667,
          1.5770935147584375,
          1.5781286833462893,
          1.6725925631661396,
          1.472339765699441,
          1.455537974461671,
          1.530017509504601,
          1.6280371110312655,
          1.474339726704758,
          1.5508712857545313,
          1.6899065187683813,
          1.7950371398534226,
          0.9504509268254719,
          0.8144269184517428,
          0.8093508360562501,
          0.7102593078221726,
          0.9102287588567219,
          0.9193158344673678,
          0.8776842499220813,
          0.9261481789091408,
          0.7820065052692111,
          0.7420935825752779,
          0.8914619827712025,
          1.0004814757909226,
          0.8966731261595106,
          1.0358713662870291,
          0.9987952720235896,
          0.9621481127877216,
          1.003784315259988,
          0.968760245003392,
          1.0069064840122506,
          0.9417036666478561,
          1.1115620167438205,
          1.177204734376493,
          1.1123508623352758,
          1.1429258744589998,
          1.0135620201346625,
          0.948649161019017,
          0.7934619861620444,
          0.7607036988608553,
          0.696673210930561,
          0.551093597834067,
          0.5437953483175348,
          0.44692588124068394,
          0.6404509310640245,
          0.6506491432170964,
          0.626573113379655,
          0.6053703918065476,
          0.6361176468979004,
          0.6262046691027844,
          0.4680175527378365,
          0.4372592264419643,
          0.3611176045123752,
          0.21120465426785057,
          0.1376842138943849,
          0.03959261318105936,
          0.18022873978323567,
          0.1292046635926661,
          0.16323977156921674,
          0.11403701312070237,
          0.24645098362207574,
          0.2960935893569619,
          0.22812867274990792,
          0.1767036941984476,
          0.22478429788192272,
          0.16964914364095168,
          0.02668420584113513,
          -0.028962953818587996,
          -0.03577128734350045,
          -0.16146196958943568,
          -0.12353798967820623,
          -0.20462963044585308,
          -0.007882406507861341,
          0.022760251785076038,
          -0.04476025259053262,
          -0.1165185212420906,
          -0.01466016987456056,
          -0.09679532750637361,
          -0.21076022143717163,
          -0.16774073964961556,
          -0.3576601580066135,
          -0.47301755386118455,
          -0.40942689997178533,
          -0.291185190875744,
          -0.508104612623584,
          -0.4409064389353762,
          -0.4139824564810152,
          -0.475629631611455,
          -0.3202157254301161,
          -0.29468420516309835,
          -0.2976491175315998,
          -0.17185184419097027,
          -0.44910461061027157,
          -0.46812866168741746,
          -0.4363157870592894,
          -0.3964074028194764,
          -0.4457712804558526,
          -0.4109064278091758,
          -0.2642046864385958,
          -0.20485186305252898,
          -0.2082157368742079,
          -0.06323976686455504,
          -0.030760260643782407,
          -0.022851861780963212,
          -0.016882389977506525,
          0.031538029138998565,
          0.2121286668159344,
          0.3014814351008185,
          0.2591175799287706,
          0.4283157649551064,
          0.4503508419902237,
          0.4678148455758076,
          0.4390065171371582,
          0.46331582429484164,
          0.6432397376607966,
          0.7374815173287373,
          0.6842287147757758,
          0.8522047131837306,
          0.9730175612149417,
          1.0872592688274894,
          0.9438953695744954,
          1.0526491466079384,
          1.1132397927619795,
          1.0471481509346943,
          1.2352287800494846,
          1.308649029623889,
          1.3072398249749786,
          1.4339260287423115,
          1.1598952907374185,
          1.147204683513863,
          1.287461891218468,
          1.355814804037993,
          1.327228681715066,
          1.4602046207832857,
          1.6332398266703996,
          1.7630371279854755,
          1.6342287359685383,
          1.7967603136679426,
          1.8279063712667538,
          1.9777037064902498,
          1.6838954585840982,
          1.7013157403715018,
          1.6686842982415802,
          1.715592678454768,
          1.5826731024236165,
          1.5472047258993882,
          1.6464619912483076,
          1.6718147887792039,
          1.7003397707857042,
          1.793982366348064,
          1.7105730650601565,
          1.6014815198718688,
          1.7571175129596408,
          1.6979825426718491,
          1.5930174467740237,
          1.4854814503596074,
          1.6195620726927136,
          1.5312046140016016,
          1.4422398419291886,
          1.340148054295697,
          1.4774510361801267,
          1.3917602628053125,
          1.2632398351475045,
          1.1649259753365497,
          1.2621175214367457,
          1.1505380931411415,
          1.0489064068705949,
          0.9417036666478561,
          1.0780064561020017,
          0.9897602594144705,
          0.9040175290019425,
          0.8011481789091409,
          0.9420064586451333,
          0.8766490813342297,
          0.7675731193136286,
          0.6784815020699483,
          0.7734509870129177,
          0.6794269014975326,
          0.5565731006639976,
          0.4530370262602152,
          0.567228770724669,
          0.46620471572686206,
          0.3836842389018448,
          0.2769259109105515,
          0.4238953356660753,
          0.34198249011379783,
          0.25223978470872954,
          0.1517037047948289,
          0.2828954356959147,
          0.20942689937825637,
          0.07112866088196086,
          -0.022851861780963212,
          0.057450959886181624,
          -0.05790644921386602,
          -0.15798248074672838,
          -0.2458518583901212,
          -0.1514379417183648,
          -0.23746199777580992,
          -0.3668713558603216,
          -0.34374075194141784,
          -0.5062157281851752,
          -0.6330175486292213,
          -0.6050935674596716,
          -0.6345185179837034,
          -0.5532157257480076,
          -0.515461994914787,
          -0.3488713359391247,
          -0.2728518617809632,
          -0.294549064697423,
          -0.13790642590182717,
          -0.11164911477654066,
          -0.07674076550478591,
          -0.14110461559057075,
          -0.11801754803317482,
          0.04723975503886191,
          0.13559259580299404,
          0.08833983521170247,
          0.24309356307793628,
          0.24312864519931654,
          0.22170371751048645,
          0.26389538229015297,
          0.269649154237333,
          0.445128627397396,
          0.5544814825726067,
          0.46733986318614906,
          0.6354269116700587,
          0.6659064568855144,
          0.5811481238079582,
          0.7800065442638943,
          0.818649152541912,
          0.9071286265496856,
          0.8974814707046596,
          0.9887842898286728,
          1.07931578784329,
          1.0346842617900285,
          0.9880370855999503,
          1.0335620540430825,
          0.9955380422785114,
          1.129128642656185,
          1.2348147260486266,
          1.1195620726927136,
          1.2405380338014063,
          1.2104620149842016,
          1.1160370271079256,
          1.281451042961811,
          1.2528713739164237,
          1.1346842194045033,
          1.082481466466107,
          1.0845620133529783,
          0.9714269303196897,
          0.8360175832554146,
          0.7499259075197096,
          0.8155620659110298,
          0.6932046343466537,
          0.6171286646966582,
          0.5043703477256014,
          0.6753398343639919,
          0.6235379837864866,
          0.5841286723260527,
          0.5977036980131448,
          0.5345620345457411,
          0.4822047216608356,
          0.34157305403991983,
          0.29248150461307976,
          0.2722286944307237,
          0.14342691463704543,
          0.007239740203928097,
          0.03492591387753831,
          -0.1408824094748481,
          -0.2804619806096722,
          -0.2868713526814072,
          -0.266407407587848,
          -0.31999349282344025,
          -0.31668422656778855,
          -0.16053801002325832,
          -0.0765185064071568,
          -0.12888237853341472,
          0.014871351875950603,
          -0.0373157649128525,
          -0.09429632021263096,
          -0.024882392944493285,
          -0.0663508644122981,
          0.08101752179640315,
          0.20392590370501226,
          0.06756202691634655,
          0.20631580183051332,
          0.21557307353726143,
          0.14525925060171366,
          0.2948954136554416,
          0.309204703858915,
          0.39746197175096587,
          0.51025928662941,
          0.33433980723725587,
          0.41131577851847445,
          0.560128610443186,
          0.5910369847224005,
          0.6490064493203179,
          0.8068713806981077,
          0.8316841931254776,
          0.7681481865385354,
          0.6600064467771865,
          0.5806491305014388,
          0.4779064136522788,
          0.5250369999811896,
          0.33833983521170247,
          0.2382046576586926,
          0.29301757393059913,
          0.4070370754274244,
          0.20900649806367186,
          0.2512046691027844,
          0.2660175705397571,
          0.22092594312355068,
          0.3224509853174967,
          0.34420465723483734,
          0.2671287070821833,
          0.2671481530539706,
          0.18833984580808374,
          0.11876023440701072,
          -0.010315814503916955,
          -0.07240742835675532,
          -0.05432682255400392,
          -0.16901756032497714,
          -0.1065380032415743,
          -0.12340738766665114,
          -0.0412157080520508,
          0.03409355841552851,
          -0.036315784410194084,
          -0.06507409671884298,
          -0.07132686197254233,
          -0.14001754294691182,
          -0.03809359228169473,
          0.07225924339617437,
          -0.07554904308080514,
          0.016760209823406116,
          -0.029871330217078846,
          -0.13229632106034148,
          0.03767318507539061,
          0.0004268947158486074,
          -0.10976025682908513,
          -0.173740728629379,
          -0.13854903333213434,
          -0.24412865808464781,
          -0.38431578101935204,
          -0.4668518542575325,
          -0.4121046035106961,
          -0.5331286593032316,
          -0.5664268985942558,
          -0.672518522142783,
          -0.48066017051034343,
          -0.49679533015546895,
          -0.549871344257284,
          -0.6301851858027265,
          -0.5123268334682767,
          -0.5511286593562136,
          -0.7019824573287257,
          -0.774740746219372,
          -0.7527712817274184,
          -0.8907953173338475,
          -0.9929824659117945,
          -1.0881851751930998,
          -0.9753268263687013,
          -1.0587953266586632,
          -1.0856491448702634,
          -1.1755185365008798,
          -1.00888238701052,
          -1.0226842102493614,
          -1.0999824459905976,
          -1.172518542010998,
          -1.0886601575827584,
          -1.1482397520296213,
          -1.3022046872863062,
          -1.3605185322623272,
          -1.3725490803800673,
          -1.5177953313210708,
          -1.5868713844705509,
          -1.6846296760102928,
          -1.5388823848912436,
          -1.584017575159911,
          -1.5872046406622284,
          -1.6384074130979664,
          -1.5429935159235515,
          -1.535017576855332,
          -1.5965380392692705,
          -1.5378518872122784,
          -1.7143268289118327,
          -1.7827953037704798,
          -1.6875379604321938,
          -1.7046296039549,
          -1.5914379459569175,
          -1.484684235892604,
          -1.4744268777193845,
          -1.3394074147933874,
          -1.6254379188301813,
          -1.6460175319266752,
          -1.6016490978223306,
          -1.5176296471881356
         ]
        }
       ],
       "layout": {
        "autosize": false,
        "height": 650,
        "template": {
         "data": {
          "bar": [
           {
            "error_x": {
             "color": "#2a3f5f"
            },
            "error_y": {
             "color": "#2a3f5f"
            },
            "marker": {
             "line": {
              "color": "#E5ECF6",
              "width": 0.5
             },
             "pattern": {
              "fillmode": "overlay",
              "size": 10,
              "solidity": 0.2
             }
            },
            "type": "bar"
           }
          ],
          "barpolar": [
           {
            "marker": {
             "line": {
              "color": "#E5ECF6",
              "width": 0.5
             },
             "pattern": {
              "fillmode": "overlay",
              "size": 10,
              "solidity": 0.2
             }
            },
            "type": "barpolar"
           }
          ],
          "carpet": [
           {
            "aaxis": {
             "endlinecolor": "#2a3f5f",
             "gridcolor": "white",
             "linecolor": "white",
             "minorgridcolor": "white",
             "startlinecolor": "#2a3f5f"
            },
            "baxis": {
             "endlinecolor": "#2a3f5f",
             "gridcolor": "white",
             "linecolor": "white",
             "minorgridcolor": "white",
             "startlinecolor": "#2a3f5f"
            },
            "type": "carpet"
           }
          ],
          "choropleth": [
           {
            "colorbar": {
             "outlinewidth": 0,
             "ticks": ""
            },
            "type": "choropleth"
           }
          ],
          "contour": [
           {
            "colorbar": {
             "outlinewidth": 0,
             "ticks": ""
            },
            "colorscale": [
             [
              0,
              "#0d0887"
             ],
             [
              0.1111111111111111,
              "#46039f"
             ],
             [
              0.2222222222222222,
              "#7201a8"
             ],
             [
              0.3333333333333333,
              "#9c179e"
             ],
             [
              0.4444444444444444,
              "#bd3786"
             ],
             [
              0.5555555555555556,
              "#d8576b"
             ],
             [
              0.6666666666666666,
              "#ed7953"
             ],
             [
              0.7777777777777778,
              "#fb9f3a"
             ],
             [
              0.8888888888888888,
              "#fdca26"
             ],
             [
              1,
              "#f0f921"
             ]
            ],
            "type": "contour"
           }
          ],
          "contourcarpet": [
           {
            "colorbar": {
             "outlinewidth": 0,
             "ticks": ""
            },
            "type": "contourcarpet"
           }
          ],
          "heatmap": [
           {
            "colorbar": {
             "outlinewidth": 0,
             "ticks": ""
            },
            "colorscale": [
             [
              0,
              "#0d0887"
             ],
             [
              0.1111111111111111,
              "#46039f"
             ],
             [
              0.2222222222222222,
              "#7201a8"
             ],
             [
              0.3333333333333333,
              "#9c179e"
             ],
             [
              0.4444444444444444,
              "#bd3786"
             ],
             [
              0.5555555555555556,
              "#d8576b"
             ],
             [
              0.6666666666666666,
              "#ed7953"
             ],
             [
              0.7777777777777778,
              "#fb9f3a"
             ],
             [
              0.8888888888888888,
              "#fdca26"
             ],
             [
              1,
              "#f0f921"
             ]
            ],
            "type": "heatmap"
           }
          ],
          "heatmapgl": [
           {
            "colorbar": {
             "outlinewidth": 0,
             "ticks": ""
            },
            "colorscale": [
             [
              0,
              "#0d0887"
             ],
             [
              0.1111111111111111,
              "#46039f"
             ],
             [
              0.2222222222222222,
              "#7201a8"
             ],
             [
              0.3333333333333333,
              "#9c179e"
             ],
             [
              0.4444444444444444,
              "#bd3786"
             ],
             [
              0.5555555555555556,
              "#d8576b"
             ],
             [
              0.6666666666666666,
              "#ed7953"
             ],
             [
              0.7777777777777778,
              "#fb9f3a"
             ],
             [
              0.8888888888888888,
              "#fdca26"
             ],
             [
              1,
              "#f0f921"
             ]
            ],
            "type": "heatmapgl"
           }
          ],
          "histogram": [
           {
            "marker": {
             "pattern": {
              "fillmode": "overlay",
              "size": 10,
              "solidity": 0.2
             }
            },
            "type": "histogram"
           }
          ],
          "histogram2d": [
           {
            "colorbar": {
             "outlinewidth": 0,
             "ticks": ""
            },
            "colorscale": [
             [
              0,
              "#0d0887"
             ],
             [
              0.1111111111111111,
              "#46039f"
             ],
             [
              0.2222222222222222,
              "#7201a8"
             ],
             [
              0.3333333333333333,
              "#9c179e"
             ],
             [
              0.4444444444444444,
              "#bd3786"
             ],
             [
              0.5555555555555556,
              "#d8576b"
             ],
             [
              0.6666666666666666,
              "#ed7953"
             ],
             [
              0.7777777777777778,
              "#fb9f3a"
             ],
             [
              0.8888888888888888,
              "#fdca26"
             ],
             [
              1,
              "#f0f921"
             ]
            ],
            "type": "histogram2d"
           }
          ],
          "histogram2dcontour": [
           {
            "colorbar": {
             "outlinewidth": 0,
             "ticks": ""
            },
            "colorscale": [
             [
              0,
              "#0d0887"
             ],
             [
              0.1111111111111111,
              "#46039f"
             ],
             [
              0.2222222222222222,
              "#7201a8"
             ],
             [
              0.3333333333333333,
              "#9c179e"
             ],
             [
              0.4444444444444444,
              "#bd3786"
             ],
             [
              0.5555555555555556,
              "#d8576b"
             ],
             [
              0.6666666666666666,
              "#ed7953"
             ],
             [
              0.7777777777777778,
              "#fb9f3a"
             ],
             [
              0.8888888888888888,
              "#fdca26"
             ],
             [
              1,
              "#f0f921"
             ]
            ],
            "type": "histogram2dcontour"
           }
          ],
          "mesh3d": [
           {
            "colorbar": {
             "outlinewidth": 0,
             "ticks": ""
            },
            "type": "mesh3d"
           }
          ],
          "parcoords": [
           {
            "line": {
             "colorbar": {
              "outlinewidth": 0,
              "ticks": ""
             }
            },
            "type": "parcoords"
           }
          ],
          "pie": [
           {
            "automargin": true,
            "type": "pie"
           }
          ],
          "scatter": [
           {
            "fillpattern": {
             "fillmode": "overlay",
             "size": 10,
             "solidity": 0.2
            },
            "type": "scatter"
           }
          ],
          "scatter3d": [
           {
            "line": {
             "colorbar": {
              "outlinewidth": 0,
              "ticks": ""
             }
            },
            "marker": {
             "colorbar": {
              "outlinewidth": 0,
              "ticks": ""
             }
            },
            "type": "scatter3d"
           }
          ],
          "scattercarpet": [
           {
            "marker": {
             "colorbar": {
              "outlinewidth": 0,
              "ticks": ""
             }
            },
            "type": "scattercarpet"
           }
          ],
          "scattergeo": [
           {
            "marker": {
             "colorbar": {
              "outlinewidth": 0,
              "ticks": ""
             }
            },
            "type": "scattergeo"
           }
          ],
          "scattergl": [
           {
            "marker": {
             "colorbar": {
              "outlinewidth": 0,
              "ticks": ""
             }
            },
            "type": "scattergl"
           }
          ],
          "scattermapbox": [
           {
            "marker": {
             "colorbar": {
              "outlinewidth": 0,
              "ticks": ""
             }
            },
            "type": "scattermapbox"
           }
          ],
          "scatterpolar": [
           {
            "marker": {
             "colorbar": {
              "outlinewidth": 0,
              "ticks": ""
             }
            },
            "type": "scatterpolar"
           }
          ],
          "scatterpolargl": [
           {
            "marker": {
             "colorbar": {
              "outlinewidth": 0,
              "ticks": ""
             }
            },
            "type": "scatterpolargl"
           }
          ],
          "scatterternary": [
           {
            "marker": {
             "colorbar": {
              "outlinewidth": 0,
              "ticks": ""
             }
            },
            "type": "scatterternary"
           }
          ],
          "surface": [
           {
            "colorbar": {
             "outlinewidth": 0,
             "ticks": ""
            },
            "colorscale": [
             [
              0,
              "#0d0887"
             ],
             [
              0.1111111111111111,
              "#46039f"
             ],
             [
              0.2222222222222222,
              "#7201a8"
             ],
             [
              0.3333333333333333,
              "#9c179e"
             ],
             [
              0.4444444444444444,
              "#bd3786"
             ],
             [
              0.5555555555555556,
              "#d8576b"
             ],
             [
              0.6666666666666666,
              "#ed7953"
             ],
             [
              0.7777777777777778,
              "#fb9f3a"
             ],
             [
              0.8888888888888888,
              "#fdca26"
             ],
             [
              1,
              "#f0f921"
             ]
            ],
            "type": "surface"
           }
          ],
          "table": [
           {
            "cells": {
             "fill": {
              "color": "#EBF0F8"
             },
             "line": {
              "color": "white"
             }
            },
            "header": {
             "fill": {
              "color": "#C8D4E3"
             },
             "line": {
              "color": "white"
             }
            },
            "type": "table"
           }
          ]
         },
         "layout": {
          "annotationdefaults": {
           "arrowcolor": "#2a3f5f",
           "arrowhead": 0,
           "arrowwidth": 1
          },
          "autotypenumbers": "strict",
          "coloraxis": {
           "colorbar": {
            "outlinewidth": 0,
            "ticks": ""
           }
          },
          "colorscale": {
           "diverging": [
            [
             0,
             "#8e0152"
            ],
            [
             0.1,
             "#c51b7d"
            ],
            [
             0.2,
             "#de77ae"
            ],
            [
             0.3,
             "#f1b6da"
            ],
            [
             0.4,
             "#fde0ef"
            ],
            [
             0.5,
             "#f7f7f7"
            ],
            [
             0.6,
             "#e6f5d0"
            ],
            [
             0.7,
             "#b8e186"
            ],
            [
             0.8,
             "#7fbc41"
            ],
            [
             0.9,
             "#4d9221"
            ],
            [
             1,
             "#276419"
            ]
           ],
           "sequential": [
            [
             0,
             "#0d0887"
            ],
            [
             0.1111111111111111,
             "#46039f"
            ],
            [
             0.2222222222222222,
             "#7201a8"
            ],
            [
             0.3333333333333333,
             "#9c179e"
            ],
            [
             0.4444444444444444,
             "#bd3786"
            ],
            [
             0.5555555555555556,
             "#d8576b"
            ],
            [
             0.6666666666666666,
             "#ed7953"
            ],
            [
             0.7777777777777778,
             "#fb9f3a"
            ],
            [
             0.8888888888888888,
             "#fdca26"
            ],
            [
             1,
             "#f0f921"
            ]
           ],
           "sequentialminus": [
            [
             0,
             "#0d0887"
            ],
            [
             0.1111111111111111,
             "#46039f"
            ],
            [
             0.2222222222222222,
             "#7201a8"
            ],
            [
             0.3333333333333333,
             "#9c179e"
            ],
            [
             0.4444444444444444,
             "#bd3786"
            ],
            [
             0.5555555555555556,
             "#d8576b"
            ],
            [
             0.6666666666666666,
             "#ed7953"
            ],
            [
             0.7777777777777778,
             "#fb9f3a"
            ],
            [
             0.8888888888888888,
             "#fdca26"
            ],
            [
             1,
             "#f0f921"
            ]
           ]
          },
          "colorway": [
           "#636efa",
           "#EF553B",
           "#00cc96",
           "#ab63fa",
           "#FFA15A",
           "#19d3f3",
           "#FF6692",
           "#B6E880",
           "#FF97FF",
           "#FECB52"
          ],
          "font": {
           "color": "#2a3f5f"
          },
          "geo": {
           "bgcolor": "white",
           "lakecolor": "white",
           "landcolor": "#E5ECF6",
           "showlakes": true,
           "showland": true,
           "subunitcolor": "white"
          },
          "hoverlabel": {
           "align": "left"
          },
          "hovermode": "closest",
          "mapbox": {
           "style": "light"
          },
          "paper_bgcolor": "white",
          "plot_bgcolor": "#E5ECF6",
          "polar": {
           "angularaxis": {
            "gridcolor": "white",
            "linecolor": "white",
            "ticks": ""
           },
           "bgcolor": "#E5ECF6",
           "radialaxis": {
            "gridcolor": "white",
            "linecolor": "white",
            "ticks": ""
           }
          },
          "scene": {
           "xaxis": {
            "backgroundcolor": "#E5ECF6",
            "gridcolor": "white",
            "gridwidth": 2,
            "linecolor": "white",
            "showbackground": true,
            "ticks": "",
            "zerolinecolor": "white"
           },
           "yaxis": {
            "backgroundcolor": "#E5ECF6",
            "gridcolor": "white",
            "gridwidth": 2,
            "linecolor": "white",
            "showbackground": true,
            "ticks": "",
            "zerolinecolor": "white"
           },
           "zaxis": {
            "backgroundcolor": "#E5ECF6",
            "gridcolor": "white",
            "gridwidth": 2,
            "linecolor": "white",
            "showbackground": true,
            "ticks": "",
            "zerolinecolor": "white"
           }
          },
          "shapedefaults": {
           "line": {
            "color": "#2a3f5f"
           }
          },
          "ternary": {
           "aaxis": {
            "gridcolor": "white",
            "linecolor": "white",
            "ticks": ""
           },
           "baxis": {
            "gridcolor": "white",
            "linecolor": "white",
            "ticks": ""
           },
           "bgcolor": "#E5ECF6",
           "caxis": {
            "gridcolor": "white",
            "linecolor": "white",
            "ticks": ""
           }
          },
          "title": {
           "x": 0.05
          },
          "xaxis": {
           "automargin": true,
           "gridcolor": "white",
           "linecolor": "white",
           "ticks": "",
           "title": {
            "standoff": 15
           },
           "zerolinecolor": "white",
           "zerolinewidth": 2
          },
          "yaxis": {
           "automargin": true,
           "gridcolor": "white",
           "linecolor": "white",
           "ticks": "",
           "title": {
            "standoff": 15
           },
           "zerolinecolor": "white",
           "zerolinewidth": 2
          }
         }
        },
        "width": 650
       }
      },
      "text/html": [
       "<div>                            <div id=\"0838108b-cd37-4010-a166-43b19124b694\" class=\"plotly-graph-div\" style=\"height:650px; width:650px;\"></div>            <script type=\"text/javascript\">                require([\"plotly\"], function(Plotly) {                    window.PLOTLYENV=window.PLOTLYENV || {};                                    if (document.getElementById(\"0838108b-cd37-4010-a166-43b19124b694\")) {                    Plotly.newPlot(                        \"0838108b-cd37-4010-a166-43b19124b694\",                        [{\"marker\":{\"colorscale\":[[0.0,\"#440154\"],[0.1111111111111111,\"#482878\"],[0.2222222222222222,\"#3e4989\"],[0.3333333333333333,\"#31688e\"],[0.4444444444444444,\"#26828e\"],[0.5555555555555556,\"#1f9e89\"],[0.6666666666666666,\"#35b779\"],[0.7777777777777778,\"#6ece58\"],[0.8888888888888888,\"#b5de2b\"],[1.0,\"#fde725\"]],\"size\":3},\"mode\":\"markers\",\"name\":\"coord\",\"x\":[1.5461924839825356,1.5320395307931294,1.441231358895602,1.4177960797979745,1.3564155335702093,1.2773737321820182,1.4007870907749422,1.5480179764993633,1.3318590557056258,1.4365958052071919,1.375676210241088,1.2563513098326966,1.4438602628453827,1.386484246504935,1.4904545169902201,1.6405744001104745,1.39597140108323,1.4661503842002475,1.5791216448114005,1.5427960797979745,1.7038598559443412,1.8197066993044142,1.7643429989780672,1.7235737355054397,1.7474152216127439,1.6890389068781988,1.7771213871074076,1.926351174199016,1.672859082832362,1.7423734609146573,1.7672319963739005,1.8064628685349535,1.7379700311830564,1.7517067535578863,1.603676427254977,1.509906607684259,1.5753045580927787,1.4449287994563238,1.387120302037963,1.482907028148669,1.2226366435962508,1.152595832333928,1.1964549510179978,1.173574074589641,1.2478594219165633,1.2947060211360113,1.469677132550116,1.534573287914294,1.5371931892776745,1.7058167931629211,1.7034536489346646,1.6072407276929397,1.7921929858271537,1.7780400326377475,1.8726770104798034,1.939685660418634,1.86563692842698,1.9530396935535461,1.8761204105449076,1.785573586308391,1.9055267938783689,1.8423727827462544,1.9618985409702547,2.1077968257832174,1.8880826071379175,1.9862614681846225,1.903787985957234,1.7799074893031828,1.9598599508879175,1.8943730404502475,1.8346758440301505,1.9002399952710647,1.6958591642125702,1.6213729590700392,1.5728994497159146,1.5925736405618633,1.4959707229148274,1.4430401004545876,1.282231386022338,1.2276851314472799,1.1965254646682995,1.0407065229806294,0.9747871314650465,0.8770178137389466,1.0191929044469452,0.9711501807497266,0.9937877146898728,0.8973509978752313,1.1095266311179524,1.145151238692435,1.065899056378241,1.0221288977233216,1.0370812914912162,0.9594839888009419,0.8014540693990742,0.7397963714103876,0.7264148893102266,0.5755948964615322,0.5395649295878763,0.4292401715948494,0.6238597203106606,0.6058174713313238,0.6117873213521992,0.5285740406812209,0.7060817051739419,0.7292619225574524,0.5971210819316263,0.5625740135544848,0.5113041105016328,0.380151001333494,0.25678735526061935,0.19757360665344315,0.20852650226595573,0.09403938159608079,0.12267616276929989,0.028685090757175798,0.23963747774338628,0.2763725860774176,0.2356768205926506,0.16468498225023134,0.2680815559768932,0.23892836542854606,0.08278714502841449,0.031017990062731354,-0.0014734299172039932,-0.15240447284185324,-0.24221234634528344,-0.3446483103929978,-0.21302891087423526,-0.2888494123492317,-0.2778789180683737,-0.37753693479620964,-0.16980669543369706,-0.1446267289724956,-0.2382128481899015,-0.28998200315558464,-0.2678071158981068,-0.35896015724940533,-0.5115460797979744,-0.5888703156013312,-0.5603621831724124,-0.7009604827702387,-0.7362122514017071,-0.8546487512024596,-0.6478069124475859,-0.6854049950315234,-0.7072120750779223,-0.7928710005514179,-0.6475848122956762,-0.6786267018457595,-0.7617681799498841,-0.8062037913500291,-0.7972514925257109,-0.883737887555395,-1.0029901376864292,-1.0999821048808451,-1.0093622238625164,-1.1168489511947177,-1.047878951976794,-0.9212041982510707,-1.1372512212583499,-1.0651826914290927,-1.0718793317510995,-0.9819816505080152,-1.1896956792661624,-1.2157377722667664,-1.0845458220939814,-1.0762038252584492,-0.991918037122065,-0.8597383554915928,-0.7332122039299188,-0.5947593604689527,-0.7906961472023603,-0.68251599763569,-0.7438789451951098,-0.8486486562588832,-0.693028876965815,-0.7381826032672004,-0.6471017709872106,-0.5013153839607062,-0.7461404831398603,-0.6877378943370789,-0.7028794266946758,-0.8162042321594909,-0.6014735994593047,-0.6066272579438498,-0.5297676170701098,-0.4093150584398728,-0.6093623934046172,-0.5370717634234504,-0.5849900223978008,-0.6863154856859666,-0.5232511127514053,-0.5624047441092144,-0.49299054458747094,-0.38142623058614017,-0.572362373059565,-0.5184051781369922,-0.5914343176451966,-0.6644259050653069,-0.5841404627948081,-0.6562937686317838,-0.6544344668422453,-0.7629815759094909,-0.5432511466598255,-0.5302934702376866,-0.5878790197936341,-0.5489821455709492,-0.6886962285825686,-0.753515990854006,-0.8803238847024883,-0.930426440818345,-0.9405849275843047,-1.0534046016938499,-0.9912120479511862,-1.0610925378235534,-0.8702512348217178,-0.808738396181697,-0.7707683223652487,-0.806314841425984,-0.7106960115686797,-0.6691823591265754,-0.7812121157680265,-0.7976486969489874,-0.8772516281593915,-0.9881826032672004,-1.1418790265753183,-1.2098708174459492,-1.2040296161693742,-1.348515516136124,-1.3562124548522279,-1.4462040287089701,-1.2662515671242351,-1.2625161332693706,-1.1777676984503183,-1.239537294225463,-1.0473625426016657,-0.9591824269434157,-1.018878775653009,-1.0336487579841436,-1.0624738300365617,-1.1228490461382943,-1.2635458288756654,-1.2777597131165221,-1.3803627257071345,-1.5177380299707595,-1.4938789451951098,-1.5533147939541958,-1.4161403475061798,-1.3842939856456726,-1.2991013505228008,-1.299093195646904,-1.2359179421784887,-1.1567379689356032,-1.2495458899108216,-1.2174264611633971,-1.3750289312192874,-1.4705163163748394,-1.4336567433179397,-1.4688709598613139,-1.372473931761822,-1.3381827728093012,-1.4148791079555265,-1.3880926259854458,-1.5262511602231936,-1.6056269595497525,-1.503323287914294,-1.5392038049133971,-1.3865849208026206,-1.2778495208561762,-1.1662125565774883,-1.0149821726976853,-1.2574735248607805,-1.18251599763569,-1.217212515887384,-1.3348708174459492,-1.1249178811433325,-1.1426269798948046,-1.0247678205206308,-0.8876484256816263,-1.0922513568920305,-0.9970716956066101,-1.007656784008044,-1.1182036421529804,-0.9035849072392526,-0.8954049272146831,-0.9859901512497973,-1.0104265764520255,-1.0470293923738012,-1.1387385318153775,-1.2936565059589986,-1.3789814334941264,-1.339362359496197,-1.4804048593978427,-1.492879494511516,-1.590203764223293,-1.4113626511086101,-1.4221824065983637,-1.297767901900839,-1.2864258575935186,-2.495140184745763,-2.431293599089683,-2.269212773591377,-2.203537572274508,-2.216918206664166,-2.0664050899751,-1.932212244620023,-1.9267592451803242,-1.83547391141677,-1.7036273800141624,-1.587990069869589,-1.5392038049133971,-1.5604740809588706,-1.4564044796235374,-1.2853235117098667,-1.247203988018866,-1.1951405238299644,-1.0324051171018358,-0.9457679832810473,-0.8463149092428242,-0.9991405306116484,-0.9340715464095616,-0.9881009504034431,-0.9062039608921297,-1.1322514247088706,-1.1947382876747525,-1.1378795284199361,-1.126426434036661,-1.1096955436324818,-1.0522941009343012,-0.8803238847024883,-0.8046482425761575,-0.8286956182310061,-0.6649607608192838,-0.6396571773457175,-0.5096483782098381,-0.7748066615252769,-0.7777384707802213,-0.7731012216708043,-0.678537741816609,-0.8848072718768394,-0.8918496293631206,-0.7302121564581306,-0.7046480730340569,-0.6332517231029678,-0.47484896475808586,-0.3643233489494501,-0.2365372467536749,-0.42091804390374915,-0.3316274274859505,-0.3857678815557869,-0.2909814538391784,-0.546029093979704,-0.6208492970606032,-0.6811017438604744,-0.6990930261048034,-0.7246959505335234,-0.7951826575206726,-0.9482127803730612,-1.023537267098727,-1.012140171182395,-1.1657381113509677,-1.251989839292332,-1.1746484460266784,-1.4063628545591311,-1.4724050153765755,-1.3705455440449361,-1.3059816911981192,-1.3616961404206762,-1.2600713361773568,-1.0834344736239292,-1.0168708716994215,-1.0115849208026206,-0.8554048593978428,-0.8069901444681133,-0.8420933109355325,-0.7411406865903811,-0.6820717973318706,-0.5041014861564813,-0.4158704037632235,-0.465584758042204,-0.29696030644645394,-0.2735454219746237,-0.3729821862610534,-0.1592518519549644,-0.1516271223101692,-0.21887911473721053,-0.336981616599595,-0.15536255616503386,-0.19718223705626295,-0.10476795615431121,0.04490687895162024,-0.20814016440071093,-0.14951632315652338,-0.15776766454189803,-0.2573154789042825,-0.06458462919020747,-0.058960496333606706,-0.01087893163174177,0.13268475845465844,-0.14336236627788107,-0.11484920211702684,-0.10510110638217579,-0.2085373688239874,0.008415113105799479,0.02726183439555996,-0.051435097538859824,-0.12664853418857072,-0.0473625426016658,-0.12329409415261712,-0.001212488760648019,0.09101809178799176,-0.005917976086908854,0.11103936803271273,0.07556549924933462,0.022573945737644548,0.09752644123079948,0.06659560175667106,0.11912086491773739,0.0444626786478008,0.235526081801546,0.29403972068028217,0.26323165050801517,0.3080184173088251,0.1789710755623967,0.14359484220805996,-0.015878728181220936,-0.061315485685966564,-0.11136299019281164,-0.2644048322711067,-0.36310095040344315,-0.4845374976759839,-0.3210289244376033,-0.40429401955409283,-0.33654557117167233,-0.19098213200758116,-0.45325141792718665,-0.38840453387700946,-0.3225456322068286,-0.34120406261739017,-0.25669617432909636,-0.188849242807131,-0.06099049033399871,-0.06464868338561934,0.04152668537142448,0.16848447030050787,0.24234321599195616,0.29401847834398137,0.23941537759147657,0.30481751202142804,0.21700938759568877,0.2865738847024883,0.054415275866216146,-0.045515807748537265,-0.020657272289293854,-0.012537375605671426,-0.018251316201926215,0.008595249109101625,0.16300938081400476,0.18024046998894663,0.2640820578215113,0.414817274662487,0.4187873756056714,0.5086850568487556,0.31097062118956686,0.28848382604052525,0.22089868338561935,0.275017895119155,0.09086004583149393,0.012372647112573847,0.11778741629577559,0.10390752999328691,0.21163759981369878,0.31126180726882385,0.41900947575758113,0.4672404903339987,0.4456370640606606,0.5433725725140496,0.4788985274068867,0.5572402190666376,0.32119316215093835,0.24003971389859816,0.1965651533834492,0.1427962493400751,0.20952595294954948,0.164039924130803,0.2657874976759839,0.413018383400405,0.17619312824251823,0.2572618004871398,0.3240099504754631,0.45690689929667233,0.22319274168652864,0.2788173831694315,0.2441208649177374,0.1314623599086515,0.333304402114046,0.3121510555869662,0.4011210887133103,0.551351174199016,0.2971927823766328,0.36470656367073356,0.3384540897441263,0.2316846296026619,0.42752657686448003,0.41403992413080304,0.47278738238735546,0.6096846770744501,0.3571928841018932,0.38903924596240025,0.4092319828105325,0.3135734642380786,0.5224150520706432,0.5551506622492925,0.6903429582879631,0.7579068586065681,0.7210819425328828,0.8528165761490322,0.9994538116950812,1.1403522999585647,0.955970655097987,1.0865947879545876,1.1223430125414353,1.0381285857658564,1.2416372268210774,1.2777060346993794,1.2438979170553242,1.3520188309915508,1.0815267531882649,1.0228181359363586,1.0596768612827547,1.1292405106790508,0.9981934198549314,1.0290403310318448,0.9420095571377894,1.0007954151929397,0.7947479852846189,0.7045952423274175,0.7347875722745082,0.6826852670809606,0.8007480802281953,0.8355944895604905,0.9758993276456019,0.9927964188821758,1.063970668661355,1.1991503977636155,1.1805654653409146,1.296017379711169,1.0226379999330564,0.983040168271428,0.9240092723070603,0.8834621089863425,0.9079715909703828,0.8460399783842752,0.9451206546855325,1.095906838261516,0.8515259393861814,0.9235953169259419,0.8896769969164353,0.7717965952059606,0.9778602357186467,0.9443727013660461,0.8931203969815394,0.7863517845505785,0.96341524873948,0.945261101973685,0.9430098555318867,1.0539078690774883,0.8081926738696884,0.7979290164702127,0.8101210615865742,0.7267958831291376,0.9035261970901745,0.91526232267681,0.8143426598938659,0.8403509436217591,0.6906372675111814,0.5889285349706468,0.6593430328864874,0.7802397918205438,0.5763040087763724,0.6240398563139627,0.5380093808140047,0.42368512466559594,0.5887483989673447,0.531484280413355,0.4237871721551506,0.4379071637823494,0.6975266107729001,0.8417064822905252,0.8474542321594909,0.7724628956616897,0.9220825800111814,0.9279288130196919,1.005565804425116,1.1263515132832174,0.9278588793818412,0.9877059668825391,1.1693434736959492,1.2596845075323495,1.2144155471335774,1.3822626481976432,1.449898351083102,1.3797966087693285,1.5704149639087508,1.6398174442045876,1.5571201664042826,1.5379064856139466,1.4987478225242024,1.4119291249771573,1.2666758982836228,1.217129440258044,1.1836368741735077,1.0449281212879211,0.91989787636522,0.9424627600280091,0.7799706957880912,0.647817288225855,0.5131206004320603,0.5126845550041376,0.38863700980718835,0.25192885370979606,0.16400967920810197,0.19435145902974524,0.04630438176899392,-0.04396025897466574,-0.14576832236524873,-0.17353709755662627,-0.21569580811815886,-0.3140713429590407,-0.22554551013651608,-0.27798181326843185,-0.0998070006094783,0.0027062042414800975,0.04901012001756379,0.060129216462470936,0.06674861598123351,0.10726197002924051,-0.022545971291029962,0.004018410527141075,-0.17047384359992968,-0.3061825490137282,-0.3321010250019675,-0.34231541108744223,-0.35125149930739497,-0.3672939992090407,-0.24465714343729733,-0.2745375654928242,-0.11902883627571094,0.005039951257539125,-0.007989934235908436,0.056462868534953574,-0.0962517027579158,-0.12318219636615879,-0.2602126311760126,-0.2649821726976853,-0.3781400287670304,-0.5159603810449782,-0.5042125362324362,-0.5860932159919562,-0.4128071498065269,-0.3837378875553949,-0.30765729263434594,-0.34231541108744223,-0.22102960260600607,-0.14773782652023865,-0.24432399320943274,-0.1854262373678242,-0.3949179150517526,-0.49907144468430115,-0.6486573197610821,-0.747092937942911,-0.6716962421459366,-0.7948495072928081,-0.9008791689906828,-1.0186485206252027,-0.8720288837474991,-0.9692939178288325,-0.9512128278448494,-0.9710928090909144,-0.9234738910717178,-0.9041829694781379,-1.043768403745457,-1.0238704173265916],\"y\":[1.074256212855409,1.048527505043034,0.9265547833557327,0.8692009264652888,0.8978120532416938,0.7726384262669923,0.658998698828823,0.7103128513784832,0.502144871167041,0.38419373768192283,0.2623329137810799,0.2656463067821291,0.15281184979117293,0.02863852121056867,-0.09211180193072563,-0.05657693269269733,-0.23507674070361873,-0.3652501642277994,-0.42600123335433676,-0.4321313353619682,-0.4728544506645562,-0.5314726305906466,-0.6693348379550312,-0.7324649942161349,-0.7149656567192437,-0.8382505846922091,-0.9697786991746492,-0.953132515374989,-1.1014114439371256,-1.228695870065473,-1.2232220992397533,-1.3144657266380098,-1.1203001293754937,-1.108029366159223,-1.1136673846130174,-1.0199100625755098,-1.2284103453043131,-1.253472752660959,-1.1038898916659687,-0.9755764986649196,-1.1218548304388618,-0.9932510594100911,-1.0162230622388853,-1.1091315930659613,-0.935965480395459,-0.952694893502973,-0.9077788483716979,-0.7894650484696071,-1.0115219175699381,-0.9772513713675564,-0.7932226417744757,-0.7204648043289821,-0.7210776494492784,-0.5524738106036674,-0.46133380713905897,-0.3085758340598848,-0.5568557798746256,-0.4903620620142577,-0.3751114764098923,-0.3970208617291557,-0.2576326217800076,-0.13247225081634106,-0.03288905073714924,-0.00424267705033622,0.016922160663568775,0.12441624473487423,0.2787768021274341,0.2995343818689346,0.38381126656634657,0.5380820162192492,0.559111274783684,0.5162007094513998,0.6186999791314507,0.6459718274171659,0.814665474002434,0.9338676745121638,0.8198108189752007,0.9729710678685548,0.9835548376092049,0.8938676066953235,1.0868108054118326,1.095860268714909,1.0459988887159757,0.9925343276154623,1.0619220250298882,1.0239710271784506,0.8674439299486146,0.8189791653975804,0.7853666457981174,0.6355263385933811,0.5555542815111146,0.4647565498376846,0.5842558059543674,0.5146377345352214,0.5278884015197952,0.4420904663958443,0.6310341669569716,0.6538606213624784,0.573332466189934,0.5427577841041776,0.5317011455811035,0.4513052828208117,0.29955418656753824,0.24153402922136516,0.23392248618440212,0.09319337147098533,0.055332181359204924,-0.044020644715266774,0.12936756810714517,0.10074986289893673,0.09433195078194798,0.006535114290809613,0.18014542726513127,0.17663860259077702,0.050998685265454924,-0.0030202785043292758,0.002144871167040997,-0.1170286608640841,-0.2500012740444409,-0.3105764308480793,-0.2931889911376465,-0.41125032698821606,-0.4093335494350659,-0.5031321762907877,-0.3048551830864312,-0.2844735257729383,-0.3173332239142326,-0.3609100897022459,-0.29885508814285483,-0.3196958971922091,-0.4736679949645798,-0.5062432738385306,-0.5701885706732368,-0.7199169800915146,-0.7956674388664895,-0.8780202785043293,-0.7721878111246256,-0.8368060859942924,-0.8064452302076354,-0.8791324746848849,-0.7025212665282715,-0.6548060317408202,-0.7191123987189201,-0.6959100218854056,-0.8002995868407715,-0.8620288643146049,-1.0168893626946145,-1.0507989379010307,-1.1144102367973687,-1.2589167495142577,-1.2703344581807257,-1.363687189311621,-1.1820778800265355,-1.188139704158355,-1.0607787263013853,-1.065132027093739,-0.9518549660725424,-0.8288070896835286,-0.6951120189446145,-0.6961321220373153,-0.5868545591715006,-0.4702509780298827,-0.4876670862189201,-0.3920210651796765,-0.611411037036084,-0.6416953410941189,-0.7245563955722187,-0.7342434908524196,-0.7890775951958062,-0.8648059639239799,-0.7448895797085034,-0.7610209702361002,-0.6272988272921604,-0.5123618450003689,-0.43255573096718397,-0.3342428126840168,-0.4865212394015354,-0.418362618112348,-0.2614453658413159,-0.2155769055659612,-0.17829878660205623,-0.01969454085540355,0.019555407270663256,0.0677567668515735,-0.008632920174104837,0.02597162396664506,0.19599956688437853,0.2697577027239693,0.25770076580679796,0.4118596176732423,0.5036659215935799,0.4893130277022679,0.5965899937798882,0.695193290090777,0.8667776294928855,0.9278675795685873,0.9433663202772841,1.108860756996159,1.2201101490241355,1.1898677694557402,1.3434788962321451,1.455748981280013,1.4211107865024342,1.4430907647899416,1.3645885831896105,1.325749184730534,1.1861101761508717,1.152090398579004,1.1003673917833605,0.9641938733156034,0.9997766258036493,0.9225354805017472,1.1176996807373536,1.1720830063451173,1.1378890118713576,1.0947563463871637,1.1502568503337076,1.1220833454293186,0.9717767478739618,0.9312007772682401,0.8833670662625271,0.7398608519397354,0.6419987123921911,0.5716460626415041,0.6422561586019369,0.5509706067140409,0.5912208532342049,0.5129794095382054,0.7084776077121799,0.7606382363798395,0.8078888762376771,0.7825343954323026,0.8647004809760688,0.9208606077991104,0.8323334563158021,0.7875341919817819,0.8061457256592285,0.7194157700169923,0.5736664641283021,0.5503125801111222,0.47114409805506186,0.33252747791629783,0.3354445538635452,0.2607567125981013,0.41614464058978407,0.42519410389286033,0.4843330358513924,0.4490908597335179,0.5707009150038466,0.6309707423477214,0.5191112069668438,0.5389786906796985,0.3981443557590549,0.28397062027740894,0.15800009585573271,0.09209114456424711,0.1239218758328396,0.009303940047374226,-0.10600069081961452,-0.20279851743662095,-0.10252194469667428,-0.20847288829463967,-0.16088994591944092,-0.009020373447905664,-0.2891877975612576,-0.25625154769134106,-0.28177854997760066,-0.22990999475866955,-0.3649663348876465,-0.40302923052554246,-0.2655567617831562,-0.24246458731509316,-0.17463328638504233,-0.034029325469118826,-0.018889959482808964,-0.009020373447905664,-0.021855508607264557,-0.013250245608007718,0.08977635453628825,0.1563119968862957,0.10314449139273545,0.19152778987376312,0.12866592159357992,0.10353523636112211,0.0975885967529785,0.04119311376699228,0.13088861853368408,0.09453424623525405,0.24570057591964517,0.33530457752567283,0.29677708695816324,0.3929792060876846,0.15347815024690212,0.09863736832428395,-0.04555554108003119,-0.046797744324641774,-0.17318878768712567,-0.3101405043970702,-0.31844542009478816,-0.4032430568246418,-0.4426335712157715,-0.3948064386418619,-0.30100123335433676,-0.2477983818029404,-0.28418800101177843,-0.19769509695349383,-0.287778644921177,-0.3943539644852321,-0.2505220260768826,-0.3302515883814452,-0.34911219526839926,-0.21879820547915566,-0.5119661178737576,-0.5385849217147786,-0.5682233199428784,-0.6594652519201278,-0.49196693167584093,-0.4962502591713758,-0.6319999719611076,-0.662910347406239,-0.7166322555690701,-0.8452509780298827,-0.9726676965704826,-1.0626872300017252,-0.9843002378824381,-1.1013612753389106,-1.1071111915791632,-1.2035767156788084,-1.008966918112473,-0.9995834568710286,-1.0376667471347187,-0.9959096828012043,-1.113855834128098,-1.1536955309812715,-1.3048888337232603,-1.3292430161345377,-1.4085217005560493,-1.557917807456966,-1.573667316796177,-1.644353964485232,-1.5147432174831326,-1.5180279420055771,-1.501555975107809,-1.5321323526145723,-1.454855861254834,-1.4289166138805771,-1.5534443350253437,-1.5416877454097113,-1.670632940519157,-1.7954734172659939,-1.9217787873365415,-1.9713540526471245,-1.9727442482991049,-2.0884726848441186,-2.0500009349602397,-2.1271318778966903,-1.933188380786084,-1.8950285387937715,-1.917112141014927,-1.8983543103511176,-1.96396620603565,-1.9811398194469834,-1.844889749250604,-1.7475762816510307,-1.8238549186007542,-1.699917793893598,-1.6144447351447013,-1.4626879081701278,-1.7176325539631674,-1.6515838841171222,-1.6074451895175312,-1.6666877454097113,-1.5310769034640355,-1.494473457956098,-1.3142221263664895,-1.1910204277013778,-1.299189086081223,-1.137139744848459,-1.1354450674472187,-1.164131050531239,-1.1127436379475424,-1.0943625774222439,-0.9074448504333298,-0.8083537339079752,-0.8638558341280979,-0.6918068997963758,-0.6078893898213507,-0.6131310912213431,-0.5346322013155979,-0.4406947036158202,-0.2786674524298576,-0.2414659843420029,-0.18718787894146593,-0.026584731827625774,0.00833341562569798,-0.010464872145822332,0.05547772978249239,0.10541566151004783,0.28355449852500353,0.3573126343645943,0.3502554939969021,0.5217500256593534,0.5745548647359411,0.5992017402673722,0.5852561043484646,0.634860038137652,0.5533332799920174,0.6368689087786569,0.38469966717398546,0.2939719087973742,0.18644417408923963,0.15031190194271934,0.13758866456981877,0.044860309405013114,-0.10811148997326035,-0.1423533676970376,-0.20185496607254233,-0.34813997542571606,-0.4407785228508645,-0.5094645737517252,-0.4465211715846951,-0.5324729289847439,-0.4734458948126701,-0.5280209566727321,-0.3668550338893826,-0.3109170072182508,-0.2726673574862812,-0.2554650755963432,-0.26396671466195204,-0.22136147878943133,-0.33422300798541316,-0.2896871486215168,-0.4779661450004937,-0.5958070761201605,-0.7191123987189201,-0.7225756034826278,-0.8238557663112576,-0.9419171021618271,-1.0605566261494757,-1.0402432467117946,-1.1842988815456326,-1.3058070083033202,-1.2507777768656214,-1.2555769733828015,-1.2009665654649035,-1.1441401381861327,-1.2571118697475658,-1.2001316201926973,-1.4200776901393826,-1.5281394328909939,-1.5385568431633645,-1.5311320542204752,-1.5588546812418131,-1.564694405221723,-1.4206674388664895,-1.4171319457135307,-1.306633679722716,-1.1691391209335285,-1.1700011384107603,-1.0941322034175238,-1.2598553187201118,-1.2706948392495008,-1.3807792688361076,-1.3460209024192598,-1.516743814271327,-1.6266951037351778,-1.5376667471347187,-1.532354452766482,-1.4710776494492785,-1.3801393515107856,-1.2597787669914895,-1.2151310098411348,-1.208521361471848,-1.1015833754908202,-1.1882235233933993,-1.1186869858611002,-1.3424104538112576,-1.4362510051566189,-1.4637786042310728,-1.4241323390512042,-1.52852190400657,-1.562805706219987,-1.4315554325730868,-1.4384654282439127,-1.3136323776393826,-1.183806208064605,-1.1445562599385382,-1.1446879624236002,-1.1119654397053549,-1.06036260454898,-0.8858892677510382,-0.8205760239470377,-0.8134102774874729,-0.6498062351913411,-0.576444416405552,-0.5682431246414821,-0.5317432039197646,-0.45580599105071606,-0.2903336443786423,-0.2515757798064126,-0.19407806991368817,-0.03413952783457022,0.04833348344253826,0.05364577781077489,0.10692188939620767,0.19186009239112423,0.36688783185833684,0.4257567804149416,0.44570091500384657,0.619082450247027,0.6812222773878508,0.7005353584314347,0.7144777026557563,0.7624150375951173,0.8897777108730938,0.9785352363611222,0.8955893563015896,1.007415241045638,0.9504432653435799,1.0166466051762262,0.8274775127686035,0.7710820297826173,0.6226658266500036,0.5877576484704972,0.5381454408284994,0.3961939275690756,0.2982215856560799,0.2682013062395943,0.25014427437884657,0.15797201730431867,0.007333117231600757,0.005534815896712391,-0.12063243189285483,-0.26591714285193135,-0.31055662614947566,-0.3859090724496418,-0.2705212122747993,-0.31047280691443135,-0.20811250722586452,-0.2191322034175237,-0.10863224200570205,-0.009250747452625774,-0.06933382070242702,-0.04024324671179455,-0.15707720185813262,-0.22136147878943133,-0.3707779803161423,-0.4327993312387043,-0.43029938339025064,-0.5652505033120008,-0.520444660546177,-0.5935761053272459,-0.4036321063720215,-0.34869607351599385,-0.3375562056850659,-0.2911316473194334,-0.38896671466195204,-0.36469576155852856,-0.18344582699582979,-0.12213208134721122,-0.1028542472140354,0.06641589208730478,0.14722230451458687,0.1334238132925457,0.23125558894047848,0.3318594820395617,0.5031098235033021,0.5775342597986222,0.5623679207547146,0.7271943615968534,0.845888347266323,0.8616461304583444,0.9275887323866591,1.0415271117053604,1.183443278906948,1.309867972906261,1.1620332446479438,1.2921934121610894,1.4420000687289967,1.4662010485356012,1.543589437681798,1.692748492998763,1.7112210566847257,1.6883130683923722,1.755255968714784,1.780305120060395,1.9208886863505243,2.052091076747407,2.8575898852729438,2.8741941445829644,2.758333415625698,2.684867972906261,2.737033583732145,2.627527342282617,2.4927779278869826,2.5163126072378583,2.3448114971436036,2.2043044825820965,2.2079997567715313,2.325867660948796,2.076811212312874,2.071415688636784,1.9493327645840313,1.870535222797754,1.9313678258111382,1.8164158920873048,1.7947764901699688,1.9224235827152887,1.6303678665012424,1.60363886029477,1.5735545663418438,1.4876464288524416,1.6471457527859645,1.628081744951888,1.7099986581387188,1.8635348294600804,1.6024781909370063,1.6570819212756729,1.653110501671705,1.5729786635529623,1.7358111851861382,1.738860553545638,1.6211111255866355,1.6027570381189347,1.539255941588048,1.4286375039579644,1.4794434416673647,1.4109794909184137,1.5942553990533257,1.6499713255725479,1.6456659080302118,1.6196451267691083,1.6650341398302355,1.6668611096437285,1.5178888084208368,1.5093122139001847,1.400701050637527,1.2534157428902561,1.1855540780605938,1.1268676202586916,1.1947006166097494,1.1409720308676867,1.2014435637376772,1.1352023099288304,1.3231457120958605,1.3915264335369575,1.335444553863545,1.318200967155393,1.3042553312364855,1.2500825451906035,1.0972209481777813,1.0723123630972333,0.9923673782199924,0.8455262707765409,0.8511102439677118,0.7847570923724069,0.9310338278727701,0.9551928831897354,1.0015551224399342,0.9769788398767472,1.0673677173041938,1.1146387517878256,0.9872220332472258,0.9784233385746638,0.8863679614448188,0.7573050386801867,0.6271112205302118,0.551200980718761,0.5988109952989854,0.4808598618138673,0.5266660029737883,0.476646537359386,0.6186999791314507,0.6873044961454645,0.7921112883470521,0.8287566583446291,0.8429227981418674,0.9374163939319229,1.1196666268887188,1.2199784465390735,1.155034546731277,1.3235264877904298,1.4198883879564272,1.571312064703136],\"z\":[0.06500649763981661,-0.08212866423054896,-0.11498247142191283,0.013925899466459748,-0.27910462703466254,-0.29612865087910856,-0.2823157829267007,-0.28285185224422005,-0.27910462703466254,-0.2625731167282432,-0.32364911392883017,-0.2798518577543383,-0.43021572648975426,-0.48112865988603265,-0.4200935617641166,-0.3842962953111349,-0.4081046020272027,-0.3462397592351605,-0.45242689605112424,-0.5489629612360549,-0.437104619405268,-0.5253508823201825,-0.5742046755773049,-0.461296290754691,-0.7445490593992323,-0.7993508779756662,-0.7382046767958887,-0.7148518535157858,-0.7104379503544156,-0.643350882207596,-0.46364912611466863,-0.37540740165387443,-0.4093268416274902,-0.23479533895046542,-0.15787132470696058,-0.18751851446040657,-0.06510461389514975,0.029649118209636584,0.1202397622444012,0.19370368063507953,0.11145096666786565,0.2075379884488944,0.38568419990716163,0.4651481602595099,0.44500650611692166,0.6108713874797917,0.6361286121386069,0.7523703867202847,0.5215620760835558,0.5117602543282076,0.48968418549608306,0.44859258605432323,0.506339844536518,0.48698241805840503,0.37390642806335733,0.4201481899293775,0.2213398381786892,0.09864909744072925,0.002573093882313514,-0.044074082307764426,-0.03221572458240561,-0.11290643649820847,-0.1982046752064316,-0.1419629758590611,-0.3372157383577013,-0.4180175533313655,-0.4322046825179347,-0.42474073562299064,-0.450882391990819,-0.4597953230558935,-0.6040935670887982,-0.6842962939865873,-0.6397712812108448,-0.7667953243274592,-0.7689824623090249,-0.6396296295186698,-0.9224379561294435,-0.9507953395862483,-0.9140935727843531,-0.8926296206971824,-0.903104620041051,-0.8734619952326784,-1.0009824688787812,-0.9659629635672589,-1.1524379222210233,-1.2863508665315744,-1.2908713276739472,-1.298407419455795,-1.2857712873435005,-1.2827953037704796,-1.1578713247069605,-1.1717407676240623,-1.0425490507101998,-0.9152397649572064,-0.9358713350914142,-0.8912963045299868,-1.0095490583395943,-1.0352397829710547,-1.1619824557392684,-1.140851839316635,-1.2931046189814128,-1.4177953207246896,-1.3635380257059024,-1.3857407277816687,-1.298437936632102,-1.2310175700736479,-1.1365380011222979,-1.1286296552413855,-1.071549068088265,-0.9804620018024348,-1.0773157797477861,-1.048962961236055,-1.196882377261849,-1.2963508834857844,-1.3878713437804469,-1.3892962905427635,-1.4681045977886502,-1.5519064072521962,-1.4610935571017087,-1.4989629559378643,-1.3453268178915962,-1.2373508682269954,-1.1865380329114419,-1.1600740988381193,-1.1761046219483997,-1.1259064479423002,-1.245093582956879,-1.1978518405882008,-1.4024379222210233,-1.5283508635645875,-1.556093559220985,-1.5826296514266882,-1.5487712987875923,-1.5611286498194703,-1.4485380108709687,-1.4719629525470224,-1.3314379290027074,-1.2115731044364408,-1.250760209781152,-1.2065185148842619,-1.3434379599441408,-1.3895731307154664,-1.5244269095085283,-1.5360740263588712,-1.6333268187393069,-1.7583508296561674,-1.7230935880431422,-1.7697407642332204,-1.6436601978490073,-1.6019063860594336,-1.4443157767807995,-1.3965185191228144,-1.3706601694507055,-1.2240175476093196,-1.1907602140197047,-1.0902962922381845,-1.2791046270346627,-1.2449064589625367,-1.1282046889817272,-1.0309629678058114,-1.1312157016942221,-1.0144620011666519,-0.8335380145797022,-0.715518518222122,-0.8176601696626329,-0.6521286603893608,-0.5685380090166021,-0.4097407366826288,-0.6814379462218269,-0.617017549317986,-0.5396491211873513,-0.48674074537166145,-0.5405490632139296,-0.45912866497229565,-0.304093571724715,-0.2845185305669061,-0.1981046168621365,-0.043906457267115805,-0.0029824828660046285,-0.013074050942475799,0.03633984241724174,0.08564913897854393,0.2672397571581382,0.33859261148563835,0.33600651205089516,0.5107602738255491,0.556239738508507,0.514037002524321,0.6357842847424099,0.6744268930204276,0.8193508530104602,0.9074814876588696,0.8420065010306587,0.9796490864204928,0.9857953135614044,0.92292592532163,1.0535620879515026,1.0645379685276977,0.9666842100796877,0.9039259778796812,0.9438953695744954,0.8533157437623439,0.6990174993320748,0.6600370169353996,0.6097842618542263,0.46842688284790157,0.44757310659797106,0.35414809922435364,0.5294509759926812,0.51653805668959,0.42857305319220934,0.39103706949345085,0.3911176553750054,0.30264914660793846,0.15701752349182416,0.10281480954811123,0.09178429491493596,-0.044906437769774224,-0.057649107994856626,-0.14051853014305088,0.024562070573437487,0.020982443913575385,0.07146197005554485,0.009814821416058273,0.16900648322873804,0.226315782757027,0.1885731231283259,0.18092592828861687,0.15656204005585936,0.12431575817342239,-0.035871319196842305,-0.08374073498720778,-0.12366016394058704,-0.2689064413725439,-0.37442689361395654,-0.43751851446040657,-0.4013268386605035,-0.49446199374918504,-0.498982454891558,-0.5960740742743829,-0.39521572013192546,-0.3949064483661555,-0.46687133996574964,-0.5279629666931913,-0.4596601693447415,-0.5221286552236248,-0.6755380122749893,-0.7462962971125198,-0.7306601705103435,-0.8720175495166682,-0.9495380178645804,-1.060407397415322,-0.8965490627900744,-0.9585731099465592,-0.9562046781734183,-1.028074076373791,-0.8803268242494249,-0.8681286510910362,-0.7483157835624836,-0.7518518473698846,-0.6485490585647673,-0.524795327294446,-0.36964911774352743,-0.2847407366826288,-0.33832684840917426,-0.19001757473605568,-0.036649146565684534,0.1157037179343417,-0.08366014910565323,0.04442688454332257,0.1164619933675837,0.13392594397126117,0.15211759984996742,0.23109358511840938,0.4083509191318795,0.47125930527904114,0.483117557040587,0.6549824273832205,0.7644620217658855,0.744592642850927,0.8758954238279677,0.9978713654393186,1.1596841558262154,1.219481550389447,1.2276731363320366,1.3878713908706337,1.5137952974549047,1.6557036268054626,1.4631175231321667,1.5770935147584375,1.5781286833462893,1.6725925631661396,1.472339765699441,1.455537974461671,1.530017509504601,1.6280371110312655,1.474339726704758,1.5508712857545313,1.6899065187683813,1.7950371398534226,0.9504509268254719,0.8144269184517428,0.8093508360562501,0.7102593078221726,0.9102287588567219,0.9193158344673678,0.8776842499220813,0.9261481789091408,0.7820065052692111,0.7420935825752779,0.8914619827712025,1.0004814757909226,0.8966731261595106,1.0358713662870291,0.9987952720235896,0.9621481127877216,1.003784315259988,0.968760245003392,1.0069064840122506,0.9417036666478561,1.1115620167438205,1.177204734376493,1.1123508623352758,1.1429258744589998,1.0135620201346625,0.948649161019017,0.7934619861620444,0.7607036988608553,0.696673210930561,0.551093597834067,0.5437953483175348,0.44692588124068394,0.6404509310640245,0.6506491432170964,0.626573113379655,0.6053703918065476,0.6361176468979004,0.6262046691027844,0.4680175527378365,0.4372592264419643,0.3611176045123752,0.21120465426785057,0.1376842138943849,0.03959261318105936,0.18022873978323567,0.1292046635926661,0.16323977156921674,0.11403701312070237,0.24645098362207574,0.2960935893569619,0.22812867274990792,0.1767036941984476,0.22478429788192272,0.16964914364095168,0.02668420584113513,-0.028962953818587996,-0.03577128734350045,-0.16146196958943568,-0.12353798967820623,-0.20462963044585308,-0.007882406507861341,0.022760251785076038,-0.04476025259053262,-0.1165185212420906,-0.01466016987456056,-0.09679532750637361,-0.21076022143717163,-0.16774073964961556,-0.3576601580066135,-0.47301755386118455,-0.40942689997178533,-0.291185190875744,-0.508104612623584,-0.4409064389353762,-0.4139824564810152,-0.475629631611455,-0.3202157254301161,-0.29468420516309835,-0.2976491175315998,-0.17185184419097027,-0.44910461061027157,-0.46812866168741746,-0.4363157870592894,-0.3964074028194764,-0.4457712804558526,-0.4109064278091758,-0.2642046864385958,-0.20485186305252898,-0.2082157368742079,-0.06323976686455504,-0.030760260643782407,-0.022851861780963212,-0.016882389977506525,0.031538029138998565,0.2121286668159344,0.3014814351008185,0.2591175799287706,0.4283157649551064,0.4503508419902237,0.4678148455758076,0.4390065171371582,0.46331582429484164,0.6432397376607966,0.7374815173287373,0.6842287147757758,0.8522047131837306,0.9730175612149417,1.0872592688274894,0.9438953695744954,1.0526491466079384,1.1132397927619795,1.0471481509346943,1.2352287800494846,1.308649029623889,1.3072398249749786,1.4339260287423115,1.1598952907374185,1.147204683513863,1.287461891218468,1.355814804037993,1.327228681715066,1.4602046207832857,1.6332398266703996,1.7630371279854755,1.6342287359685383,1.7967603136679426,1.8279063712667538,1.9777037064902498,1.6838954585840982,1.7013157403715018,1.6686842982415802,1.715592678454768,1.5826731024236165,1.5472047258993882,1.6464619912483076,1.6718147887792039,1.7003397707857042,1.793982366348064,1.7105730650601565,1.6014815198718688,1.7571175129596408,1.6979825426718491,1.5930174467740237,1.4854814503596074,1.6195620726927136,1.5312046140016016,1.4422398419291886,1.340148054295697,1.4774510361801267,1.3917602628053125,1.2632398351475045,1.1649259753365497,1.2621175214367457,1.1505380931411415,1.0489064068705949,0.9417036666478561,1.0780064561020017,0.9897602594144705,0.9040175290019425,0.8011481789091409,0.9420064586451333,0.8766490813342297,0.7675731193136286,0.6784815020699483,0.7734509870129177,0.6794269014975326,0.5565731006639976,0.4530370262602152,0.567228770724669,0.46620471572686206,0.3836842389018448,0.2769259109105515,0.4238953356660753,0.34198249011379783,0.25223978470872954,0.1517037047948289,0.2828954356959147,0.20942689937825637,0.07112866088196086,-0.022851861780963212,0.057450959886181624,-0.05790644921386602,-0.15798248074672838,-0.2458518583901212,-0.1514379417183648,-0.23746199777580992,-0.3668713558603216,-0.34374075194141784,-0.5062157281851752,-0.6330175486292213,-0.6050935674596716,-0.6345185179837034,-0.5532157257480076,-0.515461994914787,-0.3488713359391247,-0.2728518617809632,-0.294549064697423,-0.13790642590182717,-0.11164911477654066,-0.07674076550478591,-0.14110461559057075,-0.11801754803317482,0.04723975503886191,0.13559259580299404,0.08833983521170247,0.24309356307793628,0.24312864519931654,0.22170371751048645,0.26389538229015297,0.269649154237333,0.445128627397396,0.5544814825726067,0.46733986318614906,0.6354269116700587,0.6659064568855144,0.5811481238079582,0.7800065442638943,0.818649152541912,0.9071286265496856,0.8974814707046596,0.9887842898286728,1.07931578784329,1.0346842617900285,0.9880370855999503,1.0335620540430825,0.9955380422785114,1.129128642656185,1.2348147260486266,1.1195620726927136,1.2405380338014063,1.2104620149842016,1.1160370271079256,1.281451042961811,1.2528713739164237,1.1346842194045033,1.082481466466107,1.0845620133529783,0.9714269303196897,0.8360175832554146,0.7499259075197096,0.8155620659110298,0.6932046343466537,0.6171286646966582,0.5043703477256014,0.6753398343639919,0.6235379837864866,0.5841286723260527,0.5977036980131448,0.5345620345457411,0.4822047216608356,0.34157305403991983,0.29248150461307976,0.2722286944307237,0.14342691463704543,0.007239740203928097,0.03492591387753831,-0.1408824094748481,-0.2804619806096722,-0.2868713526814072,-0.266407407587848,-0.31999349282344025,-0.31668422656778855,-0.16053801002325832,-0.0765185064071568,-0.12888237853341472,0.014871351875950603,-0.0373157649128525,-0.09429632021263096,-0.024882392944493285,-0.0663508644122981,0.08101752179640315,0.20392590370501226,0.06756202691634655,0.20631580183051332,0.21557307353726143,0.14525925060171366,0.2948954136554416,0.309204703858915,0.39746197175096587,0.51025928662941,0.33433980723725587,0.41131577851847445,0.560128610443186,0.5910369847224005,0.6490064493203179,0.8068713806981077,0.8316841931254776,0.7681481865385354,0.6600064467771865,0.5806491305014388,0.4779064136522788,0.5250369999811896,0.33833983521170247,0.2382046576586926,0.29301757393059913,0.4070370754274244,0.20900649806367186,0.2512046691027844,0.2660175705397571,0.22092594312355068,0.3224509853174967,0.34420465723483734,0.2671287070821833,0.2671481530539706,0.18833984580808374,0.11876023440701072,-0.010315814503916955,-0.07240742835675532,-0.05432682255400392,-0.16901756032497714,-0.1065380032415743,-0.12340738766665114,-0.0412157080520508,0.03409355841552851,-0.036315784410194084,-0.06507409671884298,-0.07132686197254233,-0.14001754294691182,-0.03809359228169473,0.07225924339617437,-0.07554904308080514,0.016760209823406116,-0.029871330217078846,-0.13229632106034148,0.03767318507539061,0.0004268947158486074,-0.10976025682908513,-0.173740728629379,-0.13854903333213434,-0.24412865808464781,-0.38431578101935204,-0.4668518542575325,-0.4121046035106961,-0.5331286593032316,-0.5664268985942558,-0.672518522142783,-0.48066017051034343,-0.49679533015546895,-0.549871344257284,-0.6301851858027265,-0.5123268334682767,-0.5511286593562136,-0.7019824573287257,-0.774740746219372,-0.7527712817274184,-0.8907953173338475,-0.9929824659117945,-1.0881851751930998,-0.9753268263687013,-1.0587953266586632,-1.0856491448702634,-1.1755185365008798,-1.00888238701052,-1.0226842102493614,-1.0999824459905976,-1.172518542010998,-1.0886601575827584,-1.1482397520296213,-1.3022046872863062,-1.3605185322623272,-1.3725490803800673,-1.5177953313210708,-1.5868713844705509,-1.6846296760102928,-1.5388823848912436,-1.584017575159911,-1.5872046406622284,-1.6384074130979664,-1.5429935159235515,-1.535017576855332,-1.5965380392692705,-1.5378518872122784,-1.7143268289118327,-1.7827953037704798,-1.6875379604321938,-1.7046296039549,-1.5914379459569175,-1.484684235892604,-1.4744268777193845,-1.3394074147933874,-1.6254379188301813,-1.6460175319266752,-1.6016490978223306,-1.5176296471881356],\"type\":\"scatter3d\"}],                        {\"template\":{\"data\":{\"histogram2dcontour\":[{\"type\":\"histogram2dcontour\",\"colorbar\":{\"outlinewidth\":0,\"ticks\":\"\"},\"colorscale\":[[0.0,\"#0d0887\"],[0.1111111111111111,\"#46039f\"],[0.2222222222222222,\"#7201a8\"],[0.3333333333333333,\"#9c179e\"],[0.4444444444444444,\"#bd3786\"],[0.5555555555555556,\"#d8576b\"],[0.6666666666666666,\"#ed7953\"],[0.7777777777777778,\"#fb9f3a\"],[0.8888888888888888,\"#fdca26\"],[1.0,\"#f0f921\"]]}],\"choropleth\":[{\"type\":\"choropleth\",\"colorbar\":{\"outlinewidth\":0,\"ticks\":\"\"}}],\"histogram2d\":[{\"type\":\"histogram2d\",\"colorbar\":{\"outlinewidth\":0,\"ticks\":\"\"},\"colorscale\":[[0.0,\"#0d0887\"],[0.1111111111111111,\"#46039f\"],[0.2222222222222222,\"#7201a8\"],[0.3333333333333333,\"#9c179e\"],[0.4444444444444444,\"#bd3786\"],[0.5555555555555556,\"#d8576b\"],[0.6666666666666666,\"#ed7953\"],[0.7777777777777778,\"#fb9f3a\"],[0.8888888888888888,\"#fdca26\"],[1.0,\"#f0f921\"]]}],\"heatmap\":[{\"type\":\"heatmap\",\"colorbar\":{\"outlinewidth\":0,\"ticks\":\"\"},\"colorscale\":[[0.0,\"#0d0887\"],[0.1111111111111111,\"#46039f\"],[0.2222222222222222,\"#7201a8\"],[0.3333333333333333,\"#9c179e\"],[0.4444444444444444,\"#bd3786\"],[0.5555555555555556,\"#d8576b\"],[0.6666666666666666,\"#ed7953\"],[0.7777777777777778,\"#fb9f3a\"],[0.8888888888888888,\"#fdca26\"],[1.0,\"#f0f921\"]]}],\"heatmapgl\":[{\"type\":\"heatmapgl\",\"colorbar\":{\"outlinewidth\":0,\"ticks\":\"\"},\"colorscale\":[[0.0,\"#0d0887\"],[0.1111111111111111,\"#46039f\"],[0.2222222222222222,\"#7201a8\"],[0.3333333333333333,\"#9c179e\"],[0.4444444444444444,\"#bd3786\"],[0.5555555555555556,\"#d8576b\"],[0.6666666666666666,\"#ed7953\"],[0.7777777777777778,\"#fb9f3a\"],[0.8888888888888888,\"#fdca26\"],[1.0,\"#f0f921\"]]}],\"contourcarpet\":[{\"type\":\"contourcarpet\",\"colorbar\":{\"outlinewidth\":0,\"ticks\":\"\"}}],\"contour\":[{\"type\":\"contour\",\"colorbar\":{\"outlinewidth\":0,\"ticks\":\"\"},\"colorscale\":[[0.0,\"#0d0887\"],[0.1111111111111111,\"#46039f\"],[0.2222222222222222,\"#7201a8\"],[0.3333333333333333,\"#9c179e\"],[0.4444444444444444,\"#bd3786\"],[0.5555555555555556,\"#d8576b\"],[0.6666666666666666,\"#ed7953\"],[0.7777777777777778,\"#fb9f3a\"],[0.8888888888888888,\"#fdca26\"],[1.0,\"#f0f921\"]]}],\"surface\":[{\"type\":\"surface\",\"colorbar\":{\"outlinewidth\":0,\"ticks\":\"\"},\"colorscale\":[[0.0,\"#0d0887\"],[0.1111111111111111,\"#46039f\"],[0.2222222222222222,\"#7201a8\"],[0.3333333333333333,\"#9c179e\"],[0.4444444444444444,\"#bd3786\"],[0.5555555555555556,\"#d8576b\"],[0.6666666666666666,\"#ed7953\"],[0.7777777777777778,\"#fb9f3a\"],[0.8888888888888888,\"#fdca26\"],[1.0,\"#f0f921\"]]}],\"mesh3d\":[{\"type\":\"mesh3d\",\"colorbar\":{\"outlinewidth\":0,\"ticks\":\"\"}}],\"scatter\":[{\"fillpattern\":{\"fillmode\":\"overlay\",\"size\":10,\"solidity\":0.2},\"type\":\"scatter\"}],\"parcoords\":[{\"type\":\"parcoords\",\"line\":{\"colorbar\":{\"outlinewidth\":0,\"ticks\":\"\"}}}],\"scatterpolargl\":[{\"type\":\"scatterpolargl\",\"marker\":{\"colorbar\":{\"outlinewidth\":0,\"ticks\":\"\"}}}],\"bar\":[{\"error_x\":{\"color\":\"#2a3f5f\"},\"error_y\":{\"color\":\"#2a3f5f\"},\"marker\":{\"line\":{\"color\":\"#E5ECF6\",\"width\":0.5},\"pattern\":{\"fillmode\":\"overlay\",\"size\":10,\"solidity\":0.2}},\"type\":\"bar\"}],\"scattergeo\":[{\"type\":\"scattergeo\",\"marker\":{\"colorbar\":{\"outlinewidth\":0,\"ticks\":\"\"}}}],\"scatterpolar\":[{\"type\":\"scatterpolar\",\"marker\":{\"colorbar\":{\"outlinewidth\":0,\"ticks\":\"\"}}}],\"histogram\":[{\"marker\":{\"pattern\":{\"fillmode\":\"overlay\",\"size\":10,\"solidity\":0.2}},\"type\":\"histogram\"}],\"scattergl\":[{\"type\":\"scattergl\",\"marker\":{\"colorbar\":{\"outlinewidth\":0,\"ticks\":\"\"}}}],\"scatter3d\":[{\"type\":\"scatter3d\",\"line\":{\"colorbar\":{\"outlinewidth\":0,\"ticks\":\"\"}},\"marker\":{\"colorbar\":{\"outlinewidth\":0,\"ticks\":\"\"}}}],\"scattermapbox\":[{\"type\":\"scattermapbox\",\"marker\":{\"colorbar\":{\"outlinewidth\":0,\"ticks\":\"\"}}}],\"scatterternary\":[{\"type\":\"scatterternary\",\"marker\":{\"colorbar\":{\"outlinewidth\":0,\"ticks\":\"\"}}}],\"scattercarpet\":[{\"type\":\"scattercarpet\",\"marker\":{\"colorbar\":{\"outlinewidth\":0,\"ticks\":\"\"}}}],\"carpet\":[{\"aaxis\":{\"endlinecolor\":\"#2a3f5f\",\"gridcolor\":\"white\",\"linecolor\":\"white\",\"minorgridcolor\":\"white\",\"startlinecolor\":\"#2a3f5f\"},\"baxis\":{\"endlinecolor\":\"#2a3f5f\",\"gridcolor\":\"white\",\"linecolor\":\"white\",\"minorgridcolor\":\"white\",\"startlinecolor\":\"#2a3f5f\"},\"type\":\"carpet\"}],\"table\":[{\"cells\":{\"fill\":{\"color\":\"#EBF0F8\"},\"line\":{\"color\":\"white\"}},\"header\":{\"fill\":{\"color\":\"#C8D4E3\"},\"line\":{\"color\":\"white\"}},\"type\":\"table\"}],\"barpolar\":[{\"marker\":{\"line\":{\"color\":\"#E5ECF6\",\"width\":0.5},\"pattern\":{\"fillmode\":\"overlay\",\"size\":10,\"solidity\":0.2}},\"type\":\"barpolar\"}],\"pie\":[{\"automargin\":true,\"type\":\"pie\"}]},\"layout\":{\"autotypenumbers\":\"strict\",\"colorway\":[\"#636efa\",\"#EF553B\",\"#00cc96\",\"#ab63fa\",\"#FFA15A\",\"#19d3f3\",\"#FF6692\",\"#B6E880\",\"#FF97FF\",\"#FECB52\"],\"font\":{\"color\":\"#2a3f5f\"},\"hovermode\":\"closest\",\"hoverlabel\":{\"align\":\"left\"},\"paper_bgcolor\":\"white\",\"plot_bgcolor\":\"#E5ECF6\",\"polar\":{\"bgcolor\":\"#E5ECF6\",\"angularaxis\":{\"gridcolor\":\"white\",\"linecolor\":\"white\",\"ticks\":\"\"},\"radialaxis\":{\"gridcolor\":\"white\",\"linecolor\":\"white\",\"ticks\":\"\"}},\"ternary\":{\"bgcolor\":\"#E5ECF6\",\"aaxis\":{\"gridcolor\":\"white\",\"linecolor\":\"white\",\"ticks\":\"\"},\"baxis\":{\"gridcolor\":\"white\",\"linecolor\":\"white\",\"ticks\":\"\"},\"caxis\":{\"gridcolor\":\"white\",\"linecolor\":\"white\",\"ticks\":\"\"}},\"coloraxis\":{\"colorbar\":{\"outlinewidth\":0,\"ticks\":\"\"}},\"colorscale\":{\"sequential\":[[0.0,\"#0d0887\"],[0.1111111111111111,\"#46039f\"],[0.2222222222222222,\"#7201a8\"],[0.3333333333333333,\"#9c179e\"],[0.4444444444444444,\"#bd3786\"],[0.5555555555555556,\"#d8576b\"],[0.6666666666666666,\"#ed7953\"],[0.7777777777777778,\"#fb9f3a\"],[0.8888888888888888,\"#fdca26\"],[1.0,\"#f0f921\"]],\"sequentialminus\":[[0.0,\"#0d0887\"],[0.1111111111111111,\"#46039f\"],[0.2222222222222222,\"#7201a8\"],[0.3333333333333333,\"#9c179e\"],[0.4444444444444444,\"#bd3786\"],[0.5555555555555556,\"#d8576b\"],[0.6666666666666666,\"#ed7953\"],[0.7777777777777778,\"#fb9f3a\"],[0.8888888888888888,\"#fdca26\"],[1.0,\"#f0f921\"]],\"diverging\":[[0,\"#8e0152\"],[0.1,\"#c51b7d\"],[0.2,\"#de77ae\"],[0.3,\"#f1b6da\"],[0.4,\"#fde0ef\"],[0.5,\"#f7f7f7\"],[0.6,\"#e6f5d0\"],[0.7,\"#b8e186\"],[0.8,\"#7fbc41\"],[0.9,\"#4d9221\"],[1,\"#276419\"]]},\"xaxis\":{\"gridcolor\":\"white\",\"linecolor\":\"white\",\"ticks\":\"\",\"title\":{\"standoff\":15},\"zerolinecolor\":\"white\",\"automargin\":true,\"zerolinewidth\":2},\"yaxis\":{\"gridcolor\":\"white\",\"linecolor\":\"white\",\"ticks\":\"\",\"title\":{\"standoff\":15},\"zerolinecolor\":\"white\",\"automargin\":true,\"zerolinewidth\":2},\"scene\":{\"xaxis\":{\"backgroundcolor\":\"#E5ECF6\",\"gridcolor\":\"white\",\"linecolor\":\"white\",\"showbackground\":true,\"ticks\":\"\",\"zerolinecolor\":\"white\",\"gridwidth\":2},\"yaxis\":{\"backgroundcolor\":\"#E5ECF6\",\"gridcolor\":\"white\",\"linecolor\":\"white\",\"showbackground\":true,\"ticks\":\"\",\"zerolinecolor\":\"white\",\"gridwidth\":2},\"zaxis\":{\"backgroundcolor\":\"#E5ECF6\",\"gridcolor\":\"white\",\"linecolor\":\"white\",\"showbackground\":true,\"ticks\":\"\",\"zerolinecolor\":\"white\",\"gridwidth\":2}},\"shapedefaults\":{\"line\":{\"color\":\"#2a3f5f\"}},\"annotationdefaults\":{\"arrowcolor\":\"#2a3f5f\",\"arrowhead\":0,\"arrowwidth\":1},\"geo\":{\"bgcolor\":\"white\",\"landcolor\":\"#E5ECF6\",\"subunitcolor\":\"white\",\"showland\":true,\"showlakes\":true,\"lakecolor\":\"white\"},\"title\":{\"x\":0.05},\"mapbox\":{\"style\":\"light\"}}},\"autosize\":false,\"width\":650,\"height\":650},                        {\"responsive\": true}                    ).then(function(){\n",
       "                            \n",
       "var gd = document.getElementById('0838108b-cd37-4010-a166-43b19124b694');\n",
       "var x = new MutationObserver(function (mutations, observer) {{\n",
       "        var display = window.getComputedStyle(gd).display;\n",
       "        if (!display || display === 'none') {{\n",
       "            console.log([gd, 'removed!']);\n",
       "            Plotly.purge(gd);\n",
       "            observer.disconnect();\n",
       "        }}\n",
       "}});\n",
       "\n",
       "// Listen for the removal of the full notebook cells\n",
       "var notebookContainer = gd.closest('#notebook-container');\n",
       "if (notebookContainer) {{\n",
       "    x.observe(notebookContainer, {childList: true});\n",
       "}}\n",
       "\n",
       "// Listen for the clearing of the current output cell\n",
       "var outputEl = gd.closest('.output');\n",
       "if (outputEl) {{\n",
       "    x.observe(outputEl, {childList: true});\n",
       "}}\n",
       "\n",
       "                        })                };                });            </script>        </div>"
      ]
     },
     "metadata": {},
     "output_type": "display_data"
    }
   ],
   "source": [
    "show_scatter(original)"
   ]
  },
  {
   "cell_type": "code",
   "execution_count": 30,
   "id": "2f29be74",
   "metadata": {},
   "outputs": [
    {
     "data": {
      "application/vnd.plotly.v1+json": {
       "config": {
        "plotlyServerURL": "https://plot.ly"
       },
       "data": [
        {
         "marker": {
          "colorscale": [
           [
            0,
            "#440154"
           ],
           [
            0.1111111111111111,
            "#482878"
           ],
           [
            0.2222222222222222,
            "#3e4989"
           ],
           [
            0.3333333333333333,
            "#31688e"
           ],
           [
            0.4444444444444444,
            "#26828e"
           ],
           [
            0.5555555555555556,
            "#1f9e89"
           ],
           [
            0.6666666666666666,
            "#35b779"
           ],
           [
            0.7777777777777778,
            "#6ece58"
           ],
           [
            0.8888888888888888,
            "#b5de2b"
           ],
           [
            1,
            "#fde725"
           ]
          ],
          "size": 3
         },
         "mode": "markers",
         "name": "coord",
         "type": "scatter3d",
         "x": [
          1.0018464992368175,
          -0.08067813279571807,
          1.5249122762704892,
          0.06534058316007892,
          -0.75574543311331,
          0.09874484015007767,
          0.21709000526377284,
          -0.33708343857291706,
          0.6121689969083435,
          0.48028465792804337,
          -0.7423318560751143,
          -0.5856349396178887,
          0.429107590342083,
          0.5488087053060156,
          -0.4284833473373579,
          -0.3523681884546408,
          0.5042162132171393,
          1.0277116759119174,
          -0.27386104482308443,
          -0.3532132442592477,
          0.3231171314616983,
          0.17447500198949273,
          0.4344796612412769,
          -0.9180577481712983,
          1.1404051590919035,
          0.5451042912269707,
          0.7850189219494373,
          -0.5198683584588866,
          -0.11183709476108442,
          0.2528826602098554,
          0.4306935675141751,
          -0.7445365771707091,
          -0.061928369781899105,
          -0.3762996675998742,
          -0.854041766657463,
          -0.12302915054582712,
          -0.7794434948975568,
          2.049221414165229,
          0.23184841771139073,
          -1.5304480747415798,
          -0.2654623277982725,
          -0.15402836459253566,
          -0.41171287374850635,
          -0.030678522378859804,
          -0.7787469785053762,
          -0.1806287048237205,
          0.32567457980509434,
          0.20726613434115249,
          -0.6653520720484236,
          -0.060232834871431586,
          0.9385941234165059,
          -0.8094016366206608,
          -0.05369998571003206,
          0.18354513706540634,
          0.4066388944417179,
          -1.5123494281388352,
          0.38931524904205655,
          0.1535061207682485,
          0.48149711055836886,
          -0.1145228210031116,
          -0.954464500094392,
          0.28884804204995007,
          0.2952071926651582,
          -0.9549055418655792,
          -0.05461181730171694,
          -0.4586961173000915,
          0.8855487406211986,
          -0.1195090285491036,
          0.3429918358669059,
          -0.24640373432757162,
          0.1605778293472424,
          -1.5993023171113,
          -0.01593536868554254,
          -0.3554607917004111,
          0.16317903053924113,
          -0.8152427554647972,
          -0.35572248213817076,
          -1.3422155933588906,
          0.31209207280360807,
          -0.34904136430029536,
          0.8633406940654295,
          0.8258650976356885,
          -0.332258417063776,
          0.20543079146403148,
          0.2295607309582532,
          -0.0423282375256148,
          0.49074137526794487,
          0.07863332091844959,
          -0.4173414370652549,
          0.5281341860750774,
          0.17565057482879165,
          -0.6337720232525286,
          0.37289968414929453,
          0.03072220046749684,
          -0.0889401141851263,
          0.22801315893129553,
          0.6586219650175291,
          -0.4179585322687024,
          -0.6806945953567386,
          0.20110680268676956,
          0.410245709369365,
          -0.22081708170595096,
          1.2355136067536938,
          0.6940925718757208,
          -0.8134549865645891,
          0.566131995012072,
          -0.3721818965927939,
          -0.047442083219242655,
          0.5214289695622127,
          1.4613491900395619,
          0.01565597420396471,
          0.5937181600104318,
          -0.03371681734439982,
          0.04730539837664985,
          0.13702798620078283,
          -0.5344439448298106,
          -0.4575494108890824,
          0.39593480188752694,
          0.21978544687737964,
          -0.22434020380930864,
          0.12291826391187462,
          0.8996701223709282,
          -1.8442002363777934,
          -0.6347165079014794,
          0.19597731283934616,
          0.05670288819774019,
          0.6110823073495721,
          0.17628486863116336,
          -0.13769219594458448,
          -0.789859344656073,
          0.8103880102043232,
          -0.5008096529909954,
          -0.1438991528373578,
          -0.6647445063371608,
          -0.3340285990782226,
          -0.15204449074796217,
          -0.09261141608635175,
          0.6921619684519454,
          -0.48953216020898577,
          0.46307209981469877,
          -0.030648067576197743,
          -0.33742611922264815,
          -0.2769596492477577,
          0.48398279385708964,
          -0.39586469601262114,
          0.15134660024350094,
          0.4826290034572238,
          0.7539386449258298,
          0.06601804340548795,
          0.24187154711415051,
          1.0150610391894055,
          0.6312379297082747,
          0.10344651406568807,
          0.27352885880722044,
          -0.5955500674314611,
          0.8563877475779713,
          0.83904170768802,
          -0.057012122221676266,
          0.15839070999248941,
          0.44952566409633954,
          -0.09033465866777653,
          1.2767634122604454,
          -0.21076715009734975,
          -0.41367361730258045,
          0.5402901960703682,
          -0.5725326559139804,
          0.6485328003699494,
          -0.6260005125910912,
          -0.21174272977891104,
          -0.35525875528309386,
          0.5756405041568144,
          -0.16633014809925759,
          -0.6086323998400742,
          0.8370596186719295,
          0.030199737169494707,
          -0.5691946471614474,
          0.2127633133548776,
          -1.3531470190536354,
          0.07908851580408614,
          0.30342117709615235,
          0.14995713091853752,
          -0.14690266833170337,
          -0.9050781448579078,
          0.8035088424336236,
          -0.48910884250824993,
          -1.1277221078940325,
          -0.3423905592388969,
          -0.21590994348933137,
          -0.4767226688786624,
          -0.8455636612815297,
          -0.5398806720209174,
          0.4702156014677096,
          0.1971656718199153,
          0.12736801258290717,
          -1.1239689667357453,
          -0.20156369723392034,
          0.5101625241873292,
          -0.93095790068425,
          -0.9449190728785547,
          1.0958895458141076,
          0.35600367993311127,
          0.4868274127785294,
          0.1030335650041547,
          0.26667184356283524,
          0.3208312744766574,
          -0.8988638730250699,
          0.689008165355727,
          -0.6254450801127105,
          0.9047628793392989,
          -0.16271375007192151,
          0.03739509379197378,
          0.13620228649334204,
          -0.6245378235589085,
          -1.4894199115224747,
          0.25737351046710655,
          -0.14141064750831456,
          -0.24832150401690076,
          -0.2906685734702865,
          -0.4049473139313059,
          0.14710061149458004,
          -0.7999762356287338,
          -0.9556104330292292,
          0.48442755102298607,
          -1.0446198057162568,
          1.3860309879602137,
          0.5948218139104796,
          1.4564388913854445,
          -0.07803042649266333,
          0.4527538673209064,
          0.1489058309933929,
          0.7258470812424586,
          0.008662457858767307,
          -0.5688506433260022,
          -1.0568810760681548,
          0.12977677745965335,
          -0.6653012340222481,
          -0.04623216809015693,
          -0.6811677813880844,
          1.3806379116809775,
          0.3218457821862677,
          -0.34519138954621165,
          -0.3917180226973228,
          0.23644168429925824,
          0.5545751076266567,
          1.291494615954666,
          0.2472627500912148,
          -0.30890360389653687,
          -0.8344797290687314,
          0.3815978569679154,
          0.022353245947055844,
          0.0027496051280611216,
          0.6718097560064166,
          -0.1567514197125604,
          0.6281020482059585,
          0.27187663190173905,
          0.5024124958917435,
          0.4447664046971682,
          -0.1570239139318923,
          0.1474118312490374,
          -0.4323151768754363,
          -0.3265358312081816,
          -0.10659799154157606,
          0.07418718625506611,
          1.7279081354012389,
          0.4257436175070284,
          1.136967926617243,
          -0.18616915074610477,
          0.6715099410574157,
          -0.1597742256437896,
          -0.029589887185068504,
          -0.6835726693160248,
          1.2984248132716656,
          -0.10017282477002688,
          0.43002477196780525,
          0.003025617862969278,
          0.44416731352524974,
          -1.0982317421418901,
          -0.1426965852491906,
          -1.0494622263270845,
          0.7174695010879734,
          0.7316266954959936,
          0.01770013218850225,
          0.055212479613554376,
          1.2963347354834684,
          -0.4002219778475399,
          0.8462130709460762,
          -0.5349629155327451,
          -0.6249916885005239,
          -0.1538339013643545,
          0.10270550052606689,
          1.2771938313518447,
          -0.36526573423579317,
          0.20630322587387218,
          -0.16787787181362035,
          0.3336782973945635,
          -0.4620461591049181,
          0.30878270766966226,
          0.1387885345299103,
          -0.12225190433522609,
          -0.29165979373493706,
          -0.48645488261927355,
          -0.3253460157580689,
          0.05408610974928401,
          -1.0224966363328207,
          0.062338742614801115,
          0.373746300226845,
          0.32325089309485,
          -0.3356392062197605,
          -0.3412412391287465,
          -0.4558287182437138,
          0.1730811472481425,
          0.35698354666899507,
          0.5631672259474539,
          0.04324274787984673,
          0.0012258084870111665,
          -0.11793035752964026,
          0.5808111269789749,
          0.24924816019643256,
          0.5956196342550341,
          0.35875105406149055,
          -0.7015885553809494,
          -0.8535350215115902,
          -1.017805544831299,
          -0.2407591595681712,
          0.20429098786502733,
          0.15782094705296276,
          0.6920246280040872,
          -0.5654138363739276,
          -0.4174514135911544,
          -0.7917996907388942,
          0.11470760855878062,
          0.14720016329400257,
          0.04855061954538025,
          -0.4213578152707627,
          -0.3005730394489389,
          -0.1647760299266859,
          0.9542267257048179,
          0.6183771402648678,
          -0.04111192165507251,
          0.017040540638729444,
          -0.022265829776889623,
          -0.5772770196807392,
          0.40041665611337524,
          -0.05798985155273009,
          1.002983901535022,
          0.10561988957280595,
          -0.49104005693247704,
          0.17697450061618575,
          -0.5461558310637151,
          -0.4237892454088052,
          -0.18089968854073848,
          0.4956236700609855,
          -0.40769886868659727,
          0.15327205805144944,
          0.06655453783956668,
          -0.5330932449603532,
          -0.14077066185428522,
          0.5899682608203051,
          -0.1189023572643773,
          -0.5166371592710793,
          0.4897162658910889,
          -0.4259823602382182,
          0.467799426644333,
          0.28552365702354143,
          -1.2494588212119417,
          -0.48154656050535516,
          -0.2377462736484679,
          1.0033876304104694,
          0.6644327319248249,
          -1.0371456228606535,
          0.6023164429255466,
          0.11054396940470278,
          0.1303901282612176,
          0.297438663134519,
          0.15056989760435793,
          -0.06862838461557758,
          0.7752036455700677,
          -1.2234938889233256,
          0.271203146439103,
          -0.29328825834794675,
          0.13372958854315764,
          0.37856469270470844,
          -0.3858328527983411,
          -0.3009364434571704,
          -0.7668665558343535,
          -0.8810826112493769,
          -1.1770158509204807,
          -0.4497590708112548,
          0.49854326622885425,
          -0.15132862325057594,
          -1.2138263907229936,
          -0.17870850265389537,
          -0.25396768254673935,
          0.05800404668950026,
          0.6180353289032082,
          -0.14379602502527228,
          -0.7710561339335971,
          -0.1013500497305389,
          1.568422052256204,
          -0.1108328815734091,
          -0.7715261825030482,
          -0.6997423857902697,
          -0.20459207127043358,
          -0.532258659752052,
          -0.01987042510803095,
          0.1435711652436864,
          0.05290421022235606,
          0.35143815743105367,
          -0.2517427960946359,
          -1.1581986413650536,
          -0.8362527051198995,
          1.0849507122545772,
          -0.021483574946838384,
          -0.8811192909161756,
          -0.3374477101867631,
          -0.08176323223170522,
          0.22137131999081186,
          -1.0819054646078392,
          -0.06442352065473662,
          0.658515884047403,
          0.6527301789642,
          0.5147780599101921,
          1.4988281888459232,
          -0.0819498680540469,
          0.21354232367703874,
          -0.5329208910735261,
          -0.4867726657422846,
          -0.11286196113566344,
          0.166473293409998,
          0.0045818400596084885,
          -0.3265658971865714,
          -0.354187354392649,
          0.7419242415229081,
          0.24590681939186965,
          1.8591405054850267,
          -0.6352061325519713,
          -0.1276468229862075,
          -0.47575826439513796,
          -0.34155339480315805,
          0.1847178153098412,
          -0.08972910124999416,
          -0.5514797944961676,
          -1.7515925077600372,
          0.5965502151903515,
          0.10732923447331072,
          -0.3119222481923976,
          -0.3954990868252608,
          -0.2588691553754808,
          1.1557355725115135,
          -0.5793853370490607,
          0.614441520680049,
          -0.22762062188982665,
          0.6704519496686945,
          -0.44714208872034317,
          -0.3815168678858479,
          0.15480255678694238,
          0.1602343383920893,
          -0.5176577984093592,
          0.04243855701091426,
          -0.5585769172499406,
          0.3571743628534646,
          0.2660436261019758,
          0.022918333661444724,
          -0.41253892155193744,
          0.013064980698529289,
          0.055884440732091596,
          -0.10336022224533888,
          -0.39610806795103637,
          -0.4538598144798804,
          0.19207949952547795,
          0.5662116093787994,
          0.24858979265620318,
          -0.2528542945603445,
          0.21271629771618109,
          0.41579215929456204,
          0.002961497730809401,
          -0.3125879150056937,
          1.0308167999850257,
          -0.020475855229676116,
          0.13089963110839126,
          0.22383691837611808,
          0.46257078195538626,
          1.0222199970643628,
          -0.24600782773576324,
          0.04026743420277396,
          0.6473245523907208,
          -0.5914908994604939,
          0.42412481895714854,
          0.35584150779704316,
          -0.17301011364009589,
          -0.4203198781039747,
          0.584162570380703,
          0.9777281421332918,
          0.0555517670829184,
          -1.1226869007971507,
          0.023942144993298886,
          0.5550336571989789,
          -0.14267923662114645,
          -0.42382332045613313,
          1.8514021039179152,
          -0.13676364429429924,
          0.18366674080538178,
          0.8116091369285754,
          0.6590135594367681,
          0.996594136875333,
          -0.06713829994637414,
          -0.2715567052684392,
          0.1198844808086598,
          0.5603880389151216,
          0.44383992669010425,
          -0.04189240253315369,
          0.5354573516156954,
          0.05793752229554806,
          -0.4283386668872361,
          -0.2270785385545817,
          -0.21493166278495773,
          -0.48348077292020447,
          -1.1354009746377085,
          0.435517986940823,
          -0.5976331827113424,
          0.2427684687754784,
          -0.44285314947515303,
          -1.2771972832423664,
          -0.014250658235266493,
          1.0926624736431245,
          -0.7342935755329585,
          0.7150589738144429,
          -0.886099022289839,
          -1.0556501858711285,
          0.054596126545620106,
          -0.41659379917578937,
          -0.4749900235600044,
          1.5579174662062127,
          0.47657580533466914,
          0.9854148187612631,
          -1.254586022457829,
          -0.7362322839461898,
          -0.262167390617114,
          0.5463007673765733,
          -0.6540044171136475,
          0.037042941652963214,
          0.9635682672005366,
          -1.2172517518665886,
          -0.0671169846484287,
          -1.1495906684888917,
          -1.2128848472961686,
          -0.8072325471444339,
          0.10514778853879288,
          0.5661306977558094,
          0.006687479107634065,
          0.32551417161981544,
          -0.6702870970173094,
          -0.3507316874000792,
          0.3908427331391734,
          0.2872816670157026,
          0.9052966026013087,
          0.9063917938195553,
          0.18555426169756456,
          -0.46886555681225983,
          -0.1507273372047732,
          -0.8285473867182619,
          0.5678786325769235,
          -0.019174698130200774,
          -0.42799432808586263,
          0.36260886645738205,
          0.11334489723695024,
          0.24953013400126678,
          -0.25077215806059905,
          -0.23988902728888659,
          0.13491706517974117,
          0.9886459550890543,
          -0.01245947858492626,
          -0.8900658867487435,
          -0.5934376967841869,
          0.2610058296063521,
          -0.8095179860177727,
          0.3308861617204481,
          -0.7198972145802329,
          -0.0645763808159066,
          -0.8049711136222143,
          -0.6523730655090841,
          0.1265444669018081,
          -0.22521010496034097,
          -1.3209206458560339,
          -0.12232415214720259,
          0.7368463105116705,
          0.1371379100462553,
          -0.6121912665925153,
          -0.48694052688233236,
          -0.10842331395353466,
          -0.3280816285245263,
          -0.5454340605940299,
          -0.2027508457812584,
          -1.1267415213823686,
          -0.35540821841769266,
          -0.3873470765816132,
          -0.015775361547820364,
          -0.30817488951813754,
          -0.39760700781555286,
          0.4334127443009561,
          0.04165608724246835,
          -0.7109491224199089,
          0.2662473320437396,
          -0.5108352369519309,
          0.9524393539988615,
          1.3804437545955852,
          0.5049892154344193,
          -1.2334111182337741,
          -0.12977391493233373,
          0.04754681089250273,
          0.3486742958899963,
          0.654257052088748,
          -0.21840712634909837,
          0.8233546250362471,
          0.9971511290354383,
          -0.04708789527324338,
          0.2639462975642585,
          0.7042774083701426,
          0.365124072836458,
          0.030156297956614737,
          0.42139458439328775,
          -0.4142862798105656,
          0.19627018584616054,
          -0.26695045526749744,
          0.3590426563242806,
          0.2531561611242129,
          0.09513288391629689,
          -0.5392413812812892,
          0.3439789558137665,
          0.7306010751548313,
          0.8987611749002978,
          -0.3091050624978813,
          -0.2600800202078617,
          0.3635608172173108,
          -0.8918405945264778,
          0.6546393979930576,
          0.6227553054352024,
          -0.4214863309105055,
          -1.2864632817882966,
          0.29831654784824474,
          0.21176442163314588,
          -0.8298215653005176,
          0.1764571115245764,
          0.11182806721809972,
          -0.1680871626585272,
          -0.22671868289914668,
          -0.8418201539739013,
          0.41886386934151815,
          -0.056991902396352705,
          -0.4946480999562859,
          -0.16646973729536468,
          0.2843423176606365,
          -0.7078587708478682,
          -0.4287240760965578,
          -1.398985343956146,
          0.20734365392498152,
          0.25720117199445236,
          0.21774173794899288,
          0.18687263502053608,
          0.9771425143579845,
          0.19646307653664238,
          0.025763032171539007,
          0.14041895594018264,
          -0.5546568226820037,
          -0.618160622762966,
          1.042647271284394,
          -0.02528934529339566,
          -0.7924408425043229,
          -0.07149756949552485,
          0.053256926970257516,
          1.6462205436045334,
          0.5301078849696348,
          -0.10332905995142207,
          -1.1305036804765292,
          1.3913441701056615,
          -0.5696957585850105,
          0.3406275706033313,
          -0.9062324639566182,
          -0.5074933207588606,
          0.11009845223942198,
          -0.5583315309772633,
          -0.7047435650234598,
          1.0311014191583576,
          1.1080108492350034
         ],
         "y": [
          0.4409714958363294,
          0.01594183618056324,
          -0.1422343222864473,
          -0.4473400068660773,
          -0.5418326510892242,
          0.5974527626579922,
          -1.178337186168745,
          0.4537799605027388,
          0.06854242526646125,
          -1.0301196520326565,
          1.5990507469819482,
          0.2254159330305098,
          0.6216746491862788,
          0.2528139050101573,
          -0.1723928634444523,
          -0.4828651806837177,
          0.5737526049210471,
          0.4234847439265269,
          -0.407553833868146,
          -0.2573639901902792,
          0.11833074864961744,
          -0.5223582980209835,
          0.18354421634025186,
          0.8148784297084857,
          0.376552136974272,
          -0.7752395601277188,
          0.6329962957216446,
          -0.32570666293071204,
          -0.09388967774741774,
          0.0018705760257717349,
          -0.6741958062232133,
          -0.08981956327103985,
          0.30232896400864284,
          0.40572048772531116,
          0.5500898836280584,
          0.31505294373420084,
          -0.9950883981360961,
          0.5340933953397602,
          0.18844981139189027,
          -0.7203883017099257,
          0.20287799264466763,
          -0.6728661846712735,
          -0.1802227120391792,
          -0.10234609035500318,
          -0.6126041752476243,
          -0.10045447280269416,
          0.061389414169673355,
          -0.7580297626180725,
          -0.2586248447170225,
          0.04214210452409036,
          -0.4629206617519556,
          1.294657766789329,
          -0.12330014602195516,
          -0.1270715091288582,
          0.262307975863855,
          0.6505013118312442,
          0.3010428006702149,
          -0.6068432959972841,
          -0.23741173086509337,
          -0.41120330186133214,
          -1.0668178329784455,
          -0.1867539296899343,
          1.0760165133482416,
          0.1559234247260939,
          0.47285161161347383,
          0.9549957832584223,
          0.3978462740062972,
          -0.256370961397876,
          -0.3758218134717985,
          0.6984859250413279,
          -0.18521192088685054,
          -1.1262044899945765,
          -0.4456743582793408,
          1.1901048603296818,
          0.5518614814712204,
          -0.18029415966627277,
          -0.5635392071617837,
          -0.03316629717932697,
          -0.5297946043788512,
          -0.294617582606614,
          -0.4902901640518547,
          0.0795855714323469,
          0.061792685256026735,
          0.957118003552293,
          -0.45119234124723306,
          -0.04885271263682317,
          -0.46559662987155337,
          0.494512603692498,
          0.37568426788925524,
          -0.08876000729782288,
          0.39889962002012447,
          -0.675395714261504,
          -1.8235363506884357,
          -0.29966150911825157,
          -0.1555679329651341,
          2.103530591354975,
          0.09044696962664531,
          1.1595944824104902,
          0.7996705814221617,
          -0.022069853091230145,
          -0.33517250402130455,
          -0.5579743816186393,
          1.30345934184507,
          0.016287379955998275,
          -0.26345066353665403,
          0.15151877739114747,
          0.1566917197007464,
          1.164239199681066,
          -0.5802542832738113,
          -0.754738229674798,
          -0.5492620228921141,
          0.18030039854369717,
          -0.3709713349144064,
          0.13879673102859544,
          0.6912150721392513,
          -0.2810127822795634,
          0.4529152483148281,
          -0.0017898947059767465,
          -0.18988047914860964,
          -1.0375064952105746,
          -0.30302233930880645,
          0.1688086524073382,
          -1.405183136430014,
          -0.03454837372054222,
          1.225380124850759,
          1.424276777588892,
          0.15576542395272067,
          0.1606310667981395,
          -1.1232257197433466,
          0.07515011539401278,
          0.8229540688300017,
          0.4903243280857727,
          -0.47805086212224834,
          -0.008479522981369688,
          -0.8010512710482485,
          0.33492531167372647,
          -1.167953505597103,
          -0.7392298031047616,
          0.24153286171811045,
          -0.41893031454762625,
          0.6508517857604176,
          -0.4404975868937057,
          -0.45622733354097,
          0.7090572584266347,
          0.046038507525896284,
          0.23359490551292827,
          -0.558758570472607,
          0.7868062117127964,
          -0.6255836659503775,
          0.4112842881138772,
          -1.1133055209323144,
          -1.1190763558364107,
          -0.6633938125688535,
          0.0006620066323432917,
          0.2759894297910755,
          0.9009129909744562,
          -0.6577220433004377,
          -0.9661695890830501,
          -0.2358471999516526,
          -0.4371360135205685,
          -0.8466969131095817,
          -0.03538617765901329,
          0.4777685261287158,
          -0.14605347369958652,
          -0.30565025513569005,
          -1.3126807471503148,
          -1.0556982302743052,
          -0.3988717543133743,
          -0.8831958237464287,
          -0.2745151507914144,
          -0.313292123315956,
          -0.04189589937175574,
          0.5440028335026587,
          -0.15354646436415825,
          -0.18718764843903377,
          -0.6500698429514887,
          -0.14890910253246628,
          -0.5321760796910209,
          -0.22976599965819408,
          0.2656879840556383,
          0.06796049531837592,
          -1.8615042895742073,
          -1.3915749912404443,
          -0.2013200914012426,
          -0.287708102225473,
          0.6629155565326162,
          0.8250654417145142,
          0.628401236446153,
          0.4817002594836814,
          0.08885796526464437,
          -0.19884518995336578,
          -0.5434438091165771,
          -0.5075585188072131,
          -0.23403435233556213,
          0.6050414754270212,
          0.16965059597481255,
          -0.193652458657345,
          -0.2609036106868708,
          -0.3822462182409385,
          0.14266454178133794,
          -0.4221563760016968,
          1.08942191724256,
          -0.5054888500927028,
          1.1889564412782316,
          0.012295628499361796,
          -0.4322599433474738,
          -0.8548247243036318,
          0.11313880374277004,
          0.3409814346906726,
          -0.33104420494717135,
          0.2026773950603653,
          0.5257633243165651,
          0.034836605991660406,
          0.06545539091266306,
          0.5915372575554066,
          -0.43607476768063724,
          0.2262888335816623,
          0.1421152063170289,
          -0.10643403223847442,
          -0.7057528501158877,
          -0.042512946709144746,
          -0.42945791942614475,
          0.9658950485714538,
          -0.3145818106739084,
          0.5227138259997728,
          -0.6801494108422608,
          -0.7872628356449555,
          -0.3058081400025701,
          -0.10402013091158815,
          0.22491783554215858,
          0.21394437987958478,
          0.5441715905527567,
          0.011180286763879587,
          -0.032189903395813256,
          -0.06538224000970845,
          -0.7922655399936273,
          0.6492141519397744,
          1.7716142920994287,
          -0.058935246691817864,
          -0.21759109645569172,
          -0.14808943631971788,
          -0.5459329422324432,
          -0.44848701186543793,
          -0.7523372309444761,
          -0.0747351969097358,
          -0.7276446702007903,
          0.1842610613465871,
          0.3405225143753673,
          -0.18609969511893157,
          0.2117165613533559,
          -1.0986535799126211,
          -0.7779253918067581,
          0.4483809888835924,
          0.24291504979070452,
          -0.22327903566887392,
          0.9241818739967804,
          0.37872353441828466,
          -0.9670563047776018,
          0.8533390893346795,
          -1.2569428501214432,
          0.21442909361659857,
          0.7511396218817294,
          -1.0649926471877649,
          0.6590595849578094,
          0.14230550240460244,
          -0.33504740517057774,
          0.7715492838880841,
          -0.8087080980520962,
          -1.4866066007828989,
          0.7105342119775934,
          0.11299207034959204,
          -0.8323036888247937,
          -0.6628181143709765,
          1.0470400606662187,
          1.394464752038654,
          0.4827229405337174,
          -0.6882203169760639,
          0.3242152093053916,
          0.311457050403792,
          0.5139345063018605,
          -0.24782907797656425,
          0.1863079032250233,
          2.4299340326210803,
          -1.0478990083029565,
          0.18625612946108253,
          0.34535008122677824,
          0.12441522295982954,
          1.0557484156855426,
          -0.6229092811647442,
          -0.19438718057145948,
          -0.1242648505981445,
          -0.8761862035499736,
          0.21793782228980935,
          -0.682577485324197,
          0.2860634629202096,
          -0.011675901742787416,
          -0.1856903050386945,
          -0.06952392856771404,
          -0.2941187022386262,
          0.08846242642717267,
          -0.27861567642084145,
          0.7149959764072229,
          -1.2596568171366598,
          -0.32019425487552555,
          -0.6863728011111446,
          0.5543452270646559,
          -0.08505251034398195,
          -0.13250198645496525,
          -1.7470032608849348,
          0.6222248917196982,
          0.4900402948896842,
          -0.0030362053677173142,
          -0.6886872438079249,
          0.39529940781202677,
          0.334526751584412,
          0.11309904163248978,
          -0.562984212252775,
          -1.2889158561107539,
          -0.7355442021126126,
          0.04099126735614917,
          -0.4503125789024203,
          -0.1576639551561887,
          -0.3923982714959477,
          -0.24925407677850409,
          -0.9273356199211021,
          0.13998097056096434,
          -1.3983213007766024,
          -0.24701701438625703,
          -0.4298679120617107,
          -0.7165510274974216,
          0.8033106575856441,
          -0.03838352019904639,
          -0.1688619729001258,
          0.18489710580645977,
          0.18920628394067196,
          -0.37963972724666956,
          -0.09970954566874414,
          0.5258055291011221,
          0.24525335948656016,
          -0.27248025172393214,
          1.2131823667097108,
          0.48323430730669026,
          0.18338334103527998,
          0.393807524631233,
          0.6936374895946097,
          0.7584297190254154,
          0.18564976929047664,
          0.6105869205226643,
          -0.13014391109451512,
          -0.7089838288333074,
          0.19943733361704655,
          1.5716112342158874,
          1.2111887974705142,
          0.6783898912467532,
          -0.26453686953073663,
          0.3682465080503232,
          -0.008524033726357091,
          -0.08440856198659584,
          0.059829023643006005,
          -0.2420172001243815,
          0.5509670639018417,
          0.0004798924350991575,
          -1.2591462416679085,
          -0.4155585135389488,
          0.13762931629517627,
          0.4589463006730881,
          0.6263695744557063,
          0.5754241871118166,
          -0.014496008945590326,
          1.3733830158606022,
          0.7003528809615023,
          0.9435071417852668,
          -1.0493606851603363,
          -0.19394217180544962,
          0.47187418573349893,
          0.12332402399085654,
          0.3281481945753288,
          -0.4332657846254319,
          -1.1521173479956828,
          0.29389572097355565,
          0.07108829698703953,
          -0.4857596372880228,
          0.02679316541559058,
          -0.03421908508205698,
          0.3640497347071861,
          -0.220022007424574,
          0.5345578427500229,
          0.5298233874701663,
          -0.33692571013982386,
          0.14979534349774337,
          0.583010597569757,
          0.47065911977689945,
          -0.1850002322786263,
          0.20383944705244716,
          -0.22339263197281958,
          0.0752149230442623,
          -0.5082322367874481,
          0.08347475497077514,
          0.33247093758504465,
          -0.4883697537643417,
          0.010694533228694385,
          0.5867716214828899,
          -0.13685601804670242,
          0.22895538111437871,
          -0.21344306116742737,
          -1.3897270569788052,
          -0.6155841934314238,
          -0.7613260986784002,
          -0.5564203830166745,
          0.7003846974758667,
          0.3136093546540716,
          0.43972917180505144,
          -0.19883985630627615,
          0.07396614236313612,
          -0.5024192245397688,
          0.2527065955100266,
          -0.4428202571671031,
          0.09398672166568735,
          -0.06315705483941267,
          0.26826178350354685,
          -0.18308468994709645,
          -0.13377354184553825,
          1.7587704729643399,
          -0.28885395925812324,
          -0.5774601544896996,
          -1.1919897163846704,
          0.5566404540120817,
          -0.1090839364469451,
          -0.2059027700620633,
          -0.11165897419662398,
          -0.49017375065486063,
          0.4162451802391556,
          -0.09674515880225751,
          0.8699611090287501,
          -0.3396347258173909,
          -0.05899670474646106,
          -0.11032941653568742,
          0.06417824829228866,
          0.09201534345729888,
          0.7399386737782232,
          0.41289490769758874,
          0.6234650229303371,
          -0.01809573143760335,
          0.9325172492623283,
          0.25609151618960974,
          0.5232007162995075,
          0.006827787864591481,
          0.029310726874240692,
          0.24429645511850867,
          0.34940864927833726,
          -0.3581009853432668,
          -0.021542250664981236,
          0.919968514580376,
          -0.9020397805925674,
          0.4129302930632147,
          0.63323401310916,
          0.9870082444244057,
          0.6401834807582805,
          1.4273619495053074,
          -0.5910363248525885,
          -0.22078117793643065,
          0.2124219082529114,
          0.04575340025162559,
          -0.3509661443914373,
          -0.21372280609968985,
          -0.5956178308222346,
          -0.6387738575094688,
          -0.13932759453377752,
          -0.2967653525285612,
          -0.3845592803867707,
          0.4582582727910622,
          0.20996234223546523,
          0.004511372242563494,
          -0.35130949543927925,
          0.3549002772063176,
          0.6658157960929146,
          -0.24757671153470345,
          -2.3745682641566064,
          0.6102371961764154,
          -0.0670885765913361,
          -0.14669929594753597,
          0.44275585726914657,
          1.2675357703132928,
          0.3724826327649848,
          0.5555049956570391,
          0.1669497649358631,
          0.2960604986811497,
          0.3014909073614046,
          -0.3334127056841337,
          0.7271600777228779,
          -0.04846343943389338,
          0.6575146310736375,
          -0.2158530658295758,
          -1.411043276660937,
          -0.08429621557502724,
          0.30397551185702887,
          0.1370759848026591,
          0.7273913779867639,
          0.22508066871115978,
          -0.5039329513647949,
          0.05567147101040827,
          -0.5482479981249411,
          -0.12046850550634984,
          -0.19085681878350208,
          -1.2232095814519135,
          -0.05325087858630799,
          0.20881905504743098,
          -0.8649952004052645,
          -0.8726147942244955,
          0.06420241286457815,
          -0.019342827106911584,
          -0.21640232461670328,
          0.421070801003875,
          -0.6661195552105044,
          0.6930491797084408,
          -0.9003493272090354,
          0.8152699632376228,
          0.19444227401027717,
          0.4378403883221287,
          0.18852646690753722,
          0.15880911831333586,
          0.22001842025727678,
          -0.18196192176096115,
          0.958361526004198,
          0.2943835689574398,
          1.5619412464023934,
          -1.6414008045964485,
          0.3509647073567092,
          0.5711156698604464,
          0.19942482293871056,
          -0.6448830828701605,
          0.7486868313106799,
          0.23683011095310802,
          -0.12400311332243646,
          -0.5349329425669441,
          0.13878152057267873,
          -0.23920058311377437,
          -0.4581584050768767,
          0.01198253902269675,
          -0.09273923929277698,
          -0.03449829572939939,
          0.3849344948933995,
          -0.7733499355840546,
          -0.5557726345953812,
          -0.004918707286112104,
          -0.13607717161958474,
          -0.7488266904110203,
          0.5953662615546502,
          -0.9171492075407559,
          0.016192052612810218,
          0.3758976778293403,
          1.00472679403316,
          1.6531359726672494,
          0.35300670731330985,
          0.04495495251271504,
          0.44401396951012845,
          0.05150795980808236,
          -0.9983601594534197,
          0.561504238313443,
          -1.0261319160295193,
          -0.11168582384064836,
          0.547306228049504,
          -0.7966844694948442,
          -0.43536484654909946,
          0.18565752138591804,
          0.5974429916776343,
          0.43290192588951243,
          -0.2447041878873322,
          0.4974000553300263,
          0.04648783051611234,
          -0.8533191000713037,
          0.6373811695872986,
          -0.9452351214687028,
          -0.09351988437676992,
          -0.4032924773872897,
          0.480432091978673,
          -0.3946746478040308,
          0.12683318029852586,
          0.6814817471617775,
          -0.3848247189159352,
          0.12808170673006689,
          0.16108471920742182,
          -0.423279131249161,
          -0.8472580333021152,
          -0.38215564448948125,
          -0.1849949307907113,
          -0.5798180452334813,
          0.27346470015612545,
          0.14284574380472997,
          -1.125031487591431,
          0.31230777800359694,
          -0.2825192599371778,
          0.2845383113782516,
          -0.0936903262078942,
          1.114292468114785,
          0.35749956130558197,
          -0.047696637799937804,
          -0.4474097352823582,
          0.4247520160472982,
          0.19097289823602967,
          -0.1476696052988243,
          -0.18030401102239932,
          -0.09258471840658342,
          -0.8157486860247379,
          -0.5456532745810345,
          -0.07680997185493556,
          0.6867300324392313,
          0.9380487021800266,
          -0.579108923983391,
          0.6137167333859687,
          -0.6760573132326508,
          0.8333376007436988,
          0.4017130520206802,
          0.0017666111377060223,
          -0.1989737017815358,
          -0.9508634037227089,
          0.3245799923246958,
          0.09242625466224867,
          -0.2422323080821391,
          -0.14714517349268502,
          -0.20565302450712483,
          0.2510805113704028,
          0.2676828984027806,
          -1.2488003382179007,
          0.8272784876310276,
          0.3137682816870837,
          0.32536281599547673,
          0.14088456680721062,
          -1.1510280644536512,
          -0.5731337174352857,
          0.958634082341431,
          -0.3490571939435806,
          -0.12395166883368468,
          0.33999128843645177,
          1.1193555128399837,
          -0.2611765517502721,
          -0.7755515203596931,
          0.5289181200736263,
          -0.13262061058996885,
          0.8137101022574007,
          0.4468367014588283,
          -1.2835627566303922,
          0.3241261205622498,
          -1.0888864092392136,
          0.6118219457610508,
          1.2858904434224043,
          1.0871574409172808,
          0.45696180468444286,
          0.9235461686114221,
          1.0066262335173124,
          0.22606136596234275,
          -1.037541761759779,
          -0.3025851111956553,
          0.10407474684468244,
          0.5852635655677683,
          -0.08437230835688253,
          -0.07831922071265299,
          -0.4895429074155842,
          -0.4079937400548276,
          0.16518227662533982,
          1.7087489206424336,
          -0.32614393319899715,
          0.19199338165504085,
          -0.1748001774931028,
          -0.044307547980360365,
          0.13437079604778526,
          0.3991910830495901,
          0.5583238862790744,
          0.11812459932847519,
          -0.3457472273550887,
          -0.5526750140854232,
          -0.11976996291042667,
          0.5320690640557423,
          0.11712076860138596,
          1.2403574216914108,
          -0.3312684942292836,
          -0.36800841727058237,
          -0.1933539951989824,
          -0.43951204216839124,
          0.5173988627268117,
          0.7048160824180884,
          0.22289657277387115,
          -0.2711110509088656,
          -0.5098801872890352
         ],
         "z": [
          -0.3219674617509927,
          -0.3718348638668558,
          0.886828898593188,
          -0.8320933636334912,
          0.4705547232812761,
          -0.013477868140826783,
          -0.018874363071740504,
          -0.2669438667175948,
          0.05967685211584591,
          0.229466522076564,
          0.6276822505823768,
          0.4159732055587373,
          1.1363446950394083,
          -0.04524908389547957,
          -0.7948604030825877,
          0.23394810447729888,
          -0.5335121438129002,
          -0.29481231749187115,
          0.5392713556535029,
          0.668601384677385,
          -0.07997162095106093,
          -0.10176426725394266,
          1.0924020321143149,
          -0.03466988105612335,
          -1.2672166319818259,
          0.7512222334434951,
          0.415172197581817,
          0.9465368439824351,
          0.09815593723092643,
          -0.051440049012564514,
          -0.08579493059409389,
          -0.2044154410154482,
          -0.6763000107729235,
          -0.5884318200564748,
          0.46584965312854215,
          -0.3695738710817267,
          0.2984628392041637,
          -0.09495174404758396,
          0.011668045440000913,
          -0.6779000314069564,
          0.06805838391251814,
          -0.15157789101375,
          -0.6014066331548812,
          -0.27856882287733875,
          0.36291247786011593,
          0.12293683203998416,
          -0.2620117276121204,
          0.4814198281135708,
          0.6345453707659431,
          0.04104381219880452,
          -0.6149818871726858,
          0.10308783635481793,
          -0.5289725299768673,
          -0.25569721235987786,
          0.8320743236224334,
          -0.8752241172732215,
          -0.33183488867473837,
          -0.8986691146880084,
          -0.954898994222898,
          0.18266187070158718,
          0.177244593534436,
          0.31432419363234854,
          -0.26770937926054217,
          1.1337218964317446,
          0.8472159650472044,
          0.8408855595810019,
          0.14054171272801996,
          0.12345209675396278,
          0.6641016006513584,
          -0.12386184379143265,
          -0.23091150653791628,
          0.277693208985784,
          0.27077669169832097,
          -0.04990530105489546,
          0.16465189813687015,
          -0.08901299025897753,
          -1.0796677761235907,
          -0.2582923585207151,
          0.6398398523850277,
          -0.06606981978277132,
          0.7955538168951664,
          1.182666212008382,
          -0.5391152011535641,
          0.03974835151642039,
          -0.24150620184909774,
          1.3423141138196832,
          0.03689192126356237,
          -1.0195538422305246,
          -0.6723588592248871,
          -0.39216691365411444,
          -0.04443123148589916,
          -0.3534258231031094,
          -0.36586668419174045,
          0.0891414935617363,
          0.13554555961025214,
          -0.6946163187450803,
          -0.18240337852535823,
          -0.03059262936045791,
          -0.16617082479981052,
          0.16648702192107917,
          0.09160822356233445,
          -0.1789616759765308,
          -0.3575221222831201,
          -0.07698791908326062,
          -0.3749358692486809,
          -0.30936048687338774,
          -0.06745267806051285,
          0.3114494770155039,
          -0.017763949737419182,
          -0.727051396374817,
          0.2998264951364576,
          0.40002249698161046,
          -0.5494775652513542,
          -0.6286168496243093,
          0.6164439907670345,
          0.16898756586379557,
          0.3629316457577806,
          0.21782848961854118,
          0.0033083336801688072,
          -0.3566192526864948,
          -0.4704625536424876,
          -0.6372170548722016,
          0.19164217283711132,
          1.4622983932678948,
          0.6623911472277366,
          -0.7817957095974922,
          -0.4958036765354555,
          1.0878305751644353,
          -0.13225675400366724,
          0.7456964703395672,
          -1.1746515362601366,
          -1.059651238363138,
          -0.6353193765373014,
          1.1225649904059278,
          0.31626656071549475,
          0.7815454846935805,
          0.10237918409501773,
          -0.4260217137191562,
          -0.4060991480480424,
          -0.5474544286661045,
          -0.5530763826097281,
          -0.1587693926571615,
          -0.5051113659026663,
          0.24143652684020162,
          0.6109492931062567,
          -0.7101939025291599,
          1.3231008610886823,
          1.0366234473502878,
          -1.2548982372675688,
          0.658238640245431,
          0.27474823118250313,
          0.39002617878589463,
          0.23655347384822534,
          0.49211552294899064,
          -0.958695373151742,
          -0.04363066846227776,
          0.43712965543177523,
          -0.44724800523784525,
          -0.5007768491311706,
          -0.31005584950168463,
          0.5813600405984045,
          -0.2843264129468788,
          -0.5476491525306136,
          -0.4451857716235409,
          0.35389598267199257,
          -0.8274169077704666,
          -0.2927705116256255,
          0.5425474995168054,
          1.0055644062576894,
          -0.3517143425426939,
          -0.1129785428524904,
          -0.3015753908928844,
          0.4954707712997594,
          0.8621128373373081,
          0.45566561706579223,
          -0.13012469702431817,
          -1.114911192537749,
          0.4984789798874199,
          0.4285001356498349,
          0.13360951634893936,
          0.24575156928991598,
          0.17788487240743164,
          -0.09679652348066868,
          -0.9366630844475407,
          -0.09528696140541254,
          -1.0359105629066012,
          -1.2274207214679307,
          -0.4091663377694339,
          0.1759148676443465,
          -0.10693769488987559,
          -0.12099083500715094,
          -0.12793362617498166,
          0.46476796322559816,
          0.16433058782440585,
          0.006907436706724259,
          -0.07181857447296668,
          0.3508335892729644,
          0.12909241450472098,
          0.11879489709602442,
          -1.0327095987418176,
          -0.15580453902686353,
          0.17184504770631676,
          0.1419671984504339,
          -0.7637739817095578,
          -0.6749961835511026,
          0.6052114168602152,
          0.12837454895616052,
          -0.6635083538988068,
          0.5311615671276876,
          1.0122516001950779,
          0.14798488252436423,
          -0.17046072609227286,
          0.24170384647337556,
          -0.30836110234976416,
          0.3766195041752636,
          -0.800840997761712,
          0.8856181472191322,
          -0.4137441074373425,
          0.031065081602341647,
          0.12712992036369164,
          -0.866121414599783,
          -1.077090874098988,
          -0.5358672683968105,
          -0.05598204723372541,
          0.016226691296644145,
          0.1466995151495443,
          1.2783647259474176,
          -0.3546817663579117,
          0.06296685374567298,
          0.5954639215249331,
          -0.24401401872763356,
          0.7059461323865642,
          0.28074120030279315,
          -0.4154974334895735,
          0.427904179787173,
          -0.23306936408543272,
          0.5316242980180687,
          0.32774040602608584,
          0.771497183368851,
          -0.6727118463227542,
          -0.9637365653400377,
          -0.06482634512707494,
          0.2579869315640583,
          -0.15801935337257678,
          -0.6525621581814551,
          -1.2556092110723795,
          -0.13762276505438692,
          0.025142904850218882,
          -0.4686454336036745,
          0.512188417243533,
          -1.5551627001702832,
          0.3111876765533659,
          0.0019048794202001823,
          0.6703385098943189,
          0.745502210878121,
          -0.29703579110518963,
          -0.5861440386294949,
          0.37873676761729946,
          -0.3432251407909309,
          -0.2988431325648511,
          0.1488042491133579,
          0.09098293893879913,
          -0.6351355841674546,
          0.3004822775090082,
          0.2823506259420237,
          -0.20778638884892325,
          0.5002085028089283,
          1.2520160567480583,
          1.4562987121730422,
          0.5554166204344889,
          0.5644184415870094,
          0.005773636294234619,
          -0.10455158175749353,
          0.09984274242515793,
          -0.5760231524715758,
          -0.3284036983117828,
          -0.12938754732718807,
          1.4222285114957685,
          0.08913583370730147,
          0.770894327303086,
          1.132077075087799,
          0.25663501122191973,
          0.5869881400053881,
          -0.19088233098522064,
          0.24126623978802952,
          0.8512711978900049,
          -0.7210764571673064,
          -0.6635374921020923,
          -0.08134690473229987,
          -0.7367887315537924,
          -0.11555682935705058,
          -0.3438436527963669,
          -0.2353077867504847,
          -0.3485961722521936,
          1.5861266235891154,
          0.23875229885253677,
          -0.10840607327669137,
          -0.5934291362295773,
          0.14628094832548436,
          0.10266838481213332,
          -0.6355207571801974,
          -0.6890476247769591,
          1.3059696765623725,
          -0.5890663286634364,
          0.8146317563744282,
          -0.9126432401479754,
          -0.3422433627579606,
          -0.26145003197957406,
          -0.9940070807022997,
          -0.26400693973537326,
          0.4848491425439852,
          0.1834633687187051,
          -0.016163600528777612,
          0.2282303278062872,
          -0.5342327623581252,
          0.7370390236615931,
          -0.24014752845722154,
          -0.711581173352901,
          0.05967608507759376,
          -0.7922309516986441,
          0.02850786839210784,
          0.8629283050263741,
          -0.5851986798257338,
          1.09932960507548,
          0.35671075658035273,
          0.15977480599865648,
          -1.287510146723361,
          -0.3457948415410169,
          -0.43848403809641023,
          -0.4386593712958831,
          -0.6315283699803889,
          -0.5457350309012087,
          -0.7796689132187584,
          0.2075032770102046,
          -0.2738399517505295,
          -1.5652635632091112,
          0.03399383529557779,
          -0.09456385533694361,
          0.11293470132702818,
          0.7046904287065535,
          0.3840408751966586,
          0.4753235981270876,
          0.05907854137377227,
          -0.386419620710348,
          0.5673845670742056,
          -0.5698516734478807,
          0.14116597917398474,
          -0.12505290815846679,
          -0.886557999745156,
          0.34991244841019503,
          -0.5618884880265168,
          -0.09774735602379842,
          0.2536681873647155,
          -0.32668396439450187,
          0.5122204453347505,
          0.32347156077606265,
          -0.2715022224165152,
          0.5626859048862923,
          0.33175568007626716,
          -0.4038511131313166,
          -0.4864387308784076,
          0.6764912893404257,
          0.4071350282647591,
          -0.6802195468212766,
          -0.8387705625978606,
          -0.6865194669648513,
          0.04135809465147773,
          -0.09512075810301805,
          0.23214546598195818,
          -0.644142404945606,
          0.40498908935171424,
          -1.7211038651737574,
          -0.0714556785056654,
          -0.07835780732381144,
          0.28217992543391046,
          -0.08967181039603606,
          -0.4196723739227263,
          0.045779700164458335,
          -0.12935313882577518,
          1.6175980911757535,
          0.16432929123959833,
          0.23420212641878402,
          -0.21511675773046776,
          -1.021488926030858,
          -0.441040445513818,
          0.9718210591282722,
          -0.23839028552875252,
          -0.29843857673695223,
          0.40063109965815563,
          -0.8497241360737164,
          0.29408921716101066,
          -0.2656896893933739,
          -0.0648456423342791,
          0.3522858928530702,
          -0.6123676541176462,
          -0.5882736624748364,
          0.6688549737691255,
          -0.011974778719433346,
          -0.043063088649970986,
          -0.4996299830394079,
          0.24297831863843583,
          0.4569512364271481,
          0.30826645287954524,
          0.7777293268307167,
          0.8865405761883216,
          0.9131424901061417,
          -0.11038840538863162,
          -0.6303970300485972,
          0.2776349648536662,
          0.8209307119617747,
          0.44138893492549097,
          0.1700032004225427,
          0.6597093773037873,
          0.22353123540488787,
          0.42020832601278796,
          0.2885361881615354,
          0.8474291405935221,
          0.1910239972709957,
          -0.06214501910061877,
          0.13457958040251106,
          -0.6238277616464042,
          1.0575661345258895,
          -0.06986355918448932,
          -0.26406761455250544,
          0.1600556138793212,
          0.5593051131774481,
          -0.22097849640525594,
          -1.5615897954880726,
          0.7410976401787472,
          0.14061208386030902,
          0.04161373242876309,
          -1.4712717438494778,
          0.4748828785518454,
          -0.24480409837455266,
          -0.17251810141018975,
          -0.15789013030787516,
          -1.332218447409243,
          0.8073665724914826,
          0.5392389423165611,
          -0.039366697528237404,
          -0.07486395785710682,
          1.194459411743498,
          -0.41597135469225877,
          0.0698655519334901,
          0.0892357443591122,
          0.14185518052460747,
          0.1969905945745241,
          0.09951449820845462,
          -1.0682662202885043,
          0.02221643244755534,
          -0.0769639587447161,
          -0.15847741932615247,
          -0.606196985904438,
          0.7464439264148887,
          -0.12961845863880672,
          -0.3031765486009004,
          0.26892137522976317,
          -0.5092583664946306,
          -1.0453529074274164,
          -0.23614668267579256,
          -0.6949339615114543,
          1.346955678131699,
          0.07906963410794554,
          -0.00681070887161833,
          1.2570785264887787,
          0.07959431091198542,
          -0.10032205720833738,
          0.24774872716575658,
          -0.1337242494232798,
          -0.15234144394376262,
          0.3678353006007328,
          -0.20039682525308697,
          -0.2074620230505388,
          0.17601150948394276,
          -1.1391880214073618,
          0.18344061943152365,
          -1.117750375546698,
          0.3083577265220204,
          -1.1224756402291143,
          -0.9122957070633562,
          0.6323844989571913,
          -0.39681153483259485,
          0.46125546013090035,
          0.26676661543217206,
          0.7311312619971682,
          0.7305155188577616,
          -0.8645519377484346,
          0.6369894069547832,
          0.13926488720597868,
          -0.05189054938517059,
          -0.050842018303115445,
          0.005569374742232873,
          0.12388626982883234,
          -0.24926896013469352,
          0.7138664838457207,
          0.12267854639941345,
          -0.039339456430643654,
          0.9818863956048577,
          0.4499520265256439,
          -0.7840939991527208,
          0.37961322955299587,
          -1.0947549840236837,
          -0.1567428165560604,
          0.32996093633461465,
          -0.5191313372798455,
          -0.21812799335395133,
          -0.27487705692553027,
          0.7701685237788992,
          -0.4244617500036524,
          0.632603248177707,
          0.5249206526352054,
          -0.022075359365850325,
          0.29721875181722623,
          0.17411567568712943,
          0.54044141382619,
          -0.14018147784146573,
          -0.8701985563786808,
          0.6950188938191968,
          -0.3174857672105972,
          -1.4807461601914884,
          0.6344234689015132,
          0.8913281020972372,
          -0.6605574727208954,
          -0.21380290625741222,
          -1.1029730215063729,
          -1.0814255284284484,
          -0.15105704184009602,
          0.3939769835429095,
          -0.10751000141767977,
          0.5885743751532634,
          -0.13743861777895577,
          0.1635053900968007,
          -0.32183798876542585,
          -0.17375157450348663,
          0.25238153683941983,
          -0.9884443611499664,
          0.09738300056285405,
          0.20413335138263333,
          0.504881576586216,
          -0.29262371713416413,
          1.004945099603032,
          0.6380504342366077,
          -0.6489889651477944,
          -0.6605255748657214,
          -0.2077224531106022,
          0.46821378156625754,
          -0.46884666516291723,
          0.7254524934436322,
          -0.2337452562577957,
          0.40611651345090816,
          0.4852889777356553,
          -0.04409852213020519,
          0.42772249884823765,
          -0.6799926995532777,
          0.07359222339455826,
          0.028045326829717054,
          -0.43066770197193366,
          -0.5594580138805026,
          0.26067639150034105,
          -0.1885879094414351,
          0.5787299237021035,
          0.1177848863600658,
          1.1154333610366276,
          0.10248318977461854,
          -0.929257588127809,
          0.8689566174596264,
          0.29938030903198737,
          0.2995120007630443,
          -0.03288900516891452,
          0.3598865276498527,
          0.17838378672733873,
          1.3772063631740568,
          -0.27357815024498083,
          -0.8646061424068471,
          0.03019732181497815,
          -0.005232988013371511,
          0.22290012270781745,
          -0.47874676167143837,
          -0.510940476684046,
          0.16769562050760814,
          -0.33173456410294844,
          -0.23139947392310173,
          -0.3627896748484969,
          0.7004522291766672,
          0.9058022498782966,
          0.8737788306095471,
          -0.40738923439996133,
          -0.15258556690789435,
          0.010294128406367266,
          -0.06757419441106272,
          0.29048674319086093,
          -1.3132366043615353,
          0.35538765569457803,
          0.6258808840687803,
          1.2751898137620679,
          0.652852854830201,
          -0.22215063870818097,
          -0.05563515143031958,
          0.32102630302442325,
          1.6282256345036508,
          -0.635105122379467,
          0.298095829579318,
          -0.45161481236915496,
          0.18075160338478927,
          -0.2743008887248471,
          1.3220671477251753,
          -0.3322346715914392,
          -0.3344758733994691,
          -0.5148068556433547,
          -0.0010054205164765346,
          0.017979288947520475,
          1.0206486040892497,
          0.7972313260144175,
          0.39855286938074747,
          0.41807575568093874,
          0.34518535914036047,
          -0.257610162186933,
          -0.2319928267618774,
          0.17300499594344976,
          0.6855855892489269,
          -1.019923020831328,
          0.21095136254715247,
          -0.24724495636670465,
          0.04293457247991681,
          0.10272331800386586,
          0.13232943860319807,
          0.83058843654497,
          -0.3622992046718236,
          0.4505233519765162,
          0.4591326716408804,
          -0.30331312853827935,
          0.7105999798709702,
          -0.4228108833877025,
          -0.12967324738398414,
          0.40492872675042796,
          -1.2006085621789595,
          -0.35888270724495946,
          -0.8402329501372741,
          -1.1666734883282175,
          0.9179416941313263,
          0.6225434032909716,
          -0.1779517454091967,
          0.9333959733476486,
          -0.17188923572842182,
          0.39094046692045403,
          -0.33448238244047457,
          0.9323805407541111,
          0.266868274323179,
          0.11914320072072007,
          0.9691007890973455,
          -0.07053439426040367,
          -0.819427127621011,
          -0.8820376643611081,
          0.5601326618930395,
          0.40236331784509344,
          0.008268324501579364,
          0.06857741800834283,
          -0.6695775777073267,
          -0.5390930322516001,
          0.6091027896535316,
          0.4351470508872823,
          0.29301451985347715,
          -0.33366379404832736,
          -0.2808355396504419,
          0.6963707678621462,
          0.3401096929024126,
          -0.25357155437470524,
          -0.3016760565060282,
          -0.6635234244484237,
          0.757250397411921,
          0.06159927558668313,
          -0.3326733259721473,
          -0.26720095623089146,
          1.5281529914508263,
          -0.9225007049469609,
          -1.3103152928239323,
          0.4603754318367317,
          0.24714921311475435,
          -0.41418127013709116,
          -0.09738908171411191,
          -0.041371921687409274,
          -0.11020144728054479,
          -0.9759011929026838,
          -0.2861224688407332
         ]
        }
       ],
       "layout": {
        "autosize": false,
        "height": 650,
        "template": {
         "data": {
          "bar": [
           {
            "error_x": {
             "color": "#2a3f5f"
            },
            "error_y": {
             "color": "#2a3f5f"
            },
            "marker": {
             "line": {
              "color": "#E5ECF6",
              "width": 0.5
             },
             "pattern": {
              "fillmode": "overlay",
              "size": 10,
              "solidity": 0.2
             }
            },
            "type": "bar"
           }
          ],
          "barpolar": [
           {
            "marker": {
             "line": {
              "color": "#E5ECF6",
              "width": 0.5
             },
             "pattern": {
              "fillmode": "overlay",
              "size": 10,
              "solidity": 0.2
             }
            },
            "type": "barpolar"
           }
          ],
          "carpet": [
           {
            "aaxis": {
             "endlinecolor": "#2a3f5f",
             "gridcolor": "white",
             "linecolor": "white",
             "minorgridcolor": "white",
             "startlinecolor": "#2a3f5f"
            },
            "baxis": {
             "endlinecolor": "#2a3f5f",
             "gridcolor": "white",
             "linecolor": "white",
             "minorgridcolor": "white",
             "startlinecolor": "#2a3f5f"
            },
            "type": "carpet"
           }
          ],
          "choropleth": [
           {
            "colorbar": {
             "outlinewidth": 0,
             "ticks": ""
            },
            "type": "choropleth"
           }
          ],
          "contour": [
           {
            "colorbar": {
             "outlinewidth": 0,
             "ticks": ""
            },
            "colorscale": [
             [
              0,
              "#0d0887"
             ],
             [
              0.1111111111111111,
              "#46039f"
             ],
             [
              0.2222222222222222,
              "#7201a8"
             ],
             [
              0.3333333333333333,
              "#9c179e"
             ],
             [
              0.4444444444444444,
              "#bd3786"
             ],
             [
              0.5555555555555556,
              "#d8576b"
             ],
             [
              0.6666666666666666,
              "#ed7953"
             ],
             [
              0.7777777777777778,
              "#fb9f3a"
             ],
             [
              0.8888888888888888,
              "#fdca26"
             ],
             [
              1,
              "#f0f921"
             ]
            ],
            "type": "contour"
           }
          ],
          "contourcarpet": [
           {
            "colorbar": {
             "outlinewidth": 0,
             "ticks": ""
            },
            "type": "contourcarpet"
           }
          ],
          "heatmap": [
           {
            "colorbar": {
             "outlinewidth": 0,
             "ticks": ""
            },
            "colorscale": [
             [
              0,
              "#0d0887"
             ],
             [
              0.1111111111111111,
              "#46039f"
             ],
             [
              0.2222222222222222,
              "#7201a8"
             ],
             [
              0.3333333333333333,
              "#9c179e"
             ],
             [
              0.4444444444444444,
              "#bd3786"
             ],
             [
              0.5555555555555556,
              "#d8576b"
             ],
             [
              0.6666666666666666,
              "#ed7953"
             ],
             [
              0.7777777777777778,
              "#fb9f3a"
             ],
             [
              0.8888888888888888,
              "#fdca26"
             ],
             [
              1,
              "#f0f921"
             ]
            ],
            "type": "heatmap"
           }
          ],
          "heatmapgl": [
           {
            "colorbar": {
             "outlinewidth": 0,
             "ticks": ""
            },
            "colorscale": [
             [
              0,
              "#0d0887"
             ],
             [
              0.1111111111111111,
              "#46039f"
             ],
             [
              0.2222222222222222,
              "#7201a8"
             ],
             [
              0.3333333333333333,
              "#9c179e"
             ],
             [
              0.4444444444444444,
              "#bd3786"
             ],
             [
              0.5555555555555556,
              "#d8576b"
             ],
             [
              0.6666666666666666,
              "#ed7953"
             ],
             [
              0.7777777777777778,
              "#fb9f3a"
             ],
             [
              0.8888888888888888,
              "#fdca26"
             ],
             [
              1,
              "#f0f921"
             ]
            ],
            "type": "heatmapgl"
           }
          ],
          "histogram": [
           {
            "marker": {
             "pattern": {
              "fillmode": "overlay",
              "size": 10,
              "solidity": 0.2
             }
            },
            "type": "histogram"
           }
          ],
          "histogram2d": [
           {
            "colorbar": {
             "outlinewidth": 0,
             "ticks": ""
            },
            "colorscale": [
             [
              0,
              "#0d0887"
             ],
             [
              0.1111111111111111,
              "#46039f"
             ],
             [
              0.2222222222222222,
              "#7201a8"
             ],
             [
              0.3333333333333333,
              "#9c179e"
             ],
             [
              0.4444444444444444,
              "#bd3786"
             ],
             [
              0.5555555555555556,
              "#d8576b"
             ],
             [
              0.6666666666666666,
              "#ed7953"
             ],
             [
              0.7777777777777778,
              "#fb9f3a"
             ],
             [
              0.8888888888888888,
              "#fdca26"
             ],
             [
              1,
              "#f0f921"
             ]
            ],
            "type": "histogram2d"
           }
          ],
          "histogram2dcontour": [
           {
            "colorbar": {
             "outlinewidth": 0,
             "ticks": ""
            },
            "colorscale": [
             [
              0,
              "#0d0887"
             ],
             [
              0.1111111111111111,
              "#46039f"
             ],
             [
              0.2222222222222222,
              "#7201a8"
             ],
             [
              0.3333333333333333,
              "#9c179e"
             ],
             [
              0.4444444444444444,
              "#bd3786"
             ],
             [
              0.5555555555555556,
              "#d8576b"
             ],
             [
              0.6666666666666666,
              "#ed7953"
             ],
             [
              0.7777777777777778,
              "#fb9f3a"
             ],
             [
              0.8888888888888888,
              "#fdca26"
             ],
             [
              1,
              "#f0f921"
             ]
            ],
            "type": "histogram2dcontour"
           }
          ],
          "mesh3d": [
           {
            "colorbar": {
             "outlinewidth": 0,
             "ticks": ""
            },
            "type": "mesh3d"
           }
          ],
          "parcoords": [
           {
            "line": {
             "colorbar": {
              "outlinewidth": 0,
              "ticks": ""
             }
            },
            "type": "parcoords"
           }
          ],
          "pie": [
           {
            "automargin": true,
            "type": "pie"
           }
          ],
          "scatter": [
           {
            "fillpattern": {
             "fillmode": "overlay",
             "size": 10,
             "solidity": 0.2
            },
            "type": "scatter"
           }
          ],
          "scatter3d": [
           {
            "line": {
             "colorbar": {
              "outlinewidth": 0,
              "ticks": ""
             }
            },
            "marker": {
             "colorbar": {
              "outlinewidth": 0,
              "ticks": ""
             }
            },
            "type": "scatter3d"
           }
          ],
          "scattercarpet": [
           {
            "marker": {
             "colorbar": {
              "outlinewidth": 0,
              "ticks": ""
             }
            },
            "type": "scattercarpet"
           }
          ],
          "scattergeo": [
           {
            "marker": {
             "colorbar": {
              "outlinewidth": 0,
              "ticks": ""
             }
            },
            "type": "scattergeo"
           }
          ],
          "scattergl": [
           {
            "marker": {
             "colorbar": {
              "outlinewidth": 0,
              "ticks": ""
             }
            },
            "type": "scattergl"
           }
          ],
          "scattermapbox": [
           {
            "marker": {
             "colorbar": {
              "outlinewidth": 0,
              "ticks": ""
             }
            },
            "type": "scattermapbox"
           }
          ],
          "scatterpolar": [
           {
            "marker": {
             "colorbar": {
              "outlinewidth": 0,
              "ticks": ""
             }
            },
            "type": "scatterpolar"
           }
          ],
          "scatterpolargl": [
           {
            "marker": {
             "colorbar": {
              "outlinewidth": 0,
              "ticks": ""
             }
            },
            "type": "scatterpolargl"
           }
          ],
          "scatterternary": [
           {
            "marker": {
             "colorbar": {
              "outlinewidth": 0,
              "ticks": ""
             }
            },
            "type": "scatterternary"
           }
          ],
          "surface": [
           {
            "colorbar": {
             "outlinewidth": 0,
             "ticks": ""
            },
            "colorscale": [
             [
              0,
              "#0d0887"
             ],
             [
              0.1111111111111111,
              "#46039f"
             ],
             [
              0.2222222222222222,
              "#7201a8"
             ],
             [
              0.3333333333333333,
              "#9c179e"
             ],
             [
              0.4444444444444444,
              "#bd3786"
             ],
             [
              0.5555555555555556,
              "#d8576b"
             ],
             [
              0.6666666666666666,
              "#ed7953"
             ],
             [
              0.7777777777777778,
              "#fb9f3a"
             ],
             [
              0.8888888888888888,
              "#fdca26"
             ],
             [
              1,
              "#f0f921"
             ]
            ],
            "type": "surface"
           }
          ],
          "table": [
           {
            "cells": {
             "fill": {
              "color": "#EBF0F8"
             },
             "line": {
              "color": "white"
             }
            },
            "header": {
             "fill": {
              "color": "#C8D4E3"
             },
             "line": {
              "color": "white"
             }
            },
            "type": "table"
           }
          ]
         },
         "layout": {
          "annotationdefaults": {
           "arrowcolor": "#2a3f5f",
           "arrowhead": 0,
           "arrowwidth": 1
          },
          "autotypenumbers": "strict",
          "coloraxis": {
           "colorbar": {
            "outlinewidth": 0,
            "ticks": ""
           }
          },
          "colorscale": {
           "diverging": [
            [
             0,
             "#8e0152"
            ],
            [
             0.1,
             "#c51b7d"
            ],
            [
             0.2,
             "#de77ae"
            ],
            [
             0.3,
             "#f1b6da"
            ],
            [
             0.4,
             "#fde0ef"
            ],
            [
             0.5,
             "#f7f7f7"
            ],
            [
             0.6,
             "#e6f5d0"
            ],
            [
             0.7,
             "#b8e186"
            ],
            [
             0.8,
             "#7fbc41"
            ],
            [
             0.9,
             "#4d9221"
            ],
            [
             1,
             "#276419"
            ]
           ],
           "sequential": [
            [
             0,
             "#0d0887"
            ],
            [
             0.1111111111111111,
             "#46039f"
            ],
            [
             0.2222222222222222,
             "#7201a8"
            ],
            [
             0.3333333333333333,
             "#9c179e"
            ],
            [
             0.4444444444444444,
             "#bd3786"
            ],
            [
             0.5555555555555556,
             "#d8576b"
            ],
            [
             0.6666666666666666,
             "#ed7953"
            ],
            [
             0.7777777777777778,
             "#fb9f3a"
            ],
            [
             0.8888888888888888,
             "#fdca26"
            ],
            [
             1,
             "#f0f921"
            ]
           ],
           "sequentialminus": [
            [
             0,
             "#0d0887"
            ],
            [
             0.1111111111111111,
             "#46039f"
            ],
            [
             0.2222222222222222,
             "#7201a8"
            ],
            [
             0.3333333333333333,
             "#9c179e"
            ],
            [
             0.4444444444444444,
             "#bd3786"
            ],
            [
             0.5555555555555556,
             "#d8576b"
            ],
            [
             0.6666666666666666,
             "#ed7953"
            ],
            [
             0.7777777777777778,
             "#fb9f3a"
            ],
            [
             0.8888888888888888,
             "#fdca26"
            ],
            [
             1,
             "#f0f921"
            ]
           ]
          },
          "colorway": [
           "#636efa",
           "#EF553B",
           "#00cc96",
           "#ab63fa",
           "#FFA15A",
           "#19d3f3",
           "#FF6692",
           "#B6E880",
           "#FF97FF",
           "#FECB52"
          ],
          "font": {
           "color": "#2a3f5f"
          },
          "geo": {
           "bgcolor": "white",
           "lakecolor": "white",
           "landcolor": "#E5ECF6",
           "showlakes": true,
           "showland": true,
           "subunitcolor": "white"
          },
          "hoverlabel": {
           "align": "left"
          },
          "hovermode": "closest",
          "mapbox": {
           "style": "light"
          },
          "paper_bgcolor": "white",
          "plot_bgcolor": "#E5ECF6",
          "polar": {
           "angularaxis": {
            "gridcolor": "white",
            "linecolor": "white",
            "ticks": ""
           },
           "bgcolor": "#E5ECF6",
           "radialaxis": {
            "gridcolor": "white",
            "linecolor": "white",
            "ticks": ""
           }
          },
          "scene": {
           "xaxis": {
            "backgroundcolor": "#E5ECF6",
            "gridcolor": "white",
            "gridwidth": 2,
            "linecolor": "white",
            "showbackground": true,
            "ticks": "",
            "zerolinecolor": "white"
           },
           "yaxis": {
            "backgroundcolor": "#E5ECF6",
            "gridcolor": "white",
            "gridwidth": 2,
            "linecolor": "white",
            "showbackground": true,
            "ticks": "",
            "zerolinecolor": "white"
           },
           "zaxis": {
            "backgroundcolor": "#E5ECF6",
            "gridcolor": "white",
            "gridwidth": 2,
            "linecolor": "white",
            "showbackground": true,
            "ticks": "",
            "zerolinecolor": "white"
           }
          },
          "shapedefaults": {
           "line": {
            "color": "#2a3f5f"
           }
          },
          "ternary": {
           "aaxis": {
            "gridcolor": "white",
            "linecolor": "white",
            "ticks": ""
           },
           "baxis": {
            "gridcolor": "white",
            "linecolor": "white",
            "ticks": ""
           },
           "bgcolor": "#E5ECF6",
           "caxis": {
            "gridcolor": "white",
            "linecolor": "white",
            "ticks": ""
           }
          },
          "title": {
           "x": 0.05
          },
          "xaxis": {
           "automargin": true,
           "gridcolor": "white",
           "linecolor": "white",
           "ticks": "",
           "title": {
            "standoff": 15
           },
           "zerolinecolor": "white",
           "zerolinewidth": 2
          },
          "yaxis": {
           "automargin": true,
           "gridcolor": "white",
           "linecolor": "white",
           "ticks": "",
           "title": {
            "standoff": 15
           },
           "zerolinecolor": "white",
           "zerolinewidth": 2
          }
         }
        },
        "width": 650
       }
      },
      "text/html": [
       "<div>                            <div id=\"bd1a9204-b8be-46ae-b5b6-2c4b4ddf7286\" class=\"plotly-graph-div\" style=\"height:650px; width:650px;\"></div>            <script type=\"text/javascript\">                require([\"plotly\"], function(Plotly) {                    window.PLOTLYENV=window.PLOTLYENV || {};                                    if (document.getElementById(\"bd1a9204-b8be-46ae-b5b6-2c4b4ddf7286\")) {                    Plotly.newPlot(                        \"bd1a9204-b8be-46ae-b5b6-2c4b4ddf7286\",                        [{\"marker\":{\"colorscale\":[[0.0,\"#440154\"],[0.1111111111111111,\"#482878\"],[0.2222222222222222,\"#3e4989\"],[0.3333333333333333,\"#31688e\"],[0.4444444444444444,\"#26828e\"],[0.5555555555555556,\"#1f9e89\"],[0.6666666666666666,\"#35b779\"],[0.7777777777777778,\"#6ece58\"],[0.8888888888888888,\"#b5de2b\"],[1.0,\"#fde725\"]],\"size\":3},\"mode\":\"markers\",\"name\":\"coord\",\"x\":[1.0018464992368175,-0.08067813279571807,1.5249122762704892,0.06534058316007892,-0.75574543311331,0.09874484015007767,0.21709000526377284,-0.33708343857291706,0.6121689969083435,0.48028465792804337,-0.7423318560751143,-0.5856349396178887,0.429107590342083,0.5488087053060156,-0.4284833473373579,-0.3523681884546408,0.5042162132171393,1.0277116759119174,-0.27386104482308443,-0.3532132442592477,0.3231171314616983,0.17447500198949273,0.4344796612412769,-0.9180577481712983,1.1404051590919035,0.5451042912269707,0.7850189219494373,-0.5198683584588866,-0.11183709476108442,0.2528826602098554,0.4306935675141751,-0.7445365771707091,-0.061928369781899105,-0.3762996675998742,-0.854041766657463,-0.12302915054582712,-0.7794434948975568,2.049221414165229,0.23184841771139073,-1.5304480747415798,-0.2654623277982725,-0.15402836459253566,-0.41171287374850635,-0.030678522378859804,-0.7787469785053762,-0.1806287048237205,0.32567457980509434,0.20726613434115249,-0.6653520720484236,-0.060232834871431586,0.9385941234165059,-0.8094016366206608,-0.05369998571003206,0.18354513706540634,0.4066388944417179,-1.5123494281388352,0.38931524904205655,0.1535061207682485,0.48149711055836886,-0.1145228210031116,-0.954464500094392,0.28884804204995007,0.2952071926651582,-0.9549055418655792,-0.05461181730171694,-0.4586961173000915,0.8855487406211986,-0.1195090285491036,0.3429918358669059,-0.24640373432757162,0.1605778293472424,-1.5993023171113,-0.01593536868554254,-0.3554607917004111,0.16317903053924113,-0.8152427554647972,-0.35572248213817076,-1.3422155933588906,0.31209207280360807,-0.34904136430029536,0.8633406940654295,0.8258650976356885,-0.332258417063776,0.20543079146403148,0.2295607309582532,-0.0423282375256148,0.49074137526794487,0.07863332091844959,-0.4173414370652549,0.5281341860750774,0.17565057482879165,-0.6337720232525286,0.37289968414929453,0.03072220046749684,-0.0889401141851263,0.22801315893129553,0.6586219650175291,-0.4179585322687024,-0.6806945953567386,0.20110680268676956,0.410245709369365,-0.22081708170595096,1.2355136067536938,0.6940925718757208,-0.8134549865645891,0.566131995012072,-0.3721818965927939,-0.047442083219242655,0.5214289695622127,1.4613491900395619,0.01565597420396471,0.5937181600104318,-0.03371681734439982,0.04730539837664985,0.13702798620078283,-0.5344439448298106,-0.4575494108890824,0.39593480188752694,0.21978544687737964,-0.22434020380930864,0.12291826391187462,0.8996701223709282,-1.8442002363777934,-0.6347165079014794,0.19597731283934616,0.05670288819774019,0.6110823073495721,0.17628486863116336,-0.13769219594458448,-0.789859344656073,0.8103880102043232,-0.5008096529909954,-0.1438991528373578,-0.6647445063371608,-0.3340285990782226,-0.15204449074796217,-0.09261141608635175,0.6921619684519454,-0.48953216020898577,0.46307209981469877,-0.030648067576197743,-0.33742611922264815,-0.2769596492477577,0.48398279385708964,-0.39586469601262114,0.15134660024350094,0.4826290034572238,0.7539386449258298,0.06601804340548795,0.24187154711415051,1.0150610391894055,0.6312379297082747,0.10344651406568807,0.27352885880722044,-0.5955500674314611,0.8563877475779713,0.83904170768802,-0.057012122221676266,0.15839070999248941,0.44952566409633954,-0.09033465866777653,1.2767634122604454,-0.21076715009734975,-0.41367361730258045,0.5402901960703682,-0.5725326559139804,0.6485328003699494,-0.6260005125910912,-0.21174272977891104,-0.35525875528309386,0.5756405041568144,-0.16633014809925759,-0.6086323998400742,0.8370596186719295,0.030199737169494707,-0.5691946471614474,0.2127633133548776,-1.3531470190536354,0.07908851580408614,0.30342117709615235,0.14995713091853752,-0.14690266833170337,-0.9050781448579078,0.8035088424336236,-0.48910884250824993,-1.1277221078940325,-0.3423905592388969,-0.21590994348933137,-0.4767226688786624,-0.8455636612815297,-0.5398806720209174,0.4702156014677096,0.1971656718199153,0.12736801258290717,-1.1239689667357453,-0.20156369723392034,0.5101625241873292,-0.93095790068425,-0.9449190728785547,1.0958895458141076,0.35600367993311127,0.4868274127785294,0.1030335650041547,0.26667184356283524,0.3208312744766574,-0.8988638730250699,0.689008165355727,-0.6254450801127105,0.9047628793392989,-0.16271375007192151,0.03739509379197378,0.13620228649334204,-0.6245378235589085,-1.4894199115224747,0.25737351046710655,-0.14141064750831456,-0.24832150401690076,-0.2906685734702865,-0.4049473139313059,0.14710061149458004,-0.7999762356287338,-0.9556104330292292,0.48442755102298607,-1.0446198057162568,1.3860309879602137,0.5948218139104796,1.4564388913854445,-0.07803042649266333,0.4527538673209064,0.1489058309933929,0.7258470812424586,0.008662457858767307,-0.5688506433260022,-1.0568810760681548,0.12977677745965335,-0.6653012340222481,-0.04623216809015693,-0.6811677813880844,1.3806379116809775,0.3218457821862677,-0.34519138954621165,-0.3917180226973228,0.23644168429925824,0.5545751076266567,1.291494615954666,0.2472627500912148,-0.30890360389653687,-0.8344797290687314,0.3815978569679154,0.022353245947055844,0.0027496051280611216,0.6718097560064166,-0.1567514197125604,0.6281020482059585,0.27187663190173905,0.5024124958917435,0.4447664046971682,-0.1570239139318923,0.1474118312490374,-0.4323151768754363,-0.3265358312081816,-0.10659799154157606,0.07418718625506611,1.7279081354012389,0.4257436175070284,1.136967926617243,-0.18616915074610477,0.6715099410574157,-0.1597742256437896,-0.029589887185068504,-0.6835726693160248,1.2984248132716656,-0.10017282477002688,0.43002477196780525,0.003025617862969278,0.44416731352524974,-1.0982317421418901,-0.1426965852491906,-1.0494622263270845,0.7174695010879734,0.7316266954959936,0.01770013218850225,0.055212479613554376,1.2963347354834684,-0.4002219778475399,0.8462130709460762,-0.5349629155327451,-0.6249916885005239,-0.1538339013643545,0.10270550052606689,1.2771938313518447,-0.36526573423579317,0.20630322587387218,-0.16787787181362035,0.3336782973945635,-0.4620461591049181,0.30878270766966226,0.1387885345299103,-0.12225190433522609,-0.29165979373493706,-0.48645488261927355,-0.3253460157580689,0.05408610974928401,-1.0224966363328207,0.062338742614801115,0.373746300226845,0.32325089309485,-0.3356392062197605,-0.3412412391287465,-0.4558287182437138,0.1730811472481425,0.35698354666899507,0.5631672259474539,0.04324274787984673,0.0012258084870111665,-0.11793035752964026,0.5808111269789749,0.24924816019643256,0.5956196342550341,0.35875105406149055,-0.7015885553809494,-0.8535350215115902,-1.017805544831299,-0.2407591595681712,0.20429098786502733,0.15782094705296276,0.6920246280040872,-0.5654138363739276,-0.4174514135911544,-0.7917996907388942,0.11470760855878062,0.14720016329400257,0.04855061954538025,-0.4213578152707627,-0.3005730394489389,-0.1647760299266859,0.9542267257048179,0.6183771402648678,-0.04111192165507251,0.017040540638729444,-0.022265829776889623,-0.5772770196807392,0.40041665611337524,-0.05798985155273009,1.002983901535022,0.10561988957280595,-0.49104005693247704,0.17697450061618575,-0.5461558310637151,-0.4237892454088052,-0.18089968854073848,0.4956236700609855,-0.40769886868659727,0.15327205805144944,0.06655453783956668,-0.5330932449603532,-0.14077066185428522,0.5899682608203051,-0.1189023572643773,-0.5166371592710793,0.4897162658910889,-0.4259823602382182,0.467799426644333,0.28552365702354143,-1.2494588212119417,-0.48154656050535516,-0.2377462736484679,1.0033876304104694,0.6644327319248249,-1.0371456228606535,0.6023164429255466,0.11054396940470278,0.1303901282612176,0.297438663134519,0.15056989760435793,-0.06862838461557758,0.7752036455700677,-1.2234938889233256,0.271203146439103,-0.29328825834794675,0.13372958854315764,0.37856469270470844,-0.3858328527983411,-0.3009364434571704,-0.7668665558343535,-0.8810826112493769,-1.1770158509204807,-0.4497590708112548,0.49854326622885425,-0.15132862325057594,-1.2138263907229936,-0.17870850265389537,-0.25396768254673935,0.05800404668950026,0.6180353289032082,-0.14379602502527228,-0.7710561339335971,-0.1013500497305389,1.568422052256204,-0.1108328815734091,-0.7715261825030482,-0.6997423857902697,-0.20459207127043358,-0.532258659752052,-0.01987042510803095,0.1435711652436864,0.05290421022235606,0.35143815743105367,-0.2517427960946359,-1.1581986413650536,-0.8362527051198995,1.0849507122545772,-0.021483574946838384,-0.8811192909161756,-0.3374477101867631,-0.08176323223170522,0.22137131999081186,-1.0819054646078392,-0.06442352065473662,0.658515884047403,0.6527301789642,0.5147780599101921,1.4988281888459232,-0.0819498680540469,0.21354232367703874,-0.5329208910735261,-0.4867726657422846,-0.11286196113566344,0.166473293409998,0.0045818400596084885,-0.3265658971865714,-0.354187354392649,0.7419242415229081,0.24590681939186965,1.8591405054850267,-0.6352061325519713,-0.1276468229862075,-0.47575826439513796,-0.34155339480315805,0.1847178153098412,-0.08972910124999416,-0.5514797944961676,-1.7515925077600372,0.5965502151903515,0.10732923447331072,-0.3119222481923976,-0.3954990868252608,-0.2588691553754808,1.1557355725115135,-0.5793853370490607,0.614441520680049,-0.22762062188982665,0.6704519496686945,-0.44714208872034317,-0.3815168678858479,0.15480255678694238,0.1602343383920893,-0.5176577984093592,0.04243855701091426,-0.5585769172499406,0.3571743628534646,0.2660436261019758,0.022918333661444724,-0.41253892155193744,0.013064980698529289,0.055884440732091596,-0.10336022224533888,-0.39610806795103637,-0.4538598144798804,0.19207949952547795,0.5662116093787994,0.24858979265620318,-0.2528542945603445,0.21271629771618109,0.41579215929456204,0.002961497730809401,-0.3125879150056937,1.0308167999850257,-0.020475855229676116,0.13089963110839126,0.22383691837611808,0.46257078195538626,1.0222199970643628,-0.24600782773576324,0.04026743420277396,0.6473245523907208,-0.5914908994604939,0.42412481895714854,0.35584150779704316,-0.17301011364009589,-0.4203198781039747,0.584162570380703,0.9777281421332918,0.0555517670829184,-1.1226869007971507,0.023942144993298886,0.5550336571989789,-0.14267923662114645,-0.42382332045613313,1.8514021039179152,-0.13676364429429924,0.18366674080538178,0.8116091369285754,0.6590135594367681,0.996594136875333,-0.06713829994637414,-0.2715567052684392,0.1198844808086598,0.5603880389151216,0.44383992669010425,-0.04189240253315369,0.5354573516156954,0.05793752229554806,-0.4283386668872361,-0.2270785385545817,-0.21493166278495773,-0.48348077292020447,-1.1354009746377085,0.435517986940823,-0.5976331827113424,0.2427684687754784,-0.44285314947515303,-1.2771972832423664,-0.014250658235266493,1.0926624736431245,-0.7342935755329585,0.7150589738144429,-0.886099022289839,-1.0556501858711285,0.054596126545620106,-0.41659379917578937,-0.4749900235600044,1.5579174662062127,0.47657580533466914,0.9854148187612631,-1.254586022457829,-0.7362322839461898,-0.262167390617114,0.5463007673765733,-0.6540044171136475,0.037042941652963214,0.9635682672005366,-1.2172517518665886,-0.0671169846484287,-1.1495906684888917,-1.2128848472961686,-0.8072325471444339,0.10514778853879288,0.5661306977558094,0.006687479107634065,0.32551417161981544,-0.6702870970173094,-0.3507316874000792,0.3908427331391734,0.2872816670157026,0.9052966026013087,0.9063917938195553,0.18555426169756456,-0.46886555681225983,-0.1507273372047732,-0.8285473867182619,0.5678786325769235,-0.019174698130200774,-0.42799432808586263,0.36260886645738205,0.11334489723695024,0.24953013400126678,-0.25077215806059905,-0.23988902728888659,0.13491706517974117,0.9886459550890543,-0.01245947858492626,-0.8900658867487435,-0.5934376967841869,0.2610058296063521,-0.8095179860177727,0.3308861617204481,-0.7198972145802329,-0.0645763808159066,-0.8049711136222143,-0.6523730655090841,0.1265444669018081,-0.22521010496034097,-1.3209206458560339,-0.12232415214720259,0.7368463105116705,0.1371379100462553,-0.6121912665925153,-0.48694052688233236,-0.10842331395353466,-0.3280816285245263,-0.5454340605940299,-0.2027508457812584,-1.1267415213823686,-0.35540821841769266,-0.3873470765816132,-0.015775361547820364,-0.30817488951813754,-0.39760700781555286,0.4334127443009561,0.04165608724246835,-0.7109491224199089,0.2662473320437396,-0.5108352369519309,0.9524393539988615,1.3804437545955852,0.5049892154344193,-1.2334111182337741,-0.12977391493233373,0.04754681089250273,0.3486742958899963,0.654257052088748,-0.21840712634909837,0.8233546250362471,0.9971511290354383,-0.04708789527324338,0.2639462975642585,0.7042774083701426,0.365124072836458,0.030156297956614737,0.42139458439328775,-0.4142862798105656,0.19627018584616054,-0.26695045526749744,0.3590426563242806,0.2531561611242129,0.09513288391629689,-0.5392413812812892,0.3439789558137665,0.7306010751548313,0.8987611749002978,-0.3091050624978813,-0.2600800202078617,0.3635608172173108,-0.8918405945264778,0.6546393979930576,0.6227553054352024,-0.4214863309105055,-1.2864632817882966,0.29831654784824474,0.21176442163314588,-0.8298215653005176,0.1764571115245764,0.11182806721809972,-0.1680871626585272,-0.22671868289914668,-0.8418201539739013,0.41886386934151815,-0.056991902396352705,-0.4946480999562859,-0.16646973729536468,0.2843423176606365,-0.7078587708478682,-0.4287240760965578,-1.398985343956146,0.20734365392498152,0.25720117199445236,0.21774173794899288,0.18687263502053608,0.9771425143579845,0.19646307653664238,0.025763032171539007,0.14041895594018264,-0.5546568226820037,-0.618160622762966,1.042647271284394,-0.02528934529339566,-0.7924408425043229,-0.07149756949552485,0.053256926970257516,1.6462205436045334,0.5301078849696348,-0.10332905995142207,-1.1305036804765292,1.3913441701056615,-0.5696957585850105,0.3406275706033313,-0.9062324639566182,-0.5074933207588606,0.11009845223942198,-0.5583315309772633,-0.7047435650234598,1.0311014191583576,1.1080108492350034],\"y\":[0.4409714958363294,0.01594183618056324,-0.1422343222864473,-0.4473400068660773,-0.5418326510892242,0.5974527626579922,-1.178337186168745,0.4537799605027388,0.06854242526646125,-1.0301196520326565,1.5990507469819482,0.2254159330305098,0.6216746491862788,0.2528139050101573,-0.1723928634444523,-0.4828651806837177,0.5737526049210471,0.4234847439265269,-0.407553833868146,-0.2573639901902792,0.11833074864961744,-0.5223582980209835,0.18354421634025186,0.8148784297084857,0.376552136974272,-0.7752395601277188,0.6329962957216446,-0.32570666293071204,-0.09388967774741774,0.0018705760257717349,-0.6741958062232133,-0.08981956327103985,0.30232896400864284,0.40572048772531116,0.5500898836280584,0.31505294373420084,-0.9950883981360961,0.5340933953397602,0.18844981139189027,-0.7203883017099257,0.20287799264466763,-0.6728661846712735,-0.1802227120391792,-0.10234609035500318,-0.6126041752476243,-0.10045447280269416,0.061389414169673355,-0.7580297626180725,-0.2586248447170225,0.04214210452409036,-0.4629206617519556,1.294657766789329,-0.12330014602195516,-0.1270715091288582,0.262307975863855,0.6505013118312442,0.3010428006702149,-0.6068432959972841,-0.23741173086509337,-0.41120330186133214,-1.0668178329784455,-0.1867539296899343,1.0760165133482416,0.1559234247260939,0.47285161161347383,0.9549957832584223,0.3978462740062972,-0.256370961397876,-0.3758218134717985,0.6984859250413279,-0.18521192088685054,-1.1262044899945765,-0.4456743582793408,1.1901048603296818,0.5518614814712204,-0.18029415966627277,-0.5635392071617837,-0.03316629717932697,-0.5297946043788512,-0.294617582606614,-0.4902901640518547,0.0795855714323469,0.061792685256026735,0.957118003552293,-0.45119234124723306,-0.04885271263682317,-0.46559662987155337,0.494512603692498,0.37568426788925524,-0.08876000729782288,0.39889962002012447,-0.675395714261504,-1.8235363506884357,-0.29966150911825157,-0.1555679329651341,2.103530591354975,0.09044696962664531,1.1595944824104902,0.7996705814221617,-0.022069853091230145,-0.33517250402130455,-0.5579743816186393,1.30345934184507,0.016287379955998275,-0.26345066353665403,0.15151877739114747,0.1566917197007464,1.164239199681066,-0.5802542832738113,-0.754738229674798,-0.5492620228921141,0.18030039854369717,-0.3709713349144064,0.13879673102859544,0.6912150721392513,-0.2810127822795634,0.4529152483148281,-0.0017898947059767465,-0.18988047914860964,-1.0375064952105746,-0.30302233930880645,0.1688086524073382,-1.405183136430014,-0.03454837372054222,1.225380124850759,1.424276777588892,0.15576542395272067,0.1606310667981395,-1.1232257197433466,0.07515011539401278,0.8229540688300017,0.4903243280857727,-0.47805086212224834,-0.008479522981369688,-0.8010512710482485,0.33492531167372647,-1.167953505597103,-0.7392298031047616,0.24153286171811045,-0.41893031454762625,0.6508517857604176,-0.4404975868937057,-0.45622733354097,0.7090572584266347,0.046038507525896284,0.23359490551292827,-0.558758570472607,0.7868062117127964,-0.6255836659503775,0.4112842881138772,-1.1133055209323144,-1.1190763558364107,-0.6633938125688535,0.0006620066323432917,0.2759894297910755,0.9009129909744562,-0.6577220433004377,-0.9661695890830501,-0.2358471999516526,-0.4371360135205685,-0.8466969131095817,-0.03538617765901329,0.4777685261287158,-0.14605347369958652,-0.30565025513569005,-1.3126807471503148,-1.0556982302743052,-0.3988717543133743,-0.8831958237464287,-0.2745151507914144,-0.313292123315956,-0.04189589937175574,0.5440028335026587,-0.15354646436415825,-0.18718764843903377,-0.6500698429514887,-0.14890910253246628,-0.5321760796910209,-0.22976599965819408,0.2656879840556383,0.06796049531837592,-1.8615042895742073,-1.3915749912404443,-0.2013200914012426,-0.287708102225473,0.6629155565326162,0.8250654417145142,0.628401236446153,0.4817002594836814,0.08885796526464437,-0.19884518995336578,-0.5434438091165771,-0.5075585188072131,-0.23403435233556213,0.6050414754270212,0.16965059597481255,-0.193652458657345,-0.2609036106868708,-0.3822462182409385,0.14266454178133794,-0.4221563760016968,1.08942191724256,-0.5054888500927028,1.1889564412782316,0.012295628499361796,-0.4322599433474738,-0.8548247243036318,0.11313880374277004,0.3409814346906726,-0.33104420494717135,0.2026773950603653,0.5257633243165651,0.034836605991660406,0.06545539091266306,0.5915372575554066,-0.43607476768063724,0.2262888335816623,0.1421152063170289,-0.10643403223847442,-0.7057528501158877,-0.042512946709144746,-0.42945791942614475,0.9658950485714538,-0.3145818106739084,0.5227138259997728,-0.6801494108422608,-0.7872628356449555,-0.3058081400025701,-0.10402013091158815,0.22491783554215858,0.21394437987958478,0.5441715905527567,0.011180286763879587,-0.032189903395813256,-0.06538224000970845,-0.7922655399936273,0.6492141519397744,1.7716142920994287,-0.058935246691817864,-0.21759109645569172,-0.14808943631971788,-0.5459329422324432,-0.44848701186543793,-0.7523372309444761,-0.0747351969097358,-0.7276446702007903,0.1842610613465871,0.3405225143753673,-0.18609969511893157,0.2117165613533559,-1.0986535799126211,-0.7779253918067581,0.4483809888835924,0.24291504979070452,-0.22327903566887392,0.9241818739967804,0.37872353441828466,-0.9670563047776018,0.8533390893346795,-1.2569428501214432,0.21442909361659857,0.7511396218817294,-1.0649926471877649,0.6590595849578094,0.14230550240460244,-0.33504740517057774,0.7715492838880841,-0.8087080980520962,-1.4866066007828989,0.7105342119775934,0.11299207034959204,-0.8323036888247937,-0.6628181143709765,1.0470400606662187,1.394464752038654,0.4827229405337174,-0.6882203169760639,0.3242152093053916,0.311457050403792,0.5139345063018605,-0.24782907797656425,0.1863079032250233,2.4299340326210803,-1.0478990083029565,0.18625612946108253,0.34535008122677824,0.12441522295982954,1.0557484156855426,-0.6229092811647442,-0.19438718057145948,-0.1242648505981445,-0.8761862035499736,0.21793782228980935,-0.682577485324197,0.2860634629202096,-0.011675901742787416,-0.1856903050386945,-0.06952392856771404,-0.2941187022386262,0.08846242642717267,-0.27861567642084145,0.7149959764072229,-1.2596568171366598,-0.32019425487552555,-0.6863728011111446,0.5543452270646559,-0.08505251034398195,-0.13250198645496525,-1.7470032608849348,0.6222248917196982,0.4900402948896842,-0.0030362053677173142,-0.6886872438079249,0.39529940781202677,0.334526751584412,0.11309904163248978,-0.562984212252775,-1.2889158561107539,-0.7355442021126126,0.04099126735614917,-0.4503125789024203,-0.1576639551561887,-0.3923982714959477,-0.24925407677850409,-0.9273356199211021,0.13998097056096434,-1.3983213007766024,-0.24701701438625703,-0.4298679120617107,-0.7165510274974216,0.8033106575856441,-0.03838352019904639,-0.1688619729001258,0.18489710580645977,0.18920628394067196,-0.37963972724666956,-0.09970954566874414,0.5258055291011221,0.24525335948656016,-0.27248025172393214,1.2131823667097108,0.48323430730669026,0.18338334103527998,0.393807524631233,0.6936374895946097,0.7584297190254154,0.18564976929047664,0.6105869205226643,-0.13014391109451512,-0.7089838288333074,0.19943733361704655,1.5716112342158874,1.2111887974705142,0.6783898912467532,-0.26453686953073663,0.3682465080503232,-0.008524033726357091,-0.08440856198659584,0.059829023643006005,-0.2420172001243815,0.5509670639018417,0.0004798924350991575,-1.2591462416679085,-0.4155585135389488,0.13762931629517627,0.4589463006730881,0.6263695744557063,0.5754241871118166,-0.014496008945590326,1.3733830158606022,0.7003528809615023,0.9435071417852668,-1.0493606851603363,-0.19394217180544962,0.47187418573349893,0.12332402399085654,0.3281481945753288,-0.4332657846254319,-1.1521173479956828,0.29389572097355565,0.07108829698703953,-0.4857596372880228,0.02679316541559058,-0.03421908508205698,0.3640497347071861,-0.220022007424574,0.5345578427500229,0.5298233874701663,-0.33692571013982386,0.14979534349774337,0.583010597569757,0.47065911977689945,-0.1850002322786263,0.20383944705244716,-0.22339263197281958,0.0752149230442623,-0.5082322367874481,0.08347475497077514,0.33247093758504465,-0.4883697537643417,0.010694533228694385,0.5867716214828899,-0.13685601804670242,0.22895538111437871,-0.21344306116742737,-1.3897270569788052,-0.6155841934314238,-0.7613260986784002,-0.5564203830166745,0.7003846974758667,0.3136093546540716,0.43972917180505144,-0.19883985630627615,0.07396614236313612,-0.5024192245397688,0.2527065955100266,-0.4428202571671031,0.09398672166568735,-0.06315705483941267,0.26826178350354685,-0.18308468994709645,-0.13377354184553825,1.7587704729643399,-0.28885395925812324,-0.5774601544896996,-1.1919897163846704,0.5566404540120817,-0.1090839364469451,-0.2059027700620633,-0.11165897419662398,-0.49017375065486063,0.4162451802391556,-0.09674515880225751,0.8699611090287501,-0.3396347258173909,-0.05899670474646106,-0.11032941653568742,0.06417824829228866,0.09201534345729888,0.7399386737782232,0.41289490769758874,0.6234650229303371,-0.01809573143760335,0.9325172492623283,0.25609151618960974,0.5232007162995075,0.006827787864591481,0.029310726874240692,0.24429645511850867,0.34940864927833726,-0.3581009853432668,-0.021542250664981236,0.919968514580376,-0.9020397805925674,0.4129302930632147,0.63323401310916,0.9870082444244057,0.6401834807582805,1.4273619495053074,-0.5910363248525885,-0.22078117793643065,0.2124219082529114,0.04575340025162559,-0.3509661443914373,-0.21372280609968985,-0.5956178308222346,-0.6387738575094688,-0.13932759453377752,-0.2967653525285612,-0.3845592803867707,0.4582582727910622,0.20996234223546523,0.004511372242563494,-0.35130949543927925,0.3549002772063176,0.6658157960929146,-0.24757671153470345,-2.3745682641566064,0.6102371961764154,-0.0670885765913361,-0.14669929594753597,0.44275585726914657,1.2675357703132928,0.3724826327649848,0.5555049956570391,0.1669497649358631,0.2960604986811497,0.3014909073614046,-0.3334127056841337,0.7271600777228779,-0.04846343943389338,0.6575146310736375,-0.2158530658295758,-1.411043276660937,-0.08429621557502724,0.30397551185702887,0.1370759848026591,0.7273913779867639,0.22508066871115978,-0.5039329513647949,0.05567147101040827,-0.5482479981249411,-0.12046850550634984,-0.19085681878350208,-1.2232095814519135,-0.05325087858630799,0.20881905504743098,-0.8649952004052645,-0.8726147942244955,0.06420241286457815,-0.019342827106911584,-0.21640232461670328,0.421070801003875,-0.6661195552105044,0.6930491797084408,-0.9003493272090354,0.8152699632376228,0.19444227401027717,0.4378403883221287,0.18852646690753722,0.15880911831333586,0.22001842025727678,-0.18196192176096115,0.958361526004198,0.2943835689574398,1.5619412464023934,-1.6414008045964485,0.3509647073567092,0.5711156698604464,0.19942482293871056,-0.6448830828701605,0.7486868313106799,0.23683011095310802,-0.12400311332243646,-0.5349329425669441,0.13878152057267873,-0.23920058311377437,-0.4581584050768767,0.01198253902269675,-0.09273923929277698,-0.03449829572939939,0.3849344948933995,-0.7733499355840546,-0.5557726345953812,-0.004918707286112104,-0.13607717161958474,-0.7488266904110203,0.5953662615546502,-0.9171492075407559,0.016192052612810218,0.3758976778293403,1.00472679403316,1.6531359726672494,0.35300670731330985,0.04495495251271504,0.44401396951012845,0.05150795980808236,-0.9983601594534197,0.561504238313443,-1.0261319160295193,-0.11168582384064836,0.547306228049504,-0.7966844694948442,-0.43536484654909946,0.18565752138591804,0.5974429916776343,0.43290192588951243,-0.2447041878873322,0.4974000553300263,0.04648783051611234,-0.8533191000713037,0.6373811695872986,-0.9452351214687028,-0.09351988437676992,-0.4032924773872897,0.480432091978673,-0.3946746478040308,0.12683318029852586,0.6814817471617775,-0.3848247189159352,0.12808170673006689,0.16108471920742182,-0.423279131249161,-0.8472580333021152,-0.38215564448948125,-0.1849949307907113,-0.5798180452334813,0.27346470015612545,0.14284574380472997,-1.125031487591431,0.31230777800359694,-0.2825192599371778,0.2845383113782516,-0.0936903262078942,1.114292468114785,0.35749956130558197,-0.047696637799937804,-0.4474097352823582,0.4247520160472982,0.19097289823602967,-0.1476696052988243,-0.18030401102239932,-0.09258471840658342,-0.8157486860247379,-0.5456532745810345,-0.07680997185493556,0.6867300324392313,0.9380487021800266,-0.579108923983391,0.6137167333859687,-0.6760573132326508,0.8333376007436988,0.4017130520206802,0.0017666111377060223,-0.1989737017815358,-0.9508634037227089,0.3245799923246958,0.09242625466224867,-0.2422323080821391,-0.14714517349268502,-0.20565302450712483,0.2510805113704028,0.2676828984027806,-1.2488003382179007,0.8272784876310276,0.3137682816870837,0.32536281599547673,0.14088456680721062,-1.1510280644536512,-0.5731337174352857,0.958634082341431,-0.3490571939435806,-0.12395166883368468,0.33999128843645177,1.1193555128399837,-0.2611765517502721,-0.7755515203596931,0.5289181200736263,-0.13262061058996885,0.8137101022574007,0.4468367014588283,-1.2835627566303922,0.3241261205622498,-1.0888864092392136,0.6118219457610508,1.2858904434224043,1.0871574409172808,0.45696180468444286,0.9235461686114221,1.0066262335173124,0.22606136596234275,-1.037541761759779,-0.3025851111956553,0.10407474684468244,0.5852635655677683,-0.08437230835688253,-0.07831922071265299,-0.4895429074155842,-0.4079937400548276,0.16518227662533982,1.7087489206424336,-0.32614393319899715,0.19199338165504085,-0.1748001774931028,-0.044307547980360365,0.13437079604778526,0.3991910830495901,0.5583238862790744,0.11812459932847519,-0.3457472273550887,-0.5526750140854232,-0.11976996291042667,0.5320690640557423,0.11712076860138596,1.2403574216914108,-0.3312684942292836,-0.36800841727058237,-0.1933539951989824,-0.43951204216839124,0.5173988627268117,0.7048160824180884,0.22289657277387115,-0.2711110509088656,-0.5098801872890352],\"z\":[-0.3219674617509927,-0.3718348638668558,0.886828898593188,-0.8320933636334912,0.4705547232812761,-0.013477868140826783,-0.018874363071740504,-0.2669438667175948,0.05967685211584591,0.229466522076564,0.6276822505823768,0.4159732055587373,1.1363446950394083,-0.04524908389547957,-0.7948604030825877,0.23394810447729888,-0.5335121438129002,-0.29481231749187115,0.5392713556535029,0.668601384677385,-0.07997162095106093,-0.10176426725394266,1.0924020321143149,-0.03466988105612335,-1.2672166319818259,0.7512222334434951,0.415172197581817,0.9465368439824351,0.09815593723092643,-0.051440049012564514,-0.08579493059409389,-0.2044154410154482,-0.6763000107729235,-0.5884318200564748,0.46584965312854215,-0.3695738710817267,0.2984628392041637,-0.09495174404758396,0.011668045440000913,-0.6779000314069564,0.06805838391251814,-0.15157789101375,-0.6014066331548812,-0.27856882287733875,0.36291247786011593,0.12293683203998416,-0.2620117276121204,0.4814198281135708,0.6345453707659431,0.04104381219880452,-0.6149818871726858,0.10308783635481793,-0.5289725299768673,-0.25569721235987786,0.8320743236224334,-0.8752241172732215,-0.33183488867473837,-0.8986691146880084,-0.954898994222898,0.18266187070158718,0.177244593534436,0.31432419363234854,-0.26770937926054217,1.1337218964317446,0.8472159650472044,0.8408855595810019,0.14054171272801996,0.12345209675396278,0.6641016006513584,-0.12386184379143265,-0.23091150653791628,0.277693208985784,0.27077669169832097,-0.04990530105489546,0.16465189813687015,-0.08901299025897753,-1.0796677761235907,-0.2582923585207151,0.6398398523850277,-0.06606981978277132,0.7955538168951664,1.182666212008382,-0.5391152011535641,0.03974835151642039,-0.24150620184909774,1.3423141138196832,0.03689192126356237,-1.0195538422305246,-0.6723588592248871,-0.39216691365411444,-0.04443123148589916,-0.3534258231031094,-0.36586668419174045,0.0891414935617363,0.13554555961025214,-0.6946163187450803,-0.18240337852535823,-0.03059262936045791,-0.16617082479981052,0.16648702192107917,0.09160822356233445,-0.1789616759765308,-0.3575221222831201,-0.07698791908326062,-0.3749358692486809,-0.30936048687338774,-0.06745267806051285,0.3114494770155039,-0.017763949737419182,-0.727051396374817,0.2998264951364576,0.40002249698161046,-0.5494775652513542,-0.6286168496243093,0.6164439907670345,0.16898756586379557,0.3629316457577806,0.21782848961854118,0.0033083336801688072,-0.3566192526864948,-0.4704625536424876,-0.6372170548722016,0.19164217283711132,1.4622983932678948,0.6623911472277366,-0.7817957095974922,-0.4958036765354555,1.0878305751644353,-0.13225675400366724,0.7456964703395672,-1.1746515362601366,-1.059651238363138,-0.6353193765373014,1.1225649904059278,0.31626656071549475,0.7815454846935805,0.10237918409501773,-0.4260217137191562,-0.4060991480480424,-0.5474544286661045,-0.5530763826097281,-0.1587693926571615,-0.5051113659026663,0.24143652684020162,0.6109492931062567,-0.7101939025291599,1.3231008610886823,1.0366234473502878,-1.2548982372675688,0.658238640245431,0.27474823118250313,0.39002617878589463,0.23655347384822534,0.49211552294899064,-0.958695373151742,-0.04363066846227776,0.43712965543177523,-0.44724800523784525,-0.5007768491311706,-0.31005584950168463,0.5813600405984045,-0.2843264129468788,-0.5476491525306136,-0.4451857716235409,0.35389598267199257,-0.8274169077704666,-0.2927705116256255,0.5425474995168054,1.0055644062576894,-0.3517143425426939,-0.1129785428524904,-0.3015753908928844,0.4954707712997594,0.8621128373373081,0.45566561706579223,-0.13012469702431817,-1.114911192537749,0.4984789798874199,0.4285001356498349,0.13360951634893936,0.24575156928991598,0.17788487240743164,-0.09679652348066868,-0.9366630844475407,-0.09528696140541254,-1.0359105629066012,-1.2274207214679307,-0.4091663377694339,0.1759148676443465,-0.10693769488987559,-0.12099083500715094,-0.12793362617498166,0.46476796322559816,0.16433058782440585,0.006907436706724259,-0.07181857447296668,0.3508335892729644,0.12909241450472098,0.11879489709602442,-1.0327095987418176,-0.15580453902686353,0.17184504770631676,0.1419671984504339,-0.7637739817095578,-0.6749961835511026,0.6052114168602152,0.12837454895616052,-0.6635083538988068,0.5311615671276876,1.0122516001950779,0.14798488252436423,-0.17046072609227286,0.24170384647337556,-0.30836110234976416,0.3766195041752636,-0.800840997761712,0.8856181472191322,-0.4137441074373425,0.031065081602341647,0.12712992036369164,-0.866121414599783,-1.077090874098988,-0.5358672683968105,-0.05598204723372541,0.016226691296644145,0.1466995151495443,1.2783647259474176,-0.3546817663579117,0.06296685374567298,0.5954639215249331,-0.24401401872763356,0.7059461323865642,0.28074120030279315,-0.4154974334895735,0.427904179787173,-0.23306936408543272,0.5316242980180687,0.32774040602608584,0.771497183368851,-0.6727118463227542,-0.9637365653400377,-0.06482634512707494,0.2579869315640583,-0.15801935337257678,-0.6525621581814551,-1.2556092110723795,-0.13762276505438692,0.025142904850218882,-0.4686454336036745,0.512188417243533,-1.5551627001702832,0.3111876765533659,0.0019048794202001823,0.6703385098943189,0.745502210878121,-0.29703579110518963,-0.5861440386294949,0.37873676761729946,-0.3432251407909309,-0.2988431325648511,0.1488042491133579,0.09098293893879913,-0.6351355841674546,0.3004822775090082,0.2823506259420237,-0.20778638884892325,0.5002085028089283,1.2520160567480583,1.4562987121730422,0.5554166204344889,0.5644184415870094,0.005773636294234619,-0.10455158175749353,0.09984274242515793,-0.5760231524715758,-0.3284036983117828,-0.12938754732718807,1.4222285114957685,0.08913583370730147,0.770894327303086,1.132077075087799,0.25663501122191973,0.5869881400053881,-0.19088233098522064,0.24126623978802952,0.8512711978900049,-0.7210764571673064,-0.6635374921020923,-0.08134690473229987,-0.7367887315537924,-0.11555682935705058,-0.3438436527963669,-0.2353077867504847,-0.3485961722521936,1.5861266235891154,0.23875229885253677,-0.10840607327669137,-0.5934291362295773,0.14628094832548436,0.10266838481213332,-0.6355207571801974,-0.6890476247769591,1.3059696765623725,-0.5890663286634364,0.8146317563744282,-0.9126432401479754,-0.3422433627579606,-0.26145003197957406,-0.9940070807022997,-0.26400693973537326,0.4848491425439852,0.1834633687187051,-0.016163600528777612,0.2282303278062872,-0.5342327623581252,0.7370390236615931,-0.24014752845722154,-0.711581173352901,0.05967608507759376,-0.7922309516986441,0.02850786839210784,0.8629283050263741,-0.5851986798257338,1.09932960507548,0.35671075658035273,0.15977480599865648,-1.287510146723361,-0.3457948415410169,-0.43848403809641023,-0.4386593712958831,-0.6315283699803889,-0.5457350309012087,-0.7796689132187584,0.2075032770102046,-0.2738399517505295,-1.5652635632091112,0.03399383529557779,-0.09456385533694361,0.11293470132702818,0.7046904287065535,0.3840408751966586,0.4753235981270876,0.05907854137377227,-0.386419620710348,0.5673845670742056,-0.5698516734478807,0.14116597917398474,-0.12505290815846679,-0.886557999745156,0.34991244841019503,-0.5618884880265168,-0.09774735602379842,0.2536681873647155,-0.32668396439450187,0.5122204453347505,0.32347156077606265,-0.2715022224165152,0.5626859048862923,0.33175568007626716,-0.4038511131313166,-0.4864387308784076,0.6764912893404257,0.4071350282647591,-0.6802195468212766,-0.8387705625978606,-0.6865194669648513,0.04135809465147773,-0.09512075810301805,0.23214546598195818,-0.644142404945606,0.40498908935171424,-1.7211038651737574,-0.0714556785056654,-0.07835780732381144,0.28217992543391046,-0.08967181039603606,-0.4196723739227263,0.045779700164458335,-0.12935313882577518,1.6175980911757535,0.16432929123959833,0.23420212641878402,-0.21511675773046776,-1.021488926030858,-0.441040445513818,0.9718210591282722,-0.23839028552875252,-0.29843857673695223,0.40063109965815563,-0.8497241360737164,0.29408921716101066,-0.2656896893933739,-0.0648456423342791,0.3522858928530702,-0.6123676541176462,-0.5882736624748364,0.6688549737691255,-0.011974778719433346,-0.043063088649970986,-0.4996299830394079,0.24297831863843583,0.4569512364271481,0.30826645287954524,0.7777293268307167,0.8865405761883216,0.9131424901061417,-0.11038840538863162,-0.6303970300485972,0.2776349648536662,0.8209307119617747,0.44138893492549097,0.1700032004225427,0.6597093773037873,0.22353123540488787,0.42020832601278796,0.2885361881615354,0.8474291405935221,0.1910239972709957,-0.06214501910061877,0.13457958040251106,-0.6238277616464042,1.0575661345258895,-0.06986355918448932,-0.26406761455250544,0.1600556138793212,0.5593051131774481,-0.22097849640525594,-1.5615897954880726,0.7410976401787472,0.14061208386030902,0.04161373242876309,-1.4712717438494778,0.4748828785518454,-0.24480409837455266,-0.17251810141018975,-0.15789013030787516,-1.332218447409243,0.8073665724914826,0.5392389423165611,-0.039366697528237404,-0.07486395785710682,1.194459411743498,-0.41597135469225877,0.0698655519334901,0.0892357443591122,0.14185518052460747,0.1969905945745241,0.09951449820845462,-1.0682662202885043,0.02221643244755534,-0.0769639587447161,-0.15847741932615247,-0.606196985904438,0.7464439264148887,-0.12961845863880672,-0.3031765486009004,0.26892137522976317,-0.5092583664946306,-1.0453529074274164,-0.23614668267579256,-0.6949339615114543,1.346955678131699,0.07906963410794554,-0.00681070887161833,1.2570785264887787,0.07959431091198542,-0.10032205720833738,0.24774872716575658,-0.1337242494232798,-0.15234144394376262,0.3678353006007328,-0.20039682525308697,-0.2074620230505388,0.17601150948394276,-1.1391880214073618,0.18344061943152365,-1.117750375546698,0.3083577265220204,-1.1224756402291143,-0.9122957070633562,0.6323844989571913,-0.39681153483259485,0.46125546013090035,0.26676661543217206,0.7311312619971682,0.7305155188577616,-0.8645519377484346,0.6369894069547832,0.13926488720597868,-0.05189054938517059,-0.050842018303115445,0.005569374742232873,0.12388626982883234,-0.24926896013469352,0.7138664838457207,0.12267854639941345,-0.039339456430643654,0.9818863956048577,0.4499520265256439,-0.7840939991527208,0.37961322955299587,-1.0947549840236837,-0.1567428165560604,0.32996093633461465,-0.5191313372798455,-0.21812799335395133,-0.27487705692553027,0.7701685237788992,-0.4244617500036524,0.632603248177707,0.5249206526352054,-0.022075359365850325,0.29721875181722623,0.17411567568712943,0.54044141382619,-0.14018147784146573,-0.8701985563786808,0.6950188938191968,-0.3174857672105972,-1.4807461601914884,0.6344234689015132,0.8913281020972372,-0.6605574727208954,-0.21380290625741222,-1.1029730215063729,-1.0814255284284484,-0.15105704184009602,0.3939769835429095,-0.10751000141767977,0.5885743751532634,-0.13743861777895577,0.1635053900968007,-0.32183798876542585,-0.17375157450348663,0.25238153683941983,-0.9884443611499664,0.09738300056285405,0.20413335138263333,0.504881576586216,-0.29262371713416413,1.004945099603032,0.6380504342366077,-0.6489889651477944,-0.6605255748657214,-0.2077224531106022,0.46821378156625754,-0.46884666516291723,0.7254524934436322,-0.2337452562577957,0.40611651345090816,0.4852889777356553,-0.04409852213020519,0.42772249884823765,-0.6799926995532777,0.07359222339455826,0.028045326829717054,-0.43066770197193366,-0.5594580138805026,0.26067639150034105,-0.1885879094414351,0.5787299237021035,0.1177848863600658,1.1154333610366276,0.10248318977461854,-0.929257588127809,0.8689566174596264,0.29938030903198737,0.2995120007630443,-0.03288900516891452,0.3598865276498527,0.17838378672733873,1.3772063631740568,-0.27357815024498083,-0.8646061424068471,0.03019732181497815,-0.005232988013371511,0.22290012270781745,-0.47874676167143837,-0.510940476684046,0.16769562050760814,-0.33173456410294844,-0.23139947392310173,-0.3627896748484969,0.7004522291766672,0.9058022498782966,0.8737788306095471,-0.40738923439996133,-0.15258556690789435,0.010294128406367266,-0.06757419441106272,0.29048674319086093,-1.3132366043615353,0.35538765569457803,0.6258808840687803,1.2751898137620679,0.652852854830201,-0.22215063870818097,-0.05563515143031958,0.32102630302442325,1.6282256345036508,-0.635105122379467,0.298095829579318,-0.45161481236915496,0.18075160338478927,-0.2743008887248471,1.3220671477251753,-0.3322346715914392,-0.3344758733994691,-0.5148068556433547,-0.0010054205164765346,0.017979288947520475,1.0206486040892497,0.7972313260144175,0.39855286938074747,0.41807575568093874,0.34518535914036047,-0.257610162186933,-0.2319928267618774,0.17300499594344976,0.6855855892489269,-1.019923020831328,0.21095136254715247,-0.24724495636670465,0.04293457247991681,0.10272331800386586,0.13232943860319807,0.83058843654497,-0.3622992046718236,0.4505233519765162,0.4591326716408804,-0.30331312853827935,0.7105999798709702,-0.4228108833877025,-0.12967324738398414,0.40492872675042796,-1.2006085621789595,-0.35888270724495946,-0.8402329501372741,-1.1666734883282175,0.9179416941313263,0.6225434032909716,-0.1779517454091967,0.9333959733476486,-0.17188923572842182,0.39094046692045403,-0.33448238244047457,0.9323805407541111,0.266868274323179,0.11914320072072007,0.9691007890973455,-0.07053439426040367,-0.819427127621011,-0.8820376643611081,0.5601326618930395,0.40236331784509344,0.008268324501579364,0.06857741800834283,-0.6695775777073267,-0.5390930322516001,0.6091027896535316,0.4351470508872823,0.29301451985347715,-0.33366379404832736,-0.2808355396504419,0.6963707678621462,0.3401096929024126,-0.25357155437470524,-0.3016760565060282,-0.6635234244484237,0.757250397411921,0.06159927558668313,-0.3326733259721473,-0.26720095623089146,1.5281529914508263,-0.9225007049469609,-1.3103152928239323,0.4603754318367317,0.24714921311475435,-0.41418127013709116,-0.09738908171411191,-0.041371921687409274,-0.11020144728054479,-0.9759011929026838,-0.2861224688407332],\"type\":\"scatter3d\"}],                        {\"template\":{\"data\":{\"histogram2dcontour\":[{\"type\":\"histogram2dcontour\",\"colorbar\":{\"outlinewidth\":0,\"ticks\":\"\"},\"colorscale\":[[0.0,\"#0d0887\"],[0.1111111111111111,\"#46039f\"],[0.2222222222222222,\"#7201a8\"],[0.3333333333333333,\"#9c179e\"],[0.4444444444444444,\"#bd3786\"],[0.5555555555555556,\"#d8576b\"],[0.6666666666666666,\"#ed7953\"],[0.7777777777777778,\"#fb9f3a\"],[0.8888888888888888,\"#fdca26\"],[1.0,\"#f0f921\"]]}],\"choropleth\":[{\"type\":\"choropleth\",\"colorbar\":{\"outlinewidth\":0,\"ticks\":\"\"}}],\"histogram2d\":[{\"type\":\"histogram2d\",\"colorbar\":{\"outlinewidth\":0,\"ticks\":\"\"},\"colorscale\":[[0.0,\"#0d0887\"],[0.1111111111111111,\"#46039f\"],[0.2222222222222222,\"#7201a8\"],[0.3333333333333333,\"#9c179e\"],[0.4444444444444444,\"#bd3786\"],[0.5555555555555556,\"#d8576b\"],[0.6666666666666666,\"#ed7953\"],[0.7777777777777778,\"#fb9f3a\"],[0.8888888888888888,\"#fdca26\"],[1.0,\"#f0f921\"]]}],\"heatmap\":[{\"type\":\"heatmap\",\"colorbar\":{\"outlinewidth\":0,\"ticks\":\"\"},\"colorscale\":[[0.0,\"#0d0887\"],[0.1111111111111111,\"#46039f\"],[0.2222222222222222,\"#7201a8\"],[0.3333333333333333,\"#9c179e\"],[0.4444444444444444,\"#bd3786\"],[0.5555555555555556,\"#d8576b\"],[0.6666666666666666,\"#ed7953\"],[0.7777777777777778,\"#fb9f3a\"],[0.8888888888888888,\"#fdca26\"],[1.0,\"#f0f921\"]]}],\"heatmapgl\":[{\"type\":\"heatmapgl\",\"colorbar\":{\"outlinewidth\":0,\"ticks\":\"\"},\"colorscale\":[[0.0,\"#0d0887\"],[0.1111111111111111,\"#46039f\"],[0.2222222222222222,\"#7201a8\"],[0.3333333333333333,\"#9c179e\"],[0.4444444444444444,\"#bd3786\"],[0.5555555555555556,\"#d8576b\"],[0.6666666666666666,\"#ed7953\"],[0.7777777777777778,\"#fb9f3a\"],[0.8888888888888888,\"#fdca26\"],[1.0,\"#f0f921\"]]}],\"contourcarpet\":[{\"type\":\"contourcarpet\",\"colorbar\":{\"outlinewidth\":0,\"ticks\":\"\"}}],\"contour\":[{\"type\":\"contour\",\"colorbar\":{\"outlinewidth\":0,\"ticks\":\"\"},\"colorscale\":[[0.0,\"#0d0887\"],[0.1111111111111111,\"#46039f\"],[0.2222222222222222,\"#7201a8\"],[0.3333333333333333,\"#9c179e\"],[0.4444444444444444,\"#bd3786\"],[0.5555555555555556,\"#d8576b\"],[0.6666666666666666,\"#ed7953\"],[0.7777777777777778,\"#fb9f3a\"],[0.8888888888888888,\"#fdca26\"],[1.0,\"#f0f921\"]]}],\"surface\":[{\"type\":\"surface\",\"colorbar\":{\"outlinewidth\":0,\"ticks\":\"\"},\"colorscale\":[[0.0,\"#0d0887\"],[0.1111111111111111,\"#46039f\"],[0.2222222222222222,\"#7201a8\"],[0.3333333333333333,\"#9c179e\"],[0.4444444444444444,\"#bd3786\"],[0.5555555555555556,\"#d8576b\"],[0.6666666666666666,\"#ed7953\"],[0.7777777777777778,\"#fb9f3a\"],[0.8888888888888888,\"#fdca26\"],[1.0,\"#f0f921\"]]}],\"mesh3d\":[{\"type\":\"mesh3d\",\"colorbar\":{\"outlinewidth\":0,\"ticks\":\"\"}}],\"scatter\":[{\"fillpattern\":{\"fillmode\":\"overlay\",\"size\":10,\"solidity\":0.2},\"type\":\"scatter\"}],\"parcoords\":[{\"type\":\"parcoords\",\"line\":{\"colorbar\":{\"outlinewidth\":0,\"ticks\":\"\"}}}],\"scatterpolargl\":[{\"type\":\"scatterpolargl\",\"marker\":{\"colorbar\":{\"outlinewidth\":0,\"ticks\":\"\"}}}],\"bar\":[{\"error_x\":{\"color\":\"#2a3f5f\"},\"error_y\":{\"color\":\"#2a3f5f\"},\"marker\":{\"line\":{\"color\":\"#E5ECF6\",\"width\":0.5},\"pattern\":{\"fillmode\":\"overlay\",\"size\":10,\"solidity\":0.2}},\"type\":\"bar\"}],\"scattergeo\":[{\"type\":\"scattergeo\",\"marker\":{\"colorbar\":{\"outlinewidth\":0,\"ticks\":\"\"}}}],\"scatterpolar\":[{\"type\":\"scatterpolar\",\"marker\":{\"colorbar\":{\"outlinewidth\":0,\"ticks\":\"\"}}}],\"histogram\":[{\"marker\":{\"pattern\":{\"fillmode\":\"overlay\",\"size\":10,\"solidity\":0.2}},\"type\":\"histogram\"}],\"scattergl\":[{\"type\":\"scattergl\",\"marker\":{\"colorbar\":{\"outlinewidth\":0,\"ticks\":\"\"}}}],\"scatter3d\":[{\"type\":\"scatter3d\",\"line\":{\"colorbar\":{\"outlinewidth\":0,\"ticks\":\"\"}},\"marker\":{\"colorbar\":{\"outlinewidth\":0,\"ticks\":\"\"}}}],\"scattermapbox\":[{\"type\":\"scattermapbox\",\"marker\":{\"colorbar\":{\"outlinewidth\":0,\"ticks\":\"\"}}}],\"scatterternary\":[{\"type\":\"scatterternary\",\"marker\":{\"colorbar\":{\"outlinewidth\":0,\"ticks\":\"\"}}}],\"scattercarpet\":[{\"type\":\"scattercarpet\",\"marker\":{\"colorbar\":{\"outlinewidth\":0,\"ticks\":\"\"}}}],\"carpet\":[{\"aaxis\":{\"endlinecolor\":\"#2a3f5f\",\"gridcolor\":\"white\",\"linecolor\":\"white\",\"minorgridcolor\":\"white\",\"startlinecolor\":\"#2a3f5f\"},\"baxis\":{\"endlinecolor\":\"#2a3f5f\",\"gridcolor\":\"white\",\"linecolor\":\"white\",\"minorgridcolor\":\"white\",\"startlinecolor\":\"#2a3f5f\"},\"type\":\"carpet\"}],\"table\":[{\"cells\":{\"fill\":{\"color\":\"#EBF0F8\"},\"line\":{\"color\":\"white\"}},\"header\":{\"fill\":{\"color\":\"#C8D4E3\"},\"line\":{\"color\":\"white\"}},\"type\":\"table\"}],\"barpolar\":[{\"marker\":{\"line\":{\"color\":\"#E5ECF6\",\"width\":0.5},\"pattern\":{\"fillmode\":\"overlay\",\"size\":10,\"solidity\":0.2}},\"type\":\"barpolar\"}],\"pie\":[{\"automargin\":true,\"type\":\"pie\"}]},\"layout\":{\"autotypenumbers\":\"strict\",\"colorway\":[\"#636efa\",\"#EF553B\",\"#00cc96\",\"#ab63fa\",\"#FFA15A\",\"#19d3f3\",\"#FF6692\",\"#B6E880\",\"#FF97FF\",\"#FECB52\"],\"font\":{\"color\":\"#2a3f5f\"},\"hovermode\":\"closest\",\"hoverlabel\":{\"align\":\"left\"},\"paper_bgcolor\":\"white\",\"plot_bgcolor\":\"#E5ECF6\",\"polar\":{\"bgcolor\":\"#E5ECF6\",\"angularaxis\":{\"gridcolor\":\"white\",\"linecolor\":\"white\",\"ticks\":\"\"},\"radialaxis\":{\"gridcolor\":\"white\",\"linecolor\":\"white\",\"ticks\":\"\"}},\"ternary\":{\"bgcolor\":\"#E5ECF6\",\"aaxis\":{\"gridcolor\":\"white\",\"linecolor\":\"white\",\"ticks\":\"\"},\"baxis\":{\"gridcolor\":\"white\",\"linecolor\":\"white\",\"ticks\":\"\"},\"caxis\":{\"gridcolor\":\"white\",\"linecolor\":\"white\",\"ticks\":\"\"}},\"coloraxis\":{\"colorbar\":{\"outlinewidth\":0,\"ticks\":\"\"}},\"colorscale\":{\"sequential\":[[0.0,\"#0d0887\"],[0.1111111111111111,\"#46039f\"],[0.2222222222222222,\"#7201a8\"],[0.3333333333333333,\"#9c179e\"],[0.4444444444444444,\"#bd3786\"],[0.5555555555555556,\"#d8576b\"],[0.6666666666666666,\"#ed7953\"],[0.7777777777777778,\"#fb9f3a\"],[0.8888888888888888,\"#fdca26\"],[1.0,\"#f0f921\"]],\"sequentialminus\":[[0.0,\"#0d0887\"],[0.1111111111111111,\"#46039f\"],[0.2222222222222222,\"#7201a8\"],[0.3333333333333333,\"#9c179e\"],[0.4444444444444444,\"#bd3786\"],[0.5555555555555556,\"#d8576b\"],[0.6666666666666666,\"#ed7953\"],[0.7777777777777778,\"#fb9f3a\"],[0.8888888888888888,\"#fdca26\"],[1.0,\"#f0f921\"]],\"diverging\":[[0,\"#8e0152\"],[0.1,\"#c51b7d\"],[0.2,\"#de77ae\"],[0.3,\"#f1b6da\"],[0.4,\"#fde0ef\"],[0.5,\"#f7f7f7\"],[0.6,\"#e6f5d0\"],[0.7,\"#b8e186\"],[0.8,\"#7fbc41\"],[0.9,\"#4d9221\"],[1,\"#276419\"]]},\"xaxis\":{\"gridcolor\":\"white\",\"linecolor\":\"white\",\"ticks\":\"\",\"title\":{\"standoff\":15},\"zerolinecolor\":\"white\",\"automargin\":true,\"zerolinewidth\":2},\"yaxis\":{\"gridcolor\":\"white\",\"linecolor\":\"white\",\"ticks\":\"\",\"title\":{\"standoff\":15},\"zerolinecolor\":\"white\",\"automargin\":true,\"zerolinewidth\":2},\"scene\":{\"xaxis\":{\"backgroundcolor\":\"#E5ECF6\",\"gridcolor\":\"white\",\"linecolor\":\"white\",\"showbackground\":true,\"ticks\":\"\",\"zerolinecolor\":\"white\",\"gridwidth\":2},\"yaxis\":{\"backgroundcolor\":\"#E5ECF6\",\"gridcolor\":\"white\",\"linecolor\":\"white\",\"showbackground\":true,\"ticks\":\"\",\"zerolinecolor\":\"white\",\"gridwidth\":2},\"zaxis\":{\"backgroundcolor\":\"#E5ECF6\",\"gridcolor\":\"white\",\"linecolor\":\"white\",\"showbackground\":true,\"ticks\":\"\",\"zerolinecolor\":\"white\",\"gridwidth\":2}},\"shapedefaults\":{\"line\":{\"color\":\"#2a3f5f\"}},\"annotationdefaults\":{\"arrowcolor\":\"#2a3f5f\",\"arrowhead\":0,\"arrowwidth\":1},\"geo\":{\"bgcolor\":\"white\",\"landcolor\":\"#E5ECF6\",\"subunitcolor\":\"white\",\"showland\":true,\"showlakes\":true,\"lakecolor\":\"white\"},\"title\":{\"x\":0.05},\"mapbox\":{\"style\":\"light\"}}},\"autosize\":false,\"width\":650,\"height\":650},                        {\"responsive\": true}                    ).then(function(){\n",
       "                            \n",
       "var gd = document.getElementById('bd1a9204-b8be-46ae-b5b6-2c4b4ddf7286');\n",
       "var x = new MutationObserver(function (mutations, observer) {{\n",
       "        var display = window.getComputedStyle(gd).display;\n",
       "        if (!display || display === 'none') {{\n",
       "            console.log([gd, 'removed!']);\n",
       "            Plotly.purge(gd);\n",
       "            observer.disconnect();\n",
       "        }}\n",
       "}});\n",
       "\n",
       "// Listen for the removal of the full notebook cells\n",
       "var notebookContainer = gd.closest('#notebook-container');\n",
       "if (notebookContainer) {{\n",
       "    x.observe(notebookContainer, {childList: true});\n",
       "}}\n",
       "\n",
       "// Listen for the clearing of the current output cell\n",
       "var outputEl = gd.closest('.output');\n",
       "if (outputEl) {{\n",
       "    x.observe(outputEl, {childList: true});\n",
       "}}\n",
       "\n",
       "                        })                };                });            </script>        </div>"
      ]
     },
     "metadata": {},
     "output_type": "display_data"
    }
   ],
   "source": [
    "show_scatter(results[-1])"
   ]
  },
  {
   "cell_type": "markdown",
   "id": "18dbac6d",
   "metadata": {},
   "source": [
    "# Manually Noise-Denoise"
   ]
  },
  {
   "cell_type": "code",
   "execution_count": null,
   "id": "83cbc37f",
   "metadata": {},
   "outputs": [],
   "source": [
    "prediction_losses = []\n",
    "\n",
    "for i in range(0, model.timesteps, 10):\n",
    "    coords, seq, masks = model.prepare_inputs(batch)\n",
    "    ts = torch.tensor([i])\n",
    "\n",
    "    # forward diffusion\n",
    "    noised_coords, noise = model.q_sample(coords, ts)\n",
    "    ts = ts.type(torch.float64)\n",
    "\n",
    "    # predict noisy input with transformer\n",
    "    feats, prediction = model.transformer(seq, noised_coords, ts, mask=masks)\n",
    "    \n",
    "    pred_noise = prediction - noised_coords\n",
    "    prediction_losses.append(float(F.mse_loss(pred_noise, noise)))"
   ]
  },
  {
   "cell_type": "code",
   "execution_count": null,
   "id": "facc0051",
   "metadata": {},
   "outputs": [],
   "source": [
    "fig = px.line(pd.Series(prediction_losses), title='Loss from original over time')\n",
    "fig.show()"
   ]
  }
 ],
 "metadata": {
  "kernelspec": {
   "display_name": "genomator",
   "language": "python",
   "name": "genomator"
  },
  "language_info": {
   "codemirror_mode": {
    "name": "ipython",
    "version": 3
   },
   "file_extension": ".py",
   "mimetype": "text/x-python",
   "name": "python",
   "nbconvert_exporter": "python",
   "pygments_lexer": "ipython3",
   "version": "3.9.1"
  }
 },
 "nbformat": 4,
 "nbformat_minor": 5
}
