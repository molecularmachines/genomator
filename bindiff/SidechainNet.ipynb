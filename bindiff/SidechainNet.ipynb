{
 "cells": [
  {
   "cell_type": "code",
   "execution_count": 3,
   "id": "355c03bd",
   "metadata": {},
   "outputs": [],
   "source": [
    "import sidechainnet as scn\n",
    "import numpy as np\n",
    "from collate import prepare_dataloaders\n",
    "import torch.nn.functional as F\n",
    "import torch\n",
    "from einops import rearrange, repeat\n",
    "import pandas as pd\n",
    "from preprocess import trim_dataset, standardize_dataset"
   ]
  },
  {
   "cell_type": "code",
   "execution_count": 4,
   "id": "71de452e",
   "metadata": {},
   "outputs": [
    {
     "name": "stdout",
     "output_type": "stream",
     "text": [
      "SidechainNet was loaded from ./sidechainnet_data/sidechainnet_casp12_30.pkl.\n"
     ]
    }
   ],
   "source": [
    "bs = 4\n",
    "data = scn.load(12, thinning=30, batch_size=bs)\n",
    "data_loaders = prepare_dataloaders(data, True, batch_size=bs)"
   ]
  },
  {
   "cell_type": "code",
   "execution_count": 5,
   "id": "1500bced",
   "metadata": {},
   "outputs": [
    {
     "data": {
      "text/plain": [
       "dict_keys(['train', 'test', 'date', 'settings', 'valid-10', 'valid-20', 'valid-30', 'valid-40', 'valid-50', 'valid-70', 'valid-90', 'description'])"
      ]
     },
     "execution_count": 5,
     "metadata": {},
     "output_type": "execute_result"
    }
   ],
   "source": [
    "data.keys()"
   ]
  },
  {
   "cell_type": "code",
   "execution_count": 6,
   "id": "fd77fdab",
   "metadata": {},
   "outputs": [
    {
     "data": {
      "text/plain": [
       "dict_keys(['seq', 'ang', 'ids', 'evo', 'msk', 'crd', 'sec', 'res', 'ums', 'mod'])"
      ]
     },
     "execution_count": 6,
     "metadata": {},
     "output_type": "execute_result"
    }
   ],
   "source": [
    "data['train'].keys()"
   ]
  },
  {
   "cell_type": "code",
   "execution_count": 7,
   "id": "5f72ed16",
   "metadata": {},
   "outputs": [
    {
     "name": "stderr",
     "output_type": "stream",
     "text": [
      "21it [00:00, 2331.34it/s]\n"
     ]
    }
   ],
   "source": [
    "test_dataset = data['test']\n",
    "test_dataset = trim_dataset(test_dataset)\n",
    "test_dataset = standardize_dataset(test_dataset)"
   ]
  },
  {
   "cell_type": "code",
   "execution_count": 41,
   "id": "7f7062fd",
   "metadata": {},
   "outputs": [],
   "source": [
    "test_loader = prepare_dataloaders(data, True, batch_size=8)"
   ]
  },
  {
   "cell_type": "code",
   "execution_count": 42,
   "id": "328f0df2",
   "metadata": {},
   "outputs": [],
   "source": [
    "b = next(iter(test_loader['valid-10']))"
   ]
  },
  {
   "cell_type": "code",
   "execution_count": 56,
   "id": "aa798919",
   "metadata": {},
   "outputs": [
    {
     "data": {
      "text/plain": [
       "torch.Size([8, 490, 3])"
      ]
     },
     "execution_count": 56,
     "metadata": {},
     "output_type": "execute_result"
    }
   ],
   "source": [
    "b.crds.size()"
   ]
  },
  {
   "cell_type": "code",
   "execution_count": 57,
   "id": "c07dff58",
   "metadata": {},
   "outputs": [
    {
     "data": {
      "text/plain": [
       "torch.Size([8, 35])"
      ]
     },
     "execution_count": 57,
     "metadata": {},
     "output_type": "execute_result"
    }
   ],
   "source": [
    "b.msks.size()"
   ]
  },
  {
   "cell_type": "code",
   "execution_count": 63,
   "id": "28574f0b",
   "metadata": {},
   "outputs": [],
   "source": [
    "crd = b.crds\n",
    "crd = rearrange(crd, 'b (l s) c -> b l s c', s=14)\n",
    "crd = crd[:, :, 0:3, :]\n",
    "crd = rearrange(crd, 'b l s c -> b (l s) c')"
   ]
  },
  {
   "cell_type": "code",
   "execution_count": 64,
   "id": "d158f144",
   "metadata": {},
   "outputs": [
    {
     "data": {
      "text/plain": [
       "torch.Size([8, 105, 3])"
      ]
     },
     "execution_count": 64,
     "metadata": {},
     "output_type": "execute_result"
    }
   ],
   "source": [
    "crd.size()"
   ]
  },
  {
   "cell_type": "code",
   "execution_count": 65,
   "id": "9bc58c33",
   "metadata": {},
   "outputs": [],
   "source": [
    "msk = b.msks.bool()\n",
    "msk = repeat(msk, 'b n -> b (n c)', c=3)"
   ]
  },
  {
   "cell_type": "code",
   "execution_count": 66,
   "id": "a7e77c14",
   "metadata": {},
   "outputs": [
    {
     "data": {
      "text/plain": [
       "torch.Size([8, 105])"
      ]
     },
     "execution_count": 66,
     "metadata": {},
     "output_type": "execute_result"
    }
   ],
   "source": [
    "msk.size()"
   ]
  },
  {
   "cell_type": "code",
   "execution_count": 67,
   "id": "e829363a",
   "metadata": {},
   "outputs": [
    {
     "data": {
      "text/plain": [
       "tensor([[ 29.1370,   4.6220,  12.3810],\n",
       "        [ 28.5680,   5.7280,  13.2040],\n",
       "        [ 28.8090,   5.5390,  14.7110],\n",
       "        ...,\n",
       "        [ 49.3140, 110.0180,  91.7250],\n",
       "        [ 50.1500, 109.2680,  92.6690],\n",
       "        [ 49.7680, 107.7920,  92.7420]])"
      ]
     },
     "execution_count": 67,
     "metadata": {},
     "output_type": "execute_result"
    }
   ],
   "source": [
    "crd[msk]"
   ]
  },
  {
   "cell_type": "code",
   "execution_count": 75,
   "id": "55b45cc4",
   "metadata": {},
   "outputs": [
    {
     "data": {
      "text/plain": [
       "torch.Size([468, 3])"
      ]
     },
     "execution_count": 75,
     "metadata": {},
     "output_type": "execute_result"
    }
   ],
   "source": [
    "crd[msk].size()"
   ]
  },
  {
   "cell_type": "code",
   "execution_count": 68,
   "id": "50b32ee2",
   "metadata": {},
   "outputs": [],
   "source": [
    "amount = torch.rand(crd.shape[0])"
   ]
  },
  {
   "cell_type": "code",
   "execution_count": 69,
   "id": "2347b84d",
   "metadata": {},
   "outputs": [
    {
     "data": {
      "text/plain": [
       "tensor([0.4077, 0.0841, 0.5374, 0.4225, 0.2070, 0.9441, 0.0178, 0.7021])"
      ]
     },
     "execution_count": 69,
     "metadata": {},
     "output_type": "execute_result"
    }
   ],
   "source": [
    "amount"
   ]
  },
  {
   "cell_type": "code",
   "execution_count": 76,
   "id": "b104ace7",
   "metadata": {},
   "outputs": [],
   "source": [
    "noise = torch.randn_like(crd)"
   ]
  },
  {
   "cell_type": "code",
   "execution_count": 77,
   "id": "4a279926",
   "metadata": {},
   "outputs": [
    {
     "data": {
      "text/plain": [
       "tensor([[[ 0.6850,  2.2190, -0.5001],\n",
       "         [ 0.8289,  1.0363,  1.0257],\n",
       "         [ 1.3800,  0.9954,  1.0994],\n",
       "         ...,\n",
       "         [-0.3038, -0.1528, -0.1029],\n",
       "         [ 1.0884, -0.4470, -0.6866],\n",
       "         [ 0.6454,  0.1376, -0.2914]],\n",
       "\n",
       "        [[-0.9984,  1.1483,  1.5618],\n",
       "         [ 1.6486,  0.4882, -1.3119],\n",
       "         [-1.0294,  0.3823,  2.0014],\n",
       "         ...,\n",
       "         [-1.2160,  1.1562,  0.8189],\n",
       "         [-0.7646, -1.9820, -0.5085],\n",
       "         [-2.1026, -0.5129,  1.1461]],\n",
       "\n",
       "        [[-0.6122, -0.4433, -0.1417],\n",
       "         [ 0.9440,  0.2192, -2.7538],\n",
       "         [ 0.4390, -1.7335, -0.7029],\n",
       "         ...,\n",
       "         [ 0.9529,  0.2693, -0.1730],\n",
       "         [ 1.3695, -0.4945,  1.4292],\n",
       "         [-1.1268,  1.4407,  0.4775]],\n",
       "\n",
       "        ...,\n",
       "\n",
       "        [[-0.2449, -0.7791, -0.5880],\n",
       "         [ 0.0780,  0.6354,  0.6054],\n",
       "         [ 0.0934,  1.2527,  0.0921],\n",
       "         ...,\n",
       "         [-0.1796,  2.2315, -0.2315],\n",
       "         [-0.9974,  2.3594, -0.2715],\n",
       "         [-2.0315,  1.9671,  2.0108]],\n",
       "\n",
       "        [[-0.8086,  0.2834, -1.3642],\n",
       "         [ 0.0703, -0.0580,  0.1757],\n",
       "         [ 0.3322, -0.3259, -1.2454],\n",
       "         ...,\n",
       "         [ 0.3372, -0.7286, -0.6459],\n",
       "         [-1.2626,  0.1368, -0.5165],\n",
       "         [ 0.7188, -0.2770, -0.0629]],\n",
       "\n",
       "        [[-1.3083,  1.3477,  1.3208],\n",
       "         [-0.8280, -1.0840, -0.5039],\n",
       "         [-0.4805, -1.4959,  1.1144],\n",
       "         ...,\n",
       "         [ 2.7129,  0.0222, -0.2585],\n",
       "         [-0.4524,  0.6754, -0.7162],\n",
       "         [-1.8888, -0.8406, -0.9321]]])"
      ]
     },
     "execution_count": 77,
     "metadata": {},
     "output_type": "execute_result"
    }
   ],
   "source": [
    "noise"
   ]
  },
  {
   "cell_type": "code",
   "execution_count": 78,
   "id": "58e9f802",
   "metadata": {},
   "outputs": [
    {
     "data": {
      "text/plain": [
       "torch.Size([8, 105, 3])"
      ]
     },
     "execution_count": 78,
     "metadata": {},
     "output_type": "execute_result"
    }
   ],
   "source": [
    "noise.size()"
   ]
  },
  {
   "cell_type": "code",
   "execution_count": 84,
   "id": "677de10b",
   "metadata": {},
   "outputs": [],
   "source": [
    "amount = amount.view(-1,1,1)"
   ]
  },
  {
   "cell_type": "code",
   "execution_count": 90,
   "id": "c4889706",
   "metadata": {
    "scrolled": true
   },
   "outputs": [
    {
     "data": {
      "text/plain": [
       "torch.Size([8, 105, 3])"
      ]
     },
     "execution_count": 90,
     "metadata": {},
     "output_type": "execute_result"
    }
   ],
   "source": [
    "((1 - amount) * crd).size()"
   ]
  },
  {
   "cell_type": "code",
   "execution_count": 91,
   "id": "73a4a846",
   "metadata": {},
   "outputs": [
    {
     "data": {
      "text/plain": [
       "torch.Size([8, 105, 3])"
      ]
     },
     "execution_count": 91,
     "metadata": {},
     "output_type": "execute_result"
    }
   ],
   "source": [
    "(amount * noise).size()"
   ]
  },
  {
   "cell_type": "code",
   "execution_count": 93,
   "id": "cca7bca7",
   "metadata": {},
   "outputs": [
    {
     "data": {
      "text/plain": [
       "torch.Size([8, 105, 3])"
      ]
     },
     "execution_count": 93,
     "metadata": {},
     "output_type": "execute_result"
    }
   ],
   "source": [
    "((1 - amount) * crd + amount * noise).size()"
   ]
  },
  {
   "cell_type": "code",
   "execution_count": 73,
   "id": "98f504dd",
   "metadata": {},
   "outputs": [
    {
     "data": {
      "text/plain": [
       "torch.Size([8, 105, 3])"
      ]
     },
     "execution_count": 73,
     "metadata": {},
     "output_type": "execute_result"
    }
   ],
   "source": [
    "crd.size()"
   ]
  },
  {
   "cell_type": "code",
   "execution_count": 74,
   "id": "2e81d6b6",
   "metadata": {},
   "outputs": [
    {
     "data": {
      "text/plain": [
       "torch.Size([8, 105, 3])"
      ]
     },
     "execution_count": 74,
     "metadata": {},
     "output_type": "execute_result"
    }
   ],
   "source": [
    "torch.randn_like(crd).size()"
   ]
  },
  {
   "cell_type": "code",
   "execution_count": 16,
   "id": "a7ebbf34",
   "metadata": {},
   "outputs": [],
   "source": [
    "c = test_dataset['crd'][0]"
   ]
  },
  {
   "cell_type": "code",
   "execution_count": 19,
   "id": "950fbd1d",
   "metadata": {},
   "outputs": [],
   "source": [
    "m = c != 0"
   ]
  },
  {
   "cell_type": "code",
   "execution_count": 261,
   "id": "bdbd753d",
   "metadata": {},
   "outputs": [
    {
     "data": {
      "text/plain": [
       "285"
      ]
     },
     "execution_count": 261,
     "metadata": {},
     "output_type": "execute_result"
    }
   ],
   "source": [
    "len(test_dataset['seq'][-1])"
   ]
  },
  {
   "cell_type": "code",
   "execution_count": 262,
   "id": "c6fca173",
   "metadata": {},
   "outputs": [],
   "source": [
    "train_dataset = trim_dataset(data['train'])"
   ]
  },
  {
   "cell_type": "code",
   "execution_count": 166,
   "id": "8e72396b",
   "metadata": {},
   "outputs": [],
   "source": [
    "crds = torch.tensor(data['train']['crd'][:2])"
   ]
  },
  {
   "cell_type": "code",
   "execution_count": 19,
   "id": "fc448782",
   "metadata": {},
   "outputs": [
    {
     "data": {
      "text/plain": [
       "tensor(0., dtype=torch.float64)"
      ]
     },
     "execution_count": 19,
     "metadata": {},
     "output_type": "execute_result"
    }
   ],
   "source": [
    "F.mse_loss(crds, crds)"
   ]
  },
  {
   "cell_type": "code",
   "execution_count": 24,
   "id": "74e515e7",
   "metadata": {},
   "outputs": [],
   "source": [
    "noise = crds + 0.01 * torch.randn_like(crds)"
   ]
  },
  {
   "cell_type": "code",
   "execution_count": 25,
   "id": "d6aac965",
   "metadata": {},
   "outputs": [
    {
     "data": {
      "text/plain": [
       "tensor(9.9447e-05, dtype=torch.float64)"
      ]
     },
     "execution_count": 25,
     "metadata": {},
     "output_type": "execute_result"
    }
   ],
   "source": [
    "F.mse_loss(crds, noise)"
   ]
  },
  {
   "cell_type": "code",
   "execution_count": 29,
   "id": "441b4318",
   "metadata": {},
   "outputs": [],
   "source": [
    "seqs = data['train']['seq'][0]"
   ]
  },
  {
   "cell_type": "code",
   "execution_count": 30,
   "id": "94026d37",
   "metadata": {},
   "outputs": [
    {
     "data": {
      "text/plain": [
       "'FHCVPRDLSWLDLEANMCLP'"
      ]
     },
     "execution_count": 30,
     "metadata": {},
     "output_type": "execute_result"
    }
   ],
   "source": [
    "seqs"
   ]
  },
  {
   "cell_type": "code",
   "execution_count": 36,
   "id": "f4d6fe07",
   "metadata": {},
   "outputs": [],
   "source": [
    "b = next(iter(data_loaders['train']))"
   ]
  },
  {
   "cell_type": "code",
   "execution_count": 40,
   "id": "f12e342c",
   "metadata": {},
   "outputs": [
    {
     "data": {
      "text/plain": [
       "tensor([[ 5, 15,  6, 10, 15, 13, 15,  4,  5, 14, 17,  9, 16,  7, 17,  6, 15,  2,\n",
       "          1,  0,  9,  9,  3, 14,  2,  5, 11,  7, 15,  9,  9, 15,  9, 12, 17,  0,\n",
       "          3, 14, 18,  9, 14, 13,  0, 13,  9, 16, 12,  5,  3,  0, 12, 17,  1,  0,\n",
       "         13, 12,  9,  9,  7, 12,  9, 14,  9,  8, 17, 15,  0,  3,  3,  8, 15,  0,\n",
       "          9,  3,  8,  0, 13, 15,  0,  9,  0,  3,  9,  5,  7,  2,  4, 13, 15,  2,\n",
       "          0, 13,  6, 17, 16,  7, 14,  0, 17, 12,  9, 12,  9, 14, 13, 13, 11,  9,\n",
       "         13,  7,  9,  7, 12,  3,  9,  7,  5, 19,  9,  0,  8, 13, 15, 17,  4,  3,\n",
       "         12,  5, 11,  7,  0, 13, 18,  7,  0, 14, 11,  9, 10, 15,  3,  6,  0, 13,\n",
       "         18, 15, 10,  0, 13,  0,  7, 16,  9,  9,  0,  2, 17,  3, 14,  9,  1, 12,\n",
       "         13,  9, 17,  8, 16, 12, 12,  5,  5,  9,  9, 13, 15, 17,  2,  9,  6, 12,\n",
       "          0,  7,  8,  0,  9,  8,  2,  3,  0,  0,  0,  0,  0,  0],\n",
       "        [10,  5, 11, 14,  9, 15,  8,  7,  0, 16, 14, 16,  5,  2,  2,  5, 16, 16,\n",
       "          5,  9,  5,  2,  5, 15, 14, 17, 14,  8,  2,  2,  0, 14,  7,  0,  0,  7,\n",
       "          5,  2, 17,  2,  3,  9, 11, 15, 13,  7,  5, 17,  9,  9,  0,  3, 12,  9,\n",
       "         12,  2,  2, 17, 14,  0,  0,  9, 15,  0,  7, 13,  6,  2,  9,  4,  2,  9,\n",
       "          5,  5,  3,  9,  1,  7, 12,  5,  6,  0,  0,  7, 16,  2,  0,  6,  9,  0,\n",
       "         14,  9,  2,  5, 18,  9,  0,  6, 19, 11,  5, 13,  9, 12, 12,  9,  3,  3,\n",
       "          4,  7,  9, 12,  5,  5,  0, 14,  5,  0,  0,  9,  0,  6, 17,  1, 14, 16,\n",
       "         17,  1, 14, 14,  0,  3, 14, 15,  7, 17,  0,  9,  5,  0, 15,  3, 12,  9,\n",
       "         11,  0,  0, 12, 14, 14, 19, 17, 11, 14,  9, 15,  2,  9,  9,  4, 17,  9,\n",
       "          0, 14, 17,  9, 11, 14,  0,  0,  5,  5,  0,  2, 17,  9, 18,  2, 14, 16,\n",
       "         14,  0,  6,  0,  0,  0,  0,  0,  0,  0,  0,  0,  0,  0],\n",
       "        [10,  4, 15, 15, 15,  0,  8,  7, 17,  8, 12, 11,  5,  3,  8, 12,  2,  3,\n",
       "          4,  3, 15,  5,  7, 15, 13,  0,  9,  9,  3,  9,  3, 10, 11, 15,  2,  9,\n",
       "          8,  0, 13,  9, 14,  3,  9, 11,  7, 16,  0,  0,  8,  3,  7,  3, 17,  5,\n",
       "          5,  5, 14,  8,  0,  7,  7,  7,  4, 17, 12, 17, 12, 13,  9,  8, 15,  4,\n",
       "         13,  8,  7, 13, 17, 14,  9, 17, 14,  3,  9,  3,  8,  8,  4, 15,  5,  8,\n",
       "          6, 17, 17,  4,  7,  0, 13, 14, 14,  7,  9, 12,  8, 12, 16, 14,  8, 15,\n",
       "         14, 16,  8, 11,  8, 13,  8, 14, 12, 14, 15, 14, 16,  9, 16,  0, 17,  6,\n",
       "          2,  0,  7,  9,  3,  2,  9, 17,  4, 12, 15,  3,  7, 17,  5,  8, 14,  7,\n",
       "         14, 17,  8,  9,  2,  5, 15, 14,  9,  7,  8, 17,  6,  9,  2,  8,  0, 13,\n",
       "         13, 11, 11, 17,  3,  6,  8, 17,  3, 16,  4, 15,  5, 17, 19,  8,  8,  9,\n",
       "         16,  5,  8,  2, 17, 11,  4,  3,  4, 12,  3,  4, 13,  9],\n",
       "        [17,  8,  8, 11,  2,  9,  4, 17,  2, 17, 15, 15,  6, 11,  5, 19,  2,  7,\n",
       "         16,  5,  7,  9,  3, 13, 10,  5, 16, 16, 11, 16,  7,  7,  8,  7, 15,  3,\n",
       "         15, 16, 16, 19,  9, 11, 12,  1,  9, 15,  0, 13, 17,  3, 13, 15, 11, 12,\n",
       "          7,  5,  4, 19,  6,  4,  0, 14,  4,  5,  5,  2, 17,  0,  3,  0,  3, 14,\n",
       "          3,  0, 13,  4,  4,  9,  2, 11, 17, 12, 10, 13, 17,  8, 19,  9, 17,  9,\n",
       "          2, 19, 13,  2,  2, 12, 15,  5,  2,  0, 13,  0, 11, 16, 11,  0,  1,  9,\n",
       "         14,  4, 10, 13, 10,  7,  0,  2,  0,  5, 19,  8, 12,  7, 19, 19, 15, 19,\n",
       "          8, 12,  4, 16,  6,  2, 11, 17,  2, 19, 13, 13,  7,  9,  0, 13,  4, 12,\n",
       "         11, 15,  9, 18,  7,  0,  5, 19,  5,  9, 11,  2,  5, 16,  0, 11,  4,  3,\n",
       "         19,  4, 12, 15, 10,  2,  5,  7, 14, 18, 18, 13, 19, 15, 15, 11, 12,  4,\n",
       "          2,  8, 11,  7, 17,  9,  9,  2,  2,  0,  0,  0,  0,  0]])"
      ]
     },
     "execution_count": 40,
     "metadata": {},
     "output_type": "execute_result"
    }
   ],
   "source": [
    "torch.argmax(b.seqs, dim=-1)"
   ]
  },
  {
   "cell_type": "code",
   "execution_count": 42,
   "id": "9f34bc35",
   "metadata": {},
   "outputs": [
    {
     "data": {
      "text/plain": [
       "torch.Size([4, 2716, 3])"
      ]
     },
     "execution_count": 42,
     "metadata": {},
     "output_type": "execute_result"
    }
   ],
   "source": [
    "b.crds.shape"
   ]
  },
  {
   "cell_type": "code",
   "execution_count": 44,
   "id": "a560f80e",
   "metadata": {},
   "outputs": [],
   "source": [
    "new_crds = rearrange(b.crds, 'b (l s) c -> b l s c', s=14)"
   ]
  },
  {
   "cell_type": "code",
   "execution_count": 46,
   "id": "2231b56b",
   "metadata": {},
   "outputs": [
    {
     "data": {
      "text/plain": [
       "torch.Size([4, 194, 14, 3])"
      ]
     },
     "execution_count": 46,
     "metadata": {},
     "output_type": "execute_result"
    }
   ],
   "source": [
    "new_crds.shape"
   ]
  },
  {
   "cell_type": "code",
   "execution_count": 47,
   "id": "1cc0e9aa",
   "metadata": {},
   "outputs": [
    {
     "data": {
      "text/plain": [
       "torch.Size([4, 194, 20])"
      ]
     },
     "execution_count": 47,
     "metadata": {},
     "output_type": "execute_result"
    }
   ],
   "source": [
    "b.seqs.shape"
   ]
  },
  {
   "cell_type": "code",
   "execution_count": 49,
   "id": "7691ba2d",
   "metadata": {},
   "outputs": [
    {
     "data": {
      "text/plain": [
       "tensor([[-9.6953e-01, -1.8002e+00,  3.3545e-01],\n",
       "        [ 4.8810e-01, -5.7722e-01, -8.1273e-01],\n",
       "        [ 8.4589e-01,  1.0866e+00,  2.3226e-01],\n",
       "        [-1.0384e+00, -6.9814e-01,  1.0918e+00],\n",
       "        [-1.2904e+00, -9.7244e-01, -4.8392e-01],\n",
       "        [ 6.5100e-01, -1.3838e-01, -8.0985e-01],\n",
       "        [ 4.7714e-01,  3.5143e-01, -1.5183e+00],\n",
       "        [-9.9304e-01, -6.5786e-01,  5.6736e-01],\n",
       "        [-1.6031e+00, -1.1703e+00,  1.2099e+00],\n",
       "        [ 3.5173e-01, -1.3192e+00,  7.6492e-01],\n",
       "        [ 1.3438e+00, -1.1330e+00, -1.1647e+00],\n",
       "        [ 4.9796e-01,  7.9589e-01, -5.2293e-01],\n",
       "        [ 2.5971e-01, -1.3565e+00,  4.7725e-01],\n",
       "        [ 8.5450e-01, -1.3952e+00, -1.0821e+00],\n",
       "        [-8.8849e-01, -8.3942e-01, -7.5527e-01],\n",
       "        [-1.5482e-01, -4.2044e-01, -2.1328e+00],\n",
       "        [ 1.9903e+00, -6.3510e-01, -1.1644e+00],\n",
       "        [-3.0839e-01, -1.8290e-01,  3.0444e-01],\n",
       "        [-5.0968e-01,  6.6035e-01,  5.6113e-01],\n",
       "        [-5.8891e-01,  7.7134e-01, -1.8091e+00],\n",
       "        [ 1.0607e+00, -1.8822e+00,  2.0799e-01],\n",
       "        [ 1.8558e+00, -1.5122e+00,  8.4060e-02],\n",
       "        [ 4.8831e-01,  3.3507e-01,  4.1386e-01],\n",
       "        [-1.0189e+00,  6.7164e-01,  1.1682e+00],\n",
       "        [-5.5983e-01,  2.6492e-01, -2.3602e-01],\n",
       "        [ 2.6034e-01, -1.3833e+00,  2.8709e-01],\n",
       "        [ 6.1304e-01,  2.0009e+00,  2.0102e+00],\n",
       "        [ 5.6525e-02,  1.0150e+00, -7.5669e-01],\n",
       "        [-6.8238e-01, -7.3353e-01,  1.2253e+00],\n",
       "        [-7.8592e-01, -2.0760e+00,  5.5829e-01],\n",
       "        [-1.6491e+00, -2.9597e-01,  8.2364e-01],\n",
       "        [ 1.2456e+00,  9.1036e-01, -5.3770e-01],\n",
       "        [ 5.2405e-01,  2.7111e+00,  1.4989e+00],\n",
       "        [ 2.3522e+00,  1.2465e+00, -8.5070e-01],\n",
       "        [-7.5049e-01, -1.0605e+00, -6.6789e-01],\n",
       "        [ 1.0392e-01,  4.0231e-01,  6.1576e-01],\n",
       "        [ 4.2035e-01, -7.2092e-01, -1.1714e+00],\n",
       "        [ 5.1354e-01,  2.6843e-01,  7.0605e-01],\n",
       "        [ 6.8369e-01, -1.2120e+00, -1.0364e-01],\n",
       "        [-1.9622e+00, -4.8079e-01,  5.8322e-01],\n",
       "        [ 3.3935e-01, -8.0824e-01,  3.8846e-01],\n",
       "        [-5.4039e-02,  1.9022e+00, -2.4386e-02],\n",
       "        [ 8.7631e-01,  7.9443e-01,  3.1122e-01],\n",
       "        [-1.1025e+00, -7.9361e-02, -1.2880e+00],\n",
       "        [-2.3435e+00, -1.5224e+00,  2.7869e-01],\n",
       "        [ 3.4409e-01,  7.1165e-01,  1.5560e-01],\n",
       "        [ 1.5165e-01, -6.8231e-01,  7.3351e-01],\n",
       "        [-8.9171e-01,  4.9625e-03,  5.9025e-01],\n",
       "        [ 1.4230e+00,  1.9227e+00, -1.9258e-01],\n",
       "        [-6.5798e-02, -1.2797e+00,  3.3589e-01],\n",
       "        [-1.1761e+00,  4.8102e-01,  3.4974e-02],\n",
       "        [-1.8108e+00,  1.7775e-01,  4.6999e-01],\n",
       "        [-1.0347e+00,  1.8752e+00,  7.6848e-03],\n",
       "        [-7.7385e-01, -1.2317e+00,  2.1924e+00],\n",
       "        [-3.3251e-01,  5.9481e-01, -4.7371e-02],\n",
       "        [-1.7871e+00,  4.6727e-01,  9.2313e-01],\n",
       "        [-6.0364e-01, -1.3977e-01, -1.0848e+00],\n",
       "        [-4.5550e-01,  1.2208e+00,  8.5039e-01],\n",
       "        [-4.1688e-01, -1.1019e+00, -3.0505e-01],\n",
       "        [-4.0577e-01,  4.3680e+00,  7.4735e-01],\n",
       "        [-6.5426e-01, -8.1435e-01,  3.8099e-01],\n",
       "        [-9.6607e-01,  3.7626e-01, -5.4649e-01],\n",
       "        [ 1.1821e+00, -1.7330e-01, -1.1749e-01],\n",
       "        [ 4.0616e-01, -8.2896e-02, -1.9366e-01],\n",
       "        [ 1.5589e-01, -1.0396e+00, -8.5763e-01],\n",
       "        [-1.3104e+00, -4.9250e-01,  3.0313e-01],\n",
       "        [ 7.2471e-01,  1.2363e+00, -1.6612e-01],\n",
       "        [-3.2920e-01, -6.2099e-01,  4.3760e-02],\n",
       "        [-3.1927e-01, -5.7618e-02, -3.7351e-01],\n",
       "        [ 9.4548e-01,  1.3117e+00, -1.4430e+00],\n",
       "        [ 1.4727e+00,  3.5128e-01, -2.6131e-01],\n",
       "        [-1.8001e-01, -9.0229e-01, -5.7468e-02],\n",
       "        [-8.8995e-01,  1.8090e-01, -9.5640e-02],\n",
       "        [-2.2409e-01, -1.6892e+00,  6.9891e-01],\n",
       "        [ 3.0729e-01,  9.8401e-01, -1.0591e+00],\n",
       "        [ 1.4582e-01,  3.4811e-01,  7.6963e-01],\n",
       "        [-8.4599e-02, -2.9938e-01,  2.2828e+00],\n",
       "        [ 3.3628e-01,  1.7720e+00,  8.1287e-01],\n",
       "        [ 1.2315e+00,  7.1222e-01,  1.5929e-01],\n",
       "        [-1.5391e+00,  1.3420e+00, -1.4645e-01],\n",
       "        [-1.1773e+00,  1.3531e+00, -1.0236e+00],\n",
       "        [-1.7399e+00, -8.9752e-01,  8.0945e-01],\n",
       "        [ 3.0244e+00,  1.0982e+00, -9.7390e-01],\n",
       "        [ 9.6324e-02, -1.0732e+00, -3.8463e-02],\n",
       "        [-4.1239e-02, -1.7384e-01, -1.6137e+00],\n",
       "        [-4.0569e-01, -4.9093e-01,  8.7311e-01],\n",
       "        [ 1.1349e+00,  6.4813e-01, -5.8828e-01],\n",
       "        [-6.6613e-01, -1.2422e+00, -2.3448e-01],\n",
       "        [ 1.7658e+00,  5.4105e-01, -6.0355e-01],\n",
       "        [ 2.7234e+00,  2.4072e+00,  1.0977e+00],\n",
       "        [ 1.8934e+00, -8.8442e-01, -6.9998e-01],\n",
       "        [ 8.2698e-01,  1.1615e+00, -2.6392e-01],\n",
       "        [ 1.0119e-02,  1.1719e+00,  2.8373e-02],\n",
       "        [-7.4008e-01,  8.3353e-01, -3.6995e-01],\n",
       "        [-2.4483e-01,  1.7833e-01, -5.3824e-01],\n",
       "        [-2.1272e+00, -1.8337e+00,  2.6307e-01],\n",
       "        [ 2.1121e+00, -1.7590e+00, -4.6293e-01],\n",
       "        [ 1.0498e+00,  1.8733e-01, -4.8446e-01],\n",
       "        [ 1.0112e+00,  7.7935e-01,  2.4263e+00],\n",
       "        [ 8.9588e-01, -2.5570e+00, -2.1856e+00],\n",
       "        [ 1.0403e+00,  2.6801e-01, -1.6579e+00],\n",
       "        [ 1.4394e+00,  3.7629e-01,  2.2469e+00],\n",
       "        [ 2.4506e-01,  4.8571e-01,  1.6983e-01],\n",
       "        [ 1.2732e+00, -1.4108e+00,  2.6877e+00],\n",
       "        [-2.1088e-01, -6.2329e-01,  1.3280e-01],\n",
       "        [ 7.1306e-01,  9.9073e-01,  1.7054e-01],\n",
       "        [-1.1906e-01,  1.0374e+00,  1.0454e+00],\n",
       "        [-3.5431e-01,  2.7593e-02, -5.8970e-01],\n",
       "        [-9.0986e-01,  2.0589e+00,  5.2343e-01],\n",
       "        [-4.3399e-01,  2.3943e-01,  2.7036e+00],\n",
       "        [ 1.3113e-01,  6.5654e-01,  1.4580e+00],\n",
       "        [ 4.4543e-01,  1.8484e+00, -5.4083e-02],\n",
       "        [ 2.0674e+00, -1.0395e+00, -4.5186e-01],\n",
       "        [ 1.5558e+00,  1.7630e+00, -1.2358e+00],\n",
       "        [-8.1497e-01,  1.7473e+00, -4.4858e-01],\n",
       "        [-4.3254e-01,  7.3130e-01, -8.1633e-02],\n",
       "        [ 1.5505e+00,  7.4501e-01, -5.5304e-01],\n",
       "        [ 5.4728e-01,  1.2874e-01, -4.3434e-01],\n",
       "        [ 1.0058e-01,  4.6881e-01, -1.0642e+00],\n",
       "        [ 1.6811e-01, -8.8460e-01,  1.1285e+00],\n",
       "        [ 3.8646e-01,  7.1843e-01, -2.1799e+00],\n",
       "        [ 1.0358e-01, -9.7381e-01,  1.9676e+00],\n",
       "        [ 8.6268e-02, -5.7896e-01,  1.6956e+00],\n",
       "        [-2.8103e-01, -1.7451e-01,  3.9467e-01],\n",
       "        [-1.4124e+00,  7.2497e-02,  3.8302e-01],\n",
       "        [ 8.0296e-02,  5.6321e-01, -3.9108e-01],\n",
       "        [-8.2965e-01, -1.1154e+00, -1.2048e+00],\n",
       "        [ 4.0958e-01, -1.1064e+00,  2.4827e-01],\n",
       "        [-7.6654e-01, -1.3603e+00, -2.7363e-02],\n",
       "        [ 9.4409e-01, -1.1713e+00,  1.3941e-01],\n",
       "        [-1.4202e+00, -1.6295e+00, -2.6692e-01],\n",
       "        [-8.1095e-01,  4.6728e-01, -1.1454e+00],\n",
       "        [-1.0985e+00, -7.7187e-01,  9.1096e-01],\n",
       "        [-9.4802e-01, -1.7534e+00,  2.3583e-01],\n",
       "        [ 5.9320e-01,  2.1108e-01,  8.0789e-01],\n",
       "        [ 7.4815e-01,  3.2425e+00,  1.9168e+00],\n",
       "        [ 7.7620e-02, -7.0759e-01,  2.3064e-01],\n",
       "        [-2.0664e+00,  3.9912e-01,  1.1357e+00],\n",
       "        [ 4.5344e-01,  3.8173e-01,  4.3697e-01],\n",
       "        [-4.0898e-01,  2.0433e+00, -5.1633e-01],\n",
       "        [ 9.5335e-01, -9.4352e-01, -1.7176e-01],\n",
       "        [ 1.1961e+00,  5.2418e-01, -3.2634e+00],\n",
       "        [ 2.3439e-01,  1.9051e+00, -1.4138e+00],\n",
       "        [-1.3481e+00, -3.9384e-01, -1.2368e+00],\n",
       "        [ 3.6478e+00, -1.3451e+00,  1.8286e+00],\n",
       "        [-1.0853e+00,  1.6377e+00, -1.4884e+00],\n",
       "        [-1.1180e+00,  1.0456e-01,  2.7241e-02],\n",
       "        [-1.1030e-01, -5.4291e-01, -2.2156e+00],\n",
       "        [ 8.9344e-01,  1.8837e-01,  4.3223e-01],\n",
       "        [ 7.2276e-01, -1.4265e+00,  1.0539e+00],\n",
       "        [ 8.1584e-01, -1.0313e+00,  9.8110e-01],\n",
       "        [ 2.1911e-01, -1.0958e-02, -3.8787e-01],\n",
       "        [-1.3480e-01, -6.1238e-01, -7.0607e-01],\n",
       "        [ 1.1886e+00, -1.9820e-01,  3.3678e-02],\n",
       "        [ 3.2092e-01,  1.7422e+00, -5.1825e-01],\n",
       "        [-7.6429e-02, -1.5440e+00, -8.5392e-03],\n",
       "        [ 9.1014e-01,  6.0430e-01,  1.5224e+00],\n",
       "        [ 9.2630e-01, -5.5713e-01,  8.4762e-01],\n",
       "        [-1.0946e+00, -3.4373e-01, -2.8729e-01],\n",
       "        [-9.0363e-01, -2.8219e-01,  4.3629e-01],\n",
       "        [ 1.9544e+00,  3.5935e-01,  6.9817e-02],\n",
       "        [-1.2642e-01, -2.8187e-01, -2.2603e-01],\n",
       "        [ 6.8595e-01, -1.2267e-01,  1.0439e+00],\n",
       "        [-1.6626e-01,  5.9672e-01, -3.5182e-01],\n",
       "        [ 1.9293e-01, -6.6007e-01,  1.8295e+00],\n",
       "        [-1.7016e+00, -5.5489e-01,  6.7139e-01],\n",
       "        [-7.6229e-01, -2.6310e-01,  6.7520e-01],\n",
       "        [-8.4095e-01,  1.0207e+00, -1.3037e+00],\n",
       "        [-2.5335e-01,  6.4297e-01,  2.8384e-01],\n",
       "        [ 1.8201e+00,  4.3847e-01, -1.1080e+00],\n",
       "        [-4.6182e-01,  1.4068e+00, -7.3869e-01],\n",
       "        [ 4.5540e-01,  3.2533e-01, -2.2830e+00],\n",
       "        [-8.5136e-01, -1.0630e-02,  1.5167e+00],\n",
       "        [-6.2487e-01,  9.1220e-02,  9.8784e-01],\n",
       "        [-1.8285e-01,  2.7731e-01,  1.4797e+00],\n",
       "        [-8.4594e-01,  4.4402e-01,  1.1149e+00],\n",
       "        [ 5.1486e-01,  7.4375e-01, -1.3315e-01],\n",
       "        [-1.6391e+00,  5.8982e-01, -2.5104e-01],\n",
       "        [-1.0115e+00,  6.1733e-01,  1.2783e+00],\n",
       "        [ 2.7329e-01,  1.5473e+00, -3.7631e-01],\n",
       "        [-3.0109e+00, -1.1510e+00, -1.3308e-01],\n",
       "        [-9.9927e-01, -1.0130e+00,  5.4659e-01],\n",
       "        [-4.4214e-01,  1.1202e+00,  5.4336e-01],\n",
       "        [ 1.9590e+00, -1.1362e+00,  1.0691e+00],\n",
       "        [ 1.3432e+00,  3.3242e-01, -1.0921e+00],\n",
       "        [ 1.1239e-01,  3.6631e-01,  7.2231e-01],\n",
       "        [ 5.2822e-01, -3.5419e-01, -9.3474e-01],\n",
       "        [ 1.4286e-01, -1.0138e+00, -1.2045e+00],\n",
       "        [ 7.4498e-01, -1.2149e-01,  4.1727e-01],\n",
       "        [-1.3322e+00, -4.6463e-01, -2.5154e-01],\n",
       "        [-1.2184e+00,  7.6697e-01, -2.4084e-01],\n",
       "        [-9.7232e-01, -4.9434e-01,  1.1869e+00],\n",
       "        [-2.4493e-01, -9.8473e-01, -8.1067e-01],\n",
       "        [ 1.4056e+00,  9.1773e-01, -7.6261e-01],\n",
       "        [ 7.3270e-01,  1.2320e+00,  4.1809e-01],\n",
       "        [ 9.0391e-02, -1.6037e+00,  1.8596e+00],\n",
       "        [-7.4007e-02,  5.8267e-03,  1.1073e+00],\n",
       "        [-2.0042e-01, -6.5835e-01, -6.2208e-01],\n",
       "        [ 2.2633e+00,  5.8456e-01, -1.1631e+00],\n",
       "        [-1.2355e-01, -9.2452e-01,  5.4430e-01],\n",
       "        [ 1.3932e+00,  5.0317e-01, -2.1743e+00],\n",
       "        [ 2.4624e-03, -7.1296e-01,  5.6989e-01],\n",
       "        [ 9.9744e-01, -3.3768e-01, -6.7375e-01],\n",
       "        [ 1.0756e+00, -4.3604e-01, -1.9315e+00],\n",
       "        [-5.8546e-02, -7.4092e-02,  5.7573e-01],\n",
       "        [-8.5173e-01,  1.9757e-01, -9.1938e-01],\n",
       "        [ 1.7001e-01,  4.1984e-01,  1.2000e+00],\n",
       "        [-7.7944e-01, -1.7816e+00, -3.2529e-01],\n",
       "        [ 6.7687e-01, -2.2853e-01,  9.7971e-01],\n",
       "        [-1.9532e-01, -1.6297e+00, -6.5566e-01],\n",
       "        [-2.5805e+00,  1.0780e-01, -2.6882e-02],\n",
       "        [-1.0724e-01, -8.2932e-01,  9.0629e-01],\n",
       "        [ 3.0455e-02,  2.6234e-01, -1.0158e+00],\n",
       "        [ 1.4416e+00, -9.8607e-01,  1.5995e+00],\n",
       "        [-1.3024e+00,  2.1392e+00,  5.3733e-01],\n",
       "        [ 2.4799e-01,  2.5871e-01,  1.5590e+00],\n",
       "        [-1.3385e+00,  4.9348e-01, -1.1230e+00],\n",
       "        [-7.4710e-02,  8.8382e-01,  8.1318e-01],\n",
       "        [-5.6173e-01,  8.1971e-01, -1.1643e+00],\n",
       "        [ 6.6195e-01,  5.6014e-01,  6.6414e-01],\n",
       "        [ 7.3186e-01,  5.2618e-01,  3.0807e-01],\n",
       "        [ 6.9948e-01, -1.0257e+00,  2.1287e-01],\n",
       "        [ 2.5247e-01, -8.8807e-01, -1.9984e-01],\n",
       "        [ 9.1149e-01, -5.6150e-01, -2.1203e-01],\n",
       "        [-1.4515e+00,  1.1713e-01,  2.5257e+00],\n",
       "        [-4.0472e-01,  2.0939e+00, -4.0263e-02],\n",
       "        [ 9.9010e-01,  2.6608e+00, -1.4090e+00],\n",
       "        [ 8.1384e-01, -1.7442e+00, -1.3287e-02],\n",
       "        [-1.2230e+00,  3.3554e-01, -8.1751e-01],\n",
       "        [-5.5188e-01, -4.0731e-01, -6.1795e-02],\n",
       "        [-1.1292e+00,  4.3749e-01, -7.8148e-01],\n",
       "        [ 8.7011e-01, -1.4978e+00, -7.5697e-01],\n",
       "        [ 1.2602e+00,  3.9071e-01, -1.7866e+00],\n",
       "        [ 3.4206e-01, -1.5336e+00, -5.5137e-01],\n",
       "        [ 1.9490e+00, -4.7460e-01,  3.2583e-01],\n",
       "        [ 2.6053e+00,  1.1833e+00, -9.9144e-01],\n",
       "        [-4.8110e-01,  9.6394e-01,  7.8502e-01],\n",
       "        [ 1.1084e+00,  1.7205e+00,  2.6580e+00],\n",
       "        [ 5.6987e-01,  9.2831e-01, -4.7397e-01],\n",
       "        [-4.6444e-01, -1.2722e-01, -4.9290e-01],\n",
       "        [-1.1465e+00, -6.1591e-01,  9.9340e-02],\n",
       "        [ 6.1197e-01,  6.2041e-01,  2.5690e-01],\n",
       "        [ 6.3567e-02,  9.3321e-01, -1.6728e+00],\n",
       "        [ 2.2802e+00,  1.5977e-01,  1.5194e+00],\n",
       "        [-9.2649e-01, -2.4308e-01,  5.2032e-01],\n",
       "        [-9.7544e-01,  9.4823e-01,  5.8937e-01],\n",
       "        [ 6.9523e-01, -8.0325e-01, -1.0593e+00],\n",
       "        [ 2.2497e+00, -1.8942e-01, -1.1244e+00],\n",
       "        [-1.7846e+00,  1.4619e+00, -4.8709e-01],\n",
       "        [-1.6370e+00, -5.4791e-02,  7.4807e-01],\n",
       "        [-5.2439e-01,  6.3730e-01,  2.3653e-01],\n",
       "        [-1.1320e+00, -1.2741e+00,  6.8452e-01],\n",
       "        [ 9.3068e-01,  4.2160e-01, -7.7295e-01],\n",
       "        [ 2.5899e+00,  2.4473e-01, -1.7275e+00],\n",
       "        [-1.1245e-01, -2.3660e-01,  1.3426e+00],\n",
       "        [-1.9175e-01, -1.0522e+00, -1.0407e+00],\n",
       "        [ 3.0128e-01,  1.7375e-02,  3.7659e-01],\n",
       "        [-5.4077e-01,  1.2896e+00, -2.4322e-01],\n",
       "        [ 4.1414e-01, -9.2516e-01,  6.3910e-01],\n",
       "        [-6.7051e-01, -1.6588e+00,  7.2143e-01],\n",
       "        [ 4.1144e-01,  2.7310e-01,  5.9368e-01],\n",
       "        [-2.0024e-01, -5.5943e-01, -6.7963e-01],\n",
       "        [ 3.6228e-01,  2.3293e+00,  5.4892e-01],\n",
       "        [-7.3286e-01, -9.5563e-01,  1.6796e+00],\n",
       "        [-7.2598e-01,  9.5471e-01,  6.2465e-02],\n",
       "        [-5.2443e-01,  1.4453e+00, -1.0408e+00],\n",
       "        [-1.5962e+00, -4.9168e-01,  2.2568e-02],\n",
       "        [ 1.7063e+00, -2.2460e+00,  6.9786e-01],\n",
       "        [-4.5720e-01,  3.0909e-01, -6.7442e-01],\n",
       "        [ 4.3955e-01,  8.8650e-01, -9.6985e-01],\n",
       "        [-4.4885e-01, -1.8092e+00, -1.7705e+00],\n",
       "        [-5.7437e-01,  1.0363e+00, -1.4103e+00],\n",
       "        [ 1.1450e+00, -1.0524e-01,  7.0110e-01],\n",
       "        [-3.8574e-01,  4.4678e-01,  7.9658e-02],\n",
       "        [ 7.2883e-01, -7.0231e-01,  9.6744e-01],\n",
       "        [ 8.5373e-01, -1.2698e+00,  1.1498e+00],\n",
       "        [-2.6301e-01, -7.7547e-01,  1.0978e+00],\n",
       "        [-1.0829e+00,  2.2657e-01, -4.8590e-01],\n",
       "        [ 9.3882e-01,  5.2192e-01, -9.8333e-01],\n",
       "        [-1.5848e+00,  3.2380e-01, -8.6624e-01]], dtype=torch.float64)"
      ]
     },
     "execution_count": 49,
     "metadata": {},
     "output_type": "execute_result"
    }
   ],
   "source": [
    "torch.randn_like(crds)\n"
   ]
  },
  {
   "cell_type": "code",
   "execution_count": 54,
   "id": "e79cd8ae",
   "metadata": {},
   "outputs": [
    {
     "data": {
      "text/plain": [
       "torch.Size([280, 3])"
      ]
     },
     "execution_count": 54,
     "metadata": {},
     "output_type": "execute_result"
    }
   ],
   "source": [
    "crds.shape"
   ]
  },
  {
   "cell_type": "code",
   "execution_count": 67,
   "id": "5ddcf747",
   "metadata": {},
   "outputs": [],
   "source": [
    "struct = scn.BatchedStructureBuilder(seq_batch=torch.argmax(b.seqs, dim=-1), crd_batch=b.crds) "
   ]
  },
  {
   "cell_type": "code",
   "execution_count": 68,
   "id": "d738d010",
   "metadata": {},
   "outputs": [
    {
     "data": {
      "text/plain": [
       "<sidechainnet.structure.BatchedStructureBuilder.BatchedStructureBuilder at 0x17ba2ee20>"
      ]
     },
     "execution_count": 68,
     "metadata": {},
     "output_type": "execute_result"
    }
   ],
   "source": [
    "struct"
   ]
  },
  {
   "cell_type": "code",
   "execution_count": 71,
   "id": "75e83550",
   "metadata": {},
   "outputs": [],
   "source": [
    "s = struct.build()"
   ]
  },
  {
   "cell_type": "code",
   "execution_count": 73,
   "id": "7379abe2",
   "metadata": {},
   "outputs": [
    {
     "data": {
      "text/plain": [
       "torch.Size([2716, 3])"
      ]
     },
     "execution_count": 73,
     "metadata": {},
     "output_type": "execute_result"
    }
   ],
   "source": [
    "s[0].shape"
   ]
  },
  {
   "cell_type": "code",
   "execution_count": 74,
   "id": "8349d9d2",
   "metadata": {},
   "outputs": [
    {
     "data": {
      "text/plain": [
       "4"
      ]
     },
     "execution_count": 74,
     "metadata": {},
     "output_type": "execute_result"
    }
   ],
   "source": [
    "len(s)"
   ]
  },
  {
   "cell_type": "code",
   "execution_count": 77,
   "id": "983f7ee6",
   "metadata": {},
   "outputs": [
    {
     "data": {
      "application/3dmoljs_load.v0": "<div id=\"3dmolviewer_1676338529635565\"  style=\"position: relative; width: 640px; height: 480px\">\n        <p id=\"3dmolwarning_1676338529635565\" style=\"background-color:#ffcccc;color:black\">You appear to be running in JupyterLab (or JavaScript failed to load for some other reason).  You need to install the 3dmol extension: <br>\n        <tt>jupyter labextension install jupyterlab_3dmol</tt></p>\n        </div>\n<script>\n\nvar loadScriptAsync = function(uri){\n  return new Promise((resolve, reject) => {\n    //this is to ignore the existence of requirejs amd\n    var savedexports, savedmodule;\n    if (typeof exports !== 'undefined') savedexports = exports;\n    else exports = {}\n    if (typeof module !== 'undefined') savedmodule = module;\n    else module = {}\n\n    var tag = document.createElement('script');\n    tag.src = uri;\n    tag.async = true;\n    tag.onload = () => {\n        exports = savedexports;\n        module = savedmodule;\n        resolve();\n    };\n  var firstScriptTag = document.getElementsByTagName('script')[0];\n  firstScriptTag.parentNode.insertBefore(tag, firstScriptTag);\n});\n};\n\nif(typeof $3Dmolpromise === 'undefined') {\n$3Dmolpromise = null;\n  $3Dmolpromise = loadScriptAsync('https://cdn.jsdelivr.net/npm/3dmol@latest/build/3Dmol-min.min.js');\n}\n\nvar viewer_1676338529635565 = null;\nvar warn = document.getElementById(\"3dmolwarning_1676338529635565\");\nif(warn) {\n    warn.parentNode.removeChild(warn);\n}\n$3Dmolpromise.then(function() {\nviewer_1676338529635565 = $3Dmol.createViewer(document.getElementById(\"3dmolviewer_1676338529635565\"),{backgroundColor:\"white\"});\nviewer_1676338529635565.zoomTo();\n\tviewer_1676338529635565.addModel(\"REMARK  pred\\nSEQRES   1 A  194  GLY SER HIS MET SER GLN SER PHE GLY ARG VAL LEU THR          \\nSEQRES   2 A  194  ILE VAL HIS SER ASP CYS ALA LEU LEU GLU ARG ASP GLY          \\nSEQRES   3 A  194  ASN ILE SER LEU LEU SER LEU PRO VAL ALA GLU ARG TRP          \\nSEQRES   4 A  194  LEU ARG GLN ALA GLN LEU THR PRO GLY GLU ALA PRO VAL          \\nSEQRES   5 A  194  CYS ALA GLN PRO LEU LEU ILE PRO LEU ARG LEU LYS VAL          \\nSEQRES   6 A  194  SER ALA GLU GLU LYS SER ALA LEU GLU LYS ALA GLN SER          \\nSEQRES   7 A  194  ALA LEU ALA GLU LEU GLY ILE ASP PHE GLN SER ASP ALA          \\nSEQRES   8 A  194  GLN HIS VAL THR ILE ARG ALA VAL PRO LEU PRO LEU ARG          \\nSEQRES   9 A  194  GLN GLN ASN LEU GLN ILE LEU ILE PRO GLU LEU ILE GLY          \\nSEQRES  10 A  194  TYR LEU ALA LYS GLN SER VAL PHE GLU PRO GLY ASN ILE          \\nSEQRES  11 A  194  ALA GLN TRP ILE ALA ARG ASN LEU MET SER GLU HIS ALA          \\nSEQRES  12 A  194  GLN TRP SER MET ALA GLN ALA ILE THR LEU LEU ALA ASP          \\nSEQRES  13 A  194  VAL GLU ARG LEU CYS PRO GLN LEU VAL LYS THR PRO PRO          \\nSEQRES  14 A  194  GLY GLY LEU LEU GLN SER VAL ASP LEU HIS PRO ALA ILE          \\nSEQRES  15 A  194  LYS ALA LEU LYS ASP GLU ALA ALA ALA ALA ALA ALA              \\nATOM      1  N   GLN A   6      -1.353  54.083  20.624  1.00  0.00           N  \\nATOM      2  CA  GLN A   6      -1.881  54.484  19.292  1.00  0.00           C  \\nATOM      3  C   GLN A   6      -0.885  54.176  18.169  1.00  0.00           C  \\nATOM      4  O   GLN A   6       0.047  53.392  18.348  1.00  0.00           O  \\nATOM      5  CB  GLN A   6      -2.214  55.976  19.271  1.00  0.00           C  \\nATOM      6  CG  GLN A   6      -3.072  56.449  20.426  1.00  0.00           C  \\nATOM      7  CD  GLN A   6      -3.742  57.782  20.134  1.00  0.00           C  \\nATOM      8 OE1  GLN A   6      -4.741  57.843  19.409  1.00  0.00           O  \\nATOM      9 NE2  GLN A   6      -3.188  58.860  20.686  1.00  0.00           N  \\nATOM     10  N   SER A   7      -1.086  54.814  17.018  1.00  0.00           N  \\nATOM     11  CA  SER A   7      -0.244  54.587  15.854  1.00  0.00           C  \\nATOM     12  C   SER A   7      -0.112  55.813  14.963  1.00  0.00           C  \\nATOM     13  O   SER A   7      -1.002  56.662  14.935  1.00  0.00           O  \\nATOM     14  CB  SER A   7      -0.823  53.435  15.035  1.00  0.00           C  \\nATOM     15  OG  SER A   7      -0.226  53.366  13.755  1.00  0.00           O  \\nATOM     16  N   PHE A   8       1.001  55.901  14.236  1.00  0.00           N  \\nATOM     17  CA  PHE A   8       1.227  57.013  13.318  1.00  0.00           C  \\nATOM     18  C   PHE A   8       0.390  56.798  12.066  1.00  0.00           C  \\nATOM     19  O   PHE A   8       0.211  57.711  11.268  1.00  0.00           O  \\nATOM     20  CB  PHE A   8       2.687  57.090  12.900  1.00  0.00           C  \\nATOM     21  CG  PHE A   8       3.599  57.573  13.975  1.00  0.00           C  \\nATOM     22 CD1  PHE A   8       3.584  58.908  14.361  1.00  0.00           C  \\nATOM     23 CE1  PHE A   8       4.432  59.369  15.359  1.00  0.00           C  \\nATOM     24  CZ  PHE A   8       5.308  58.479  15.982  1.00  0.00           C  \\nATOM     25 CE2  PHE A   8       5.325  57.137  15.597  1.00  0.00           C  \\nATOM     26 CD2  PHE A   8       4.476  56.695  14.602  1.00  0.00           C  \\nATOM     27  N   GLY A   9      -0.105  55.578  11.890  1.00  0.00           N  \\nATOM     28  CA  GLY A   9      -0.918  55.291  10.723  1.00  0.00           C  \\nATOM     29  C   GLY A   9      -0.325  54.238   9.807  1.00  0.00           C  \\nATOM     30  O   GLY A   9       0.485  53.411  10.231  1.00  0.00           O  \\nATOM     31  N   ARG A  10      -0.744  54.266   8.546  1.00  0.00           N  \\nATOM     32  CA  ARG A  10      -0.258  53.321   7.556  1.00  0.00           C  \\nATOM     33  C   ARG A  10       0.793  53.984   6.690  1.00  0.00           C  \\nATOM     34  O   ARG A  10       0.579  55.093   6.178  1.00  0.00           O  \\nATOM     35  CB  ARG A  10      -1.405  52.842   6.658  1.00  0.00           C  \\nATOM     36  CG  ARG A  10      -1.008  51.814   5.581  1.00  0.00           C  \\nATOM     37  CD  ARG A  10      -2.253  51.359   4.805  1.00  0.00           C  \\nATOM     38  NE  ARG A  10      -1.946  50.535   3.639  1.00  0.00           N  \\nATOM     39  CZ  ARG A  10      -1.786  49.214   3.666  1.00  0.00           C  \\nATOM     40 NH1  ARG A  10      -1.909  48.553   4.803  1.00  0.00           N  \\nATOM     41 NH2  ARG A  10      -1.491  48.550   2.550  1.00  0.00           N  \\nATOM     42  N   VAL A  11       1.928  53.307   6.535  1.00  0.00           N  \\nATOM     43  CA  VAL A  11       3.002  53.808   5.690  1.00  0.00           C  \\nATOM     44  C   VAL A  11       2.542  53.636   4.248  1.00  0.00           C  \\nATOM     45  O   VAL A  11       2.194  52.542   3.831  1.00  0.00           O  \\nATOM     46  CB  VAL A  11       4.309  53.016   5.905  1.00  0.00           C  \\nATOM     47 CG1  VAL A  11       5.393  53.500   4.921  1.00  0.00           C  \\nATOM     48 CG2  VAL A  11       4.789  53.214   7.337  1.00  0.00           C  \\nATOM     49  N   LEU A  12       2.532  54.717   3.486  1.00  0.00           N  \\nATOM     50  CA  LEU A  12       2.078  54.642   2.106  1.00  0.00           C  \\nATOM     51  C   LEU A  12       3.200  54.470   1.105  1.00  0.00           C  \\nATOM     52  O   LEU A  12       3.130  53.611   0.219  1.00  0.00           O  \\nATOM     53  CB  LEU A  12       1.294  55.901   1.743  1.00  0.00           C  \\nATOM     54  CG  LEU A  12       0.089  56.215   2.623  1.00  0.00           C  \\nATOM     55 CD1  LEU A  12      -0.555  57.521   2.133  1.00  0.00           C  \\nATOM     56 CD2  LEU A  12      -0.903  55.048   2.560  1.00  0.00           C  \\nATOM     57  N   THR A  13       4.229  55.303   1.232  1.00  0.00           N  \\nATOM     58  CA  THR A  13       5.358  55.245   0.312  1.00  0.00           C  \\nATOM     59  C   THR A  13       6.524  55.994   0.951  1.00  0.00           C  \\nATOM     60  O   THR A  13       6.335  56.730   1.919  1.00  0.00           O  \\nATOM     61  CB  THR A  13       4.993  55.930  -1.044  1.00  0.00           C  \\nATOM     62 OG1  THR A  13       6.098  55.855  -1.951  1.00  0.00           O  \\nATOM     63 CG2  THR A  13       4.658  57.392  -0.830  1.00  0.00           C  \\nATOM     64  N   ILE A  14       7.722  55.785   0.417  1.00  0.00           N  \\nATOM     65  CA  ILE A  14       8.909  56.479   0.903  1.00  0.00           C  \\nATOM     66  C   ILE A  14       9.074  57.728   0.044  1.00  0.00           C  \\nATOM     67  O   ILE A  14       9.051  57.656  -1.180  1.00  0.00           O  \\nATOM     68  CB  ILE A  14      10.196  55.631   0.760  1.00  0.00           C  \\nATOM     69 CG1  ILE A  14      10.078  54.342   1.572  1.00  0.00           C  \\nATOM     70 CD1  ILE A  14       9.727  54.568   3.055  1.00  0.00           C  \\nATOM     71 CG2  ILE A  14      11.393  56.437   1.244  1.00  0.00           C  \\nATOM     72  N   VAL A  15       9.243  58.866   0.695  1.00  0.00           N  \\nATOM     73  CA  VAL A  15       9.392  60.131   0.003  1.00  0.00           C  \\nATOM     74  C   VAL A  15      10.800  60.675   0.195  1.00  0.00           C  \\nATOM     75  O   VAL A  15      11.294  60.740   1.312  1.00  0.00           O  \\nATOM     76  CB  VAL A  15       8.403  61.161   0.556  1.00  0.00           C  \\nATOM     77 CG1  VAL A  15       8.595  62.480  -0.150  1.00  0.00           C  \\nATOM     78 CG2  VAL A  15       6.983  60.660   0.395  1.00  0.00           C  \\nATOM     79  N   HIS A  16      11.439  61.070  -0.898  1.00  0.00           N  \\nATOM     80  CA  HIS A  16      12.789  61.624  -0.840  1.00  0.00           C  \\nATOM     81  C   HIS A  16      13.778  60.843  -0.007  1.00  0.00           C  \\nATOM     82  O   HIS A  16      14.394  61.396   0.901  1.00  0.00           O  \\nATOM     83  CB  HIS A  16      12.725  63.063  -0.338  1.00  0.00           C  \\nATOM     84  CG  HIS A  16      12.131  64.001  -1.335  1.00  0.00           C  \\nATOM     85 ND1  HIS A  16      11.901  65.332  -1.073  1.00  0.00           N  \\nATOM     86 CE1  HIS A  16      11.375  65.904  -2.144  1.00  0.00           C  \\nATOM     87 NE2  HIS A  16      11.257  64.988  -3.090  1.00  0.00           N  \\nATOM     88 CD2  HIS A  16      11.723  63.790  -2.610  1.00  0.00           C  \\nATOM     89  N   SER A  17      13.914  59.561  -0.311  1.00  0.00           N  \\nATOM     90  CA  SER A  17      14.843  58.676   0.373  1.00  0.00           C  \\nATOM     91  C   SER A  17      14.790  58.486   1.897  1.00  0.00           C  \\nATOM     92  O   SER A  17      15.228  57.437   2.374  1.00  0.00           O  \\nATOM     93  CB  SER A  17      16.276  59.030  -0.036  1.00  0.00           C  \\nATOM     94  OG  SER A  17      16.546  60.396   0.208  1.00  0.00           O  \\nATOM     95  N   ASP A  18      14.287  59.453   2.670  1.00  0.00           N  \\nATOM     96  CA  ASP A  18      14.234  59.238   4.120  1.00  0.00           C  \\nATOM     97  C   ASP A  18      12.973  59.717   4.869  1.00  0.00           C  \\nATOM     98  O   ASP A  18      13.011  59.994   6.077  1.00  0.00           O  \\nATOM     99  CB  ASP A  18      15.499  59.798   4.792  1.00  0.00           C  \\nATOM    100  CG  ASP A  18      15.587  61.302   4.720  1.00  0.00           C  \\nATOM    101 OD1  ASP A  18      14.588  61.940   4.331  1.00  0.00           O  \\nATOM    102 OD2  ASP A  18      16.653  61.859   5.066  1.00  0.00           O  \\nATOM    103  N   CYS A  19      11.859  59.819   4.156  1.00  0.00           N  \\nATOM    104  CA  CYS A  19      10.612  60.217   4.789  1.00  0.00           C  \\nATOM    105  C   CYS A  19       9.540  59.201   4.426  1.00  0.00           C  \\nATOM    106  O   CYS A  19       9.691  58.443   3.473  1.00  0.00           O  \\nATOM    107  CB  CYS A  19      10.189  61.610   4.334  1.00  0.00           C  \\nATOM    108  SG  CYS A  19      11.242  62.915   4.966  1.00  0.00           S  \\nATOM    109  N   ALA A  20       8.468  59.166   5.199  1.00  0.00           N  \\nATOM    110  CA  ALA A  20       7.388  58.227   4.917  1.00  0.00           C  \\nATOM    111  C   ALA A  20       6.106  59.014   4.855  1.00  0.00           C  \\nATOM    112  O   ALA A  20       5.835  59.831   5.738  1.00  0.00           O  \\nATOM    113  CB  ALA A  20       7.286  57.173   6.005  1.00  0.00           C  \\nATOM    114  N   LEU A  21       5.340  58.794   3.792  1.00  0.00           N  \\nATOM    115  CA  LEU A  21       4.054  59.465   3.639  1.00  0.00           C  \\nATOM    116  C   LEU A  21       3.109  58.538   4.399  1.00  0.00           C  \\nATOM    117  O   LEU A  21       3.107  57.329   4.165  1.00  0.00           O  \\nATOM    118  CB  LEU A  21       3.680  59.547   2.153  1.00  0.00           C  \\nATOM    119  CG  LEU A  21       2.485  60.418   1.781  1.00  0.00           C  \\nATOM    120 CD1  LEU A  21       2.813  61.872   2.063  1.00  0.00           C  \\nATOM    121 CD2  LEU A  21       2.137  60.223   0.303  1.00  0.00           C  \\nATOM    122  N   LEU A  22       2.335  59.096   5.322  1.00  0.00           N  \\nATOM    123  CA  LEU A  22       1.420  58.309   6.150  1.00  0.00           C  \\nATOM    124  C   LEU A  22      -0.033  58.725   5.989  1.00  0.00           C  \\nATOM    125  O   LEU A  22      -0.330  59.850   5.586  1.00  0.00           O  \\nATOM    126  CB  LEU A  22       1.790  58.458   7.630  1.00  0.00           C  \\nATOM    127  CG  LEU A  22       3.289  58.502   7.981  1.00  0.00           C  \\nATOM    128 CD1  LEU A  22       3.457  58.715   9.495  1.00  0.00           C  \\nATOM    129 CD2  LEU A  22       3.969  57.214   7.532  1.00  0.00           C  \\nATOM    130  N   GLU A  23      -0.925  57.806   6.347  1.00  0.00           N  \\nATOM    131  CA  GLU A  23      -2.363  58.009   6.290  1.00  0.00           C  \\nATOM    132  C   GLU A  23      -2.960  57.532   7.600  1.00  0.00           C  \\nATOM    133  O   GLU A  23      -2.671  56.434   8.057  1.00  0.00           O  \\nATOM    134  CB  GLU A  23      -2.965  57.195   5.136  1.00  0.00           C  \\nATOM    135  CG  GLU A  23      -4.471  57.343   4.930  1.00  0.00           C  \\nATOM    136  CD  GLU A  23      -5.315  56.530   5.919  1.00  0.00           C  \\nATOM    137 OE1  GLU A  23      -5.114  55.301   6.037  1.00  0.00           O  \\nATOM    138 OE2  GLU A  23      -6.199  57.119   6.573  1.00  0.00           O  \\nATOM    139  N   ARG A  24      -3.785  58.366   8.215  1.00  0.00           N  \\nATOM    140  CA  ARG A  24      -4.448  57.995   9.458  1.00  0.00           C  \\nATOM    141  C   ARG A  24      -5.771  58.752   9.501  1.00  0.00           C  \\nATOM    142  O   ARG A  24      -5.791  59.985   9.584  1.00  0.00           O  \\nATOM    143  CB  ARG A  24      -3.588  58.350  10.676  1.00  0.00           C  \\nATOM    144  CG  ARG A  24      -4.146  57.774  11.981  1.00  0.00           C  \\nATOM    145  CD  ARG A  24      -3.301  58.146  13.180  1.00  0.00           C  \\nATOM    146  NE  ARG A  24      -3.070  59.584  13.222  1.00  0.00           N  \\nATOM    147  CZ  ARG A  24      -2.644  60.236  14.294  1.00  0.00           C  \\nATOM    148 NH1  ARG A  24      -2.405  59.572  15.419  1.00  0.00           N  \\nATOM    149 NH2  ARG A  24      -2.461  61.550  14.240  1.00  0.00           N  \\nATOM    150  N   ASP A  25      -6.869  58.004   9.419  1.00  0.00           N  \\nATOM    151  CA  ASP A  25      -8.212  58.582   9.413  1.00  0.00           C  \\nATOM    152  C   ASP A  25      -8.338  59.689   8.365  1.00  0.00           C  \\nATOM    153  O   ASP A  25      -8.662  60.837   8.677  1.00  0.00           O  \\nATOM    154  CB  ASP A  25      -8.569  59.126  10.798  1.00  0.00           C  \\nATOM    155  CG  ASP A  25      -8.521  58.056  11.868  1.00  0.00           C  \\nATOM    156 OD1  ASP A  25      -8.993  56.928  11.594  1.00  0.00           O  \\nATOM    157 OD2  ASP A  25      -8.018  58.338  12.982  1.00  0.00           O  \\nATOM    158  N   GLY A  26      -8.059  59.346   7.119  1.00  0.00           N  \\nATOM    159  CA  GLY A  26      -8.175  60.329   6.061  1.00  0.00           C  \\nATOM    160  C   GLY A  26      -7.132  61.427   6.062  1.00  0.00           C  \\nATOM    161  O   GLY A  26      -7.041  62.198   5.106  1.00  0.00           O  \\nATOM    162  N   ASN A  27      -6.340  61.522   7.121  1.00  0.00           N  \\nATOM    163  CA  ASN A  27      -5.310  62.555   7.159  1.00  0.00           C  \\nATOM    164  C   ASN A  27      -3.995  62.056   6.570  1.00  0.00           C  \\nATOM    165  O   ASN A  27      -3.597  60.901   6.785  1.00  0.00           O  \\nATOM    166  CB  ASN A  27      -5.094  63.033   8.592  1.00  0.00           C  \\nATOM    167  CG  ASN A  27      -6.298  63.765   9.143  1.00  0.00           C  \\nATOM    168 OD1  ASN A  27      -6.718  64.789   8.597  1.00  0.00           O  \\nATOM    169 ND2  ASN A  27      -6.863  63.246  10.222  1.00  0.00           N  \\nATOM    170  N   ILE A  28      -3.340  62.923   5.805  1.00  0.00           N  \\nATOM    171  CA  ILE A  28      -2.060  62.579   5.197  1.00  0.00           C  \\nATOM    172  C   ILE A  28      -0.920  63.350   5.873  1.00  0.00           C  \\nATOM    173  O   ILE A  28      -1.012  64.567   6.048  1.00  0.00           O  \\nATOM    174  CB  ILE A  28      -2.057  62.887   3.686  1.00  0.00           C  \\nATOM    175 CG1  ILE A  28      -3.218  62.149   3.011  1.00  0.00           C  \\nATOM    176 CD1  ILE A  28      -3.153  60.637   3.205  1.00  0.00           C  \\nATOM    177 CG2  ILE A  28      -0.743  62.416   3.056  1.00  0.00           C  \\nATOM    178  N   SER A  29       0.139  62.632   6.256  1.00  0.00           N  \\nATOM    179  CA  SER A  29       1.313  63.231   6.917  1.00  0.00           C  \\nATOM    180  C   SER A  29       2.638  62.764   6.315  1.00  0.00           C  \\nATOM    181  O   SER A  29       2.707  61.718   5.663  1.00  0.00           O  \\nATOM    182  CB  SER A  29       1.325  62.881   8.398  1.00  0.00           C  \\nATOM    183  OG  SER A  29       0.136  63.310   9.027  1.00  0.00           O  \\nATOM    184  N   LEU A  30       3.683  63.554   6.550  1.00  0.00           N  \\nATOM    185  CA  LEU A  30       5.028  63.260   6.078  1.00  0.00           C  \\nATOM    186  C   LEU A  30       5.912  63.134   7.325  1.00  0.00           C  \\nATOM    187  O   LEU A  30       6.070  64.090   8.096  1.00  0.00           O  \\nATOM    188  CB  LEU A  30       5.541  64.388   5.175  1.00  0.00           C  \\nATOM    189  CG  LEU A  30       6.951  64.206   4.585  1.00  0.00           C  \\nATOM    190 CD1  LEU A  30       6.997  63.011   3.635  1.00  0.00           C  \\nATOM    191 CD2  LEU A  30       7.355  65.458   3.837  1.00  0.00           C  \\nATOM    192  N   LEU A  31       6.474  61.947   7.531  1.00  0.00           N  \\nATOM    193  CA  LEU A  31       7.306  61.708   8.696  1.00  0.00           C  \\nATOM    194  C   LEU A  31       8.770  61.467   8.344  1.00  0.00           C  \\nATOM    195  O   LEU A  31       9.096  60.744   7.400  1.00  0.00           O  \\nATOM    196  CB  LEU A  31       6.740  60.531   9.499  1.00  0.00           C  \\nATOM    197  CG  LEU A  31       7.473  60.104  10.781  1.00  0.00           C  \\nATOM    198 CD1  LEU A  31       6.491  59.483  11.777  1.00  0.00           C  \\nATOM    199 CD2  LEU A  31       8.569  59.103  10.414  1.00  0.00           C  \\nATOM    200  N   SER A  32       9.645  62.100   9.118  1.00  0.00           N  \\nATOM    201  CA  SER A  32      11.092  61.982   8.945  1.00  0.00           C  \\nATOM    202  C   SER A  32      11.579  60.706   9.614  1.00  0.00           C  \\nATOM    203  O   SER A  32      11.539  60.598  10.836  1.00  0.00           O  \\nATOM    204  CB  SER A  32      11.793  63.177   9.597  1.00  0.00           C  \\nATOM    205  OG  SER A  32      13.194  62.966   9.637  1.00  0.00           O  \\nATOM    206  N   LEU A  33      12.051  59.743   8.836  1.00  0.00           N  \\nATOM    207  CA  LEU A  33      12.508  58.497   9.430  1.00  0.00           C  \\nATOM    208  C   LEU A  33      13.763  58.659  10.332  1.00  0.00           C  \\nATOM    209  O   LEU A  33      13.863  57.994  11.370  1.00  0.00           O  \\nATOM    210  CB  LEU A  33      12.722  57.449   8.321  1.00  0.00           C  \\nATOM    211  CG  LEU A  33      11.416  57.124   7.548  1.00  0.00           C  \\nATOM    212 CD1  LEU A  33      11.745  56.338   6.294  1.00  0.00           C  \\nATOM    213 CD2  LEU A  33      10.432  56.318   8.424  1.00  0.00           C  \\nATOM    214  N   PRO A  34      14.721  59.545   9.957  1.00  0.00           N  \\nATOM    215  CA  PRO A  34      15.927  59.740  10.783  1.00  0.00           C  \\nATOM    216  C   PRO A  34      15.556  60.236  12.182  1.00  0.00           C  \\nATOM    217  O   PRO A  34      16.150  59.832  13.180  1.00  0.00           O  \\nATOM    218  CB  PRO A  34      16.724  60.795  10.002  1.00  0.00           C  \\nATOM    219  CG  PRO A  34      16.303  60.554   8.570  1.00  0.00           C  \\nATOM    220  CD  PRO A  34      14.804  60.368   8.732  1.00  0.00           C  \\nATOM    221  N   VAL A  35      14.569  61.120  12.256  1.00  0.00           N  \\nATOM    222  CA  VAL A  35      14.144  61.624  13.549  1.00  0.00           C  \\nATOM    223  C   VAL A  35      13.476  60.491  14.326  1.00  0.00           C  \\nATOM    224  O   VAL A  35      13.742  60.303  15.512  1.00  0.00           O  \\nATOM    225  CB  VAL A  35      13.189  62.833  13.386  1.00  0.00           C  \\nATOM    226 CG1  VAL A  35      12.662  63.291  14.741  1.00  0.00           C  \\nATOM    227 CG2  VAL A  35      13.941  63.974  12.709  1.00  0.00           C  \\nATOM    228  N   ALA A  36      12.623  59.719  13.667  1.00  0.00           N  \\nATOM    229  CA  ALA A  36      11.982  58.605  14.354  1.00  0.00           C  \\nATOM    230  C   ALA A  36      13.040  57.598  14.828  1.00  0.00           C  \\nATOM    231  O   ALA A  36      12.956  57.079  15.932  1.00  0.00           O  \\nATOM    232  CB  ALA A  36      10.984  57.913  13.429  1.00  0.00           C  \\nATOM    233  N   GLU A  37      14.025  57.308  13.985  1.00  0.00           N  \\nATOM    234  CA  GLU A  37      15.063  56.355  14.361  1.00  0.00           C  \\nATOM    235  C   GLU A  37      15.786  56.857  15.612  1.00  0.00           C  \\nATOM    236  O   GLU A  37      16.089  56.100  16.519  1.00  0.00           O  \\nATOM    237  CB  GLU A  37      16.066  56.183  13.216  1.00  0.00           C  \\nATOM    238  CG  GLU A  37      17.207  55.222  13.528  1.00  0.00           C  \\nATOM    239  CD  GLU A  37      16.838  53.757  13.374  1.00  0.00           C  \\nATOM    240 OE1  GLU A  37      15.640  53.412  13.453  1.00  0.00           O  \\nATOM    241 OE2  GLU A  37      17.763  52.938  13.182  1.00  0.00           O  \\nATOM    242  N   ARG A  38      16.056  58.150  15.652  1.00  0.00           N  \\nATOM    243  CA  ARG A  38      16.730  58.734  16.790  1.00  0.00           C  \\nATOM    244  C   ARG A  38      15.921  58.536  18.092  1.00  0.00           C  \\nATOM    245  O   ARG A  38      16.473  58.083  19.108  1.00  0.00           O  \\nATOM    246  CB  ARG A  38      16.968  60.215  16.504  1.00  0.00           C  \\nATOM    247  CG  ARG A  38      17.564  61.021  17.631  1.00  0.00           C  \\nATOM    248  CD  ARG A  38      18.441  62.111  17.039  1.00  0.00           C  \\nATOM    249  NE  ARG A  38      17.874  62.640  15.798  1.00  0.00           N  \\nATOM    250  CZ  ARG A  38      18.575  62.833  14.686  1.00  0.00           C  \\nATOM    251 NH1  ARG A  38      19.871  62.537  14.658  1.00  0.00           N  \\nATOM    252 NH2  ARG A  38      17.983  63.324  13.605  1.00  0.00           N  \\nATOM    253  N   TRP A  39      14.628  58.859  18.076  1.00  0.00           N  \\nATOM    254  CA  TRP A  39      13.822  58.686  19.285  1.00  0.00           C  \\nATOM    255  C   TRP A  39      13.822  57.229  19.702  1.00  0.00           C  \\nATOM    256  O   TRP A  39      13.879  56.908  20.893  1.00  0.00           O  \\nATOM    257  CB  TRP A  39      12.380  59.175  19.087  1.00  0.00           C  \\nATOM    258  CG  TRP A  39      12.257  60.674  19.041  1.00  0.00           C  \\nATOM    259 CD1  TRP A  39      12.419  61.475  17.950  1.00  0.00           C  \\nATOM    260 NE1  TRP A  39      12.294  62.796  18.304  1.00  0.00           N  \\nATOM    261 CE2  TRP A  39      12.041  62.874  19.646  1.00  0.00           C  \\nATOM    262 CZ2  TRP A  39      11.837  63.995  20.462  1.00  0.00           C  \\nATOM    263 CH2  TRP A  39      11.600  63.778  21.798  1.00  0.00           C  \\nATOM    264 CZ3  TRP A  39      11.559  62.477  22.333  1.00  0.00           C  \\nATOM    265 CE3  TRP A  39      11.764  61.353  21.514  1.00  0.00           C  \\nATOM    266 CD2  TRP A  39      12.008  61.553  20.147  1.00  0.00           C  \\nATOM    267  N   LEU A  40      13.770  56.336  18.722  1.00  0.00           N  \\nATOM    268  CA  LEU A  40      13.786  54.916  19.030  1.00  0.00           C  \\nATOM    269  C   LEU A  40      15.096  54.513  19.744  1.00  0.00           C  \\nATOM    270  O   LEU A  40      15.079  53.847  20.789  1.00  0.00           O  \\nATOM    271  CB  LEU A  40      13.643  54.089  17.748  1.00  0.00           C  \\nATOM    272  CG  LEU A  40      13.757  52.587  18.025  1.00  0.00           C  \\nATOM    273 CD1  LEU A  40      12.696  52.185  19.048  1.00  0.00           C  \\nATOM    274 CD2  LEU A  40      13.600  51.791  16.754  1.00  0.00           C  \\nATOM    275  N   ARG A  41      16.223  54.908  19.165  1.00  0.00           N  \\nATOM    276  CA  ARG A  41      17.518  54.564  19.733  1.00  0.00           C  \\nATOM    277  C   ARG A  41      17.703  55.127  21.126  1.00  0.00           C  \\nATOM    278  O   ARG A  41      18.250  54.465  22.001  1.00  0.00           O  \\nATOM    279  CB  ARG A  41      18.643  55.049  18.814  1.00  0.00           C  \\nATOM    280  CG  ARG A  41      18.887  54.128  17.621  1.00  0.00           C  \\nATOM    281  CD  ARG A  41      19.754  54.819  16.573  1.00  0.00           C  \\nATOM    282  NE  ARG A  41      20.221  53.899  15.539  1.00  0.00           N  \\nATOM    283  CZ  ARG A  41      20.839  54.281  14.425  1.00  0.00           C  \\nATOM    284 NH1  ARG A  41      21.066  55.572  14.192  1.00  0.00           N  \\nATOM    285 NH2  ARG A  41      21.235  53.371  13.545  1.00  0.00           N  \\nATOM    286  N   GLN A  42      17.240  56.350  21.338  1.00  0.00           N  \\nATOM    287  CA  GLN A  42      17.373  56.940  22.645  1.00  0.00           C  \\nATOM    288  C   GLN A  42      16.614  56.088  23.662  1.00  0.00           C  \\nATOM    289  O   GLN A  42      17.138  55.785  24.736  1.00  0.00           O  \\nATOM    290  CB  GLN A  42      16.846  58.377  22.655  1.00  0.00           C  \\nATOM    291  CG  GLN A  42      17.212  59.108  23.944  1.00  0.00           C  \\nATOM    292  CD  GLN A  42      16.776  60.561  23.983  1.00  0.00           C  \\nATOM    293 OE1  GLN A  42      16.931  61.304  23.013  1.00  0.00           O  \\nATOM    294 NE2  GLN A  42      16.247  60.978  25.120  1.00  0.00           N  \\nATOM    295  N   ALA A  43      15.393  55.679  23.325  1.00  0.00           N  \\nATOM    296  CA  ALA A  43      14.605  54.860  24.249  1.00  0.00           C  \\nATOM    297  C   ALA A  43      15.225  53.482  24.483  1.00  0.00           C  \\nATOM    298  O   ALA A  43      15.146  52.939  25.596  1.00  0.00           O  \\nATOM    299  CB  ALA A  43      13.152  54.694  23.736  1.00  0.00           C  \\nATOM    300  N   GLN A  44      15.803  52.900  23.437  1.00  0.00           N  \\nATOM    301  CA  GLN A  44      16.422  51.585  23.568  1.00  0.00           C  \\nATOM    302  C   GLN A  44      17.711  51.650  24.402  1.00  0.00           C  \\nATOM    303  O   GLN A  44      18.131  50.650  24.972  1.00  0.00           O  \\nATOM    304  CB  GLN A  44      16.766  51.000  22.198  1.00  0.00           C  \\nATOM    305  CG  GLN A  44      15.590  50.769  21.275  1.00  0.00           C  \\nATOM    306  CD  GLN A  44      16.039  50.277  19.906  1.00  0.00           C  \\nATOM    307 OE1  GLN A  44      17.015  50.780  19.351  1.00  0.00           O  \\nATOM    308 NE2  GLN A  44      15.326  49.300  19.357  1.00  0.00           N  \\nATOM    309  N   LEU A  45      18.332  52.822  24.463  1.00  0.00           N  \\nATOM    310  CA  LEU A  45      19.571  52.987  25.218  1.00  0.00           C  \\nATOM    311  C   LEU A  45      19.344  53.502  26.629  1.00  0.00           C  \\nATOM    312  O   LEU A  45      20.214  53.374  27.492  1.00  0.00           O  \\nATOM    313  CB  LEU A  45      20.493  53.970  24.501  1.00  0.00           C  \\nATOM    314  CG  LEU A  45      21.103  53.505  23.179  1.00  0.00           C  \\nATOM    315 CD1  LEU A  45      21.788  54.683  22.520  1.00  0.00           C  \\nATOM    316 CD2  LEU A  45      22.084  52.349  23.425  1.00  0.00           C  \\nATOM    317  N   THR A  46      18.175  54.094  26.860  1.00  0.00           N  \\nATOM    318  CA  THR A  46      17.862  54.671  28.156  1.00  0.00           C  \\nATOM    319  C   THR A  46      17.360  53.690  29.203  1.00  0.00           C  \\nATOM    320  O   THR A  46      16.335  53.047  29.026  1.00  0.00           O  \\nATOM    321  CB  THR A  46      16.839  55.804  27.999  1.00  0.00           C  \\nATOM    322 OG1  THR A  46      17.423  56.859  27.222  1.00  0.00           O  \\nATOM    323 CG2  THR A  46      16.423  56.353  29.365  1.00  0.00           C  \\nATOM    324  N   PRO A  47      18.088  53.564  30.322  1.00  0.00           N  \\nATOM    325  CA  PRO A  47      17.659  52.642  31.378  1.00  0.00           C  \\nATOM    326  C   PRO A  47      16.288  53.100  31.867  1.00  0.00           C  \\nATOM    327  O   PRO A  47      16.124  54.252  32.270  1.00  0.00           O  \\nATOM    328  CB  PRO A  47      18.735  52.820  32.451  1.00  0.00           C  \\nATOM    329  CG  PRO A  47      19.919  53.303  31.676  1.00  0.00           C  \\nATOM    330  CD  PRO A  47      19.303  54.282  30.726  1.00  0.00           C  \\nATOM    331  N   GLY A  48      15.309  52.207  31.816  1.00  0.00           N  \\nATOM    332  CA  GLY A  48      13.960  52.557  32.244  1.00  0.00           C  \\nATOM    333  C   GLY A  48      12.923  52.675  31.125  1.00  0.00           C  \\nATOM    334  O   GLY A  48      11.725  52.826  31.401  1.00  0.00           O  \\nATOM    335  N   GLU A  49      13.369  52.611  29.869  1.00  0.00           N  \\nATOM    336  CA  GLU A  49      12.459  52.711  28.723  1.00  0.00           C  \\nATOM    337  C   GLU A  49      12.547  51.463  27.854  1.00  0.00           C  \\nATOM    338  O   GLU A  49      11.783  51.299  26.900  1.00  0.00           O  \\nATOM    339  CB  GLU A  49      12.779  53.954  27.878  1.00  0.00           C  \\nATOM    340  CG  GLU A  49      12.701  55.266  28.655  1.00  0.00           C  \\nATOM    341  CD  GLU A  49      12.847  56.498  27.777  1.00  0.00           C  \\nATOM    342 OE1  GLU A  49      13.323  56.367  26.632  1.00  0.00           O  \\nATOM    343 OE2  GLU A  49      12.494  57.604  28.241  1.00  0.00           O  \\nATOM    344  N   ALA A  50      13.488  50.587  28.190  1.00  0.00           N  \\nATOM    345  CA  ALA A  50      13.684  49.345  27.452  1.00  0.00           C  \\nATOM    346  C   ALA A  50      14.710  48.497  28.196  1.00  0.00           C  \\nATOM    347  O   ALA A  50      15.435  49.003  29.062  1.00  0.00           O  \\nATOM    348  CB  ALA A  50      14.166  49.643  26.022  1.00  0.00           C  \\nATOM    349  N   PRO A  51      14.774  47.191  27.885  1.00  0.00           N  \\nATOM    350  CA  PRO A  51      15.731  46.292  28.545  1.00  0.00           C  \\nATOM    351  C   PRO A  51      17.174  46.648  28.177  1.00  0.00           C  \\nATOM    352  O   PRO A  51      17.489  46.802  26.997  1.00  0.00           O  \\nATOM    353  CB  PRO A  51      15.339  44.913  28.013  1.00  0.00           C  \\nATOM    354  CG  PRO A  51      13.890  45.071  27.653  1.00  0.00           C  \\nATOM    355  CD  PRO A  51      13.865  46.432  27.012  1.00  0.00           C  \\nATOM    356  N   VAL A  52      18.038  46.781  29.185  1.00  0.00           N  \\nATOM    357  CA  VAL A  52      19.454  47.105  28.967  1.00  0.00           C  \\nATOM    358  C   VAL A  52      20.333  45.979  29.513  1.00  0.00           C  \\nATOM    359  O   VAL A  52      20.370  45.722  30.718  1.00  0.00           O  \\nATOM    360  CB  VAL A  52      19.863  48.443  29.659  1.00  0.00           C  \\nATOM    361 CG1  VAL A  52      21.361  48.702  29.476  1.00  0.00           C  \\nATOM    362 CG2  VAL A  52      19.055  49.593  29.085  1.00  0.00           C  \\nATOM    363  N   CYS A  53      21.045  45.319  28.609  1.00  0.00           N  \\nATOM    364  CA  CYS A  53      21.917  44.209  28.973  1.00  0.00           C  \\nATOM    365  C   CYS A  53      23.257  44.330  28.257  1.00  0.00           C  \\nATOM    366  O   CYS A  53      23.298  44.430  27.029  1.00  0.00           O  \\nATOM    367  CB  CYS A  53      21.244  42.891  28.580  1.00  0.00           C  \\nATOM    368  SG  CYS A  53      22.265  41.411  28.773  1.00  0.00           S  \\nATOM    369  N   ALA A  54      24.345  44.314  29.022  1.00  0.00           N  \\nATOM    370  CA  ALA A  54      25.678  44.402  28.445  1.00  0.00           C  \\nATOM    371  C   ALA A  54      25.885  43.195  27.528  1.00  0.00           C  \\nATOM    372  O   ALA A  54      25.486  42.086  27.875  1.00  0.00           O  \\nATOM    373  CB  ALA A  54      26.725  44.413  29.556  1.00  0.00           C  \\nATOM    374  N   GLN A  55      26.484  43.414  26.357  1.00  0.00           N  \\nATOM    375  CA  GLN A  55      26.752  42.333  25.397  1.00  0.00           C  \\nATOM    376  C   GLN A  55      28.266  42.237  25.178  1.00  0.00           C  \\nATOM    377  O   GLN A  55      28.884  43.196  24.732  1.00  0.00           O  \\nATOM    378  CB  GLN A  55      26.098  42.634  24.042  1.00  0.00           C  \\nATOM    379  CG  GLN A  55      24.636  43.046  24.083  1.00  0.00           C  \\nATOM    380  CD  GLN A  55      23.725  41.913  24.487  1.00  0.00           C  \\nATOM    381 OE1  GLN A  55      23.699  40.864  23.842  1.00  0.00           O  \\nATOM    382 NE2  GLN A  55      22.970  42.114  25.555  1.00  0.00           N  \\nATOM    383  N   PRO A  56      28.873  41.069  25.455  1.00  0.00           N  \\nATOM    384  CA  PRO A  56      30.318  40.859  25.290  1.00  0.00           C  \\nATOM    385  C   PRO A  56      30.828  41.085  23.875  1.00  0.00           C  \\nATOM    386  O   PRO A  56      30.219  40.640  22.903  1.00  0.00           O  \\nATOM    387  CB  PRO A  56      30.512  39.408  25.726  1.00  0.00           C  \\nATOM    388  CG  PRO A  56      29.401  39.196  26.708  1.00  0.00           C  \\nATOM    389  CD  PRO A  56      28.239  39.862  26.006  1.00  0.00           C  \\nATOM    390  N   LEU A  57      31.948  41.785  23.758  1.00  0.00           N  \\nATOM    391  CA  LEU A  57      32.539  42.026  22.447  1.00  0.00           C  \\nATOM    392  C   LEU A  57      33.296  40.773  22.004  1.00  0.00           C  \\nATOM    393  O   LEU A  57      33.870  40.064  22.836  1.00  0.00           O  \\nATOM    394  CB  LEU A  57      33.501  43.219  22.500  1.00  0.00           C  \\nATOM    395  CG  LEU A  57      32.891  44.590  22.193  1.00  0.00           C  \\nATOM    396 CD1  LEU A  57      31.723  44.883  23.113  1.00  0.00           C  \\nATOM    397 CD2  LEU A  57      33.956  45.645  22.335  1.00  0.00           C  \\nATOM    398  N   LEU A  58      33.272  40.496  20.700  1.00  0.00           N  \\nATOM    399  CA  LEU A  58      33.976  39.344  20.137  1.00  0.00           C  \\nATOM    400  C   LEU A  58      35.410  39.553  20.560  1.00  0.00           C  \\nATOM    401  O   LEU A  58      35.993  38.759  21.296  1.00  0.00           O  \\nATOM    402  CB  LEU A  58      33.933  39.369  18.608  1.00  0.00           C  \\nATOM    403  CG  LEU A  58      32.622  39.705  17.906  1.00  0.00           C  \\nATOM    404 CD1  LEU A  58      32.906  40.086  16.451  1.00  0.00           C  \\nATOM    405 CD2  LEU A  58      31.670  38.510  18.002  1.00  0.00           C  \\nATOM    406  N   ILE A  59      35.963  40.654  20.070  1.00  0.00           N  \\nATOM    407  CA  ILE A  59      37.319  41.025  20.387  1.00  0.00           C  \\nATOM    408  C   ILE A  59      37.254  42.387  21.079  1.00  0.00           C  \\nATOM    409  O   ILE A  59      36.807  43.388  20.501  1.00  0.00           O  \\nATOM    410  CB  ILE A  59      38.213  41.083  19.096  1.00  0.00           C  \\nATOM    411 CG1  ILE A  59      38.003  42.393  18.325  1.00  0.00           C  \\nATOM    412 CD1  ILE A  59      39.162  43.383  18.463  1.00  0.00           C  \\nATOM    413 CG2  ILE A  59      37.856  39.922  18.171  1.00  0.00           C  \\nATOM    414  N   PRO A  60      37.653  42.425  22.353  1.00  0.00           N  \\nATOM    415  CA  PRO A  60      37.635  43.682  23.096  1.00  0.00           C  \\nATOM    416  C   PRO A  60      38.380  44.774  22.325  1.00  0.00           C  \\nATOM    417  O   PRO A  60      39.382  44.518  21.650  1.00  0.00           O  \\nATOM    418  CB  PRO A  60      38.304  43.299  24.409  1.00  0.00           C  \\nATOM    419  CG  PRO A  60      37.787  41.904  24.619  1.00  0.00           C  \\nATOM    420  CD  PRO A  60      37.941  41.286  23.245  1.00  0.00           C  \\nATOM    421  N   LEU A  61      37.869  45.992  22.408  1.00  0.00           N  \\nATOM    422  CA  LEU A  61      38.481  47.108  21.713  1.00  0.00           C  \\nATOM    423  C   LEU A  61      39.367  47.888  22.687  1.00  0.00           C  \\nATOM    424  O   LEU A  61      38.862  48.532  23.602  1.00  0.00           O  \\nATOM    425  CB  LEU A  61      37.390  48.007  21.144  1.00  0.00           C  \\nATOM    426  CG  LEU A  61      37.877  49.288  20.473  1.00  0.00           C  \\nATOM    427 CD1  LEU A  61      38.717  48.941  19.225  1.00  0.00           C  \\nATOM    428 CD2  LEU A  61      36.686  50.145  20.108  1.00  0.00           C  \\nATOM    429  N   ARG A  62      40.685  47.814  22.490  1.00  0.00           N  \\nATOM    430  CA  ARG A  62      41.647  48.502  23.355  1.00  0.00           C  \\nATOM    431  C   ARG A  62      42.027  49.811  22.693  1.00  0.00           C  \\nATOM    432  O   ARG A  62      42.366  49.831  21.513  1.00  0.00           O  \\nATOM    433  CB  ARG A  62      42.892  47.631  23.551  1.00  0.00           C  \\nATOM    434  CG  ARG A  62      44.013  48.273  24.364  1.00  0.00           C  \\nATOM    435  CD  ARG A  62      45.283  47.412  24.307  1.00  0.00           C  \\nATOM    436  NE  ARG A  62      46.415  48.043  24.976  1.00  0.00           N  \\nATOM    437  CZ  ARG A  62      46.664  47.924  26.272  1.00  0.00           C  \\nATOM    438 NH1  ARG A  62      45.858  47.187  27.030  1.00  0.00           N  \\nATOM    439 NH2  ARG A  62      47.710  48.542  26.812  1.00  0.00           N  \\nATOM    440  N   LEU A  63      41.988  50.902  23.443  1.00  0.00           N  \\nATOM    441  CA  LEU A  63      42.296  52.205  22.877  1.00  0.00           C  \\nATOM    442  C   LEU A  63      43.228  53.006  23.762  1.00  0.00           C  \\nATOM    443  O   LEU A  63      43.160  52.920  24.989  1.00  0.00           O  \\nATOM    444  CB  LEU A  63      41.005  53.013  22.706  1.00  0.00           C  \\nATOM    445  CG  LEU A  63      39.884  52.377  21.894  1.00  0.00           C  \\nATOM    446 CD1  LEU A  63      38.605  53.182  22.090  1.00  0.00           C  \\nATOM    447 CD2  LEU A  63      40.285  52.331  20.416  1.00  0.00           C  \\nATOM    448  N   LYS A  64      44.082  53.810  23.143  1.00  0.00           N  \\nATOM    449  CA  LYS A  64      44.988  54.640  23.914  1.00  0.00           C  \\nATOM    450  C   LYS A  64      44.194  55.877  24.273  1.00  0.00           C  \\nATOM    451  O   LYS A  64      43.440  56.391  23.448  1.00  0.00           O  \\nATOM    452  CB  LYS A  64      46.211  55.044  23.082  1.00  0.00           C  \\nATOM    453  CG  LYS A  64      47.134  55.999  23.819  1.00  0.00           C  \\nATOM    454  CD  LYS A  64      48.327  56.446  22.978  1.00  0.00           C  \\nATOM    455  CE  LYS A  64      49.153  57.467  23.764  1.00  0.00           C  \\nATOM    456  NZ  LYS A  64      50.333  57.990  23.022  1.00  0.00           N  \\nATOM    457  N   VAL A  65      44.360  56.360  25.497  1.00  0.00           N  \\nATOM    458  CA  VAL A  65      43.642  57.545  25.932  1.00  0.00           C  \\nATOM    459  C   VAL A  65      44.549  58.456  26.744  1.00  0.00           C  \\nATOM    460  O   VAL A  65      45.414  57.985  27.473  1.00  0.00           O  \\nATOM    461  CB  VAL A  65      42.426  57.165  26.815  1.00  0.00           C  \\nATOM    462 CG1  VAL A  65      41.379  56.414  25.978  1.00  0.00           C  \\nATOM    463 CG2  VAL A  65      42.896  56.310  27.987  1.00  0.00           C  \\nATOM    464  N   SER A  66      44.352  59.761  26.612  1.00  0.00           N  \\nATOM    465  CA  SER A  66      45.146  60.707  27.380  1.00  0.00           C  \\nATOM    466  C   SER A  66      44.719  60.555  28.842  1.00  0.00           C  \\nATOM    467  O   SER A  66      43.691  59.938  29.138  1.00  0.00           O  \\nATOM    468  CB  SER A  66      44.871  62.137  26.926  1.00  0.00           C  \\nATOM    469  OG  SER A  66      43.563  62.536  27.305  1.00  0.00           O  \\nATOM    470  N   ALA A  67      45.501  61.128  29.753  1.00  0.00           N  \\nATOM    471  CA  ALA A  67      45.199  61.048  31.173  1.00  0.00           C  \\nATOM    472  C   ALA A  67      43.888  61.751  31.490  1.00  0.00           C  \\nATOM    473  O   ALA A  67      43.133  61.304  32.357  1.00  0.00           O  \\nATOM    474  CB  ALA A  67      46.347  61.654  31.998  1.00  0.00           C  \\nATOM    475  N   GLU A  68      43.607  62.847  30.797  1.00  0.00           N  \\nATOM    476  CA  GLU A  68      42.359  63.560  31.041  1.00  0.00           C  \\nATOM    477  C   GLU A  68      41.166  62.736  30.537  1.00  0.00           C  \\nATOM    478  O   GLU A  68      40.070  62.831  31.076  1.00  0.00           O  \\nATOM    479  CB  GLU A  68      42.378  64.939  30.364  1.00  0.00           C  \\nATOM    480  CG  GLU A  68      41.862  66.063  31.282  1.00  0.00           C  \\nATOM    481  CD  GLU A  68      42.220  67.470  30.794  1.00  0.00           C  \\nATOM    482 OE1  GLU A  68      41.623  67.927  29.791  1.00  0.00           O  \\nATOM    483 OE2  GLU A  68      43.105  68.117  31.409  1.00  0.00           O  \\nATOM    484  N   GLU A  69      41.379  61.929  29.505  1.00  0.00           N  \\nATOM    485  CA  GLU A  69      40.299  61.104  28.969  1.00  0.00           C  \\nATOM    486  C   GLU A  69      40.092  59.913  29.895  1.00  0.00           C  \\nATOM    487  O   GLU A  69      38.955  59.524  30.187  1.00  0.00           O  \\nATOM    488  CB  GLU A  69      40.642  60.651  27.540  1.00  0.00           C  \\nATOM    489  CG  GLU A  69      40.768  61.858  26.610  1.00  0.00           C  \\nATOM    490  CD  GLU A  69      41.164  61.526  25.198  1.00  0.00           C  \\nATOM    491 OE1  GLU A  69      41.884  60.522  24.977  1.00  0.00           O  \\nATOM    492 OE2  GLU A  69      40.763  62.303  24.301  1.00  0.00           O  \\nATOM    493  N   LYS A  70      41.211  59.364  30.359  1.00  0.00           N  \\nATOM    494  CA  LYS A  70      41.229  58.232  31.279  1.00  0.00           C  \\nATOM    495  C   LYS A  70      40.497  58.626  32.558  1.00  0.00           C  \\nATOM    496  O   LYS A  70      39.650  57.890  33.067  1.00  0.00           O  \\nATOM    497  CB  LYS A  70      42.679  57.869  31.603  1.00  0.00           C  \\nATOM    498  CG  LYS A  70      42.873  56.944  32.795  1.00  0.00           C  \\nATOM    499  CD  LYS A  70      42.276  55.575  32.546  1.00  0.00           C  \\nATOM    500  CE  LYS A  70      42.510  54.656  33.742  1.00  0.00           C  \\nATOM    501  NZ  LYS A  70      43.952  54.320  33.888  1.00  0.00           N  \\nATOM    502  N   SER A  71      40.827  59.804  33.063  1.00  0.00           N  \\nATOM    503  CA  SER A  71      40.214  60.308  34.274  1.00  0.00           C  \\nATOM    504  C   SER A  71      38.731  60.532  34.076  1.00  0.00           C  \\nATOM    505  O   SER A  71      37.934  60.318  34.994  1.00  0.00           O  \\nATOM    506  CB  SER A  71      40.883  61.611  34.703  1.00  0.00           C  \\nATOM    507  OG  SER A  71      39.981  62.392  35.456  1.00  0.00           O  \\nATOM    508  N   ALA A  72      38.348  60.973  32.885  1.00  0.00           N  \\nATOM    509  CA  ALA A  72      36.927  61.193  32.617  1.00  0.00           C  \\nATOM    510  C   ALA A  72      36.233  59.814  32.576  1.00  0.00           C  \\nATOM    511  O   ALA A  72      35.146  59.632  33.140  1.00  0.00           O  \\nATOM    512  CB  ALA A  72      36.755  61.942  31.302  1.00  0.00           C  \\nATOM    513  N   LEU A  73      36.878  58.839  31.941  1.00  0.00           N  \\nATOM    514  CA  LEU A  73      36.303  57.499  31.868  1.00  0.00           C  \\nATOM    515  C   LEU A  73      36.063  56.912  33.256  1.00  0.00           C  \\nATOM    516  O   LEU A  73      35.016  56.313  33.508  1.00  0.00           O  \\nATOM    517  CB  LEU A  73      37.212  56.572  31.056  1.00  0.00           C  \\nATOM    518  CG  LEU A  73      37.116  56.816  29.549  1.00  0.00           C  \\nATOM    519 CD1  LEU A  73      38.198  56.043  28.786  1.00  0.00           C  \\nATOM    520 CD2  LEU A  73      35.723  56.397  29.092  1.00  0.00           C  \\nATOM    521  N   GLU A  74      37.025  57.092  34.157  1.00  0.00           N  \\nATOM    522  CA  GLU A  74      36.908  56.573  35.516  1.00  0.00           C  \\nATOM    523  C   GLU A  74      35.725  57.171  36.267  1.00  0.00           C  \\nATOM    524  O   GLU A  74      35.006  56.463  36.966  1.00  0.00           O  \\nATOM    525  CB  GLU A  74      38.192  56.834  36.312  1.00  0.00           C  \\nATOM    526  CG  GLU A  74      39.423  56.141  35.777  1.00  0.00           C  \\nATOM    527  CD  GLU A  74      39.235  54.642  35.648  1.00  0.00           C  \\nATOM    528 OE1  GLU A  74      38.626  54.022  36.549  1.00  0.00           O  \\nATOM    529 OE2  GLU A  74      39.709  54.074  34.644  1.00  0.00           O  \\nATOM    530  N   LYS A  75      35.510  58.472  36.128  1.00  0.00           N  \\nATOM    531  CA  LYS A  75      34.392  59.098  36.817  1.00  0.00           C  \\nATOM    532  C   LYS A  75      33.072  58.670  36.202  1.00  0.00           C  \\nATOM    533  O   LYS A  75      32.033  58.661  36.868  1.00  0.00           O  \\nATOM    534  CB  LYS A  75      34.493  60.619  36.734  1.00  0.00           C  \\nATOM    535  CG  LYS A  75      35.681  61.217  37.428  1.00  0.00           C  \\nATOM    536  CD  LYS A  75      35.678  62.729  37.250  1.00  0.00           C  \\nATOM    537  CE  LYS A  75      36.786  63.382  38.071  1.00  0.00           C  \\nATOM    538  NZ  LYS A  75      36.823  64.872  37.921  1.00  0.00           N  \\nATOM    539  N   ALA A  76      33.113  58.307  34.925  1.00  0.00           N  \\nATOM    540  CA  ALA A  76      31.897  57.913  34.215  1.00  0.00           C  \\nATOM    541  C   ALA A  76      31.580  56.434  34.284  1.00  0.00           C  \\nATOM    542  O   ALA A  76      30.493  56.016  33.893  1.00  0.00           O  \\nATOM    543  CB  ALA A  76      32.009  58.335  32.744  1.00  0.00           C  \\nATOM    544  N   GLN A  77      32.517  55.651  34.800  1.00  0.00           N  \\nATOM    545  CA  GLN A  77      32.357  54.200  34.834  1.00  0.00           C  \\nATOM    546  C   GLN A  77      30.969  53.729  35.235  1.00  0.00           C  \\nATOM    547  O   GLN A  77      30.384  52.885  34.575  1.00  0.00           O  \\nATOM    548  CB  GLN A  77      33.382  53.551  35.769  1.00  0.00           C  \\nATOM    549  CG  GLN A  77      33.640  52.091  35.416  1.00  0.00           C  \\nATOM    550  CD  GLN A  77      34.288  51.280  36.532  1.00  0.00           C  \\nATOM    551 OE1  GLN A  77      34.970  51.878  37.393  1.00  0.00           O  \\nATOM    552 NE2  GLN A  77      34.115  50.034  36.524  1.00  0.00           N  \\nATOM    553  N   SER A  78      30.484  54.281  36.337  1.00  0.00           N  \\nATOM    554  CA  SER A  78      29.190  53.961  36.913  1.00  0.00           C  \\nATOM    555  C   SER A  78      28.045  54.293  35.931  1.00  0.00           C  \\nATOM    556  O   SER A  78      27.175  53.463  35.667  1.00  0.00           O  \\nATOM    557  CB  SER A  78      29.048  54.764  38.215  1.00  0.00           C  \\nATOM    558  OG  SER A  78      28.127  54.182  39.092  1.00  0.00           O  \\nATOM    559  N   ALA A  79      28.048  55.507  35.390  1.00  0.00           N  \\nATOM    560  CA  ALA A  79      27.014  55.885  34.429  1.00  0.00           C  \\nATOM    561  C   ALA A  79      27.060  54.964  33.204  1.00  0.00           C  \\nATOM    562  O   ALA A  79      26.020  54.507  32.729  1.00  0.00           O  \\nATOM    563  CB  ALA A  79      27.198  57.348  33.987  1.00  0.00           C  \\nATOM    564  N   LEU A  80      28.260  54.685  32.695  1.00  0.00           N  \\nATOM    565  CA  LEU A  80      28.382  53.820  31.528  1.00  0.00           C  \\nATOM    566  C   LEU A  80      27.917  52.374  31.780  1.00  0.00           C  \\nATOM    567  O   LEU A  80      27.288  51.737  30.918  1.00  0.00           O  \\nATOM    568  CB  LEU A  80      29.833  53.819  31.038  1.00  0.00           C  \\nATOM    569  CG  LEU A  80      30.343  55.161  30.506  1.00  0.00           C  \\nATOM    570 CD1  LEU A  80      31.837  55.070  30.354  1.00  0.00           C  \\nATOM    571 CD2  LEU A  80      29.688  55.495  29.161  1.00  0.00           C  \\nATOM    572  N   ALA A  81      28.241  51.849  32.952  1.00  0.00           N  \\nATOM    573  CA  ALA A  81      27.843  50.489  33.286  1.00  0.00           C  \\nATOM    574  C   ALA A  81      26.304  50.408  33.342  1.00  0.00           C  \\nATOM    575  O   ALA A  81      25.719  49.372  33.024  1.00  0.00           O  \\nATOM    576  CB  ALA A  81      28.442  50.078  34.631  1.00  0.00           C  \\nATOM    577  N   GLU A  82      25.658  51.490  33.761  1.00  0.00           N  \\nATOM    578  CA  GLU A  82      24.196  51.492  33.808  1.00  0.00           C  \\nATOM    579  C   GLU A  82      23.644  51.374  32.381  1.00  0.00           C  \\nATOM    580  O   GLU A  82      22.515  50.922  32.187  1.00  0.00           O  \\nATOM    581  CB  GLU A  82      23.678  52.784  34.434  1.00  0.00           C  \\nATOM    582  CG  GLU A  82      24.033  52.942  35.889  1.00  0.00           C  \\nATOM    583  CD  GLU A  82      23.625  54.296  36.425  1.00  0.00           C  \\nATOM    584 OE1  GLU A  82      22.397  54.571  36.488  1.00  0.00           O  \\nATOM    585 OE2  GLU A  82      24.530  55.085  36.776  1.00  0.00           O  \\nATOM    586  N   LEU A  83      24.443  51.794  31.393  1.00  0.00           N  \\nATOM    587  CA  LEU A  83      24.046  51.717  29.994  1.00  0.00           C  \\nATOM    588  C   LEU A  83      24.462  50.405  29.345  1.00  0.00           C  \\nATOM    589  O   LEU A  83      24.161  50.168  28.177  1.00  0.00           O  \\nATOM    590  CB  LEU A  83      24.657  52.868  29.196  1.00  0.00           C  \\nATOM    591  CG  LEU A  83      24.252  54.286  29.605  1.00  0.00           C  \\nATOM    592 CD1  LEU A  83      25.034  55.276  28.795  1.00  0.00           C  \\nATOM    593 CD2  LEU A  83      22.759  54.491  29.380  1.00  0.00           C  \\nATOM    594  N   GLY A  84      25.148  49.546  30.089  1.00  0.00           N  \\nATOM    595  CA  GLY A  84      25.609  48.293  29.507  1.00  0.00           C  \\nATOM    596  C   GLY A  84      27.012  48.420  28.889  1.00  0.00           C  \\nATOM    597  O   GLY A  84      27.451  47.535  28.138  1.00  0.00           O  \\nATOM    598  N   ILE A  85      27.717  49.515  29.188  1.00  0.00           N  \\nATOM    599  CA  ILE A  85      29.068  49.714  28.648  1.00  0.00           C  \\nATOM    600  C   ILE A  85      30.091  49.414  29.734  1.00  0.00           C  \\nATOM    601  O   ILE A  85      30.228  50.173  30.693  1.00  0.00           O  \\nATOM    602  CB  ILE A  85      29.290  51.169  28.162  1.00  0.00           C  \\nATOM    603 CG1  ILE A  85      28.370  51.475  26.974  1.00  0.00           C  \\nATOM    604 CD1  ILE A  85      28.351  52.962  26.574  1.00  0.00           C  \\nATOM    605 CG2  ILE A  85      30.768  51.378  27.733  1.00  0.00           C  \\nATOM    606  N   ASP A  86      30.806  48.306  29.575  1.00  0.00           N  \\nATOM    607  CA  ASP A  86      31.824  47.906  30.539  1.00  0.00           C  \\nATOM    608  C   ASP A  86      33.210  47.917  29.911  1.00  0.00           C  \\nATOM    609  O   ASP A  86      33.376  47.635  28.712  1.00  0.00           O  \\nATOM    610  CB  ASP A  86      31.531  46.506  31.072  1.00  0.00           C  \\nATOM    611  CG  ASP A  86      30.119  46.376  31.596  1.00  0.00           C  \\nATOM    612 OD1  ASP A  86      29.678  47.272  32.328  1.00  0.00           O  \\nATOM    613 OD2  ASP A  86      29.454  45.385  31.276  1.00  0.00           O  \\nATOM    614  N   PHE A  87      34.204  48.219  30.738  1.00  0.00           N  \\nATOM    615  CA  PHE A  87      35.581  48.271  30.282  1.00  0.00           C  \\nATOM    616  C   PHE A  87      36.570  48.081  31.436  1.00  0.00           C  \\nATOM    617  O   PHE A  87      36.202  48.120  32.610  1.00  0.00           O  \\nATOM    618  CB  PHE A  87      35.841  49.625  29.613  1.00  0.00           C  \\nATOM    619  CG  PHE A  87      35.821  50.793  30.570  1.00  0.00           C  \\nATOM    620 CD1  PHE A  87      36.947  51.113  31.334  1.00  0.00           C  \\nATOM    621 CE1  PHE A  87      36.921  52.169  32.262  1.00  0.00           C  \\nATOM    622  CZ  PHE A  87      35.760  52.907  32.427  1.00  0.00           C  \\nATOM    623 CE2  PHE A  87      34.630  52.596  31.664  1.00  0.00           C  \\nATOM    624 CD2  PHE A  87      34.667  51.548  30.746  1.00  0.00           C  \\nATOM    625  N   GLN A  88      37.829  47.851  31.092  1.00  0.00           N  \\nATOM    626  CA  GLN A  88      38.880  47.738  32.093  1.00  0.00           C  \\nATOM    627  C   GLN A  88      39.920  48.665  31.515  1.00  0.00           C  \\nATOM    628  O   GLN A  88      39.848  48.999  30.333  1.00  0.00           O  \\nATOM    629  CB  GLN A  88      39.418  46.310  32.203  1.00  0.00           C  \\nATOM    630  CG  GLN A  88      38.517  45.358  32.996  1.00  0.00           C  \\nATOM    631  CD  GLN A  88      38.176  45.860  34.410  1.00  0.00           C  \\nATOM    632 OE1  GLN A  88      39.039  45.951  35.286  1.00  0.00           O  \\nATOM    633 NE2  GLN A  88      36.904  46.186  34.628  1.00  0.00           N  \\nATOM    634  N   SER A  89      40.870  49.113  32.323  1.00  0.00           N  \\nATOM    635  CA  SER A  89      41.877  50.009  31.786  1.00  0.00           C  \\nATOM    636  C   SER A  89      43.185  49.952  32.538  1.00  0.00           C  \\nATOM    637  O   SER A  89      43.214  49.662  33.732  1.00  0.00           O  \\nATOM    638  CB  SER A  89      41.365  51.447  31.800  1.00  0.00           C  \\nATOM    639  OG  SER A  89      41.171  51.881  33.128  1.00  0.00           O  \\nATOM    640  N   ASP A  90      44.272  50.224  31.827  1.00  0.00           N  \\nATOM    641  CA  ASP A  90      45.581  50.246  32.450  1.00  0.00           C  \\nATOM    642  C   ASP A  90      46.160  51.652  32.324  1.00  0.00           C  \\nATOM    643  O   ASP A  90      45.422  52.619  32.109  1.00  0.00           O  \\nATOM    644  CB  ASP A  90      46.520  49.199  31.826  1.00  0.00           C  \\nATOM    645  CG  ASP A  90      46.473  49.191  30.320  1.00  0.00           C  \\nATOM    646 OD1  ASP A  90      46.346  50.278  29.718  1.00  0.00           O  \\nATOM    647 OD2  ASP A  90      46.576  48.094  29.735  1.00  0.00           O  \\nATOM    648  N   ALA A  91      47.476  51.763  32.451  1.00  0.00           N  \\nATOM    649  CA  ALA A  91      48.153  53.054  32.398  1.00  0.00           C  \\nATOM    650  C   ALA A  91      47.734  53.992  31.267  1.00  0.00           C  \\nATOM    651  O   ALA A  91      47.218  55.085  31.515  1.00  0.00           O  \\nATOM    652  CB  ALA A  91      49.667  52.834  32.358  1.00  0.00           C  \\nATOM    653  N   GLN A  92      47.955  53.572  30.030  1.00  0.00           N  \\nATOM    654  CA  GLN A  92      47.629  54.417  28.875  1.00  0.00           C  \\nATOM    655  C   GLN A  92      46.387  54.039  28.073  1.00  0.00           C  \\nATOM    656  O   GLN A  92      46.040  54.738  27.120  1.00  0.00           O  \\nATOM    657  CB  GLN A  92      48.811  54.436  27.894  1.00  0.00           C  \\nATOM    658  CG  GLN A  92      49.548  55.748  27.813  1.00  0.00           C  \\nATOM    659  CD  GLN A  92      50.450  55.978  28.995  1.00  0.00           C  \\nATOM    660 OE1  GLN A  92      50.900  57.099  29.226  1.00  0.00           O  \\nATOM    661 NE2  GLN A  92      50.733  54.916  29.751  1.00  0.00           N  \\nATOM    662  N   HIS A  93      45.714  52.959  28.456  1.00  0.00           N  \\nATOM    663  CA  HIS A  93      44.576  52.497  27.680  1.00  0.00           C  \\nATOM    664  C   HIS A  93      43.281  52.128  28.393  1.00  0.00           C  \\nATOM    665  O   HIS A  93      43.189  52.062  29.617  1.00  0.00           O  \\nATOM    666  CB  HIS A  93      45.009  51.283  26.860  1.00  0.00           C  \\nATOM    667  CG  HIS A  93      46.317  51.466  26.159  1.00  0.00           C  \\nATOM    668 ND1  HIS A  93      47.505  51.638  26.834  1.00  0.00           N  \\nATOM    669 CE1  HIS A  93      48.488  51.786  25.959  1.00  0.00           C  \\nATOM    670 NE2  HIS A  93      47.975  51.717  24.744  1.00  0.00           N  \\nATOM    671 CD2  HIS A  93      46.619  51.516  24.838  1.00  0.00           C  \\nATOM    672  N   VAL A  94      42.270  51.877  27.579  1.00  0.00           N  \\nATOM    673  CA  VAL A  94      40.991  51.454  28.076  1.00  0.00           C  \\nATOM    674  C   VAL A  94      40.627  50.348  27.105  1.00  0.00           C  \\nATOM    675  O   VAL A  94      40.969  50.416  25.927  1.00  0.00           O  \\nATOM    676  CB  VAL A  94      39.943  52.584  28.011  1.00  0.00           C  \\nATOM    677 CG1  VAL A  94      39.702  53.015  26.582  1.00  0.00           C  \\nATOM    678 CG2  VAL A  94      38.664  52.103  28.595  1.00  0.00           C  \\nATOM    679  N   THR A  95      39.978  49.307  27.604  1.00  0.00           N  \\nATOM    680  CA  THR A  95      39.557  48.226  26.745  1.00  0.00           C  \\nATOM    681  C   THR A  95      38.076  48.004  26.987  1.00  0.00           C  \\nATOM    682  O   THR A  95      37.663  47.693  28.104  1.00  0.00           O  \\nATOM    683  CB  THR A  95      40.324  46.937  27.034  1.00  0.00           C  \\nATOM    684 OG1  THR A  95      41.712  47.144  26.744  1.00  0.00           O  \\nATOM    685 CG2  THR A  95      39.798  45.800  26.165  1.00  0.00           C  \\nATOM    686  N   ILE A  96      37.286  48.200  25.928  1.00  0.00           N  \\nATOM    687  CA  ILE A  96      35.846  48.031  25.976  1.00  0.00           C  \\nATOM    688  C   ILE A  96      35.571  46.547  25.872  1.00  0.00           C  \\nATOM    689  O   ILE A  96      35.974  45.899  24.900  1.00  0.00           O  \\nATOM    690  CB  ILE A  96      35.166  48.751  24.798  1.00  0.00           C  \\nATOM    691 CG1  ILE A  96      35.635  50.203  24.740  1.00  0.00           C  \\nATOM    692 CD1  ILE A  96      35.432  50.986  26.045  1.00  0.00           C  \\nATOM    693 CG2  ILE A  96      33.636  48.671  24.940  1.00  0.00           C  \\nATOM    694  N   ARG A  97      34.891  46.001  26.873  1.00  0.00           N  \\nATOM    695  CA  ARG A  97      34.576  44.583  26.868  1.00  0.00           C  \\nATOM    696  C   ARG A  97      33.116  44.286  26.526  1.00  0.00           C  \\nATOM    697  O   ARG A  97      32.812  43.206  26.038  1.00  0.00           O  \\nATOM    698  CB  ARG A  97      34.925  43.973  28.220  1.00  0.00           C  \\nATOM    699  CG  ARG A  97      36.342  44.312  28.640  1.00  0.00           C  \\nATOM    700  CD  ARG A  97      36.722  43.589  29.873  1.00  0.00           C  \\nATOM    701  NE  ARG A  97      36.736  42.148  29.654  1.00  0.00           N  \\nATOM    702  CZ  ARG A  97      36.248  41.274  30.528  1.00  0.00           C  \\nATOM    703 NH1  ARG A  97      35.701  41.704  31.669  1.00  0.00           N  \\nATOM    704 NH2  ARG A  97      36.332  39.972  30.278  1.00  0.00           N  \\nATOM    705  N   ALA A  98      32.207  45.226  26.781  1.00  0.00           N  \\nATOM    706  CA  ALA A  98      30.805  44.981  26.447  1.00  0.00           C  \\nATOM    707  C   ALA A  98      30.051  46.266  26.190  1.00  0.00           C  \\nATOM    708  O   ALA A  98      30.384  47.317  26.754  1.00  0.00           O  \\nATOM    709  CB  ALA A  98      30.116  44.190  27.568  1.00  0.00           C  \\nATOM    710  N   VAL A  99      29.046  46.181  25.321  1.00  0.00           N  \\nATOM    711  CA  VAL A  99      28.206  47.332  25.000  1.00  0.00           C  \\nATOM    712  C   VAL A  99      26.747  46.846  24.941  1.00  0.00           C  \\nATOM    713  O   VAL A  99      26.491  45.653  24.735  1.00  0.00           O  \\nATOM    714  CB  VAL A  99      28.574  47.932  23.622  1.00  0.00           C  \\nATOM    715 CG1  VAL A  99      30.073  48.302  23.588  1.00  0.00           C  \\nATOM    716 CG2  VAL A  99      28.217  46.933  22.494  1.00  0.00           C  \\nATOM    717  N   PRO A 100      25.778  47.755  25.120  1.00  0.00           N  \\nATOM    718  CA  PRO A 100      24.375  47.311  25.057  1.00  0.00           C  \\nATOM    719  C   PRO A 100      24.030  46.800  23.653  1.00  0.00           C  \\nATOM    720  O   PRO A 100      24.724  47.110  22.675  1.00  0.00           O  \\nATOM    721  CB  PRO A 100      23.597  48.565  25.432  1.00  0.00           C  \\nATOM    722  CG  PRO A 100      24.506  49.688  24.910  1.00  0.00           C  \\nATOM    723  CD  PRO A 100      25.867  49.204  25.351  1.00  0.00           C  \\nATOM    724  N   LEU A 101      22.952  46.029  23.554  1.00  0.00           N  \\nATOM    725  CA  LEU A 101      22.541  45.446  22.279  1.00  0.00           C  \\nATOM    726  C   LEU A 101      22.428  46.411  21.094  1.00  0.00           C  \\nATOM    727  O   LEU A 101      22.929  46.116  20.019  1.00  0.00           O  \\nATOM    728  CB  LEU A 101      21.220  44.678  22.458  1.00  0.00           C  \\nATOM    729  CG  LEU A 101      20.704  43.875  21.250  1.00  0.00           C  \\nATOM    730 CD1  LEU A 101      21.710  42.811  20.838  1.00  0.00           C  \\nATOM    731 CD2  LEU A 101      19.372  43.213  21.618  1.00  0.00           C  \\nATOM    732  N   PRO A 102      21.780  47.576  21.269  1.00  0.00           N  \\nATOM    733  CA  PRO A 102      21.666  48.501  20.134  1.00  0.00           C  \\nATOM    734  C   PRO A 102      23.004  48.948  19.557  1.00  0.00           C  \\nATOM    735  O   PRO A 102      23.067  49.436  18.428  1.00  0.00           O  \\nATOM    736  CB  PRO A 102      20.890  49.683  20.717  1.00  0.00           C  \\nATOM    737  CG  PRO A 102      20.083  49.047  21.811  1.00  0.00           C  \\nATOM    738  CD  PRO A 102      21.084  48.116  22.447  1.00  0.00           C  \\nATOM    739  N   LEU A 103      24.076  48.787  20.327  1.00  0.00           N  \\nATOM    740  CA  LEU A 103      25.396  49.218  19.865  1.00  0.00           C  \\nATOM    741  C   LEU A 103      26.274  48.090  19.343  1.00  0.00           C  \\nATOM    742  O   LEU A 103      27.283  48.339  18.690  1.00  0.00           O  \\nATOM    743  CB  LEU A 103      26.135  49.932  20.998  1.00  0.00           C  \\nATOM    744  CG  LEU A 103      25.509  51.227  21.511  1.00  0.00           C  \\nATOM    745 CD1  LEU A 103      26.432  51.855  22.543  1.00  0.00           C  \\nATOM    746 CD2  LEU A 103      25.287  52.191  20.344  1.00  0.00           C  \\nATOM    747  N   ARG A 104      25.884  46.851  19.616  1.00  0.00           N  \\nATOM    748  CA  ARG A 104      26.684  45.705  19.204  1.00  0.00           C  \\nATOM    749  C   ARG A 104      27.041  45.666  17.714  1.00  0.00           C  \\nATOM    750  O   ARG A 104      28.086  45.136  17.351  1.00  0.00           O  \\nATOM    751  CB  ARG A 104      25.977  44.408  19.613  1.00  0.00           C  \\nATOM    752  CG  ARG A 104      26.861  43.162  19.586  1.00  0.00           C  \\nATOM    753  CD  ARG A 104      27.860  43.114  20.754  1.00  0.00           C  \\nATOM    754  NE  ARG A 104      28.671  41.896  20.713  1.00  0.00           N  \\nATOM    755  CZ  ARG A 104      29.682  41.694  19.870  1.00  0.00           C  \\nATOM    756 NH1  ARG A 104      30.024  42.633  18.994  1.00  0.00           N  \\nATOM    757 NH2  ARG A 104      30.344  40.544  19.888  1.00  0.00           N  \\nATOM    758  N   GLN A 105      26.198  46.231  16.854  1.00  0.00           N  \\nATOM    759  CA  GLN A 105      26.478  46.215  15.422  1.00  0.00           C  \\nATOM    760  C   GLN A 105      26.961  47.544  14.834  1.00  0.00           C  \\nATOM    761  O   GLN A 105      27.019  47.707  13.616  1.00  0.00           O  \\nATOM    762  CB  GLN A 105      25.240  45.736  14.644  1.00  0.00           C  \\nATOM    763  CG  GLN A 105      24.782  44.335  15.039  1.00  0.00           C  \\nATOM    764  CD  GLN A 105      25.884  43.293  14.890  1.00  0.00           C  \\nATOM    765 OE1  GLN A 105      25.894  42.278  15.589  1.00  0.00           O  \\nATOM    766 NE2  GLN A 105      26.813  43.538  13.972  1.00  0.00           N  \\nATOM    767  N   GLN A 106      27.281  48.505  15.685  1.00  0.00           N  \\nATOM    768  CA  GLN A 106      27.779  49.778  15.193  1.00  0.00           C  \\nATOM    769  C   GLN A 106      29.271  49.590  14.962  1.00  0.00           C  \\nATOM    770  O   GLN A 106      29.841  48.586  15.393  1.00  0.00           O  \\nATOM    771  CB  GLN A 106      27.564  50.876  16.245  1.00  0.00           C  \\nATOM    772  CG  GLN A 106      26.119  51.262  16.436  1.00  0.00           C  \\nATOM    773  CD  GLN A 106      25.552  51.881  15.178  1.00  0.00           C  \\nATOM    774 OE1  GLN A 106      25.967  52.967  14.771  1.00  0.00           O  \\nATOM    775 NE2  GLN A 106      24.609  51.184  14.543  1.00  0.00           N  \\nATOM    776  N   ASN A 107      29.902  50.545  14.290  1.00  0.00           N  \\nATOM    777  CA  ASN A 107      31.344  50.470  14.068  1.00  0.00           C  \\nATOM    778  C   ASN A 107      31.988  51.108  15.308  1.00  0.00           C  \\nATOM    779  O   ASN A 107      32.207  52.325  15.366  1.00  0.00           O  \\nATOM    780  CB  ASN A 107      31.733  51.237  12.798  1.00  0.00           C  \\nATOM    781  CG  ASN A 107      33.239  51.352  12.631  1.00  0.00           C  \\nATOM    782 OD1  ASN A 107      33.996  50.586  13.225  1.00  0.00           O  \\nATOM    783 ND2  ASN A 107      33.678  52.307  11.821  1.00  0.00           N  \\nATOM    784  N   LEU A 108      32.289  50.278  16.299  1.00  0.00           N  \\nATOM    785  CA  LEU A 108      32.838  50.768  17.560  1.00  0.00           C  \\nATOM    786  C   LEU A 108      34.212  51.439  17.504  1.00  0.00           C  \\nATOM    787  O   LEU A 108      34.579  52.173  18.420  1.00  0.00           O  \\nATOM    788  CB  LEU A 108      32.832  49.638  18.600  1.00  0.00           C  \\nATOM    789  CG  LEU A 108      31.456  48.989  18.889  1.00  0.00           C  \\nATOM    790 CD1  LEU A 108      31.628  47.868  19.908  1.00  0.00           C  \\nATOM    791 CD2  LEU A 108      30.465  50.018  19.421  1.00  0.00           C  \\nATOM    792  N   GLN A 109      34.969  51.207  16.436  1.00  0.00           N  \\nATOM    793  CA  GLN A 109      36.290  51.829  16.308  1.00  0.00           C  \\nATOM    794  C   GLN A 109      36.159  53.313  16.073  1.00  0.00           C  \\nATOM    795  O   GLN A 109      37.118  54.057  16.238  1.00  0.00           O  \\nATOM    796  CB  GLN A 109      37.077  51.217  15.163  1.00  0.00           C  \\nATOM    797  CG  GLN A 109      37.399  49.773  15.364  1.00  0.00           C  \\nATOM    798  CD  GLN A 109      38.513  49.330  14.459  1.00  0.00           C  \\nATOM    799 OE1  GLN A 109      38.715  48.129  14.255  1.00  0.00           O  \\nATOM    800 NE2  GLN A 109      39.265  50.299  13.915  1.00  0.00           N  \\nATOM    801  N   ILE A 110      34.969  53.736  15.670  1.00  0.00           N  \\nATOM    802  CA  ILE A 110      34.686  55.141  15.473  1.00  0.00           C  \\nATOM    803  C   ILE A 110      33.747  55.632  16.591  1.00  0.00           C  \\nATOM    804  O   ILE A 110      33.959  56.706  17.169  1.00  0.00           O  \\nATOM    805  CB  ILE A 110      34.010  55.402  14.097  1.00  0.00           C  \\nATOM    806 CG1  ILE A 110      34.951  54.988  12.951  1.00  0.00           C  \\nATOM    807 CD1  ILE A 110      36.283  55.762  12.882  1.00  0.00           C  \\nATOM    808 CG2  ILE A 110      33.650  56.861  13.972  1.00  0.00           C  \\nATOM    809  N   LEU A 111      32.702  54.864  16.902  1.00  0.00           N  \\nATOM    810  CA  LEU A 111      31.762  55.277  17.948  1.00  0.00           C  \\nATOM    811  C   LEU A 111      32.374  55.436  19.351  1.00  0.00           C  \\nATOM    812  O   LEU A 111      32.177  56.449  19.986  1.00  0.00           O  \\nATOM    813  CB  LEU A 111      30.569  54.309  18.019  1.00  0.00           C  \\nATOM    814  CG  LEU A 111      29.692  54.393  19.275  1.00  0.00           C  \\nATOM    815 CD1  LEU A 111      28.856  55.614  19.208  1.00  0.00           C  \\nATOM    816 CD2  LEU A 111      28.786  53.193  19.372  1.00  0.00           C  \\nATOM    817  N   ILE A 112      33.089  54.437  19.846  1.00  0.00           N  \\nATOM    818  CA  ILE A 112      33.669  54.544  21.185  1.00  0.00           C  \\nATOM    819  C   ILE A 112      34.648  55.735  21.336  1.00  0.00           C  \\nATOM    820  O   ILE A 112      34.555  56.503  22.302  1.00  0.00           O  \\nATOM    821  CB  ILE A 112      34.326  53.207  21.589  1.00  0.00           C  \\nATOM    822 CG1  ILE A 112      33.226  52.144  21.748  1.00  0.00           C  \\nATOM    823 CD1  ILE A 112      32.107  52.578  22.727  1.00  0.00           C  \\nATOM    824 CG2  ILE A 112      35.089  53.356  22.897  1.00  0.00           C  \\nATOM    825  N   PRO A 113      35.590  55.907  20.387  1.00  0.00           N  \\nATOM    826  CA  PRO A 113      36.508  57.044  20.518  1.00  0.00           C  \\nATOM    827  C   PRO A 113      35.673  58.320  20.512  1.00  0.00           C  \\nATOM    828  O   PRO A 113      36.000  59.295  21.170  1.00  0.00           O  \\nATOM    829  CB  PRO A 113      37.389  56.924  19.273  1.00  0.00           C  \\nATOM    830  CG  PRO A 113      37.456  55.484  19.055  1.00  0.00           C  \\nATOM    831  CD  PRO A 113      36.013  55.032  19.280  1.00  0.00           C  \\nATOM    832  N   GLU A 114      34.571  58.312  19.773  1.00  0.00           N  \\nATOM    833  CA  GLU A 114      33.721  59.493  19.740  1.00  0.00           C  \\nATOM    834  C   GLU A 114      33.059  59.711  21.093  1.00  0.00           C  \\nATOM    835  O   GLU A 114      32.963  60.846  21.571  1.00  0.00           O  \\nATOM    836  CB  GLU A 114      32.658  59.361  18.664  1.00  0.00           C  \\nATOM    837  CG  GLU A 114      33.159  59.573  17.239  1.00  0.00           C  \\nATOM    838  CD  GLU A 114      32.019  59.516  16.245  1.00  0.00           C  \\nATOM    839 OE1  GLU A 114      31.403  58.445  16.116  1.00  0.00           O  \\nATOM    840 OE2  GLU A 114      31.721  60.542  15.610  1.00  0.00           O  \\nATOM    841  N   LEU A 115      32.602  58.625  21.709  1.00  0.00           N  \\nATOM    842  CA  LEU A 115      31.971  58.704  23.020  1.00  0.00           C  \\nATOM    843  C   LEU A 115      33.019  59.202  24.019  1.00  0.00           C  \\nATOM    844  O   LEU A 115      32.733  60.065  24.857  1.00  0.00           O  \\nATOM    845  CB  LEU A 115      31.469  57.323  23.444  1.00  0.00           C  \\nATOM    846  CG  LEU A 115      30.837  57.194  24.835  1.00  0.00           C  \\nATOM    847 CD1  LEU A 115      29.618  58.093  24.934  1.00  0.00           C  \\nATOM    848 CD2  LEU A 115      30.436  55.745  25.071  1.00  0.00           C  \\nATOM    849  N   ILE A 116      34.231  58.664  23.919  1.00  0.00           N  \\nATOM    850  CA  ILE A 116      35.319  59.076  24.805  1.00  0.00           C  \\nATOM    851  C   ILE A 116      35.569  60.583  24.693  1.00  0.00           C  \\nATOM    852  O   ILE A 116      35.770  61.249  25.704  1.00  0.00           O  \\nATOM    853  CB  ILE A 116      36.642  58.278  24.503  1.00  0.00           C  \\nATOM    854 CG1  ILE A 116      36.484  56.815  24.932  1.00  0.00           C  \\nATOM    855 CD1  ILE A 116      37.634  55.895  24.498  1.00  0.00           C  \\nATOM    856 CG2  ILE A 116      37.819  58.874  25.272  1.00  0.00           C  \\nATOM    857  N   GLY A 117      35.546  61.118  23.471  1.00  0.00           N  \\nATOM    858  CA  GLY A 117      35.747  62.550  23.277  1.00  0.00           C  \\nATOM    859  C   GLY A 117      34.632  63.360  23.928  1.00  0.00           C  \\nATOM    860  O   GLY A 117      34.870  64.404  24.543  1.00  0.00           O  \\nATOM    861  N   TYR A 118      33.401  62.881  23.798  1.00  0.00           N  \\nATOM    862  CA  TYR A 118      32.257  63.561  24.395  1.00  0.00           C  \\nATOM    863  C   TYR A 118      32.389  63.562  25.924  1.00  0.00           C  \\nATOM    864  O   TYR A 118      32.182  64.588  26.571  1.00  0.00           O  \\nATOM    865  CB  TYR A 118      30.962  62.851  23.992  1.00  0.00           C  \\nATOM    866  CG  TYR A 118      29.748  63.294  24.771  1.00  0.00           C  \\nATOM    867 CD1  TYR A 118      29.116  64.497  24.486  1.00  0.00           C  \\nATOM    868 CE1  TYR A 118      28.025  64.930  25.226  1.00  0.00           C  \\nATOM    869  CZ  TYR A 118      27.557  64.161  26.257  1.00  0.00           C  \\nATOM    870  OH  TYR A 118      26.460  64.592  26.977  1.00  0.00           O  \\nATOM    871 CE2  TYR A 118      28.167  62.955  26.569  1.00  0.00           C  \\nATOM    872 CD2  TYR A 118      29.256  62.530  25.823  1.00  0.00           C  \\nATOM    873  N   LEU A 119      32.738  62.405  26.485  1.00  0.00           N  \\nATOM    874  CA  LEU A 119      32.890  62.230  27.927  1.00  0.00           C  \\nATOM    875  C   LEU A 119      33.986  63.099  28.532  1.00  0.00           C  \\nATOM    876  O   LEU A 119      33.845  63.603  29.648  1.00  0.00           O  \\nATOM    877  CB  LEU A 119      33.192  60.761  28.255  1.00  0.00           C  \\nATOM    878  CG  LEU A 119      32.103  59.725  27.966  1.00  0.00           C  \\nATOM    879 CD1  LEU A 119      32.598  58.340  28.340  1.00  0.00           C  \\nATOM    880 CD2  LEU A 119      30.851  60.069  28.760  1.00  0.00           C  \\nATOM    881  N   ALA A 120      35.075  63.271  27.797  1.00  0.00           N  \\nATOM    882  CA  ALA A 120      36.196  64.062  28.280  1.00  0.00           C  \\nATOM    883  C   ALA A 120      35.851  65.533  28.408  1.00  0.00           C  \\nATOM    884  O   ALA A 120      36.645  66.303  28.939  1.00  0.00           O  \\nATOM    885  CB  ALA A 120      37.386  63.896  27.358  1.00  0.00           C  \\nATOM    886  N   LYS A 121      34.669  65.920  27.933  1.00  0.00           N  \\nATOM    887  CA  LYS A 121      34.244  67.315  27.988  1.00  0.00           C  \\nATOM    888  C   LYS A 121      33.183  67.586  29.035  1.00  0.00           C  \\nATOM    889  O   LYS A 121      32.848  68.738  29.292  1.00  0.00           O  \\nATOM    890  CB  LYS A 121      33.690  67.764  26.634  1.00  0.00           C  \\nATOM    891  CG  LYS A 121      34.683  67.695  25.492  1.00  0.00           C  \\nATOM    892  CD  LYS A 121      34.090  68.288  24.220  1.00  0.00           C  \\nATOM    893  CE  LYS A 121      33.797  69.767  24.404  1.00  0.00           C  \\nATOM    894  NZ  LYS A 121      33.421  70.425  23.116  1.00  0.00           N  \\nATOM    895  N   GLN A 122      32.655  66.531  29.641  1.00  0.00           N  \\nATOM    896  CA  GLN A 122      31.601  66.698  30.630  1.00  0.00           C  \\nATOM    897  C   GLN A 122      32.122  66.909  32.040  1.00  0.00           C  \\nATOM    898  O   GLN A 122      33.251  66.537  32.366  1.00  0.00           O  \\nATOM    899  CB  GLN A 122      30.672  65.475  30.620  1.00  0.00           C  \\nATOM    900  CG  GLN A 122      30.210  65.063  29.234  1.00  0.00           C  \\nATOM    901  CD  GLN A 122      29.632  66.224  28.453  1.00  0.00           C  \\nATOM    902 OE1  GLN A 122      28.636  66.824  28.866  1.00  0.00           O  \\nATOM    903 NE2  GLN A 122      30.256  66.552  27.320  1.00  0.00           N  \\nATOM    904  N   SER A 123      31.284  67.518  32.869  1.00  0.00           N  \\nATOM    905  CA  SER A 123      31.625  67.751  34.263  1.00  0.00           C  \\nATOM    906  C   SER A 123      30.749  66.793  35.059  1.00  0.00           C  \\nATOM    907  O   SER A 123      31.135  66.320  36.122  1.00  0.00           O  \\nATOM    908  CB  SER A 123      31.343  69.208  34.661  1.00  0.00           C  \\nATOM    909  OG  SER A 123      30.000  69.567  34.387  1.00  0.00           O  \\nATOM    910  N   VAL A 124      29.576  66.486  34.516  1.00  0.00           N  \\nATOM    911  CA  VAL A 124      28.639  65.569  35.164  1.00  0.00           C  \\nATOM    912  C   VAL A 124      28.319  64.386  34.246  1.00  0.00           C  \\nATOM    913  O   VAL A 124      28.157  64.554  33.041  1.00  0.00           O  \\nATOM    914  CB  VAL A 124      27.315  66.279  35.507  1.00  0.00           C  \\nATOM    915 CG1  VAL A 124      26.470  65.396  36.405  1.00  0.00           C  \\nATOM    916 CG2  VAL A 124      27.601  67.602  36.182  1.00  0.00           C  \\nATOM    917  N   PHE A 125      28.224  63.194  34.824  1.00  0.00           N  \\nATOM    918  CA  PHE A 125      27.927  61.999  34.047  1.00  0.00           C  \\nATOM    919  C   PHE A 125      26.618  61.376  34.475  1.00  0.00           C  \\nATOM    920  O   PHE A 125      26.472  60.963  35.622  1.00  0.00           O  \\nATOM    921  CB  PHE A 125      29.056  60.986  34.202  1.00  0.00           C  \\nATOM    922  CG  PHE A 125      30.376  61.506  33.746  1.00  0.00           C  \\nATOM    923 CD1  PHE A 125      30.626  61.697  32.391  1.00  0.00           C  \\nATOM    924 CE1  PHE A 125      31.819  62.262  31.959  1.00  0.00           C  \\nATOM    925  CZ  PHE A 125      32.776  62.642  32.889  1.00  0.00           C  \\nATOM    926 CE2  PHE A 125      32.534  62.450  34.253  1.00  0.00           C  \\nATOM    927 CD2  PHE A 125      31.339  61.883  34.669  1.00  0.00           C  \\nATOM    928  N   GLU A 126      25.675  61.315  33.538  1.00  0.00           N  \\nATOM    929  CA  GLU A 126      24.349  60.745  33.768  1.00  0.00           C  \\nATOM    930  C   GLU A 126      23.956  59.854  32.594  1.00  0.00           C  \\nATOM    931  O   GLU A 126      23.951  60.287  31.445  1.00  0.00           O  \\nATOM    932  CB  GLU A 126      23.326  61.868  33.939  1.00  0.00           C  \\nATOM    933  CG  GLU A 126      23.460  62.590  35.265  1.00  0.00           C  \\nATOM    934  CD  GLU A 126      23.144  61.676  36.438  1.00  0.00           C  \\nATOM    935 OE1  GLU A 126      21.987  61.208  36.521  1.00  0.00           O  \\nATOM    936 OE2  GLU A 126      24.044  61.416  37.270  1.00  0.00           O  \\nATOM    937  N   PRO A 127      23.617  58.594  32.871  1.00  0.00           N  \\nATOM    938  CA  PRO A 127      23.237  57.667  31.808  1.00  0.00           C  \\nATOM    939  C   PRO A 127      22.222  58.220  30.817  1.00  0.00           C  \\nATOM    940  O   PRO A 127      22.370  58.038  29.608  1.00  0.00           O  \\nATOM    941  CB  PRO A 127      22.731  56.442  32.573  1.00  0.00           C  \\nATOM    942  CG  PRO A 127      22.378  56.980  33.916  1.00  0.00           C  \\nATOM    943  CD  PRO A 127      23.434  57.986  34.194  1.00  0.00           C  \\nATOM    944  N   GLY A 128      21.203  58.898  31.336  1.00  0.00           N  \\nATOM    945  CA  GLY A 128      20.179  59.481  30.487  1.00  0.00           C  \\nATOM    946  C   GLY A 128      20.763  60.398  29.431  1.00  0.00           C  \\nATOM    947  O   GLY A 128      20.548  60.193  28.239  1.00  0.00           O  \\nATOM    948  N   ASN A 129      21.508  61.410  29.848  1.00  0.00           N  \\nATOM    949  CA  ASN A 129      22.101  62.330  28.879  1.00  0.00           C  \\nATOM    950  C   ASN A 129      23.126  61.675  27.953  1.00  0.00           C  \\nATOM    951  O   ASN A 129      23.301  62.102  26.811  1.00  0.00           O  \\nATOM    952  CB  ASN A 129      22.751  63.515  29.596  1.00  0.00           C  \\nATOM    953  CG  ASN A 129      21.733  64.427  30.238  1.00  0.00           C  \\nATOM    954 OD1  ASN A 129      20.848  64.956  29.565  1.00  0.00           O  \\nATOM    955 ND2  ASN A 129      21.851  64.619  31.549  1.00  0.00           N  \\nATOM    956  N   ILE A 130      23.818  60.647  28.435  1.00  0.00           N  \\nATOM    957  CA  ILE A 130      24.803  59.998  27.588  1.00  0.00           C  \\nATOM    958  C   ILE A 130      24.079  59.209  26.501  1.00  0.00           C  \\nATOM    959  O   ILE A 130      24.476  59.234  25.330  1.00  0.00           O  \\nATOM    960  CB  ILE A 130      25.732  59.076  28.393  1.00  0.00           C  \\nATOM    961 CG1  ILE A 130      26.588  59.913  29.353  1.00  0.00           C  \\nATOM    962 CD1  ILE A 130      27.412  59.087  30.315  1.00  0.00           C  \\nATOM    963 CG2  ILE A 130      26.634  58.308  27.446  1.00  0.00           C  \\nATOM    964  N   ALA A 131      23.006  58.528  26.884  1.00  0.00           N  \\nATOM    965  CA  ALA A 131      22.227  57.762  25.913  1.00  0.00           C  \\nATOM    966  C   ALA A 131      21.730  58.701  24.823  1.00  0.00           C  \\nATOM    967  O   ALA A 131      21.862  58.415  23.632  1.00  0.00           O  \\nATOM    968  CB  ALA A 131      21.027  57.083  26.586  1.00  0.00           C  \\nATOM    969  N   GLN A 132      21.158  59.826  25.238  1.00  0.00           N  \\nATOM    970  CA  GLN A 132      20.622  60.787  24.287  1.00  0.00           C  \\nATOM    971  C   GLN A 132      21.689  61.250  23.315  1.00  0.00           C  \\nATOM    972  O   GLN A 132      21.451  61.331  22.110  1.00  0.00           O  \\nATOM    973  CB  GLN A 132      20.020  61.989  25.021  1.00  0.00           C  \\nATOM    974  CG  GLN A 132      19.490  63.068  24.079  1.00  0.00           C  \\nATOM    975  CD  GLN A 132      18.731  64.157  24.804  1.00  0.00           C  \\nATOM    976 OE1  GLN A 132      18.560  65.259  24.284  1.00  0.00           O  \\nATOM    977 NE2  GLN A 132      18.264  63.854  26.013  1.00  0.00           N  \\nATOM    978  N   TRP A 133      22.876  61.540  23.834  1.00  0.00           N  \\nATOM    979  CA  TRP A 133      23.967  61.987  22.982  1.00  0.00           C  \\nATOM    980  C   TRP A 133      24.356  60.907  21.983  1.00  0.00           C  \\nATOM    981  O   TRP A 133      24.544  61.186  20.799  1.00  0.00           O  \\nATOM    982  CB  TRP A 133      25.175  62.367  23.824  1.00  0.00           C  \\nATOM    983  CG  TRP A 133      26.091  63.250  23.076  1.00  0.00           C  \\nATOM    984 CD1  TRP A 133      25.967  64.602  22.897  1.00  0.00           C  \\nATOM    985 NE1  TRP A 133      26.953  65.058  22.057  1.00  0.00           N  \\nATOM    986 CE2  TRP A 133      27.733  63.999  21.679  1.00  0.00           C  \\nATOM    987 CZ2  TRP A 133      28.844  63.958  20.842  1.00  0.00           C  \\nATOM    988 CH2  TRP A 133      29.436  62.740  20.642  1.00  0.00           C  \\nATOM    989 CZ3  TRP A 133      28.945  61.578  21.254  1.00  0.00           C  \\nATOM    990 CE3  TRP A 133      27.843  61.616  22.084  1.00  0.00           C  \\nATOM    991 CD2  TRP A 133      27.219  62.843  22.306  1.00  0.00           C  \\nATOM    992  N   ILE A 134      24.476  59.672  22.459  1.00  0.00           N  \\nATOM    993  CA  ILE A 134      24.825  58.550  21.597  1.00  0.00           C  \\nATOM    994  C   ILE A 134      23.765  58.384  20.510  1.00  0.00           C  \\nATOM    995  O   ILE A 134      24.075  58.112  19.349  1.00  0.00           O  \\nATOM    996  CB  ILE A 134      24.894  57.236  22.393  1.00  0.00           C  \\nATOM    997 CG1  ILE A 134      26.089  57.265  23.347  1.00  0.00           C  \\nATOM    998 CD1  ILE A 134      26.299  55.982  24.142  1.00  0.00           C  \\nATOM    999 CG2  ILE A 134      24.974  56.058  21.446  1.00  0.00           C  \\nATOM   1000  N   ALA A 135      22.507  58.553  20.891  1.00  0.00           N  \\nATOM   1001  CA  ALA A 135      21.418  58.394  19.937  1.00  0.00           C  \\nATOM   1002  C   ALA A 135      21.435  59.456  18.842  1.00  0.00           C  \\nATOM   1003  O   ALA A 135      21.276  59.141  17.666  1.00  0.00           O  \\nATOM   1004  CB  ALA A 135      20.067  58.393  20.670  1.00  0.00           C  \\nATOM   1005  N   ARG A 136      21.653  60.709  19.223  1.00  0.00           N  \\nATOM   1006  CA  ARG A 136      21.665  61.798  18.253  1.00  0.00           C  \\nATOM   1007  C   ARG A 136      22.882  61.924  17.348  1.00  0.00           C  \\nATOM   1008  O   ARG A 136      22.744  62.134  16.142  1.00  0.00           O  \\nATOM   1009  CB  ARG A 136      21.522  63.149  18.947  1.00  0.00           C  \\nATOM   1010  CG  ARG A 136      20.251  63.401  19.706  1.00  0.00           C  \\nATOM   1011  CD  ARG A 136      20.204  64.886  20.000  1.00  0.00           C  \\nATOM   1012  NE  ARG A 136      19.155  65.263  20.937  1.00  0.00           N  \\nATOM   1013  CZ  ARG A 136      18.987  66.503  21.390  1.00  0.00           C  \\nATOM   1014 NH1  ARG A 136      19.803  67.474  20.985  1.00  0.00           N  \\nATOM   1015 NH2  ARG A 136      18.010  66.776  22.245  1.00  0.00           N  \\nATOM   1016  N   ASN A 137      24.072  61.799  17.919  1.00  0.00           N  \\nATOM   1017  CA  ASN A 137      25.289  62.031  17.149  1.00  0.00           C  \\nATOM   1018  C   ASN A 137      26.158  60.892  16.674  1.00  0.00           C  \\nATOM   1019  O   ASN A 137      26.677  60.929  15.565  1.00  0.00           O  \\nATOM   1020  CB  ASN A 137      26.214  62.986  17.925  1.00  0.00           C  \\nATOM   1021  CG  ASN A 137      25.539  64.307  18.299  1.00  0.00           C  \\nATOM   1022 OD1  ASN A 137      24.972  64.457  19.388  1.00  0.00           O  \\nATOM   1023 ND2  ASN A 137      25.602  65.274  17.388  1.00  0.00           N  \\nATOM   1024  N   LEU A 138      26.335  59.881  17.501  1.00  0.00           N  \\nATOM   1025  CA  LEU A 138      27.258  58.824  17.143  1.00  0.00           C  \\nATOM   1026  C   LEU A 138      26.799  57.643  16.339  1.00  0.00           C  \\nATOM   1027  O   LEU A 138      27.631  56.835  15.915  1.00  0.00           O  \\nATOM   1028  CB  LEU A 138      27.920  58.287  18.408  1.00  0.00           C  \\nATOM   1029  CG  LEU A 138      28.656  59.292  19.287  1.00  0.00           C  \\nATOM   1030 CD1  LEU A 138      29.396  58.575  20.422  1.00  0.00           C  \\nATOM   1031 CD2  LEU A 138      29.616  60.076  18.412  1.00  0.00           C  \\nATOM   1032  N   MET A 139      25.512  57.523  16.076  1.00  0.00           N  \\nATOM   1033  CA  MET A 139      25.120  56.315  15.396  1.00  0.00           C  \\nATOM   1034  C   MET A 139      25.066  56.194  13.886  1.00  0.00           C  \\nATOM   1035  O   MET A 139      25.015  57.171  13.138  1.00  0.00           O  \\nATOM   1036  CB  MET A 139      23.839  55.788  16.041  1.00  0.00           C  \\nATOM   1037  CG  MET A 139      24.125  55.397  17.486  1.00  0.00           C  \\nATOM   1038  CE  MET A 139      21.836  55.543  19.261  1.00  0.00           C  \\nATOM   1039  N   SER A 140      25.148  54.935  13.480  1.00  0.00           N  \\nATOM   1040  CA  SER A 140      25.116  54.517  12.100  1.00  0.00           C  \\nATOM   1041  C   SER A 140      24.191  55.388  11.289  1.00  0.00           C  \\nATOM   1042  O   SER A 140      22.994  55.488  11.561  1.00  0.00           O  \\nATOM   1043  CB  SER A 140      24.642  53.069  12.015  1.00  0.00           C  \\nATOM   1044  OG  SER A 140      24.413  52.694  10.679  1.00  0.00           O  \\nATOM   1045  N   GLU A 141      24.767  56.030  10.289  1.00  0.00           N  \\nATOM   1046  CA  GLU A 141      24.009  56.871   9.396  1.00  0.00           C  \\nATOM   1047  C   GLU A 141      23.112  55.884   8.646  1.00  0.00           C  \\nATOM   1048  O   GLU A 141      23.298  54.673   8.753  1.00  0.00           O  \\nATOM   1049  CB  GLU A 141      24.974  57.575   8.438  1.00  0.00           C  \\nATOM   1050  CG  GLU A 141      26.296  58.004   9.105  1.00  0.00           C  \\nATOM   1051  CD  GLU A 141      27.273  56.839   9.356  1.00  0.00           C  \\nATOM   1052 OE1  GLU A 141      27.857  56.316   8.385  1.00  0.00           O  \\nATOM   1053 OE2  GLU A 141      27.464  56.443  10.524  1.00  0.00           O  \\nATOM   1054  N   HIS A 142      22.137  56.378   7.897  1.00  0.00           N  \\nATOM   1055  CA  HIS A 142      21.272  55.469   7.159  1.00  0.00           C  \\nATOM   1056  C   HIS A 142      21.144  55.907   5.707  1.00  0.00           C  \\nATOM   1057  O   HIS A 142      20.921  57.085   5.420  1.00  0.00           O  \\nATOM   1058  CB  HIS A 142      19.877  55.396   7.801  1.00  0.00           C  \\nATOM   1059  CG  HIS A 142      19.052  54.241   7.317  1.00  0.00           C  \\nATOM   1060 ND1  HIS A 142      18.743  54.048   5.988  1.00  0.00           N  \\nATOM   1061 CE1  HIS A 142      18.038  52.938   5.854  1.00  0.00           C  \\nATOM   1062 NE2  HIS A 142      17.876  52.405   7.051  1.00  0.00           N  \\nATOM   1063 CD2  HIS A 142      18.497  53.199   7.983  1.00  0.00           C  \\nATOM   1064  N   ALA A 143      21.296  54.955   4.792  1.00  0.00           N  \\nATOM   1065  CA  ALA A 143      21.168  55.252   3.373  1.00  0.00           C  \\nATOM   1066  C   ALA A 143      19.685  55.327   3.022  1.00  0.00           C  \\nATOM   1067  O   ALA A 143      18.858  55.738   3.842  1.00  0.00           O  \\nATOM   1068  CB  ALA A 143      21.844  54.168   2.538  1.00  0.00           C  \\nATOM   1069  N   GLN A 144      19.364  54.922   1.801  1.00  0.00           N  \\nATOM   1070  CA  GLN A 144      17.997  54.923   1.299  1.00  0.00           C  \\nATOM   1071  C   GLN A 144      17.065  54.077   2.171  1.00  0.00           C  \\nATOM   1072  O   GLN A 144      17.373  52.928   2.482  1.00  0.00           O  \\nATOM   1073  CB  GLN A 144      17.983  54.367  -0.126  1.00  0.00           C  \\nATOM   1074  CG  GLN A 144      16.600  54.251  -0.734  1.00  0.00           C  \\nATOM   1075  CD  GLN A 144      15.996  55.609  -1.015  1.00  0.00           C  \\nATOM   1076 OE1  GLN A 144      14.829  55.868  -0.692  1.00  0.00           O  \\nATOM   1077 NE2  GLN A 144      16.785  56.487  -1.623  1.00  0.00           N  \\nATOM   1078  N   TRP A 145      15.926  54.647   2.560  1.00  0.00           N  \\nATOM   1079  CA  TRP A 145      14.957  53.909   3.365  1.00  0.00           C  \\nATOM   1080  C   TRP A 145      13.967  53.136   2.491  1.00  0.00           C  \\nATOM   1081  O   TRP A 145      13.594  53.582   1.403  1.00  0.00           O  \\nATOM   1082  CB  TRP A 145      14.181  54.856   4.281  1.00  0.00           C  \\nATOM   1083  CG  TRP A 145      14.982  55.351   5.456  1.00  0.00           C  \\nATOM   1084 CD1  TRP A 145      15.891  56.364   5.459  1.00  0.00           C  \\nATOM   1085 NE1  TRP A 145      16.407  56.534   6.722  1.00  0.00           N  \\nATOM   1086 CE2  TRP A 145      15.839  55.617   7.565  1.00  0.00           C  \\nATOM   1087 CZ2  TRP A 145      16.042  55.396   8.939  1.00  0.00           C  \\nATOM   1088 CH2  TRP A 145      15.322  54.386   9.536  1.00  0.00           C  \\nATOM   1089 CZ3  TRP A 145      14.409  53.607   8.804  1.00  0.00           C  \\nATOM   1090 CE3  TRP A 145      14.207  53.828   7.436  1.00  0.00           C  \\nATOM   1091 CD2  TRP A 145      14.931  54.850   6.803  1.00  0.00           C  \\nATOM   1092  N   SER A 146      13.554  51.966   2.966  1.00  0.00           N  \\nATOM   1093  CA  SER A 146      12.590  51.160   2.239  1.00  0.00           C  \\nATOM   1094  C   SER A 146      11.310  51.107   3.062  1.00  0.00           C  \\nATOM   1095  O   SER A 146      11.285  51.496   4.218  1.00  0.00           O  \\nATOM   1096  CB  SER A 146      13.104  49.738   2.047  1.00  0.00           C  \\nATOM   1097  OG  SER A 146      13.135  49.067   3.292  1.00  0.00           O  \\nATOM   1098  N   MET A 147      10.253  50.598   2.454  1.00  0.00           N  \\nATOM   1099  CA  MET A 147       8.973  50.476   3.135  1.00  0.00           C  \\nATOM   1100  C   MET A 147       9.059  49.525   4.304  1.00  0.00           C  \\nATOM   1101  O   MET A 147       8.597  49.819   5.386  1.00  0.00           O  \\nATOM   1102  CB  MET A 147       7.934  49.975   2.158  1.00  0.00           C  \\nATOM   1103  CG  MET A 147       7.675  50.996   1.114  1.00  0.00           C  \\nATOM   1104  CE  MET A 147       5.089  51.328   0.261  1.00  0.00           C  \\nATOM   1105  N   ALA A 148       9.638  48.364   4.076  1.00  0.00           N  \\nATOM   1106  CA  ALA A 148       9.761  47.403   5.153  1.00  0.00           C  \\nATOM   1107  C   ALA A 148      10.481  48.049   6.339  1.00  0.00           C  \\nATOM   1108  O   ALA A 148      10.070  47.901   7.485  1.00  0.00           O  \\nATOM   1109  CB  ALA A 148      10.520  46.175   4.663  1.00  0.00           C  \\nATOM   1110  N   GLN A 149      11.547  48.790   6.065  1.00  0.00           N  \\nATOM   1111  CA  GLN A 149      12.280  49.415   7.149  1.00  0.00           C  \\nATOM   1112  C   GLN A 149      11.436  50.474   7.854  1.00  0.00           C  \\nATOM   1113  O   GLN A 149      11.444  50.553   9.083  1.00  0.00           O  \\nATOM   1114  CB  GLN A 149      13.585  50.045   6.635  1.00  0.00           C  \\nATOM   1115  CG  GLN A 149      14.587  49.041   6.049  1.00  0.00           C  \\nATOM   1116  CD  GLN A 149      15.752  49.727   5.341  1.00  0.00           C  \\nATOM   1117 OE1  GLN A 149      15.642  50.877   4.912  1.00  0.00           O  \\nATOM   1118 NE2  GLN A 149      16.867  49.012   5.199  1.00  0.00           N  \\nATOM   1119  N   ALA A 150      10.715  51.290   7.087  1.00  0.00           N  \\nATOM   1120  CA  ALA A 150       9.895  52.339   7.686  1.00  0.00           C  \\nATOM   1121  C   ALA A 150       8.780  51.710   8.512  1.00  0.00           C  \\nATOM   1122  O   ALA A 150       8.482  52.151   9.614  1.00  0.00           O  \\nATOM   1123  CB  ALA A 150       9.307  53.248   6.597  1.00  0.00           C  \\nATOM   1124  N   ILE A 151       8.179  50.657   7.987  1.00  0.00           N  \\nATOM   1125  CA  ILE A 151       7.102  49.993   8.711  1.00  0.00           C  \\nATOM   1126  C   ILE A 151       7.623  49.454  10.039  1.00  0.00           C  \\nATOM   1127  O   ILE A 151       7.040  49.688  11.100  1.00  0.00           O  \\nATOM   1128  CB  ILE A 151       6.516  48.849   7.872  1.00  0.00           C  \\nATOM   1129 CG1  ILE A 151       5.816  49.442   6.637  1.00  0.00           C  \\nATOM   1130 CD1  ILE A 151       5.312  48.406   5.638  1.00  0.00           C  \\nATOM   1131 CG2  ILE A 151       5.571  48.017   8.717  1.00  0.00           C  \\nATOM   1132  N   THR A 152       8.738  48.739   9.983  1.00  0.00           N  \\nATOM   1133  CA  THR A 152       9.316  48.190  11.190  1.00  0.00           C  \\nATOM   1134  C   THR A 152       9.661  49.299  12.173  1.00  0.00           C  \\nATOM   1135  O   THR A 152       9.332  49.213  13.353  1.00  0.00           O  \\nATOM   1136  CB  THR A 152      10.564  47.393  10.866  1.00  0.00           C  \\nATOM   1137 OG1  THR A 152      10.202  46.302  10.013  1.00  0.00           O  \\nATOM   1138 CG2  THR A 152      11.210  46.864  12.153  1.00  0.00           C  \\nATOM   1139  N   LEU A 153      10.310  50.350  11.687  1.00  0.00           N  \\nATOM   1140  CA  LEU A 153      10.681  51.452  12.564  1.00  0.00           C  \\nATOM   1141  C   LEU A 153       9.504  52.072  13.311  1.00  0.00           C  \\nATOM   1142  O   LEU A 153       9.527  52.190  14.538  1.00  0.00           O  \\nATOM   1143  CB  LEU A 153      11.389  52.541  11.770  1.00  0.00           C  \\nATOM   1144  CG  LEU A 153      11.703  53.825  12.541  1.00  0.00           C  \\nATOM   1145 CD1  LEU A 153      12.553  53.518  13.769  1.00  0.00           C  \\nATOM   1146 CD2  LEU A 153      12.429  54.796  11.614  1.00  0.00           C  \\nATOM   1147  N   LEU A 154       8.468  52.466  12.581  1.00  0.00           N  \\nATOM   1148  CA  LEU A 154       7.323  53.091  13.226  1.00  0.00           C  \\nATOM   1149  C   LEU A 154       6.647  52.183  14.243  1.00  0.00           C  \\nATOM   1150  O   LEU A 154       6.191  52.643  15.291  1.00  0.00           O  \\nATOM   1151  CB  LEU A 154       6.326  53.572  12.178  1.00  0.00           C  \\nATOM   1152  CG  LEU A 154       6.917  54.620  11.233  1.00  0.00           C  \\nATOM   1153 CD1  LEU A 154       5.786  55.249  10.401  1.00  0.00           C  \\nATOM   1154 CD2  LEU A 154       7.657  55.702  12.044  1.00  0.00           C  \\nATOM   1155  N   ALA A 155       6.600  50.892  13.946  1.00  0.00           N  \\nATOM   1156  CA  ALA A 155       6.004  49.949  14.867  1.00  0.00           C  \\nATOM   1157  C   ALA A 155       6.825  49.964  16.156  1.00  0.00           C  \\nATOM   1158  O   ALA A 155       6.276  50.086  17.249  1.00  0.00           O  \\nATOM   1159  CB  ALA A 155       6.000  48.554  14.260  1.00  0.00           C  \\nATOM   1160  N   ASP A 156       8.146  49.853  16.036  1.00  0.00           N  \\nATOM   1161  CA  ASP A 156       8.984  49.862  17.231  1.00  0.00           C  \\nATOM   1162  C   ASP A 156       8.830  51.169  17.997  1.00  0.00           C  \\nATOM   1163  O   ASP A 156       8.763  51.168  19.217  1.00  0.00           O  \\nATOM   1164  CB  ASP A 156      10.460  49.643  16.881  1.00  0.00           C  \\nATOM   1165  CG  ASP A 156      10.744  48.237  16.389  1.00  0.00           C  \\nATOM   1166 OD1  ASP A 156      10.000  47.310  16.770  1.00  0.00           O  \\nATOM   1167 OD2  ASP A 156      11.729  48.056  15.630  1.00  0.00           O  \\nATOM   1168  N   VAL A 157       8.762  52.286  17.283  1.00  0.00           N  \\nATOM   1169  CA  VAL A 157       8.607  53.571  17.938  1.00  0.00           C  \\nATOM   1170  C   VAL A 157       7.249  53.672  18.642  1.00  0.00           C  \\nATOM   1171  O   VAL A 157       7.143  54.243  19.733  1.00  0.00           O  \\nATOM   1172  CB  VAL A 157       8.753  54.709  16.931  1.00  0.00           C  \\nATOM   1173 CG1  VAL A 157       8.406  56.033  17.586  1.00  0.00           C  \\nATOM   1174 CG2  VAL A 157      10.187  54.738  16.388  1.00  0.00           C  \\nATOM   1175  N   GLU A 158       6.209  53.117  18.021  1.00  0.00           N  \\nATOM   1176  CA  GLU A 158       4.873  53.145  18.614  1.00  0.00           C  \\nATOM   1177  C   GLU A 158       4.898  52.383  19.928  1.00  0.00           C  \\nATOM   1178  O   GLU A 158       4.307  52.816  20.909  1.00  0.00           O  \\nATOM   1179  CB  GLU A 158       3.846  52.504  17.672  1.00  0.00           C  \\nATOM   1180  CG  GLU A 158       3.270  53.469  16.656  1.00  0.00           C  \\nATOM   1181  CD  GLU A 158       2.940  52.814  15.333  1.00  0.00           C  \\nATOM   1182 OE1  GLU A 158       2.772  51.575  15.293  1.00  0.00           O  \\nATOM   1183 OE2  GLU A 158       2.841  53.548  14.328  1.00  0.00           O  \\nATOM   1184  N   ARG A 159       5.591  51.248  19.926  1.00  0.00           N  \\nATOM   1185  CA  ARG A 159       5.719  50.401  21.100  1.00  0.00           C  \\nATOM   1186  C   ARG A 159       6.553  51.000  22.230  1.00  0.00           C  \\nATOM   1187  O   ARG A 159       6.157  50.922  23.387  1.00  0.00           O  \\nATOM   1188  CB  ARG A 159       6.331  49.058  20.706  1.00  0.00           C  \\nATOM   1189  CG  ARG A 159       6.457  48.058  21.844  1.00  0.00           C  \\nATOM   1190  CD  ARG A 159       7.282  46.847  21.404  1.00  0.00           C  \\nATOM   1191  NE  ARG A 159       8.720  47.127  21.447  1.00  0.00           N  \\nATOM   1192  CZ  ARG A 159       9.629  46.521  20.687  1.00  0.00           C  \\nATOM   1193 NH1  ARG A 159       9.259  45.594  19.815  1.00  0.00           N  \\nATOM   1194 NH2  ARG A 159      10.911  46.846  20.790  1.00  0.00           N  \\nATOM   1195  N   LEU A 160       7.700  51.598  21.915  1.00  0.00           N  \\nATOM   1196  CA  LEU A 160       8.561  52.153  22.963  1.00  0.00           C  \\nATOM   1197  C   LEU A 160       8.424  53.641  23.253  1.00  0.00           C  \\nATOM   1198  O   LEU A 160       8.872  54.103  24.301  1.00  0.00           O  \\nATOM   1199  CB  LEU A 160      10.038  51.848  22.658  1.00  0.00           C  \\nATOM   1200  CG  LEU A 160      10.435  50.371  22.710  1.00  0.00           C  \\nATOM   1201 CD1  LEU A 160      11.902  50.197  22.324  1.00  0.00           C  \\nATOM   1202 CD2  LEU A 160      10.197  49.849  24.110  1.00  0.00           C  \\nATOM   1203  N   CYS A 161       7.818  54.399  22.341  1.00  0.00           N  \\nATOM   1204  CA  CYS A 161       7.674  55.834  22.561  1.00  0.00           C  \\nATOM   1205  C   CYS A 161       6.221  56.278  22.375  1.00  0.00           C  \\nATOM   1206  O   CYS A 161       5.933  57.223  21.630  1.00  0.00           O  \\nATOM   1207  CB  CYS A 161       8.584  56.607  21.596  1.00  0.00           C  \\nATOM   1208  SG  CYS A 161      10.301  55.981  21.472  1.00  0.00           S  \\nATOM   1209  N   PRO A 162       5.283  55.608  23.065  1.00  0.00           N  \\nATOM   1210  CA  PRO A 162       3.862  55.947  22.959  1.00  0.00           C  \\nATOM   1211  C   PRO A 162       3.581  57.438  22.964  1.00  0.00           C  \\nATOM   1212  O   PRO A 162       2.677  57.911  22.269  1.00  0.00           O  \\nATOM   1213  CB  PRO A 162       3.242  55.232  24.158  1.00  0.00           C  \\nATOM   1214  CG  PRO A 162       4.409  55.074  25.120  1.00  0.00           C  \\nATOM   1215  CD  PRO A 162       5.503  54.671  24.178  1.00  0.00           C  \\nATOM   1216  N   GLN A 163       4.362  58.178  23.740  1.00  0.00           N  \\nATOM   1217  CA  GLN A 163       4.180  59.618  23.833  1.00  0.00           C  \\nATOM   1218  C   GLN A 163       4.396  60.344  22.507  1.00  0.00           C  \\nATOM   1219  O   GLN A 163       3.662  61.282  22.202  1.00  0.00           O  \\nATOM   1220  CB  GLN A 163       5.100  60.200  24.914  1.00  0.00           C  \\nATOM   1221  CG  GLN A 163       6.591  59.929  24.712  1.00  0.00           C  \\nATOM   1222  CD  GLN A 163       7.380  61.180  24.327  1.00  0.00           C  \\nATOM   1223 OE1  GLN A 163       7.217  62.245  24.929  1.00  0.00           O  \\nATOM   1224 NE2  GLN A 163       8.256  61.045  23.333  1.00  0.00           N  \\nATOM   1225  N   LEU A 164       5.389  59.926  21.719  1.00  0.00           N  \\nATOM   1226  CA  LEU A 164       5.641  60.574  20.428  1.00  0.00           C  \\nATOM   1227  C   LEU A 164       4.407  60.508  19.547  1.00  0.00           C  \\nATOM   1228  O   LEU A 164       4.110  61.434  18.804  1.00  0.00           O  \\nATOM   1229  CB  LEU A 164       6.787  59.904  19.674  1.00  0.00           C  \\nATOM   1230  CG  LEU A 164       8.239  60.301  19.912  1.00  0.00           C  \\nATOM   1231 CD1  LEU A 164       9.094  59.558  18.906  1.00  0.00           C  \\nATOM   1232 CD2  LEU A 164       8.428  61.795  19.743  1.00  0.00           C  \\nATOM   1233  N   VAL A 165       3.701  59.391  19.614  1.00  0.00           N  \\nATOM   1234  CA  VAL A 165       2.499  59.223  18.817  1.00  0.00           C  \\nATOM   1235  C   VAL A 165       1.480  60.292  19.216  1.00  0.00           C  \\nATOM   1236  O   VAL A 165       1.025  61.081  18.383  1.00  0.00           O  \\nATOM   1237  CB  VAL A 165       1.895  57.827  19.043  1.00  0.00           C  \\nATOM   1238 CG1  VAL A 165       0.637  57.662  18.223  1.00  0.00           C  \\nATOM   1239 CG2  VAL A 165       2.906  56.768  18.672  1.00  0.00           C  \\nATOM   1240  N   LYS A 166       1.151  60.323  20.504  1.00  0.00           N  \\nATOM   1241  CA  LYS A 166       0.186  61.274  21.048  1.00  0.00           C  \\nATOM   1242  C   LYS A 166       0.528  62.733  20.754  1.00  0.00           C  \\nATOM   1243  O   LYS A 166      -0.357  63.536  20.477  1.00  0.00           O  \\nATOM   1244  CB  LYS A 166       0.082  61.085  22.561  1.00  0.00           C  \\nATOM   1245  CG  LYS A 166      -0.138  59.643  22.998  1.00  0.00           C  \\nATOM   1246  CD  LYS A 166       0.254  59.466  24.469  1.00  0.00           C  \\nATOM   1247  CE  LYS A 166       0.171  58.013  24.913  1.00  0.00           C  \\nATOM   1248  NZ  LYS A 166       0.827  57.807  26.237  1.00  0.00           N  \\nATOM   1249  N   THR A 167       1.808  63.078  20.819  1.00  0.00           N  \\nATOM   1250  CA  THR A 167       2.223  64.455  20.572  1.00  0.00           C  \\nATOM   1251  C   THR A 167       3.521  64.468  19.781  1.00  0.00           C  \\nATOM   1252  O   THR A 167       4.599  64.649  20.343  1.00  0.00           O  \\nATOM   1253  CB  THR A 167       2.460  65.224  21.899  1.00  0.00           C  \\nATOM   1254 OG1  THR A 167       1.403  64.937  22.824  1.00  0.00           O  \\nATOM   1255 CG2  THR A 167       2.499  66.731  21.645  1.00  0.00           C  \\nATOM   1256  N   PRO A 168       3.438  64.267  18.462  1.00  0.00           N  \\nATOM   1257  CA  PRO A 168       4.643  64.265  17.636  1.00  0.00           C  \\nATOM   1258  C   PRO A 168       5.177  65.659  17.334  1.00  0.00           C  \\nATOM   1259  O   PRO A 168       4.462  66.507  16.814  1.00  0.00           O  \\nATOM   1260  CB  PRO A 168       4.186  63.537  16.376  1.00  0.00           C  \\nATOM   1261  CG  PRO A 168       2.761  63.944  16.268  1.00  0.00           C  \\nATOM   1262  CD  PRO A 168       2.276  63.794  17.691  1.00  0.00           C  \\nATOM   1263  N   PRO A 169       6.451  65.915  17.658  1.00  0.00           N  \\nATOM   1264  CA  PRO A 169       7.034  67.233  17.391  1.00  0.00           C  \\nATOM   1265  C   PRO A 169       7.010  67.587  15.903  1.00  0.00           C  \\nATOM   1266  O   PRO A 169       6.788  66.723  15.054  1.00  0.00           O  \\nATOM   1267  CB  PRO A 169       8.457  67.102  17.948  1.00  0.00           C  \\nATOM   1268  CG  PRO A 169       8.742  65.646  17.833  1.00  0.00           C  \\nATOM   1269  CD  PRO A 169       7.441  65.023  18.284  1.00  0.00           C  \\nATOM   1270  N   GLY A 170       7.243  68.859  15.597  1.00  0.00           N  \\nATOM   1271  CA  GLY A 170       7.226  69.313  14.220  1.00  0.00           C  \\nATOM   1272  C   GLY A 170       8.395  68.841  13.381  1.00  0.00           C  \\nATOM   1273  O   GLY A 170       8.365  68.926  12.144  1.00  0.00           O  \\nATOM   1274  N   GLY A 171       9.438  68.352  14.040  1.00  0.00           N  \\nATOM   1275  CA  GLY A 171      10.590  67.872  13.302  1.00  0.00           C  \\nATOM   1276  C   GLY A 171      10.428  66.398  12.975  1.00  0.00           C  \\nATOM   1277  O   GLY A 171      11.194  65.830  12.199  1.00  0.00           O  \\nATOM   1278  N   LEU A 172       9.422  65.778  13.574  1.00  0.00           N  \\nATOM   1279  CA  LEU A 172       9.154  64.368  13.350  1.00  0.00           C  \\nATOM   1280  C   LEU A 172       8.106  64.111  12.268  1.00  0.00           C  \\nATOM   1281  O   LEU A 172       8.320  63.294  11.371  1.00  0.00           O  \\nATOM   1282  CB  LEU A 172       8.672  63.715  14.645  1.00  0.00           C  \\nATOM   1283  CG  LEU A 172       8.081  62.308  14.495  1.00  0.00           C  \\nATOM   1284 CD1  LEU A 172       9.135  61.366  13.934  1.00  0.00           C  \\nATOM   1285 CD2  LEU A 172       7.576  61.812  15.842  1.00  0.00           C  \\nATOM   1286  N   LEU A 173       6.985  64.826  12.353  1.00  0.00           N  \\nATOM   1287  CA  LEU A 173       5.880  64.627  11.426  1.00  0.00           C  \\nATOM   1288  C   LEU A 173       5.145  65.917  11.072  1.00  0.00           C  \\nATOM   1289  O   LEU A 173       4.824  66.717  11.949  1.00  0.00           O  \\nATOM   1290  CB  LEU A 173       4.907  63.617  12.045  1.00  0.00           C  \\nATOM   1291  CG  LEU A 173       3.555  63.286  11.410  1.00  0.00           C  \\nATOM   1292 CD1  LEU A 173       3.122  61.910  11.870  1.00  0.00           C  \\nATOM   1293 CD2  LEU A 173       2.512  64.325  11.813  1.00  0.00           C  \\nATOM   1294  N   GLN A 174       4.880  66.109   9.782  1.00  0.00           N  \\nATOM   1295  CA  GLN A 174       4.180  67.300   9.311  1.00  0.00           C  \\nATOM   1296  C   GLN A 174       2.945  66.953   8.471  1.00  0.00           C  \\nATOM   1297  O   GLN A 174       2.910  65.941   7.766  1.00  0.00           O  \\nATOM   1298  CB  GLN A 174       5.118  68.177   8.481  1.00  0.00           C  \\nATOM   1299  CG  GLN A 174       6.158  68.939   9.290  1.00  0.00           C  \\nATOM   1300  CD  GLN A 174       5.553  70.055  10.121  1.00  0.00           C  \\nATOM   1301 OE1  GLN A 174       4.855  70.917   9.596  1.00  0.00           O  \\nATOM   1302 NE2  GLN A 174       5.827  70.049  11.422  1.00  0.00           N  \\nATOM   1303  N   SER A 175       1.937  67.814   8.555  1.00  0.00           N  \\nATOM   1304  CA  SER A 175       0.688  67.644   7.816  1.00  0.00           C  \\nATOM   1305  C   SER A 175       0.853  67.891   6.321  1.00  0.00           C  \\nATOM   1306  O   SER A 175       1.511  68.847   5.912  1.00  0.00           O  \\nATOM   1307  CB  SER A 175      -0.370  68.603   8.360  1.00  0.00           C  \\nATOM   1308  OG  SER A 175      -1.442  68.744   7.441  1.00  0.00           O  \\nATOM   1309  N   VAL A 176       0.272  67.010   5.511  1.00  0.00           N  \\nATOM   1310  CA  VAL A 176       0.316  67.171   4.061  1.00  0.00           C  \\nATOM   1311  C   VAL A 176      -1.100  67.589   3.683  1.00  0.00           C  \\nATOM   1312  O   VAL A 176      -2.025  66.771   3.697  1.00  0.00           O  \\nATOM   1313  CB  VAL A 176       0.683  65.864   3.346  1.00  0.00           C  \\nATOM   1314 CG1  VAL A 176       0.612  66.060   1.836  1.00  0.00           C  \\nATOM   1315 CG2  VAL A 176       2.080  65.443   3.749  1.00  0.00           C  \\nATOM   1316  N   ASP A 177      -1.255  68.870   3.359  1.00  0.00           N  \\nATOM   1317  CA  ASP A 177      -2.555  69.451   3.039  1.00  0.00           C  \\nATOM   1318  C   ASP A 177      -3.132  69.086   1.675  1.00  0.00           C  \\nATOM   1319  O   ASP A 177      -2.520  69.323   0.642  1.00  0.00           O  \\nATOM   1320  CB  ASP A 177      -2.465  70.975   3.197  1.00  0.00           C  \\nATOM   1321  CG  ASP A 177      -3.823  71.667   3.117  1.00  0.00           C  \\nATOM   1322 OD1  ASP A 177      -4.834  71.125   3.632  1.00  0.00           O  \\nATOM   1323 OD2  ASP A 177      -3.866  72.780   2.550  1.00  0.00           O  \\nATOM   1324  N   LEU A 178      -4.328  68.512   1.686  1.00  0.00           N  \\nATOM   1325  CA  LEU A 178      -4.987  68.117   0.445  1.00  0.00           C  \\nATOM   1326  C   LEU A 178      -5.924  69.186  -0.118  1.00  0.00           C  \\nATOM   1327  O   LEU A 178      -6.144  69.246  -1.332  1.00  0.00           O  \\nATOM   1328  CB  LEU A 178      -5.763  66.819   0.657  1.00  0.00           C  \\nATOM   1329  CG  LEU A 178      -4.924  65.588   1.012  1.00  0.00           C  \\nATOM   1330 CD1  LEU A 178      -5.839  64.378   1.201  1.00  0.00           C  \\nATOM   1331 CD2  LEU A 178      -3.905  65.329  -0.085  1.00  0.00           C  \\nATOM   1332  N   HIS A 179      -6.459  70.037   0.755  1.00  0.00           N  \\nATOM   1333  CA  HIS A 179      -7.389  71.084   0.333  1.00  0.00           C  \\nATOM   1334  C   HIS A 179      -7.081  71.726  -1.013  1.00  0.00           C  \\nATOM   1335  O   HIS A 179      -7.976  71.895  -1.838  1.00  0.00           O  \\nATOM   1336  CB  HIS A 179      -7.507  72.163   1.408  1.00  0.00           C  \\nATOM   1337  CG  HIS A 179      -8.133  71.670   2.672  1.00  0.00           C  \\nATOM   1338 ND1  HIS A 179      -7.446  70.917   3.597  1.00  0.00           N  \\nATOM   1339 CE1  HIS A 179      -8.265  70.568   4.575  1.00  0.00           C  \\nATOM   1340 NE2  HIS A 179      -9.458  71.072   4.316  1.00  0.00           N  \\nATOM   1341 CD2  HIS A 179      -9.403  71.768   3.133  1.00  0.00           C  \\nATOM   1342  N   PRO A 180      -5.818  72.092  -1.262  1.00  0.00           N  \\nATOM   1343  CA  PRO A 180      -5.514  72.709  -2.557  1.00  0.00           C  \\nATOM   1344  C   PRO A 180      -5.869  71.809  -3.746  1.00  0.00           C  \\nATOM   1345  O   PRO A 180      -6.534  72.247  -4.696  1.00  0.00           O  \\nATOM   1346  CB  PRO A 180      -4.013  72.977  -2.470  1.00  0.00           C  \\nATOM   1347  CG  PRO A 180      -3.803  73.235  -1.009  1.00  0.00           C  \\nATOM   1348  CD  PRO A 180      -4.650  72.149  -0.365  1.00  0.00           C  \\nATOM   1349  N   ALA A 181      -5.422  70.554  -3.698  1.00  0.00           N  \\nATOM   1350  CA  ALA A 181      -5.698  69.617  -4.785  1.00  0.00           C  \\nATOM   1351  C   ALA A 181      -7.197  69.354  -4.922  1.00  0.00           C  \\nATOM   1352  O   ALA A 181      -7.732  69.372  -6.033  1.00  0.00           O  \\nATOM   1353  CB  ALA A 181      -4.942  68.297  -4.562  1.00  0.00           C  \\nATOM   1354  N   ILE A 182      -7.865  69.108  -3.799  1.00  0.00           N  \\nATOM   1355  CA  ILE A 182      -9.299  68.856  -3.802  1.00  0.00           C  \\nATOM   1356  C   ILE A 182     -10.027  70.024  -4.453  1.00  0.00           C  \\nATOM   1357  O   ILE A 182     -10.855  69.830  -5.339  1.00  0.00           O  \\nATOM   1358  CB  ILE A 182      -9.837  68.673  -2.379  1.00  0.00           C  \\nATOM   1359 CG1  ILE A 182      -9.258  67.392  -1.781  1.00  0.00           C  \\nATOM   1360 CD1  ILE A 182      -9.543  67.220  -0.327  1.00  0.00           C  \\nATOM   1361 CG2  ILE A 182     -11.372  68.614  -2.397  1.00  0.00           C  \\nATOM   1362  N   LYS A 183      -9.709  71.236  -4.012  1.00  0.00           N  \\nATOM   1363  CA  LYS A 183     -10.318  72.428  -4.567  1.00  0.00           C  \\nATOM   1364  C   LYS A 183     -10.031  72.506  -6.059  1.00  0.00           C  \\nATOM   1365  O   LYS A 183     -10.941  72.722  -6.867  1.00  0.00           O  \\nATOM   1366  CB  LYS A 183      -9.773  73.678  -3.882  1.00  0.00           C  \\nATOM   1367  CG  LYS A 183     -10.369  74.967  -4.423  1.00  0.00           C  \\nATOM   1368  CD  LYS A 183     -10.395  76.049  -3.359  1.00  0.00           C  \\nATOM   1369  CE  LYS A 183     -11.192  77.260  -3.818  1.00  0.00           C  \\nATOM   1370  NZ  LYS A 183     -11.275  78.288  -2.742  1.00  0.00           N  \\nATOM   1371  N   ALA A 184      -8.763  72.326  -6.417  1.00  0.00           N  \\nATOM   1372  CA  ALA A 184      -8.339  72.374  -7.810  1.00  0.00           C  \\nATOM   1373  C   ALA A 184      -9.072  71.349  -8.666  1.00  0.00           C  \\nATOM   1374  O   ALA A 184      -9.237  71.548  -9.869  1.00  0.00           O  \\nATOM   1375  CB  ALA A 184      -6.839  72.144  -7.906  1.00  0.00           C  \\nATOM   1376  N   LEU A 185      -9.496  70.246  -8.054  1.00  0.00           N  \\nATOM   1377  CA  LEU A 185     -10.215  69.212  -8.787  1.00  0.00           C  \\nATOM   1378  C   LEU A 185     -11.643  69.674  -9.053  1.00  0.00           C  \\nATOM   1379  O   LEU A 185     -12.184  69.447 -10.131  1.00  0.00           O  \\nATOM   1380  CB  LEU A 185     -10.238  67.901  -8.001  1.00  0.00           C  \\nATOM   1381  CG  LEU A 185      -8.948  67.085  -7.928  1.00  0.00           C  \\nATOM   1382 CD1  LEU A 185      -9.196  65.843  -7.100  1.00  0.00           C  \\nATOM   1383 CD2  LEU A 185      -8.495  66.692  -9.320  1.00  0.00           C  \\nATOM   1384  N   LYS A 186     -12.249  70.320  -8.065  1.00  0.00           N  \\nATOM   1385  CA  LYS A 186     -13.609  70.815  -8.213  1.00  0.00           C  \\nATOM   1386  C   LYS A 186     -13.612  72.036  -9.139  1.00  0.00           C  \\nATOM   1387  O   LYS A 186     -14.210  72.012 -10.220  1.00  0.00           O  \\nATOM   1388  CB  LYS A 186     -14.182  71.179  -6.842  1.00  0.00           C  \\nATOM   1389  CG  LYS A 186     -14.237  69.998  -5.884  1.00  0.00           C  \\nATOM   1390  CD  LYS A 186     -14.818  70.372  -4.526  1.00  0.00           C  \\nATOM   1391  CE  LYS A 186     -14.901  69.147  -3.617  1.00  0.00           C  \\nATOM   1392  NZ  LYS A 186     -15.492  69.451  -2.278  1.00  0.00           N  \\nATOM   1393  N   ASP A 187     -12.928  73.093  -8.713  1.00  0.00           N  \\nATOM   1394  CA  ASP A 187     -12.828  74.334  -9.483  1.00  0.00           C  \\nATOM   1395  C   ASP A 187     -12.465  74.122 -10.958  1.00  0.00           C  \\nATOM   1396  O   ASP A 187     -13.186  74.664 -11.826  1.00  0.00           O  \\nATOM   1397  CB  ASP A 187     -11.802  75.268  -8.826  1.00  0.00           C  \\nATOM   1398  CG  ASP A 187     -12.398  76.095  -7.692  1.00  0.00           C  \\nATOM   1399 OD1  ASP A 187     -13.294  75.594  -6.978  1.00  0.00           O  \\nATOM   1400 OD2  ASP A 187     -11.956  77.248  -7.507  1.00  0.00           O  \\nTER\\nEND          \\n\",\"pdb\",{\"keepH\": true});\n\tviewer_1676338529635565.setStyle({\"cartoon\": {\"color\": \"spectrum\"}, \"stick\": {\"radius\": 0.15}});\n\tviewer_1676338529635565.zoomTo();\nviewer_1676338529635565.render();\n});\n</script>",
      "text/html": [
       "<div id=\"3dmolviewer_1676338529635565\"  style=\"position: relative; width: 640px; height: 480px\">\n",
       "        <p id=\"3dmolwarning_1676338529635565\" style=\"background-color:#ffcccc;color:black\">You appear to be running in JupyterLab (or JavaScript failed to load for some other reason).  You need to install the 3dmol extension: <br>\n",
       "        <tt>jupyter labextension install jupyterlab_3dmol</tt></p>\n",
       "        </div>\n",
       "<script>\n",
       "\n",
       "var loadScriptAsync = function(uri){\n",
       "  return new Promise((resolve, reject) => {\n",
       "    //this is to ignore the existence of requirejs amd\n",
       "    var savedexports, savedmodule;\n",
       "    if (typeof exports !== 'undefined') savedexports = exports;\n",
       "    else exports = {}\n",
       "    if (typeof module !== 'undefined') savedmodule = module;\n",
       "    else module = {}\n",
       "\n",
       "    var tag = document.createElement('script');\n",
       "    tag.src = uri;\n",
       "    tag.async = true;\n",
       "    tag.onload = () => {\n",
       "        exports = savedexports;\n",
       "        module = savedmodule;\n",
       "        resolve();\n",
       "    };\n",
       "  var firstScriptTag = document.getElementsByTagName('script')[0];\n",
       "  firstScriptTag.parentNode.insertBefore(tag, firstScriptTag);\n",
       "});\n",
       "};\n",
       "\n",
       "if(typeof $3Dmolpromise === 'undefined') {\n",
       "$3Dmolpromise = null;\n",
       "  $3Dmolpromise = loadScriptAsync('https://cdn.jsdelivr.net/npm/3dmol@latest/build/3Dmol-min.min.js');\n",
       "}\n",
       "\n",
       "var viewer_1676338529635565 = null;\n",
       "var warn = document.getElementById(\"3dmolwarning_1676338529635565\");\n",
       "if(warn) {\n",
       "    warn.parentNode.removeChild(warn);\n",
       "}\n",
       "$3Dmolpromise.then(function() {\n",
       "viewer_1676338529635565 = $3Dmol.createViewer(document.getElementById(\"3dmolviewer_1676338529635565\"),{backgroundColor:\"white\"});\n",
       "viewer_1676338529635565.zoomTo();\n",
       "\tviewer_1676338529635565.addModel(\"REMARK  pred\\nSEQRES   1 A  194  GLY SER HIS MET SER GLN SER PHE GLY ARG VAL LEU THR          \\nSEQRES   2 A  194  ILE VAL HIS SER ASP CYS ALA LEU LEU GLU ARG ASP GLY          \\nSEQRES   3 A  194  ASN ILE SER LEU LEU SER LEU PRO VAL ALA GLU ARG TRP          \\nSEQRES   4 A  194  LEU ARG GLN ALA GLN LEU THR PRO GLY GLU ALA PRO VAL          \\nSEQRES   5 A  194  CYS ALA GLN PRO LEU LEU ILE PRO LEU ARG LEU LYS VAL          \\nSEQRES   6 A  194  SER ALA GLU GLU LYS SER ALA LEU GLU LYS ALA GLN SER          \\nSEQRES   7 A  194  ALA LEU ALA GLU LEU GLY ILE ASP PHE GLN SER ASP ALA          \\nSEQRES   8 A  194  GLN HIS VAL THR ILE ARG ALA VAL PRO LEU PRO LEU ARG          \\nSEQRES   9 A  194  GLN GLN ASN LEU GLN ILE LEU ILE PRO GLU LEU ILE GLY          \\nSEQRES  10 A  194  TYR LEU ALA LYS GLN SER VAL PHE GLU PRO GLY ASN ILE          \\nSEQRES  11 A  194  ALA GLN TRP ILE ALA ARG ASN LEU MET SER GLU HIS ALA          \\nSEQRES  12 A  194  GLN TRP SER MET ALA GLN ALA ILE THR LEU LEU ALA ASP          \\nSEQRES  13 A  194  VAL GLU ARG LEU CYS PRO GLN LEU VAL LYS THR PRO PRO          \\nSEQRES  14 A  194  GLY GLY LEU LEU GLN SER VAL ASP LEU HIS PRO ALA ILE          \\nSEQRES  15 A  194  LYS ALA LEU LYS ASP GLU ALA ALA ALA ALA ALA ALA              \\nATOM      1  N   GLN A   6      -1.353  54.083  20.624  1.00  0.00           N  \\nATOM      2  CA  GLN A   6      -1.881  54.484  19.292  1.00  0.00           C  \\nATOM      3  C   GLN A   6      -0.885  54.176  18.169  1.00  0.00           C  \\nATOM      4  O   GLN A   6       0.047  53.392  18.348  1.00  0.00           O  \\nATOM      5  CB  GLN A   6      -2.214  55.976  19.271  1.00  0.00           C  \\nATOM      6  CG  GLN A   6      -3.072  56.449  20.426  1.00  0.00           C  \\nATOM      7  CD  GLN A   6      -3.742  57.782  20.134  1.00  0.00           C  \\nATOM      8 OE1  GLN A   6      -4.741  57.843  19.409  1.00  0.00           O  \\nATOM      9 NE2  GLN A   6      -3.188  58.860  20.686  1.00  0.00           N  \\nATOM     10  N   SER A   7      -1.086  54.814  17.018  1.00  0.00           N  \\nATOM     11  CA  SER A   7      -0.244  54.587  15.854  1.00  0.00           C  \\nATOM     12  C   SER A   7      -0.112  55.813  14.963  1.00  0.00           C  \\nATOM     13  O   SER A   7      -1.002  56.662  14.935  1.00  0.00           O  \\nATOM     14  CB  SER A   7      -0.823  53.435  15.035  1.00  0.00           C  \\nATOM     15  OG  SER A   7      -0.226  53.366  13.755  1.00  0.00           O  \\nATOM     16  N   PHE A   8       1.001  55.901  14.236  1.00  0.00           N  \\nATOM     17  CA  PHE A   8       1.227  57.013  13.318  1.00  0.00           C  \\nATOM     18  C   PHE A   8       0.390  56.798  12.066  1.00  0.00           C  \\nATOM     19  O   PHE A   8       0.211  57.711  11.268  1.00  0.00           O  \\nATOM     20  CB  PHE A   8       2.687  57.090  12.900  1.00  0.00           C  \\nATOM     21  CG  PHE A   8       3.599  57.573  13.975  1.00  0.00           C  \\nATOM     22 CD1  PHE A   8       3.584  58.908  14.361  1.00  0.00           C  \\nATOM     23 CE1  PHE A   8       4.432  59.369  15.359  1.00  0.00           C  \\nATOM     24  CZ  PHE A   8       5.308  58.479  15.982  1.00  0.00           C  \\nATOM     25 CE2  PHE A   8       5.325  57.137  15.597  1.00  0.00           C  \\nATOM     26 CD2  PHE A   8       4.476  56.695  14.602  1.00  0.00           C  \\nATOM     27  N   GLY A   9      -0.105  55.578  11.890  1.00  0.00           N  \\nATOM     28  CA  GLY A   9      -0.918  55.291  10.723  1.00  0.00           C  \\nATOM     29  C   GLY A   9      -0.325  54.238   9.807  1.00  0.00           C  \\nATOM     30  O   GLY A   9       0.485  53.411  10.231  1.00  0.00           O  \\nATOM     31  N   ARG A  10      -0.744  54.266   8.546  1.00  0.00           N  \\nATOM     32  CA  ARG A  10      -0.258  53.321   7.556  1.00  0.00           C  \\nATOM     33  C   ARG A  10       0.793  53.984   6.690  1.00  0.00           C  \\nATOM     34  O   ARG A  10       0.579  55.093   6.178  1.00  0.00           O  \\nATOM     35  CB  ARG A  10      -1.405  52.842   6.658  1.00  0.00           C  \\nATOM     36  CG  ARG A  10      -1.008  51.814   5.581  1.00  0.00           C  \\nATOM     37  CD  ARG A  10      -2.253  51.359   4.805  1.00  0.00           C  \\nATOM     38  NE  ARG A  10      -1.946  50.535   3.639  1.00  0.00           N  \\nATOM     39  CZ  ARG A  10      -1.786  49.214   3.666  1.00  0.00           C  \\nATOM     40 NH1  ARG A  10      -1.909  48.553   4.803  1.00  0.00           N  \\nATOM     41 NH2  ARG A  10      -1.491  48.550   2.550  1.00  0.00           N  \\nATOM     42  N   VAL A  11       1.928  53.307   6.535  1.00  0.00           N  \\nATOM     43  CA  VAL A  11       3.002  53.808   5.690  1.00  0.00           C  \\nATOM     44  C   VAL A  11       2.542  53.636   4.248  1.00  0.00           C  \\nATOM     45  O   VAL A  11       2.194  52.542   3.831  1.00  0.00           O  \\nATOM     46  CB  VAL A  11       4.309  53.016   5.905  1.00  0.00           C  \\nATOM     47 CG1  VAL A  11       5.393  53.500   4.921  1.00  0.00           C  \\nATOM     48 CG2  VAL A  11       4.789  53.214   7.337  1.00  0.00           C  \\nATOM     49  N   LEU A  12       2.532  54.717   3.486  1.00  0.00           N  \\nATOM     50  CA  LEU A  12       2.078  54.642   2.106  1.00  0.00           C  \\nATOM     51  C   LEU A  12       3.200  54.470   1.105  1.00  0.00           C  \\nATOM     52  O   LEU A  12       3.130  53.611   0.219  1.00  0.00           O  \\nATOM     53  CB  LEU A  12       1.294  55.901   1.743  1.00  0.00           C  \\nATOM     54  CG  LEU A  12       0.089  56.215   2.623  1.00  0.00           C  \\nATOM     55 CD1  LEU A  12      -0.555  57.521   2.133  1.00  0.00           C  \\nATOM     56 CD2  LEU A  12      -0.903  55.048   2.560  1.00  0.00           C  \\nATOM     57  N   THR A  13       4.229  55.303   1.232  1.00  0.00           N  \\nATOM     58  CA  THR A  13       5.358  55.245   0.312  1.00  0.00           C  \\nATOM     59  C   THR A  13       6.524  55.994   0.951  1.00  0.00           C  \\nATOM     60  O   THR A  13       6.335  56.730   1.919  1.00  0.00           O  \\nATOM     61  CB  THR A  13       4.993  55.930  -1.044  1.00  0.00           C  \\nATOM     62 OG1  THR A  13       6.098  55.855  -1.951  1.00  0.00           O  \\nATOM     63 CG2  THR A  13       4.658  57.392  -0.830  1.00  0.00           C  \\nATOM     64  N   ILE A  14       7.722  55.785   0.417  1.00  0.00           N  \\nATOM     65  CA  ILE A  14       8.909  56.479   0.903  1.00  0.00           C  \\nATOM     66  C   ILE A  14       9.074  57.728   0.044  1.00  0.00           C  \\nATOM     67  O   ILE A  14       9.051  57.656  -1.180  1.00  0.00           O  \\nATOM     68  CB  ILE A  14      10.196  55.631   0.760  1.00  0.00           C  \\nATOM     69 CG1  ILE A  14      10.078  54.342   1.572  1.00  0.00           C  \\nATOM     70 CD1  ILE A  14       9.727  54.568   3.055  1.00  0.00           C  \\nATOM     71 CG2  ILE A  14      11.393  56.437   1.244  1.00  0.00           C  \\nATOM     72  N   VAL A  15       9.243  58.866   0.695  1.00  0.00           N  \\nATOM     73  CA  VAL A  15       9.392  60.131   0.003  1.00  0.00           C  \\nATOM     74  C   VAL A  15      10.800  60.675   0.195  1.00  0.00           C  \\nATOM     75  O   VAL A  15      11.294  60.740   1.312  1.00  0.00           O  \\nATOM     76  CB  VAL A  15       8.403  61.161   0.556  1.00  0.00           C  \\nATOM     77 CG1  VAL A  15       8.595  62.480  -0.150  1.00  0.00           C  \\nATOM     78 CG2  VAL A  15       6.983  60.660   0.395  1.00  0.00           C  \\nATOM     79  N   HIS A  16      11.439  61.070  -0.898  1.00  0.00           N  \\nATOM     80  CA  HIS A  16      12.789  61.624  -0.840  1.00  0.00           C  \\nATOM     81  C   HIS A  16      13.778  60.843  -0.007  1.00  0.00           C  \\nATOM     82  O   HIS A  16      14.394  61.396   0.901  1.00  0.00           O  \\nATOM     83  CB  HIS A  16      12.725  63.063  -0.338  1.00  0.00           C  \\nATOM     84  CG  HIS A  16      12.131  64.001  -1.335  1.00  0.00           C  \\nATOM     85 ND1  HIS A  16      11.901  65.332  -1.073  1.00  0.00           N  \\nATOM     86 CE1  HIS A  16      11.375  65.904  -2.144  1.00  0.00           C  \\nATOM     87 NE2  HIS A  16      11.257  64.988  -3.090  1.00  0.00           N  \\nATOM     88 CD2  HIS A  16      11.723  63.790  -2.610  1.00  0.00           C  \\nATOM     89  N   SER A  17      13.914  59.561  -0.311  1.00  0.00           N  \\nATOM     90  CA  SER A  17      14.843  58.676   0.373  1.00  0.00           C  \\nATOM     91  C   SER A  17      14.790  58.486   1.897  1.00  0.00           C  \\nATOM     92  O   SER A  17      15.228  57.437   2.374  1.00  0.00           O  \\nATOM     93  CB  SER A  17      16.276  59.030  -0.036  1.00  0.00           C  \\nATOM     94  OG  SER A  17      16.546  60.396   0.208  1.00  0.00           O  \\nATOM     95  N   ASP A  18      14.287  59.453   2.670  1.00  0.00           N  \\nATOM     96  CA  ASP A  18      14.234  59.238   4.120  1.00  0.00           C  \\nATOM     97  C   ASP A  18      12.973  59.717   4.869  1.00  0.00           C  \\nATOM     98  O   ASP A  18      13.011  59.994   6.077  1.00  0.00           O  \\nATOM     99  CB  ASP A  18      15.499  59.798   4.792  1.00  0.00           C  \\nATOM    100  CG  ASP A  18      15.587  61.302   4.720  1.00  0.00           C  \\nATOM    101 OD1  ASP A  18      14.588  61.940   4.331  1.00  0.00           O  \\nATOM    102 OD2  ASP A  18      16.653  61.859   5.066  1.00  0.00           O  \\nATOM    103  N   CYS A  19      11.859  59.819   4.156  1.00  0.00           N  \\nATOM    104  CA  CYS A  19      10.612  60.217   4.789  1.00  0.00           C  \\nATOM    105  C   CYS A  19       9.540  59.201   4.426  1.00  0.00           C  \\nATOM    106  O   CYS A  19       9.691  58.443   3.473  1.00  0.00           O  \\nATOM    107  CB  CYS A  19      10.189  61.610   4.334  1.00  0.00           C  \\nATOM    108  SG  CYS A  19      11.242  62.915   4.966  1.00  0.00           S  \\nATOM    109  N   ALA A  20       8.468  59.166   5.199  1.00  0.00           N  \\nATOM    110  CA  ALA A  20       7.388  58.227   4.917  1.00  0.00           C  \\nATOM    111  C   ALA A  20       6.106  59.014   4.855  1.00  0.00           C  \\nATOM    112  O   ALA A  20       5.835  59.831   5.738  1.00  0.00           O  \\nATOM    113  CB  ALA A  20       7.286  57.173   6.005  1.00  0.00           C  \\nATOM    114  N   LEU A  21       5.340  58.794   3.792  1.00  0.00           N  \\nATOM    115  CA  LEU A  21       4.054  59.465   3.639  1.00  0.00           C  \\nATOM    116  C   LEU A  21       3.109  58.538   4.399  1.00  0.00           C  \\nATOM    117  O   LEU A  21       3.107  57.329   4.165  1.00  0.00           O  \\nATOM    118  CB  LEU A  21       3.680  59.547   2.153  1.00  0.00           C  \\nATOM    119  CG  LEU A  21       2.485  60.418   1.781  1.00  0.00           C  \\nATOM    120 CD1  LEU A  21       2.813  61.872   2.063  1.00  0.00           C  \\nATOM    121 CD2  LEU A  21       2.137  60.223   0.303  1.00  0.00           C  \\nATOM    122  N   LEU A  22       2.335  59.096   5.322  1.00  0.00           N  \\nATOM    123  CA  LEU A  22       1.420  58.309   6.150  1.00  0.00           C  \\nATOM    124  C   LEU A  22      -0.033  58.725   5.989  1.00  0.00           C  \\nATOM    125  O   LEU A  22      -0.330  59.850   5.586  1.00  0.00           O  \\nATOM    126  CB  LEU A  22       1.790  58.458   7.630  1.00  0.00           C  \\nATOM    127  CG  LEU A  22       3.289  58.502   7.981  1.00  0.00           C  \\nATOM    128 CD1  LEU A  22       3.457  58.715   9.495  1.00  0.00           C  \\nATOM    129 CD2  LEU A  22       3.969  57.214   7.532  1.00  0.00           C  \\nATOM    130  N   GLU A  23      -0.925  57.806   6.347  1.00  0.00           N  \\nATOM    131  CA  GLU A  23      -2.363  58.009   6.290  1.00  0.00           C  \\nATOM    132  C   GLU A  23      -2.960  57.532   7.600  1.00  0.00           C  \\nATOM    133  O   GLU A  23      -2.671  56.434   8.057  1.00  0.00           O  \\nATOM    134  CB  GLU A  23      -2.965  57.195   5.136  1.00  0.00           C  \\nATOM    135  CG  GLU A  23      -4.471  57.343   4.930  1.00  0.00           C  \\nATOM    136  CD  GLU A  23      -5.315  56.530   5.919  1.00  0.00           C  \\nATOM    137 OE1  GLU A  23      -5.114  55.301   6.037  1.00  0.00           O  \\nATOM    138 OE2  GLU A  23      -6.199  57.119   6.573  1.00  0.00           O  \\nATOM    139  N   ARG A  24      -3.785  58.366   8.215  1.00  0.00           N  \\nATOM    140  CA  ARG A  24      -4.448  57.995   9.458  1.00  0.00           C  \\nATOM    141  C   ARG A  24      -5.771  58.752   9.501  1.00  0.00           C  \\nATOM    142  O   ARG A  24      -5.791  59.985   9.584  1.00  0.00           O  \\nATOM    143  CB  ARG A  24      -3.588  58.350  10.676  1.00  0.00           C  \\nATOM    144  CG  ARG A  24      -4.146  57.774  11.981  1.00  0.00           C  \\nATOM    145  CD  ARG A  24      -3.301  58.146  13.180  1.00  0.00           C  \\nATOM    146  NE  ARG A  24      -3.070  59.584  13.222  1.00  0.00           N  \\nATOM    147  CZ  ARG A  24      -2.644  60.236  14.294  1.00  0.00           C  \\nATOM    148 NH1  ARG A  24      -2.405  59.572  15.419  1.00  0.00           N  \\nATOM    149 NH2  ARG A  24      -2.461  61.550  14.240  1.00  0.00           N  \\nATOM    150  N   ASP A  25      -6.869  58.004   9.419  1.00  0.00           N  \\nATOM    151  CA  ASP A  25      -8.212  58.582   9.413  1.00  0.00           C  \\nATOM    152  C   ASP A  25      -8.338  59.689   8.365  1.00  0.00           C  \\nATOM    153  O   ASP A  25      -8.662  60.837   8.677  1.00  0.00           O  \\nATOM    154  CB  ASP A  25      -8.569  59.126  10.798  1.00  0.00           C  \\nATOM    155  CG  ASP A  25      -8.521  58.056  11.868  1.00  0.00           C  \\nATOM    156 OD1  ASP A  25      -8.993  56.928  11.594  1.00  0.00           O  \\nATOM    157 OD2  ASP A  25      -8.018  58.338  12.982  1.00  0.00           O  \\nATOM    158  N   GLY A  26      -8.059  59.346   7.119  1.00  0.00           N  \\nATOM    159  CA  GLY A  26      -8.175  60.329   6.061  1.00  0.00           C  \\nATOM    160  C   GLY A  26      -7.132  61.427   6.062  1.00  0.00           C  \\nATOM    161  O   GLY A  26      -7.041  62.198   5.106  1.00  0.00           O  \\nATOM    162  N   ASN A  27      -6.340  61.522   7.121  1.00  0.00           N  \\nATOM    163  CA  ASN A  27      -5.310  62.555   7.159  1.00  0.00           C  \\nATOM    164  C   ASN A  27      -3.995  62.056   6.570  1.00  0.00           C  \\nATOM    165  O   ASN A  27      -3.597  60.901   6.785  1.00  0.00           O  \\nATOM    166  CB  ASN A  27      -5.094  63.033   8.592  1.00  0.00           C  \\nATOM    167  CG  ASN A  27      -6.298  63.765   9.143  1.00  0.00           C  \\nATOM    168 OD1  ASN A  27      -6.718  64.789   8.597  1.00  0.00           O  \\nATOM    169 ND2  ASN A  27      -6.863  63.246  10.222  1.00  0.00           N  \\nATOM    170  N   ILE A  28      -3.340  62.923   5.805  1.00  0.00           N  \\nATOM    171  CA  ILE A  28      -2.060  62.579   5.197  1.00  0.00           C  \\nATOM    172  C   ILE A  28      -0.920  63.350   5.873  1.00  0.00           C  \\nATOM    173  O   ILE A  28      -1.012  64.567   6.048  1.00  0.00           O  \\nATOM    174  CB  ILE A  28      -2.057  62.887   3.686  1.00  0.00           C  \\nATOM    175 CG1  ILE A  28      -3.218  62.149   3.011  1.00  0.00           C  \\nATOM    176 CD1  ILE A  28      -3.153  60.637   3.205  1.00  0.00           C  \\nATOM    177 CG2  ILE A  28      -0.743  62.416   3.056  1.00  0.00           C  \\nATOM    178  N   SER A  29       0.139  62.632   6.256  1.00  0.00           N  \\nATOM    179  CA  SER A  29       1.313  63.231   6.917  1.00  0.00           C  \\nATOM    180  C   SER A  29       2.638  62.764   6.315  1.00  0.00           C  \\nATOM    181  O   SER A  29       2.707  61.718   5.663  1.00  0.00           O  \\nATOM    182  CB  SER A  29       1.325  62.881   8.398  1.00  0.00           C  \\nATOM    183  OG  SER A  29       0.136  63.310   9.027  1.00  0.00           O  \\nATOM    184  N   LEU A  30       3.683  63.554   6.550  1.00  0.00           N  \\nATOM    185  CA  LEU A  30       5.028  63.260   6.078  1.00  0.00           C  \\nATOM    186  C   LEU A  30       5.912  63.134   7.325  1.00  0.00           C  \\nATOM    187  O   LEU A  30       6.070  64.090   8.096  1.00  0.00           O  \\nATOM    188  CB  LEU A  30       5.541  64.388   5.175  1.00  0.00           C  \\nATOM    189  CG  LEU A  30       6.951  64.206   4.585  1.00  0.00           C  \\nATOM    190 CD1  LEU A  30       6.997  63.011   3.635  1.00  0.00           C  \\nATOM    191 CD2  LEU A  30       7.355  65.458   3.837  1.00  0.00           C  \\nATOM    192  N   LEU A  31       6.474  61.947   7.531  1.00  0.00           N  \\nATOM    193  CA  LEU A  31       7.306  61.708   8.696  1.00  0.00           C  \\nATOM    194  C   LEU A  31       8.770  61.467   8.344  1.00  0.00           C  \\nATOM    195  O   LEU A  31       9.096  60.744   7.400  1.00  0.00           O  \\nATOM    196  CB  LEU A  31       6.740  60.531   9.499  1.00  0.00           C  \\nATOM    197  CG  LEU A  31       7.473  60.104  10.781  1.00  0.00           C  \\nATOM    198 CD1  LEU A  31       6.491  59.483  11.777  1.00  0.00           C  \\nATOM    199 CD2  LEU A  31       8.569  59.103  10.414  1.00  0.00           C  \\nATOM    200  N   SER A  32       9.645  62.100   9.118  1.00  0.00           N  \\nATOM    201  CA  SER A  32      11.092  61.982   8.945  1.00  0.00           C  \\nATOM    202  C   SER A  32      11.579  60.706   9.614  1.00  0.00           C  \\nATOM    203  O   SER A  32      11.539  60.598  10.836  1.00  0.00           O  \\nATOM    204  CB  SER A  32      11.793  63.177   9.597  1.00  0.00           C  \\nATOM    205  OG  SER A  32      13.194  62.966   9.637  1.00  0.00           O  \\nATOM    206  N   LEU A  33      12.051  59.743   8.836  1.00  0.00           N  \\nATOM    207  CA  LEU A  33      12.508  58.497   9.430  1.00  0.00           C  \\nATOM    208  C   LEU A  33      13.763  58.659  10.332  1.00  0.00           C  \\nATOM    209  O   LEU A  33      13.863  57.994  11.370  1.00  0.00           O  \\nATOM    210  CB  LEU A  33      12.722  57.449   8.321  1.00  0.00           C  \\nATOM    211  CG  LEU A  33      11.416  57.124   7.548  1.00  0.00           C  \\nATOM    212 CD1  LEU A  33      11.745  56.338   6.294  1.00  0.00           C  \\nATOM    213 CD2  LEU A  33      10.432  56.318   8.424  1.00  0.00           C  \\nATOM    214  N   PRO A  34      14.721  59.545   9.957  1.00  0.00           N  \\nATOM    215  CA  PRO A  34      15.927  59.740  10.783  1.00  0.00           C  \\nATOM    216  C   PRO A  34      15.556  60.236  12.182  1.00  0.00           C  \\nATOM    217  O   PRO A  34      16.150  59.832  13.180  1.00  0.00           O  \\nATOM    218  CB  PRO A  34      16.724  60.795  10.002  1.00  0.00           C  \\nATOM    219  CG  PRO A  34      16.303  60.554   8.570  1.00  0.00           C  \\nATOM    220  CD  PRO A  34      14.804  60.368   8.732  1.00  0.00           C  \\nATOM    221  N   VAL A  35      14.569  61.120  12.256  1.00  0.00           N  \\nATOM    222  CA  VAL A  35      14.144  61.624  13.549  1.00  0.00           C  \\nATOM    223  C   VAL A  35      13.476  60.491  14.326  1.00  0.00           C  \\nATOM    224  O   VAL A  35      13.742  60.303  15.512  1.00  0.00           O  \\nATOM    225  CB  VAL A  35      13.189  62.833  13.386  1.00  0.00           C  \\nATOM    226 CG1  VAL A  35      12.662  63.291  14.741  1.00  0.00           C  \\nATOM    227 CG2  VAL A  35      13.941  63.974  12.709  1.00  0.00           C  \\nATOM    228  N   ALA A  36      12.623  59.719  13.667  1.00  0.00           N  \\nATOM    229  CA  ALA A  36      11.982  58.605  14.354  1.00  0.00           C  \\nATOM    230  C   ALA A  36      13.040  57.598  14.828  1.00  0.00           C  \\nATOM    231  O   ALA A  36      12.956  57.079  15.932  1.00  0.00           O  \\nATOM    232  CB  ALA A  36      10.984  57.913  13.429  1.00  0.00           C  \\nATOM    233  N   GLU A  37      14.025  57.308  13.985  1.00  0.00           N  \\nATOM    234  CA  GLU A  37      15.063  56.355  14.361  1.00  0.00           C  \\nATOM    235  C   GLU A  37      15.786  56.857  15.612  1.00  0.00           C  \\nATOM    236  O   GLU A  37      16.089  56.100  16.519  1.00  0.00           O  \\nATOM    237  CB  GLU A  37      16.066  56.183  13.216  1.00  0.00           C  \\nATOM    238  CG  GLU A  37      17.207  55.222  13.528  1.00  0.00           C  \\nATOM    239  CD  GLU A  37      16.838  53.757  13.374  1.00  0.00           C  \\nATOM    240 OE1  GLU A  37      15.640  53.412  13.453  1.00  0.00           O  \\nATOM    241 OE2  GLU A  37      17.763  52.938  13.182  1.00  0.00           O  \\nATOM    242  N   ARG A  38      16.056  58.150  15.652  1.00  0.00           N  \\nATOM    243  CA  ARG A  38      16.730  58.734  16.790  1.00  0.00           C  \\nATOM    244  C   ARG A  38      15.921  58.536  18.092  1.00  0.00           C  \\nATOM    245  O   ARG A  38      16.473  58.083  19.108  1.00  0.00           O  \\nATOM    246  CB  ARG A  38      16.968  60.215  16.504  1.00  0.00           C  \\nATOM    247  CG  ARG A  38      17.564  61.021  17.631  1.00  0.00           C  \\nATOM    248  CD  ARG A  38      18.441  62.111  17.039  1.00  0.00           C  \\nATOM    249  NE  ARG A  38      17.874  62.640  15.798  1.00  0.00           N  \\nATOM    250  CZ  ARG A  38      18.575  62.833  14.686  1.00  0.00           C  \\nATOM    251 NH1  ARG A  38      19.871  62.537  14.658  1.00  0.00           N  \\nATOM    252 NH2  ARG A  38      17.983  63.324  13.605  1.00  0.00           N  \\nATOM    253  N   TRP A  39      14.628  58.859  18.076  1.00  0.00           N  \\nATOM    254  CA  TRP A  39      13.822  58.686  19.285  1.00  0.00           C  \\nATOM    255  C   TRP A  39      13.822  57.229  19.702  1.00  0.00           C  \\nATOM    256  O   TRP A  39      13.879  56.908  20.893  1.00  0.00           O  \\nATOM    257  CB  TRP A  39      12.380  59.175  19.087  1.00  0.00           C  \\nATOM    258  CG  TRP A  39      12.257  60.674  19.041  1.00  0.00           C  \\nATOM    259 CD1  TRP A  39      12.419  61.475  17.950  1.00  0.00           C  \\nATOM    260 NE1  TRP A  39      12.294  62.796  18.304  1.00  0.00           N  \\nATOM    261 CE2  TRP A  39      12.041  62.874  19.646  1.00  0.00           C  \\nATOM    262 CZ2  TRP A  39      11.837  63.995  20.462  1.00  0.00           C  \\nATOM    263 CH2  TRP A  39      11.600  63.778  21.798  1.00  0.00           C  \\nATOM    264 CZ3  TRP A  39      11.559  62.477  22.333  1.00  0.00           C  \\nATOM    265 CE3  TRP A  39      11.764  61.353  21.514  1.00  0.00           C  \\nATOM    266 CD2  TRP A  39      12.008  61.553  20.147  1.00  0.00           C  \\nATOM    267  N   LEU A  40      13.770  56.336  18.722  1.00  0.00           N  \\nATOM    268  CA  LEU A  40      13.786  54.916  19.030  1.00  0.00           C  \\nATOM    269  C   LEU A  40      15.096  54.513  19.744  1.00  0.00           C  \\nATOM    270  O   LEU A  40      15.079  53.847  20.789  1.00  0.00           O  \\nATOM    271  CB  LEU A  40      13.643  54.089  17.748  1.00  0.00           C  \\nATOM    272  CG  LEU A  40      13.757  52.587  18.025  1.00  0.00           C  \\nATOM    273 CD1  LEU A  40      12.696  52.185  19.048  1.00  0.00           C  \\nATOM    274 CD2  LEU A  40      13.600  51.791  16.754  1.00  0.00           C  \\nATOM    275  N   ARG A  41      16.223  54.908  19.165  1.00  0.00           N  \\nATOM    276  CA  ARG A  41      17.518  54.564  19.733  1.00  0.00           C  \\nATOM    277  C   ARG A  41      17.703  55.127  21.126  1.00  0.00           C  \\nATOM    278  O   ARG A  41      18.250  54.465  22.001  1.00  0.00           O  \\nATOM    279  CB  ARG A  41      18.643  55.049  18.814  1.00  0.00           C  \\nATOM    280  CG  ARG A  41      18.887  54.128  17.621  1.00  0.00           C  \\nATOM    281  CD  ARG A  41      19.754  54.819  16.573  1.00  0.00           C  \\nATOM    282  NE  ARG A  41      20.221  53.899  15.539  1.00  0.00           N  \\nATOM    283  CZ  ARG A  41      20.839  54.281  14.425  1.00  0.00           C  \\nATOM    284 NH1  ARG A  41      21.066  55.572  14.192  1.00  0.00           N  \\nATOM    285 NH2  ARG A  41      21.235  53.371  13.545  1.00  0.00           N  \\nATOM    286  N   GLN A  42      17.240  56.350  21.338  1.00  0.00           N  \\nATOM    287  CA  GLN A  42      17.373  56.940  22.645  1.00  0.00           C  \\nATOM    288  C   GLN A  42      16.614  56.088  23.662  1.00  0.00           C  \\nATOM    289  O   GLN A  42      17.138  55.785  24.736  1.00  0.00           O  \\nATOM    290  CB  GLN A  42      16.846  58.377  22.655  1.00  0.00           C  \\nATOM    291  CG  GLN A  42      17.212  59.108  23.944  1.00  0.00           C  \\nATOM    292  CD  GLN A  42      16.776  60.561  23.983  1.00  0.00           C  \\nATOM    293 OE1  GLN A  42      16.931  61.304  23.013  1.00  0.00           O  \\nATOM    294 NE2  GLN A  42      16.247  60.978  25.120  1.00  0.00           N  \\nATOM    295  N   ALA A  43      15.393  55.679  23.325  1.00  0.00           N  \\nATOM    296  CA  ALA A  43      14.605  54.860  24.249  1.00  0.00           C  \\nATOM    297  C   ALA A  43      15.225  53.482  24.483  1.00  0.00           C  \\nATOM    298  O   ALA A  43      15.146  52.939  25.596  1.00  0.00           O  \\nATOM    299  CB  ALA A  43      13.152  54.694  23.736  1.00  0.00           C  \\nATOM    300  N   GLN A  44      15.803  52.900  23.437  1.00  0.00           N  \\nATOM    301  CA  GLN A  44      16.422  51.585  23.568  1.00  0.00           C  \\nATOM    302  C   GLN A  44      17.711  51.650  24.402  1.00  0.00           C  \\nATOM    303  O   GLN A  44      18.131  50.650  24.972  1.00  0.00           O  \\nATOM    304  CB  GLN A  44      16.766  51.000  22.198  1.00  0.00           C  \\nATOM    305  CG  GLN A  44      15.590  50.769  21.275  1.00  0.00           C  \\nATOM    306  CD  GLN A  44      16.039  50.277  19.906  1.00  0.00           C  \\nATOM    307 OE1  GLN A  44      17.015  50.780  19.351  1.00  0.00           O  \\nATOM    308 NE2  GLN A  44      15.326  49.300  19.357  1.00  0.00           N  \\nATOM    309  N   LEU A  45      18.332  52.822  24.463  1.00  0.00           N  \\nATOM    310  CA  LEU A  45      19.571  52.987  25.218  1.00  0.00           C  \\nATOM    311  C   LEU A  45      19.344  53.502  26.629  1.00  0.00           C  \\nATOM    312  O   LEU A  45      20.214  53.374  27.492  1.00  0.00           O  \\nATOM    313  CB  LEU A  45      20.493  53.970  24.501  1.00  0.00           C  \\nATOM    314  CG  LEU A  45      21.103  53.505  23.179  1.00  0.00           C  \\nATOM    315 CD1  LEU A  45      21.788  54.683  22.520  1.00  0.00           C  \\nATOM    316 CD2  LEU A  45      22.084  52.349  23.425  1.00  0.00           C  \\nATOM    317  N   THR A  46      18.175  54.094  26.860  1.00  0.00           N  \\nATOM    318  CA  THR A  46      17.862  54.671  28.156  1.00  0.00           C  \\nATOM    319  C   THR A  46      17.360  53.690  29.203  1.00  0.00           C  \\nATOM    320  O   THR A  46      16.335  53.047  29.026  1.00  0.00           O  \\nATOM    321  CB  THR A  46      16.839  55.804  27.999  1.00  0.00           C  \\nATOM    322 OG1  THR A  46      17.423  56.859  27.222  1.00  0.00           O  \\nATOM    323 CG2  THR A  46      16.423  56.353  29.365  1.00  0.00           C  \\nATOM    324  N   PRO A  47      18.088  53.564  30.322  1.00  0.00           N  \\nATOM    325  CA  PRO A  47      17.659  52.642  31.378  1.00  0.00           C  \\nATOM    326  C   PRO A  47      16.288  53.100  31.867  1.00  0.00           C  \\nATOM    327  O   PRO A  47      16.124  54.252  32.270  1.00  0.00           O  \\nATOM    328  CB  PRO A  47      18.735  52.820  32.451  1.00  0.00           C  \\nATOM    329  CG  PRO A  47      19.919  53.303  31.676  1.00  0.00           C  \\nATOM    330  CD  PRO A  47      19.303  54.282  30.726  1.00  0.00           C  \\nATOM    331  N   GLY A  48      15.309  52.207  31.816  1.00  0.00           N  \\nATOM    332  CA  GLY A  48      13.960  52.557  32.244  1.00  0.00           C  \\nATOM    333  C   GLY A  48      12.923  52.675  31.125  1.00  0.00           C  \\nATOM    334  O   GLY A  48      11.725  52.826  31.401  1.00  0.00           O  \\nATOM    335  N   GLU A  49      13.369  52.611  29.869  1.00  0.00           N  \\nATOM    336  CA  GLU A  49      12.459  52.711  28.723  1.00  0.00           C  \\nATOM    337  C   GLU A  49      12.547  51.463  27.854  1.00  0.00           C  \\nATOM    338  O   GLU A  49      11.783  51.299  26.900  1.00  0.00           O  \\nATOM    339  CB  GLU A  49      12.779  53.954  27.878  1.00  0.00           C  \\nATOM    340  CG  GLU A  49      12.701  55.266  28.655  1.00  0.00           C  \\nATOM    341  CD  GLU A  49      12.847  56.498  27.777  1.00  0.00           C  \\nATOM    342 OE1  GLU A  49      13.323  56.367  26.632  1.00  0.00           O  \\nATOM    343 OE2  GLU A  49      12.494  57.604  28.241  1.00  0.00           O  \\nATOM    344  N   ALA A  50      13.488  50.587  28.190  1.00  0.00           N  \\nATOM    345  CA  ALA A  50      13.684  49.345  27.452  1.00  0.00           C  \\nATOM    346  C   ALA A  50      14.710  48.497  28.196  1.00  0.00           C  \\nATOM    347  O   ALA A  50      15.435  49.003  29.062  1.00  0.00           O  \\nATOM    348  CB  ALA A  50      14.166  49.643  26.022  1.00  0.00           C  \\nATOM    349  N   PRO A  51      14.774  47.191  27.885  1.00  0.00           N  \\nATOM    350  CA  PRO A  51      15.731  46.292  28.545  1.00  0.00           C  \\nATOM    351  C   PRO A  51      17.174  46.648  28.177  1.00  0.00           C  \\nATOM    352  O   PRO A  51      17.489  46.802  26.997  1.00  0.00           O  \\nATOM    353  CB  PRO A  51      15.339  44.913  28.013  1.00  0.00           C  \\nATOM    354  CG  PRO A  51      13.890  45.071  27.653  1.00  0.00           C  \\nATOM    355  CD  PRO A  51      13.865  46.432  27.012  1.00  0.00           C  \\nATOM    356  N   VAL A  52      18.038  46.781  29.185  1.00  0.00           N  \\nATOM    357  CA  VAL A  52      19.454  47.105  28.967  1.00  0.00           C  \\nATOM    358  C   VAL A  52      20.333  45.979  29.513  1.00  0.00           C  \\nATOM    359  O   VAL A  52      20.370  45.722  30.718  1.00  0.00           O  \\nATOM    360  CB  VAL A  52      19.863  48.443  29.659  1.00  0.00           C  \\nATOM    361 CG1  VAL A  52      21.361  48.702  29.476  1.00  0.00           C  \\nATOM    362 CG2  VAL A  52      19.055  49.593  29.085  1.00  0.00           C  \\nATOM    363  N   CYS A  53      21.045  45.319  28.609  1.00  0.00           N  \\nATOM    364  CA  CYS A  53      21.917  44.209  28.973  1.00  0.00           C  \\nATOM    365  C   CYS A  53      23.257  44.330  28.257  1.00  0.00           C  \\nATOM    366  O   CYS A  53      23.298  44.430  27.029  1.00  0.00           O  \\nATOM    367  CB  CYS A  53      21.244  42.891  28.580  1.00  0.00           C  \\nATOM    368  SG  CYS A  53      22.265  41.411  28.773  1.00  0.00           S  \\nATOM    369  N   ALA A  54      24.345  44.314  29.022  1.00  0.00           N  \\nATOM    370  CA  ALA A  54      25.678  44.402  28.445  1.00  0.00           C  \\nATOM    371  C   ALA A  54      25.885  43.195  27.528  1.00  0.00           C  \\nATOM    372  O   ALA A  54      25.486  42.086  27.875  1.00  0.00           O  \\nATOM    373  CB  ALA A  54      26.725  44.413  29.556  1.00  0.00           C  \\nATOM    374  N   GLN A  55      26.484  43.414  26.357  1.00  0.00           N  \\nATOM    375  CA  GLN A  55      26.752  42.333  25.397  1.00  0.00           C  \\nATOM    376  C   GLN A  55      28.266  42.237  25.178  1.00  0.00           C  \\nATOM    377  O   GLN A  55      28.884  43.196  24.732  1.00  0.00           O  \\nATOM    378  CB  GLN A  55      26.098  42.634  24.042  1.00  0.00           C  \\nATOM    379  CG  GLN A  55      24.636  43.046  24.083  1.00  0.00           C  \\nATOM    380  CD  GLN A  55      23.725  41.913  24.487  1.00  0.00           C  \\nATOM    381 OE1  GLN A  55      23.699  40.864  23.842  1.00  0.00           O  \\nATOM    382 NE2  GLN A  55      22.970  42.114  25.555  1.00  0.00           N  \\nATOM    383  N   PRO A  56      28.873  41.069  25.455  1.00  0.00           N  \\nATOM    384  CA  PRO A  56      30.318  40.859  25.290  1.00  0.00           C  \\nATOM    385  C   PRO A  56      30.828  41.085  23.875  1.00  0.00           C  \\nATOM    386  O   PRO A  56      30.219  40.640  22.903  1.00  0.00           O  \\nATOM    387  CB  PRO A  56      30.512  39.408  25.726  1.00  0.00           C  \\nATOM    388  CG  PRO A  56      29.401  39.196  26.708  1.00  0.00           C  \\nATOM    389  CD  PRO A  56      28.239  39.862  26.006  1.00  0.00           C  \\nATOM    390  N   LEU A  57      31.948  41.785  23.758  1.00  0.00           N  \\nATOM    391  CA  LEU A  57      32.539  42.026  22.447  1.00  0.00           C  \\nATOM    392  C   LEU A  57      33.296  40.773  22.004  1.00  0.00           C  \\nATOM    393  O   LEU A  57      33.870  40.064  22.836  1.00  0.00           O  \\nATOM    394  CB  LEU A  57      33.501  43.219  22.500  1.00  0.00           C  \\nATOM    395  CG  LEU A  57      32.891  44.590  22.193  1.00  0.00           C  \\nATOM    396 CD1  LEU A  57      31.723  44.883  23.113  1.00  0.00           C  \\nATOM    397 CD2  LEU A  57      33.956  45.645  22.335  1.00  0.00           C  \\nATOM    398  N   LEU A  58      33.272  40.496  20.700  1.00  0.00           N  \\nATOM    399  CA  LEU A  58      33.976  39.344  20.137  1.00  0.00           C  \\nATOM    400  C   LEU A  58      35.410  39.553  20.560  1.00  0.00           C  \\nATOM    401  O   LEU A  58      35.993  38.759  21.296  1.00  0.00           O  \\nATOM    402  CB  LEU A  58      33.933  39.369  18.608  1.00  0.00           C  \\nATOM    403  CG  LEU A  58      32.622  39.705  17.906  1.00  0.00           C  \\nATOM    404 CD1  LEU A  58      32.906  40.086  16.451  1.00  0.00           C  \\nATOM    405 CD2  LEU A  58      31.670  38.510  18.002  1.00  0.00           C  \\nATOM    406  N   ILE A  59      35.963  40.654  20.070  1.00  0.00           N  \\nATOM    407  CA  ILE A  59      37.319  41.025  20.387  1.00  0.00           C  \\nATOM    408  C   ILE A  59      37.254  42.387  21.079  1.00  0.00           C  \\nATOM    409  O   ILE A  59      36.807  43.388  20.501  1.00  0.00           O  \\nATOM    410  CB  ILE A  59      38.213  41.083  19.096  1.00  0.00           C  \\nATOM    411 CG1  ILE A  59      38.003  42.393  18.325  1.00  0.00           C  \\nATOM    412 CD1  ILE A  59      39.162  43.383  18.463  1.00  0.00           C  \\nATOM    413 CG2  ILE A  59      37.856  39.922  18.171  1.00  0.00           C  \\nATOM    414  N   PRO A  60      37.653  42.425  22.353  1.00  0.00           N  \\nATOM    415  CA  PRO A  60      37.635  43.682  23.096  1.00  0.00           C  \\nATOM    416  C   PRO A  60      38.380  44.774  22.325  1.00  0.00           C  \\nATOM    417  O   PRO A  60      39.382  44.518  21.650  1.00  0.00           O  \\nATOM    418  CB  PRO A  60      38.304  43.299  24.409  1.00  0.00           C  \\nATOM    419  CG  PRO A  60      37.787  41.904  24.619  1.00  0.00           C  \\nATOM    420  CD  PRO A  60      37.941  41.286  23.245  1.00  0.00           C  \\nATOM    421  N   LEU A  61      37.869  45.992  22.408  1.00  0.00           N  \\nATOM    422  CA  LEU A  61      38.481  47.108  21.713  1.00  0.00           C  \\nATOM    423  C   LEU A  61      39.367  47.888  22.687  1.00  0.00           C  \\nATOM    424  O   LEU A  61      38.862  48.532  23.602  1.00  0.00           O  \\nATOM    425  CB  LEU A  61      37.390  48.007  21.144  1.00  0.00           C  \\nATOM    426  CG  LEU A  61      37.877  49.288  20.473  1.00  0.00           C  \\nATOM    427 CD1  LEU A  61      38.717  48.941  19.225  1.00  0.00           C  \\nATOM    428 CD2  LEU A  61      36.686  50.145  20.108  1.00  0.00           C  \\nATOM    429  N   ARG A  62      40.685  47.814  22.490  1.00  0.00           N  \\nATOM    430  CA  ARG A  62      41.647  48.502  23.355  1.00  0.00           C  \\nATOM    431  C   ARG A  62      42.027  49.811  22.693  1.00  0.00           C  \\nATOM    432  O   ARG A  62      42.366  49.831  21.513  1.00  0.00           O  \\nATOM    433  CB  ARG A  62      42.892  47.631  23.551  1.00  0.00           C  \\nATOM    434  CG  ARG A  62      44.013  48.273  24.364  1.00  0.00           C  \\nATOM    435  CD  ARG A  62      45.283  47.412  24.307  1.00  0.00           C  \\nATOM    436  NE  ARG A  62      46.415  48.043  24.976  1.00  0.00           N  \\nATOM    437  CZ  ARG A  62      46.664  47.924  26.272  1.00  0.00           C  \\nATOM    438 NH1  ARG A  62      45.858  47.187  27.030  1.00  0.00           N  \\nATOM    439 NH2  ARG A  62      47.710  48.542  26.812  1.00  0.00           N  \\nATOM    440  N   LEU A  63      41.988  50.902  23.443  1.00  0.00           N  \\nATOM    441  CA  LEU A  63      42.296  52.205  22.877  1.00  0.00           C  \\nATOM    442  C   LEU A  63      43.228  53.006  23.762  1.00  0.00           C  \\nATOM    443  O   LEU A  63      43.160  52.920  24.989  1.00  0.00           O  \\nATOM    444  CB  LEU A  63      41.005  53.013  22.706  1.00  0.00           C  \\nATOM    445  CG  LEU A  63      39.884  52.377  21.894  1.00  0.00           C  \\nATOM    446 CD1  LEU A  63      38.605  53.182  22.090  1.00  0.00           C  \\nATOM    447 CD2  LEU A  63      40.285  52.331  20.416  1.00  0.00           C  \\nATOM    448  N   LYS A  64      44.082  53.810  23.143  1.00  0.00           N  \\nATOM    449  CA  LYS A  64      44.988  54.640  23.914  1.00  0.00           C  \\nATOM    450  C   LYS A  64      44.194  55.877  24.273  1.00  0.00           C  \\nATOM    451  O   LYS A  64      43.440  56.391  23.448  1.00  0.00           O  \\nATOM    452  CB  LYS A  64      46.211  55.044  23.082  1.00  0.00           C  \\nATOM    453  CG  LYS A  64      47.134  55.999  23.819  1.00  0.00           C  \\nATOM    454  CD  LYS A  64      48.327  56.446  22.978  1.00  0.00           C  \\nATOM    455  CE  LYS A  64      49.153  57.467  23.764  1.00  0.00           C  \\nATOM    456  NZ  LYS A  64      50.333  57.990  23.022  1.00  0.00           N  \\nATOM    457  N   VAL A  65      44.360  56.360  25.497  1.00  0.00           N  \\nATOM    458  CA  VAL A  65      43.642  57.545  25.932  1.00  0.00           C  \\nATOM    459  C   VAL A  65      44.549  58.456  26.744  1.00  0.00           C  \\nATOM    460  O   VAL A  65      45.414  57.985  27.473  1.00  0.00           O  \\nATOM    461  CB  VAL A  65      42.426  57.165  26.815  1.00  0.00           C  \\nATOM    462 CG1  VAL A  65      41.379  56.414  25.978  1.00  0.00           C  \\nATOM    463 CG2  VAL A  65      42.896  56.310  27.987  1.00  0.00           C  \\nATOM    464  N   SER A  66      44.352  59.761  26.612  1.00  0.00           N  \\nATOM    465  CA  SER A  66      45.146  60.707  27.380  1.00  0.00           C  \\nATOM    466  C   SER A  66      44.719  60.555  28.842  1.00  0.00           C  \\nATOM    467  O   SER A  66      43.691  59.938  29.138  1.00  0.00           O  \\nATOM    468  CB  SER A  66      44.871  62.137  26.926  1.00  0.00           C  \\nATOM    469  OG  SER A  66      43.563  62.536  27.305  1.00  0.00           O  \\nATOM    470  N   ALA A  67      45.501  61.128  29.753  1.00  0.00           N  \\nATOM    471  CA  ALA A  67      45.199  61.048  31.173  1.00  0.00           C  \\nATOM    472  C   ALA A  67      43.888  61.751  31.490  1.00  0.00           C  \\nATOM    473  O   ALA A  67      43.133  61.304  32.357  1.00  0.00           O  \\nATOM    474  CB  ALA A  67      46.347  61.654  31.998  1.00  0.00           C  \\nATOM    475  N   GLU A  68      43.607  62.847  30.797  1.00  0.00           N  \\nATOM    476  CA  GLU A  68      42.359  63.560  31.041  1.00  0.00           C  \\nATOM    477  C   GLU A  68      41.166  62.736  30.537  1.00  0.00           C  \\nATOM    478  O   GLU A  68      40.070  62.831  31.076  1.00  0.00           O  \\nATOM    479  CB  GLU A  68      42.378  64.939  30.364  1.00  0.00           C  \\nATOM    480  CG  GLU A  68      41.862  66.063  31.282  1.00  0.00           C  \\nATOM    481  CD  GLU A  68      42.220  67.470  30.794  1.00  0.00           C  \\nATOM    482 OE1  GLU A  68      41.623  67.927  29.791  1.00  0.00           O  \\nATOM    483 OE2  GLU A  68      43.105  68.117  31.409  1.00  0.00           O  \\nATOM    484  N   GLU A  69      41.379  61.929  29.505  1.00  0.00           N  \\nATOM    485  CA  GLU A  69      40.299  61.104  28.969  1.00  0.00           C  \\nATOM    486  C   GLU A  69      40.092  59.913  29.895  1.00  0.00           C  \\nATOM    487  O   GLU A  69      38.955  59.524  30.187  1.00  0.00           O  \\nATOM    488  CB  GLU A  69      40.642  60.651  27.540  1.00  0.00           C  \\nATOM    489  CG  GLU A  69      40.768  61.858  26.610  1.00  0.00           C  \\nATOM    490  CD  GLU A  69      41.164  61.526  25.198  1.00  0.00           C  \\nATOM    491 OE1  GLU A  69      41.884  60.522  24.977  1.00  0.00           O  \\nATOM    492 OE2  GLU A  69      40.763  62.303  24.301  1.00  0.00           O  \\nATOM    493  N   LYS A  70      41.211  59.364  30.359  1.00  0.00           N  \\nATOM    494  CA  LYS A  70      41.229  58.232  31.279  1.00  0.00           C  \\nATOM    495  C   LYS A  70      40.497  58.626  32.558  1.00  0.00           C  \\nATOM    496  O   LYS A  70      39.650  57.890  33.067  1.00  0.00           O  \\nATOM    497  CB  LYS A  70      42.679  57.869  31.603  1.00  0.00           C  \\nATOM    498  CG  LYS A  70      42.873  56.944  32.795  1.00  0.00           C  \\nATOM    499  CD  LYS A  70      42.276  55.575  32.546  1.00  0.00           C  \\nATOM    500  CE  LYS A  70      42.510  54.656  33.742  1.00  0.00           C  \\nATOM    501  NZ  LYS A  70      43.952  54.320  33.888  1.00  0.00           N  \\nATOM    502  N   SER A  71      40.827  59.804  33.063  1.00  0.00           N  \\nATOM    503  CA  SER A  71      40.214  60.308  34.274  1.00  0.00           C  \\nATOM    504  C   SER A  71      38.731  60.532  34.076  1.00  0.00           C  \\nATOM    505  O   SER A  71      37.934  60.318  34.994  1.00  0.00           O  \\nATOM    506  CB  SER A  71      40.883  61.611  34.703  1.00  0.00           C  \\nATOM    507  OG  SER A  71      39.981  62.392  35.456  1.00  0.00           O  \\nATOM    508  N   ALA A  72      38.348  60.973  32.885  1.00  0.00           N  \\nATOM    509  CA  ALA A  72      36.927  61.193  32.617  1.00  0.00           C  \\nATOM    510  C   ALA A  72      36.233  59.814  32.576  1.00  0.00           C  \\nATOM    511  O   ALA A  72      35.146  59.632  33.140  1.00  0.00           O  \\nATOM    512  CB  ALA A  72      36.755  61.942  31.302  1.00  0.00           C  \\nATOM    513  N   LEU A  73      36.878  58.839  31.941  1.00  0.00           N  \\nATOM    514  CA  LEU A  73      36.303  57.499  31.868  1.00  0.00           C  \\nATOM    515  C   LEU A  73      36.063  56.912  33.256  1.00  0.00           C  \\nATOM    516  O   LEU A  73      35.016  56.313  33.508  1.00  0.00           O  \\nATOM    517  CB  LEU A  73      37.212  56.572  31.056  1.00  0.00           C  \\nATOM    518  CG  LEU A  73      37.116  56.816  29.549  1.00  0.00           C  \\nATOM    519 CD1  LEU A  73      38.198  56.043  28.786  1.00  0.00           C  \\nATOM    520 CD2  LEU A  73      35.723  56.397  29.092  1.00  0.00           C  \\nATOM    521  N   GLU A  74      37.025  57.092  34.157  1.00  0.00           N  \\nATOM    522  CA  GLU A  74      36.908  56.573  35.516  1.00  0.00           C  \\nATOM    523  C   GLU A  74      35.725  57.171  36.267  1.00  0.00           C  \\nATOM    524  O   GLU A  74      35.006  56.463  36.966  1.00  0.00           O  \\nATOM    525  CB  GLU A  74      38.192  56.834  36.312  1.00  0.00           C  \\nATOM    526  CG  GLU A  74      39.423  56.141  35.777  1.00  0.00           C  \\nATOM    527  CD  GLU A  74      39.235  54.642  35.648  1.00  0.00           C  \\nATOM    528 OE1  GLU A  74      38.626  54.022  36.549  1.00  0.00           O  \\nATOM    529 OE2  GLU A  74      39.709  54.074  34.644  1.00  0.00           O  \\nATOM    530  N   LYS A  75      35.510  58.472  36.128  1.00  0.00           N  \\nATOM    531  CA  LYS A  75      34.392  59.098  36.817  1.00  0.00           C  \\nATOM    532  C   LYS A  75      33.072  58.670  36.202  1.00  0.00           C  \\nATOM    533  O   LYS A  75      32.033  58.661  36.868  1.00  0.00           O  \\nATOM    534  CB  LYS A  75      34.493  60.619  36.734  1.00  0.00           C  \\nATOM    535  CG  LYS A  75      35.681  61.217  37.428  1.00  0.00           C  \\nATOM    536  CD  LYS A  75      35.678  62.729  37.250  1.00  0.00           C  \\nATOM    537  CE  LYS A  75      36.786  63.382  38.071  1.00  0.00           C  \\nATOM    538  NZ  LYS A  75      36.823  64.872  37.921  1.00  0.00           N  \\nATOM    539  N   ALA A  76      33.113  58.307  34.925  1.00  0.00           N  \\nATOM    540  CA  ALA A  76      31.897  57.913  34.215  1.00  0.00           C  \\nATOM    541  C   ALA A  76      31.580  56.434  34.284  1.00  0.00           C  \\nATOM    542  O   ALA A  76      30.493  56.016  33.893  1.00  0.00           O  \\nATOM    543  CB  ALA A  76      32.009  58.335  32.744  1.00  0.00           C  \\nATOM    544  N   GLN A  77      32.517  55.651  34.800  1.00  0.00           N  \\nATOM    545  CA  GLN A  77      32.357  54.200  34.834  1.00  0.00           C  \\nATOM    546  C   GLN A  77      30.969  53.729  35.235  1.00  0.00           C  \\nATOM    547  O   GLN A  77      30.384  52.885  34.575  1.00  0.00           O  \\nATOM    548  CB  GLN A  77      33.382  53.551  35.769  1.00  0.00           C  \\nATOM    549  CG  GLN A  77      33.640  52.091  35.416  1.00  0.00           C  \\nATOM    550  CD  GLN A  77      34.288  51.280  36.532  1.00  0.00           C  \\nATOM    551 OE1  GLN A  77      34.970  51.878  37.393  1.00  0.00           O  \\nATOM    552 NE2  GLN A  77      34.115  50.034  36.524  1.00  0.00           N  \\nATOM    553  N   SER A  78      30.484  54.281  36.337  1.00  0.00           N  \\nATOM    554  CA  SER A  78      29.190  53.961  36.913  1.00  0.00           C  \\nATOM    555  C   SER A  78      28.045  54.293  35.931  1.00  0.00           C  \\nATOM    556  O   SER A  78      27.175  53.463  35.667  1.00  0.00           O  \\nATOM    557  CB  SER A  78      29.048  54.764  38.215  1.00  0.00           C  \\nATOM    558  OG  SER A  78      28.127  54.182  39.092  1.00  0.00           O  \\nATOM    559  N   ALA A  79      28.048  55.507  35.390  1.00  0.00           N  \\nATOM    560  CA  ALA A  79      27.014  55.885  34.429  1.00  0.00           C  \\nATOM    561  C   ALA A  79      27.060  54.964  33.204  1.00  0.00           C  \\nATOM    562  O   ALA A  79      26.020  54.507  32.729  1.00  0.00           O  \\nATOM    563  CB  ALA A  79      27.198  57.348  33.987  1.00  0.00           C  \\nATOM    564  N   LEU A  80      28.260  54.685  32.695  1.00  0.00           N  \\nATOM    565  CA  LEU A  80      28.382  53.820  31.528  1.00  0.00           C  \\nATOM    566  C   LEU A  80      27.917  52.374  31.780  1.00  0.00           C  \\nATOM    567  O   LEU A  80      27.288  51.737  30.918  1.00  0.00           O  \\nATOM    568  CB  LEU A  80      29.833  53.819  31.038  1.00  0.00           C  \\nATOM    569  CG  LEU A  80      30.343  55.161  30.506  1.00  0.00           C  \\nATOM    570 CD1  LEU A  80      31.837  55.070  30.354  1.00  0.00           C  \\nATOM    571 CD2  LEU A  80      29.688  55.495  29.161  1.00  0.00           C  \\nATOM    572  N   ALA A  81      28.241  51.849  32.952  1.00  0.00           N  \\nATOM    573  CA  ALA A  81      27.843  50.489  33.286  1.00  0.00           C  \\nATOM    574  C   ALA A  81      26.304  50.408  33.342  1.00  0.00           C  \\nATOM    575  O   ALA A  81      25.719  49.372  33.024  1.00  0.00           O  \\nATOM    576  CB  ALA A  81      28.442  50.078  34.631  1.00  0.00           C  \\nATOM    577  N   GLU A  82      25.658  51.490  33.761  1.00  0.00           N  \\nATOM    578  CA  GLU A  82      24.196  51.492  33.808  1.00  0.00           C  \\nATOM    579  C   GLU A  82      23.644  51.374  32.381  1.00  0.00           C  \\nATOM    580  O   GLU A  82      22.515  50.922  32.187  1.00  0.00           O  \\nATOM    581  CB  GLU A  82      23.678  52.784  34.434  1.00  0.00           C  \\nATOM    582  CG  GLU A  82      24.033  52.942  35.889  1.00  0.00           C  \\nATOM    583  CD  GLU A  82      23.625  54.296  36.425  1.00  0.00           C  \\nATOM    584 OE1  GLU A  82      22.397  54.571  36.488  1.00  0.00           O  \\nATOM    585 OE2  GLU A  82      24.530  55.085  36.776  1.00  0.00           O  \\nATOM    586  N   LEU A  83      24.443  51.794  31.393  1.00  0.00           N  \\nATOM    587  CA  LEU A  83      24.046  51.717  29.994  1.00  0.00           C  \\nATOM    588  C   LEU A  83      24.462  50.405  29.345  1.00  0.00           C  \\nATOM    589  O   LEU A  83      24.161  50.168  28.177  1.00  0.00           O  \\nATOM    590  CB  LEU A  83      24.657  52.868  29.196  1.00  0.00           C  \\nATOM    591  CG  LEU A  83      24.252  54.286  29.605  1.00  0.00           C  \\nATOM    592 CD1  LEU A  83      25.034  55.276  28.795  1.00  0.00           C  \\nATOM    593 CD2  LEU A  83      22.759  54.491  29.380  1.00  0.00           C  \\nATOM    594  N   GLY A  84      25.148  49.546  30.089  1.00  0.00           N  \\nATOM    595  CA  GLY A  84      25.609  48.293  29.507  1.00  0.00           C  \\nATOM    596  C   GLY A  84      27.012  48.420  28.889  1.00  0.00           C  \\nATOM    597  O   GLY A  84      27.451  47.535  28.138  1.00  0.00           O  \\nATOM    598  N   ILE A  85      27.717  49.515  29.188  1.00  0.00           N  \\nATOM    599  CA  ILE A  85      29.068  49.714  28.648  1.00  0.00           C  \\nATOM    600  C   ILE A  85      30.091  49.414  29.734  1.00  0.00           C  \\nATOM    601  O   ILE A  85      30.228  50.173  30.693  1.00  0.00           O  \\nATOM    602  CB  ILE A  85      29.290  51.169  28.162  1.00  0.00           C  \\nATOM    603 CG1  ILE A  85      28.370  51.475  26.974  1.00  0.00           C  \\nATOM    604 CD1  ILE A  85      28.351  52.962  26.574  1.00  0.00           C  \\nATOM    605 CG2  ILE A  85      30.768  51.378  27.733  1.00  0.00           C  \\nATOM    606  N   ASP A  86      30.806  48.306  29.575  1.00  0.00           N  \\nATOM    607  CA  ASP A  86      31.824  47.906  30.539  1.00  0.00           C  \\nATOM    608  C   ASP A  86      33.210  47.917  29.911  1.00  0.00           C  \\nATOM    609  O   ASP A  86      33.376  47.635  28.712  1.00  0.00           O  \\nATOM    610  CB  ASP A  86      31.531  46.506  31.072  1.00  0.00           C  \\nATOM    611  CG  ASP A  86      30.119  46.376  31.596  1.00  0.00           C  \\nATOM    612 OD1  ASP A  86      29.678  47.272  32.328  1.00  0.00           O  \\nATOM    613 OD2  ASP A  86      29.454  45.385  31.276  1.00  0.00           O  \\nATOM    614  N   PHE A  87      34.204  48.219  30.738  1.00  0.00           N  \\nATOM    615  CA  PHE A  87      35.581  48.271  30.282  1.00  0.00           C  \\nATOM    616  C   PHE A  87      36.570  48.081  31.436  1.00  0.00           C  \\nATOM    617  O   PHE A  87      36.202  48.120  32.610  1.00  0.00           O  \\nATOM    618  CB  PHE A  87      35.841  49.625  29.613  1.00  0.00           C  \\nATOM    619  CG  PHE A  87      35.821  50.793  30.570  1.00  0.00           C  \\nATOM    620 CD1  PHE A  87      36.947  51.113  31.334  1.00  0.00           C  \\nATOM    621 CE1  PHE A  87      36.921  52.169  32.262  1.00  0.00           C  \\nATOM    622  CZ  PHE A  87      35.760  52.907  32.427  1.00  0.00           C  \\nATOM    623 CE2  PHE A  87      34.630  52.596  31.664  1.00  0.00           C  \\nATOM    624 CD2  PHE A  87      34.667  51.548  30.746  1.00  0.00           C  \\nATOM    625  N   GLN A  88      37.829  47.851  31.092  1.00  0.00           N  \\nATOM    626  CA  GLN A  88      38.880  47.738  32.093  1.00  0.00           C  \\nATOM    627  C   GLN A  88      39.920  48.665  31.515  1.00  0.00           C  \\nATOM    628  O   GLN A  88      39.848  48.999  30.333  1.00  0.00           O  \\nATOM    629  CB  GLN A  88      39.418  46.310  32.203  1.00  0.00           C  \\nATOM    630  CG  GLN A  88      38.517  45.358  32.996  1.00  0.00           C  \\nATOM    631  CD  GLN A  88      38.176  45.860  34.410  1.00  0.00           C  \\nATOM    632 OE1  GLN A  88      39.039  45.951  35.286  1.00  0.00           O  \\nATOM    633 NE2  GLN A  88      36.904  46.186  34.628  1.00  0.00           N  \\nATOM    634  N   SER A  89      40.870  49.113  32.323  1.00  0.00           N  \\nATOM    635  CA  SER A  89      41.877  50.009  31.786  1.00  0.00           C  \\nATOM    636  C   SER A  89      43.185  49.952  32.538  1.00  0.00           C  \\nATOM    637  O   SER A  89      43.214  49.662  33.732  1.00  0.00           O  \\nATOM    638  CB  SER A  89      41.365  51.447  31.800  1.00  0.00           C  \\nATOM    639  OG  SER A  89      41.171  51.881  33.128  1.00  0.00           O  \\nATOM    640  N   ASP A  90      44.272  50.224  31.827  1.00  0.00           N  \\nATOM    641  CA  ASP A  90      45.581  50.246  32.450  1.00  0.00           C  \\nATOM    642  C   ASP A  90      46.160  51.652  32.324  1.00  0.00           C  \\nATOM    643  O   ASP A  90      45.422  52.619  32.109  1.00  0.00           O  \\nATOM    644  CB  ASP A  90      46.520  49.199  31.826  1.00  0.00           C  \\nATOM    645  CG  ASP A  90      46.473  49.191  30.320  1.00  0.00           C  \\nATOM    646 OD1  ASP A  90      46.346  50.278  29.718  1.00  0.00           O  \\nATOM    647 OD2  ASP A  90      46.576  48.094  29.735  1.00  0.00           O  \\nATOM    648  N   ALA A  91      47.476  51.763  32.451  1.00  0.00           N  \\nATOM    649  CA  ALA A  91      48.153  53.054  32.398  1.00  0.00           C  \\nATOM    650  C   ALA A  91      47.734  53.992  31.267  1.00  0.00           C  \\nATOM    651  O   ALA A  91      47.218  55.085  31.515  1.00  0.00           O  \\nATOM    652  CB  ALA A  91      49.667  52.834  32.358  1.00  0.00           C  \\nATOM    653  N   GLN A  92      47.955  53.572  30.030  1.00  0.00           N  \\nATOM    654  CA  GLN A  92      47.629  54.417  28.875  1.00  0.00           C  \\nATOM    655  C   GLN A  92      46.387  54.039  28.073  1.00  0.00           C  \\nATOM    656  O   GLN A  92      46.040  54.738  27.120  1.00  0.00           O  \\nATOM    657  CB  GLN A  92      48.811  54.436  27.894  1.00  0.00           C  \\nATOM    658  CG  GLN A  92      49.548  55.748  27.813  1.00  0.00           C  \\nATOM    659  CD  GLN A  92      50.450  55.978  28.995  1.00  0.00           C  \\nATOM    660 OE1  GLN A  92      50.900  57.099  29.226  1.00  0.00           O  \\nATOM    661 NE2  GLN A  92      50.733  54.916  29.751  1.00  0.00           N  \\nATOM    662  N   HIS A  93      45.714  52.959  28.456  1.00  0.00           N  \\nATOM    663  CA  HIS A  93      44.576  52.497  27.680  1.00  0.00           C  \\nATOM    664  C   HIS A  93      43.281  52.128  28.393  1.00  0.00           C  \\nATOM    665  O   HIS A  93      43.189  52.062  29.617  1.00  0.00           O  \\nATOM    666  CB  HIS A  93      45.009  51.283  26.860  1.00  0.00           C  \\nATOM    667  CG  HIS A  93      46.317  51.466  26.159  1.00  0.00           C  \\nATOM    668 ND1  HIS A  93      47.505  51.638  26.834  1.00  0.00           N  \\nATOM    669 CE1  HIS A  93      48.488  51.786  25.959  1.00  0.00           C  \\nATOM    670 NE2  HIS A  93      47.975  51.717  24.744  1.00  0.00           N  \\nATOM    671 CD2  HIS A  93      46.619  51.516  24.838  1.00  0.00           C  \\nATOM    672  N   VAL A  94      42.270  51.877  27.579  1.00  0.00           N  \\nATOM    673  CA  VAL A  94      40.991  51.454  28.076  1.00  0.00           C  \\nATOM    674  C   VAL A  94      40.627  50.348  27.105  1.00  0.00           C  \\nATOM    675  O   VAL A  94      40.969  50.416  25.927  1.00  0.00           O  \\nATOM    676  CB  VAL A  94      39.943  52.584  28.011  1.00  0.00           C  \\nATOM    677 CG1  VAL A  94      39.702  53.015  26.582  1.00  0.00           C  \\nATOM    678 CG2  VAL A  94      38.664  52.103  28.595  1.00  0.00           C  \\nATOM    679  N   THR A  95      39.978  49.307  27.604  1.00  0.00           N  \\nATOM    680  CA  THR A  95      39.557  48.226  26.745  1.00  0.00           C  \\nATOM    681  C   THR A  95      38.076  48.004  26.987  1.00  0.00           C  \\nATOM    682  O   THR A  95      37.663  47.693  28.104  1.00  0.00           O  \\nATOM    683  CB  THR A  95      40.324  46.937  27.034  1.00  0.00           C  \\nATOM    684 OG1  THR A  95      41.712  47.144  26.744  1.00  0.00           O  \\nATOM    685 CG2  THR A  95      39.798  45.800  26.165  1.00  0.00           C  \\nATOM    686  N   ILE A  96      37.286  48.200  25.928  1.00  0.00           N  \\nATOM    687  CA  ILE A  96      35.846  48.031  25.976  1.00  0.00           C  \\nATOM    688  C   ILE A  96      35.571  46.547  25.872  1.00  0.00           C  \\nATOM    689  O   ILE A  96      35.974  45.899  24.900  1.00  0.00           O  \\nATOM    690  CB  ILE A  96      35.166  48.751  24.798  1.00  0.00           C  \\nATOM    691 CG1  ILE A  96      35.635  50.203  24.740  1.00  0.00           C  \\nATOM    692 CD1  ILE A  96      35.432  50.986  26.045  1.00  0.00           C  \\nATOM    693 CG2  ILE A  96      33.636  48.671  24.940  1.00  0.00           C  \\nATOM    694  N   ARG A  97      34.891  46.001  26.873  1.00  0.00           N  \\nATOM    695  CA  ARG A  97      34.576  44.583  26.868  1.00  0.00           C  \\nATOM    696  C   ARG A  97      33.116  44.286  26.526  1.00  0.00           C  \\nATOM    697  O   ARG A  97      32.812  43.206  26.038  1.00  0.00           O  \\nATOM    698  CB  ARG A  97      34.925  43.973  28.220  1.00  0.00           C  \\nATOM    699  CG  ARG A  97      36.342  44.312  28.640  1.00  0.00           C  \\nATOM    700  CD  ARG A  97      36.722  43.589  29.873  1.00  0.00           C  \\nATOM    701  NE  ARG A  97      36.736  42.148  29.654  1.00  0.00           N  \\nATOM    702  CZ  ARG A  97      36.248  41.274  30.528  1.00  0.00           C  \\nATOM    703 NH1  ARG A  97      35.701  41.704  31.669  1.00  0.00           N  \\nATOM    704 NH2  ARG A  97      36.332  39.972  30.278  1.00  0.00           N  \\nATOM    705  N   ALA A  98      32.207  45.226  26.781  1.00  0.00           N  \\nATOM    706  CA  ALA A  98      30.805  44.981  26.447  1.00  0.00           C  \\nATOM    707  C   ALA A  98      30.051  46.266  26.190  1.00  0.00           C  \\nATOM    708  O   ALA A  98      30.384  47.317  26.754  1.00  0.00           O  \\nATOM    709  CB  ALA A  98      30.116  44.190  27.568  1.00  0.00           C  \\nATOM    710  N   VAL A  99      29.046  46.181  25.321  1.00  0.00           N  \\nATOM    711  CA  VAL A  99      28.206  47.332  25.000  1.00  0.00           C  \\nATOM    712  C   VAL A  99      26.747  46.846  24.941  1.00  0.00           C  \\nATOM    713  O   VAL A  99      26.491  45.653  24.735  1.00  0.00           O  \\nATOM    714  CB  VAL A  99      28.574  47.932  23.622  1.00  0.00           C  \\nATOM    715 CG1  VAL A  99      30.073  48.302  23.588  1.00  0.00           C  \\nATOM    716 CG2  VAL A  99      28.217  46.933  22.494  1.00  0.00           C  \\nATOM    717  N   PRO A 100      25.778  47.755  25.120  1.00  0.00           N  \\nATOM    718  CA  PRO A 100      24.375  47.311  25.057  1.00  0.00           C  \\nATOM    719  C   PRO A 100      24.030  46.800  23.653  1.00  0.00           C  \\nATOM    720  O   PRO A 100      24.724  47.110  22.675  1.00  0.00           O  \\nATOM    721  CB  PRO A 100      23.597  48.565  25.432  1.00  0.00           C  \\nATOM    722  CG  PRO A 100      24.506  49.688  24.910  1.00  0.00           C  \\nATOM    723  CD  PRO A 100      25.867  49.204  25.351  1.00  0.00           C  \\nATOM    724  N   LEU A 101      22.952  46.029  23.554  1.00  0.00           N  \\nATOM    725  CA  LEU A 101      22.541  45.446  22.279  1.00  0.00           C  \\nATOM    726  C   LEU A 101      22.428  46.411  21.094  1.00  0.00           C  \\nATOM    727  O   LEU A 101      22.929  46.116  20.019  1.00  0.00           O  \\nATOM    728  CB  LEU A 101      21.220  44.678  22.458  1.00  0.00           C  \\nATOM    729  CG  LEU A 101      20.704  43.875  21.250  1.00  0.00           C  \\nATOM    730 CD1  LEU A 101      21.710  42.811  20.838  1.00  0.00           C  \\nATOM    731 CD2  LEU A 101      19.372  43.213  21.618  1.00  0.00           C  \\nATOM    732  N   PRO A 102      21.780  47.576  21.269  1.00  0.00           N  \\nATOM    733  CA  PRO A 102      21.666  48.501  20.134  1.00  0.00           C  \\nATOM    734  C   PRO A 102      23.004  48.948  19.557  1.00  0.00           C  \\nATOM    735  O   PRO A 102      23.067  49.436  18.428  1.00  0.00           O  \\nATOM    736  CB  PRO A 102      20.890  49.683  20.717  1.00  0.00           C  \\nATOM    737  CG  PRO A 102      20.083  49.047  21.811  1.00  0.00           C  \\nATOM    738  CD  PRO A 102      21.084  48.116  22.447  1.00  0.00           C  \\nATOM    739  N   LEU A 103      24.076  48.787  20.327  1.00  0.00           N  \\nATOM    740  CA  LEU A 103      25.396  49.218  19.865  1.00  0.00           C  \\nATOM    741  C   LEU A 103      26.274  48.090  19.343  1.00  0.00           C  \\nATOM    742  O   LEU A 103      27.283  48.339  18.690  1.00  0.00           O  \\nATOM    743  CB  LEU A 103      26.135  49.932  20.998  1.00  0.00           C  \\nATOM    744  CG  LEU A 103      25.509  51.227  21.511  1.00  0.00           C  \\nATOM    745 CD1  LEU A 103      26.432  51.855  22.543  1.00  0.00           C  \\nATOM    746 CD2  LEU A 103      25.287  52.191  20.344  1.00  0.00           C  \\nATOM    747  N   ARG A 104      25.884  46.851  19.616  1.00  0.00           N  \\nATOM    748  CA  ARG A 104      26.684  45.705  19.204  1.00  0.00           C  \\nATOM    749  C   ARG A 104      27.041  45.666  17.714  1.00  0.00           C  \\nATOM    750  O   ARG A 104      28.086  45.136  17.351  1.00  0.00           O  \\nATOM    751  CB  ARG A 104      25.977  44.408  19.613  1.00  0.00           C  \\nATOM    752  CG  ARG A 104      26.861  43.162  19.586  1.00  0.00           C  \\nATOM    753  CD  ARG A 104      27.860  43.114  20.754  1.00  0.00           C  \\nATOM    754  NE  ARG A 104      28.671  41.896  20.713  1.00  0.00           N  \\nATOM    755  CZ  ARG A 104      29.682  41.694  19.870  1.00  0.00           C  \\nATOM    756 NH1  ARG A 104      30.024  42.633  18.994  1.00  0.00           N  \\nATOM    757 NH2  ARG A 104      30.344  40.544  19.888  1.00  0.00           N  \\nATOM    758  N   GLN A 105      26.198  46.231  16.854  1.00  0.00           N  \\nATOM    759  CA  GLN A 105      26.478  46.215  15.422  1.00  0.00           C  \\nATOM    760  C   GLN A 105      26.961  47.544  14.834  1.00  0.00           C  \\nATOM    761  O   GLN A 105      27.019  47.707  13.616  1.00  0.00           O  \\nATOM    762  CB  GLN A 105      25.240  45.736  14.644  1.00  0.00           C  \\nATOM    763  CG  GLN A 105      24.782  44.335  15.039  1.00  0.00           C  \\nATOM    764  CD  GLN A 105      25.884  43.293  14.890  1.00  0.00           C  \\nATOM    765 OE1  GLN A 105      25.894  42.278  15.589  1.00  0.00           O  \\nATOM    766 NE2  GLN A 105      26.813  43.538  13.972  1.00  0.00           N  \\nATOM    767  N   GLN A 106      27.281  48.505  15.685  1.00  0.00           N  \\nATOM    768  CA  GLN A 106      27.779  49.778  15.193  1.00  0.00           C  \\nATOM    769  C   GLN A 106      29.271  49.590  14.962  1.00  0.00           C  \\nATOM    770  O   GLN A 106      29.841  48.586  15.393  1.00  0.00           O  \\nATOM    771  CB  GLN A 106      27.564  50.876  16.245  1.00  0.00           C  \\nATOM    772  CG  GLN A 106      26.119  51.262  16.436  1.00  0.00           C  \\nATOM    773  CD  GLN A 106      25.552  51.881  15.178  1.00  0.00           C  \\nATOM    774 OE1  GLN A 106      25.967  52.967  14.771  1.00  0.00           O  \\nATOM    775 NE2  GLN A 106      24.609  51.184  14.543  1.00  0.00           N  \\nATOM    776  N   ASN A 107      29.902  50.545  14.290  1.00  0.00           N  \\nATOM    777  CA  ASN A 107      31.344  50.470  14.068  1.00  0.00           C  \\nATOM    778  C   ASN A 107      31.988  51.108  15.308  1.00  0.00           C  \\nATOM    779  O   ASN A 107      32.207  52.325  15.366  1.00  0.00           O  \\nATOM    780  CB  ASN A 107      31.733  51.237  12.798  1.00  0.00           C  \\nATOM    781  CG  ASN A 107      33.239  51.352  12.631  1.00  0.00           C  \\nATOM    782 OD1  ASN A 107      33.996  50.586  13.225  1.00  0.00           O  \\nATOM    783 ND2  ASN A 107      33.678  52.307  11.821  1.00  0.00           N  \\nATOM    784  N   LEU A 108      32.289  50.278  16.299  1.00  0.00           N  \\nATOM    785  CA  LEU A 108      32.838  50.768  17.560  1.00  0.00           C  \\nATOM    786  C   LEU A 108      34.212  51.439  17.504  1.00  0.00           C  \\nATOM    787  O   LEU A 108      34.579  52.173  18.420  1.00  0.00           O  \\nATOM    788  CB  LEU A 108      32.832  49.638  18.600  1.00  0.00           C  \\nATOM    789  CG  LEU A 108      31.456  48.989  18.889  1.00  0.00           C  \\nATOM    790 CD1  LEU A 108      31.628  47.868  19.908  1.00  0.00           C  \\nATOM    791 CD2  LEU A 108      30.465  50.018  19.421  1.00  0.00           C  \\nATOM    792  N   GLN A 109      34.969  51.207  16.436  1.00  0.00           N  \\nATOM    793  CA  GLN A 109      36.290  51.829  16.308  1.00  0.00           C  \\nATOM    794  C   GLN A 109      36.159  53.313  16.073  1.00  0.00           C  \\nATOM    795  O   GLN A 109      37.118  54.057  16.238  1.00  0.00           O  \\nATOM    796  CB  GLN A 109      37.077  51.217  15.163  1.00  0.00           C  \\nATOM    797  CG  GLN A 109      37.399  49.773  15.364  1.00  0.00           C  \\nATOM    798  CD  GLN A 109      38.513  49.330  14.459  1.00  0.00           C  \\nATOM    799 OE1  GLN A 109      38.715  48.129  14.255  1.00  0.00           O  \\nATOM    800 NE2  GLN A 109      39.265  50.299  13.915  1.00  0.00           N  \\nATOM    801  N   ILE A 110      34.969  53.736  15.670  1.00  0.00           N  \\nATOM    802  CA  ILE A 110      34.686  55.141  15.473  1.00  0.00           C  \\nATOM    803  C   ILE A 110      33.747  55.632  16.591  1.00  0.00           C  \\nATOM    804  O   ILE A 110      33.959  56.706  17.169  1.00  0.00           O  \\nATOM    805  CB  ILE A 110      34.010  55.402  14.097  1.00  0.00           C  \\nATOM    806 CG1  ILE A 110      34.951  54.988  12.951  1.00  0.00           C  \\nATOM    807 CD1  ILE A 110      36.283  55.762  12.882  1.00  0.00           C  \\nATOM    808 CG2  ILE A 110      33.650  56.861  13.972  1.00  0.00           C  \\nATOM    809  N   LEU A 111      32.702  54.864  16.902  1.00  0.00           N  \\nATOM    810  CA  LEU A 111      31.762  55.277  17.948  1.00  0.00           C  \\nATOM    811  C   LEU A 111      32.374  55.436  19.351  1.00  0.00           C  \\nATOM    812  O   LEU A 111      32.177  56.449  19.986  1.00  0.00           O  \\nATOM    813  CB  LEU A 111      30.569  54.309  18.019  1.00  0.00           C  \\nATOM    814  CG  LEU A 111      29.692  54.393  19.275  1.00  0.00           C  \\nATOM    815 CD1  LEU A 111      28.856  55.614  19.208  1.00  0.00           C  \\nATOM    816 CD2  LEU A 111      28.786  53.193  19.372  1.00  0.00           C  \\nATOM    817  N   ILE A 112      33.089  54.437  19.846  1.00  0.00           N  \\nATOM    818  CA  ILE A 112      33.669  54.544  21.185  1.00  0.00           C  \\nATOM    819  C   ILE A 112      34.648  55.735  21.336  1.00  0.00           C  \\nATOM    820  O   ILE A 112      34.555  56.503  22.302  1.00  0.00           O  \\nATOM    821  CB  ILE A 112      34.326  53.207  21.589  1.00  0.00           C  \\nATOM    822 CG1  ILE A 112      33.226  52.144  21.748  1.00  0.00           C  \\nATOM    823 CD1  ILE A 112      32.107  52.578  22.727  1.00  0.00           C  \\nATOM    824 CG2  ILE A 112      35.089  53.356  22.897  1.00  0.00           C  \\nATOM    825  N   PRO A 113      35.590  55.907  20.387  1.00  0.00           N  \\nATOM    826  CA  PRO A 113      36.508  57.044  20.518  1.00  0.00           C  \\nATOM    827  C   PRO A 113      35.673  58.320  20.512  1.00  0.00           C  \\nATOM    828  O   PRO A 113      36.000  59.295  21.170  1.00  0.00           O  \\nATOM    829  CB  PRO A 113      37.389  56.924  19.273  1.00  0.00           C  \\nATOM    830  CG  PRO A 113      37.456  55.484  19.055  1.00  0.00           C  \\nATOM    831  CD  PRO A 113      36.013  55.032  19.280  1.00  0.00           C  \\nATOM    832  N   GLU A 114      34.571  58.312  19.773  1.00  0.00           N  \\nATOM    833  CA  GLU A 114      33.721  59.493  19.740  1.00  0.00           C  \\nATOM    834  C   GLU A 114      33.059  59.711  21.093  1.00  0.00           C  \\nATOM    835  O   GLU A 114      32.963  60.846  21.571  1.00  0.00           O  \\nATOM    836  CB  GLU A 114      32.658  59.361  18.664  1.00  0.00           C  \\nATOM    837  CG  GLU A 114      33.159  59.573  17.239  1.00  0.00           C  \\nATOM    838  CD  GLU A 114      32.019  59.516  16.245  1.00  0.00           C  \\nATOM    839 OE1  GLU A 114      31.403  58.445  16.116  1.00  0.00           O  \\nATOM    840 OE2  GLU A 114      31.721  60.542  15.610  1.00  0.00           O  \\nATOM    841  N   LEU A 115      32.602  58.625  21.709  1.00  0.00           N  \\nATOM    842  CA  LEU A 115      31.971  58.704  23.020  1.00  0.00           C  \\nATOM    843  C   LEU A 115      33.019  59.202  24.019  1.00  0.00           C  \\nATOM    844  O   LEU A 115      32.733  60.065  24.857  1.00  0.00           O  \\nATOM    845  CB  LEU A 115      31.469  57.323  23.444  1.00  0.00           C  \\nATOM    846  CG  LEU A 115      30.837  57.194  24.835  1.00  0.00           C  \\nATOM    847 CD1  LEU A 115      29.618  58.093  24.934  1.00  0.00           C  \\nATOM    848 CD2  LEU A 115      30.436  55.745  25.071  1.00  0.00           C  \\nATOM    849  N   ILE A 116      34.231  58.664  23.919  1.00  0.00           N  \\nATOM    850  CA  ILE A 116      35.319  59.076  24.805  1.00  0.00           C  \\nATOM    851  C   ILE A 116      35.569  60.583  24.693  1.00  0.00           C  \\nATOM    852  O   ILE A 116      35.770  61.249  25.704  1.00  0.00           O  \\nATOM    853  CB  ILE A 116      36.642  58.278  24.503  1.00  0.00           C  \\nATOM    854 CG1  ILE A 116      36.484  56.815  24.932  1.00  0.00           C  \\nATOM    855 CD1  ILE A 116      37.634  55.895  24.498  1.00  0.00           C  \\nATOM    856 CG2  ILE A 116      37.819  58.874  25.272  1.00  0.00           C  \\nATOM    857  N   GLY A 117      35.546  61.118  23.471  1.00  0.00           N  \\nATOM    858  CA  GLY A 117      35.747  62.550  23.277  1.00  0.00           C  \\nATOM    859  C   GLY A 117      34.632  63.360  23.928  1.00  0.00           C  \\nATOM    860  O   GLY A 117      34.870  64.404  24.543  1.00  0.00           O  \\nATOM    861  N   TYR A 118      33.401  62.881  23.798  1.00  0.00           N  \\nATOM    862  CA  TYR A 118      32.257  63.561  24.395  1.00  0.00           C  \\nATOM    863  C   TYR A 118      32.389  63.562  25.924  1.00  0.00           C  \\nATOM    864  O   TYR A 118      32.182  64.588  26.571  1.00  0.00           O  \\nATOM    865  CB  TYR A 118      30.962  62.851  23.992  1.00  0.00           C  \\nATOM    866  CG  TYR A 118      29.748  63.294  24.771  1.00  0.00           C  \\nATOM    867 CD1  TYR A 118      29.116  64.497  24.486  1.00  0.00           C  \\nATOM    868 CE1  TYR A 118      28.025  64.930  25.226  1.00  0.00           C  \\nATOM    869  CZ  TYR A 118      27.557  64.161  26.257  1.00  0.00           C  \\nATOM    870  OH  TYR A 118      26.460  64.592  26.977  1.00  0.00           O  \\nATOM    871 CE2  TYR A 118      28.167  62.955  26.569  1.00  0.00           C  \\nATOM    872 CD2  TYR A 118      29.256  62.530  25.823  1.00  0.00           C  \\nATOM    873  N   LEU A 119      32.738  62.405  26.485  1.00  0.00           N  \\nATOM    874  CA  LEU A 119      32.890  62.230  27.927  1.00  0.00           C  \\nATOM    875  C   LEU A 119      33.986  63.099  28.532  1.00  0.00           C  \\nATOM    876  O   LEU A 119      33.845  63.603  29.648  1.00  0.00           O  \\nATOM    877  CB  LEU A 119      33.192  60.761  28.255  1.00  0.00           C  \\nATOM    878  CG  LEU A 119      32.103  59.725  27.966  1.00  0.00           C  \\nATOM    879 CD1  LEU A 119      32.598  58.340  28.340  1.00  0.00           C  \\nATOM    880 CD2  LEU A 119      30.851  60.069  28.760  1.00  0.00           C  \\nATOM    881  N   ALA A 120      35.075  63.271  27.797  1.00  0.00           N  \\nATOM    882  CA  ALA A 120      36.196  64.062  28.280  1.00  0.00           C  \\nATOM    883  C   ALA A 120      35.851  65.533  28.408  1.00  0.00           C  \\nATOM    884  O   ALA A 120      36.645  66.303  28.939  1.00  0.00           O  \\nATOM    885  CB  ALA A 120      37.386  63.896  27.358  1.00  0.00           C  \\nATOM    886  N   LYS A 121      34.669  65.920  27.933  1.00  0.00           N  \\nATOM    887  CA  LYS A 121      34.244  67.315  27.988  1.00  0.00           C  \\nATOM    888  C   LYS A 121      33.183  67.586  29.035  1.00  0.00           C  \\nATOM    889  O   LYS A 121      32.848  68.738  29.292  1.00  0.00           O  \\nATOM    890  CB  LYS A 121      33.690  67.764  26.634  1.00  0.00           C  \\nATOM    891  CG  LYS A 121      34.683  67.695  25.492  1.00  0.00           C  \\nATOM    892  CD  LYS A 121      34.090  68.288  24.220  1.00  0.00           C  \\nATOM    893  CE  LYS A 121      33.797  69.767  24.404  1.00  0.00           C  \\nATOM    894  NZ  LYS A 121      33.421  70.425  23.116  1.00  0.00           N  \\nATOM    895  N   GLN A 122      32.655  66.531  29.641  1.00  0.00           N  \\nATOM    896  CA  GLN A 122      31.601  66.698  30.630  1.00  0.00           C  \\nATOM    897  C   GLN A 122      32.122  66.909  32.040  1.00  0.00           C  \\nATOM    898  O   GLN A 122      33.251  66.537  32.366  1.00  0.00           O  \\nATOM    899  CB  GLN A 122      30.672  65.475  30.620  1.00  0.00           C  \\nATOM    900  CG  GLN A 122      30.210  65.063  29.234  1.00  0.00           C  \\nATOM    901  CD  GLN A 122      29.632  66.224  28.453  1.00  0.00           C  \\nATOM    902 OE1  GLN A 122      28.636  66.824  28.866  1.00  0.00           O  \\nATOM    903 NE2  GLN A 122      30.256  66.552  27.320  1.00  0.00           N  \\nATOM    904  N   SER A 123      31.284  67.518  32.869  1.00  0.00           N  \\nATOM    905  CA  SER A 123      31.625  67.751  34.263  1.00  0.00           C  \\nATOM    906  C   SER A 123      30.749  66.793  35.059  1.00  0.00           C  \\nATOM    907  O   SER A 123      31.135  66.320  36.122  1.00  0.00           O  \\nATOM    908  CB  SER A 123      31.343  69.208  34.661  1.00  0.00           C  \\nATOM    909  OG  SER A 123      30.000  69.567  34.387  1.00  0.00           O  \\nATOM    910  N   VAL A 124      29.576  66.486  34.516  1.00  0.00           N  \\nATOM    911  CA  VAL A 124      28.639  65.569  35.164  1.00  0.00           C  \\nATOM    912  C   VAL A 124      28.319  64.386  34.246  1.00  0.00           C  \\nATOM    913  O   VAL A 124      28.157  64.554  33.041  1.00  0.00           O  \\nATOM    914  CB  VAL A 124      27.315  66.279  35.507  1.00  0.00           C  \\nATOM    915 CG1  VAL A 124      26.470  65.396  36.405  1.00  0.00           C  \\nATOM    916 CG2  VAL A 124      27.601  67.602  36.182  1.00  0.00           C  \\nATOM    917  N   PHE A 125      28.224  63.194  34.824  1.00  0.00           N  \\nATOM    918  CA  PHE A 125      27.927  61.999  34.047  1.00  0.00           C  \\nATOM    919  C   PHE A 125      26.618  61.376  34.475  1.00  0.00           C  \\nATOM    920  O   PHE A 125      26.472  60.963  35.622  1.00  0.00           O  \\nATOM    921  CB  PHE A 125      29.056  60.986  34.202  1.00  0.00           C  \\nATOM    922  CG  PHE A 125      30.376  61.506  33.746  1.00  0.00           C  \\nATOM    923 CD1  PHE A 125      30.626  61.697  32.391  1.00  0.00           C  \\nATOM    924 CE1  PHE A 125      31.819  62.262  31.959  1.00  0.00           C  \\nATOM    925  CZ  PHE A 125      32.776  62.642  32.889  1.00  0.00           C  \\nATOM    926 CE2  PHE A 125      32.534  62.450  34.253  1.00  0.00           C  \\nATOM    927 CD2  PHE A 125      31.339  61.883  34.669  1.00  0.00           C  \\nATOM    928  N   GLU A 126      25.675  61.315  33.538  1.00  0.00           N  \\nATOM    929  CA  GLU A 126      24.349  60.745  33.768  1.00  0.00           C  \\nATOM    930  C   GLU A 126      23.956  59.854  32.594  1.00  0.00           C  \\nATOM    931  O   GLU A 126      23.951  60.287  31.445  1.00  0.00           O  \\nATOM    932  CB  GLU A 126      23.326  61.868  33.939  1.00  0.00           C  \\nATOM    933  CG  GLU A 126      23.460  62.590  35.265  1.00  0.00           C  \\nATOM    934  CD  GLU A 126      23.144  61.676  36.438  1.00  0.00           C  \\nATOM    935 OE1  GLU A 126      21.987  61.208  36.521  1.00  0.00           O  \\nATOM    936 OE2  GLU A 126      24.044  61.416  37.270  1.00  0.00           O  \\nATOM    937  N   PRO A 127      23.617  58.594  32.871  1.00  0.00           N  \\nATOM    938  CA  PRO A 127      23.237  57.667  31.808  1.00  0.00           C  \\nATOM    939  C   PRO A 127      22.222  58.220  30.817  1.00  0.00           C  \\nATOM    940  O   PRO A 127      22.370  58.038  29.608  1.00  0.00           O  \\nATOM    941  CB  PRO A 127      22.731  56.442  32.573  1.00  0.00           C  \\nATOM    942  CG  PRO A 127      22.378  56.980  33.916  1.00  0.00           C  \\nATOM    943  CD  PRO A 127      23.434  57.986  34.194  1.00  0.00           C  \\nATOM    944  N   GLY A 128      21.203  58.898  31.336  1.00  0.00           N  \\nATOM    945  CA  GLY A 128      20.179  59.481  30.487  1.00  0.00           C  \\nATOM    946  C   GLY A 128      20.763  60.398  29.431  1.00  0.00           C  \\nATOM    947  O   GLY A 128      20.548  60.193  28.239  1.00  0.00           O  \\nATOM    948  N   ASN A 129      21.508  61.410  29.848  1.00  0.00           N  \\nATOM    949  CA  ASN A 129      22.101  62.330  28.879  1.00  0.00           C  \\nATOM    950  C   ASN A 129      23.126  61.675  27.953  1.00  0.00           C  \\nATOM    951  O   ASN A 129      23.301  62.102  26.811  1.00  0.00           O  \\nATOM    952  CB  ASN A 129      22.751  63.515  29.596  1.00  0.00           C  \\nATOM    953  CG  ASN A 129      21.733  64.427  30.238  1.00  0.00           C  \\nATOM    954 OD1  ASN A 129      20.848  64.956  29.565  1.00  0.00           O  \\nATOM    955 ND2  ASN A 129      21.851  64.619  31.549  1.00  0.00           N  \\nATOM    956  N   ILE A 130      23.818  60.647  28.435  1.00  0.00           N  \\nATOM    957  CA  ILE A 130      24.803  59.998  27.588  1.00  0.00           C  \\nATOM    958  C   ILE A 130      24.079  59.209  26.501  1.00  0.00           C  \\nATOM    959  O   ILE A 130      24.476  59.234  25.330  1.00  0.00           O  \\nATOM    960  CB  ILE A 130      25.732  59.076  28.393  1.00  0.00           C  \\nATOM    961 CG1  ILE A 130      26.588  59.913  29.353  1.00  0.00           C  \\nATOM    962 CD1  ILE A 130      27.412  59.087  30.315  1.00  0.00           C  \\nATOM    963 CG2  ILE A 130      26.634  58.308  27.446  1.00  0.00           C  \\nATOM    964  N   ALA A 131      23.006  58.528  26.884  1.00  0.00           N  \\nATOM    965  CA  ALA A 131      22.227  57.762  25.913  1.00  0.00           C  \\nATOM    966  C   ALA A 131      21.730  58.701  24.823  1.00  0.00           C  \\nATOM    967  O   ALA A 131      21.862  58.415  23.632  1.00  0.00           O  \\nATOM    968  CB  ALA A 131      21.027  57.083  26.586  1.00  0.00           C  \\nATOM    969  N   GLN A 132      21.158  59.826  25.238  1.00  0.00           N  \\nATOM    970  CA  GLN A 132      20.622  60.787  24.287  1.00  0.00           C  \\nATOM    971  C   GLN A 132      21.689  61.250  23.315  1.00  0.00           C  \\nATOM    972  O   GLN A 132      21.451  61.331  22.110  1.00  0.00           O  \\nATOM    973  CB  GLN A 132      20.020  61.989  25.021  1.00  0.00           C  \\nATOM    974  CG  GLN A 132      19.490  63.068  24.079  1.00  0.00           C  \\nATOM    975  CD  GLN A 132      18.731  64.157  24.804  1.00  0.00           C  \\nATOM    976 OE1  GLN A 132      18.560  65.259  24.284  1.00  0.00           O  \\nATOM    977 NE2  GLN A 132      18.264  63.854  26.013  1.00  0.00           N  \\nATOM    978  N   TRP A 133      22.876  61.540  23.834  1.00  0.00           N  \\nATOM    979  CA  TRP A 133      23.967  61.987  22.982  1.00  0.00           C  \\nATOM    980  C   TRP A 133      24.356  60.907  21.983  1.00  0.00           C  \\nATOM    981  O   TRP A 133      24.544  61.186  20.799  1.00  0.00           O  \\nATOM    982  CB  TRP A 133      25.175  62.367  23.824  1.00  0.00           C  \\nATOM    983  CG  TRP A 133      26.091  63.250  23.076  1.00  0.00           C  \\nATOM    984 CD1  TRP A 133      25.967  64.602  22.897  1.00  0.00           C  \\nATOM    985 NE1  TRP A 133      26.953  65.058  22.057  1.00  0.00           N  \\nATOM    986 CE2  TRP A 133      27.733  63.999  21.679  1.00  0.00           C  \\nATOM    987 CZ2  TRP A 133      28.844  63.958  20.842  1.00  0.00           C  \\nATOM    988 CH2  TRP A 133      29.436  62.740  20.642  1.00  0.00           C  \\nATOM    989 CZ3  TRP A 133      28.945  61.578  21.254  1.00  0.00           C  \\nATOM    990 CE3  TRP A 133      27.843  61.616  22.084  1.00  0.00           C  \\nATOM    991 CD2  TRP A 133      27.219  62.843  22.306  1.00  0.00           C  \\nATOM    992  N   ILE A 134      24.476  59.672  22.459  1.00  0.00           N  \\nATOM    993  CA  ILE A 134      24.825  58.550  21.597  1.00  0.00           C  \\nATOM    994  C   ILE A 134      23.765  58.384  20.510  1.00  0.00           C  \\nATOM    995  O   ILE A 134      24.075  58.112  19.349  1.00  0.00           O  \\nATOM    996  CB  ILE A 134      24.894  57.236  22.393  1.00  0.00           C  \\nATOM    997 CG1  ILE A 134      26.089  57.265  23.347  1.00  0.00           C  \\nATOM    998 CD1  ILE A 134      26.299  55.982  24.142  1.00  0.00           C  \\nATOM    999 CG2  ILE A 134      24.974  56.058  21.446  1.00  0.00           C  \\nATOM   1000  N   ALA A 135      22.507  58.553  20.891  1.00  0.00           N  \\nATOM   1001  CA  ALA A 135      21.418  58.394  19.937  1.00  0.00           C  \\nATOM   1002  C   ALA A 135      21.435  59.456  18.842  1.00  0.00           C  \\nATOM   1003  O   ALA A 135      21.276  59.141  17.666  1.00  0.00           O  \\nATOM   1004  CB  ALA A 135      20.067  58.393  20.670  1.00  0.00           C  \\nATOM   1005  N   ARG A 136      21.653  60.709  19.223  1.00  0.00           N  \\nATOM   1006  CA  ARG A 136      21.665  61.798  18.253  1.00  0.00           C  \\nATOM   1007  C   ARG A 136      22.882  61.924  17.348  1.00  0.00           C  \\nATOM   1008  O   ARG A 136      22.744  62.134  16.142  1.00  0.00           O  \\nATOM   1009  CB  ARG A 136      21.522  63.149  18.947  1.00  0.00           C  \\nATOM   1010  CG  ARG A 136      20.251  63.401  19.706  1.00  0.00           C  \\nATOM   1011  CD  ARG A 136      20.204  64.886  20.000  1.00  0.00           C  \\nATOM   1012  NE  ARG A 136      19.155  65.263  20.937  1.00  0.00           N  \\nATOM   1013  CZ  ARG A 136      18.987  66.503  21.390  1.00  0.00           C  \\nATOM   1014 NH1  ARG A 136      19.803  67.474  20.985  1.00  0.00           N  \\nATOM   1015 NH2  ARG A 136      18.010  66.776  22.245  1.00  0.00           N  \\nATOM   1016  N   ASN A 137      24.072  61.799  17.919  1.00  0.00           N  \\nATOM   1017  CA  ASN A 137      25.289  62.031  17.149  1.00  0.00           C  \\nATOM   1018  C   ASN A 137      26.158  60.892  16.674  1.00  0.00           C  \\nATOM   1019  O   ASN A 137      26.677  60.929  15.565  1.00  0.00           O  \\nATOM   1020  CB  ASN A 137      26.214  62.986  17.925  1.00  0.00           C  \\nATOM   1021  CG  ASN A 137      25.539  64.307  18.299  1.00  0.00           C  \\nATOM   1022 OD1  ASN A 137      24.972  64.457  19.388  1.00  0.00           O  \\nATOM   1023 ND2  ASN A 137      25.602  65.274  17.388  1.00  0.00           N  \\nATOM   1024  N   LEU A 138      26.335  59.881  17.501  1.00  0.00           N  \\nATOM   1025  CA  LEU A 138      27.258  58.824  17.143  1.00  0.00           C  \\nATOM   1026  C   LEU A 138      26.799  57.643  16.339  1.00  0.00           C  \\nATOM   1027  O   LEU A 138      27.631  56.835  15.915  1.00  0.00           O  \\nATOM   1028  CB  LEU A 138      27.920  58.287  18.408  1.00  0.00           C  \\nATOM   1029  CG  LEU A 138      28.656  59.292  19.287  1.00  0.00           C  \\nATOM   1030 CD1  LEU A 138      29.396  58.575  20.422  1.00  0.00           C  \\nATOM   1031 CD2  LEU A 138      29.616  60.076  18.412  1.00  0.00           C  \\nATOM   1032  N   MET A 139      25.512  57.523  16.076  1.00  0.00           N  \\nATOM   1033  CA  MET A 139      25.120  56.315  15.396  1.00  0.00           C  \\nATOM   1034  C   MET A 139      25.066  56.194  13.886  1.00  0.00           C  \\nATOM   1035  O   MET A 139      25.015  57.171  13.138  1.00  0.00           O  \\nATOM   1036  CB  MET A 139      23.839  55.788  16.041  1.00  0.00           C  \\nATOM   1037  CG  MET A 139      24.125  55.397  17.486  1.00  0.00           C  \\nATOM   1038  CE  MET A 139      21.836  55.543  19.261  1.00  0.00           C  \\nATOM   1039  N   SER A 140      25.148  54.935  13.480  1.00  0.00           N  \\nATOM   1040  CA  SER A 140      25.116  54.517  12.100  1.00  0.00           C  \\nATOM   1041  C   SER A 140      24.191  55.388  11.289  1.00  0.00           C  \\nATOM   1042  O   SER A 140      22.994  55.488  11.561  1.00  0.00           O  \\nATOM   1043  CB  SER A 140      24.642  53.069  12.015  1.00  0.00           C  \\nATOM   1044  OG  SER A 140      24.413  52.694  10.679  1.00  0.00           O  \\nATOM   1045  N   GLU A 141      24.767  56.030  10.289  1.00  0.00           N  \\nATOM   1046  CA  GLU A 141      24.009  56.871   9.396  1.00  0.00           C  \\nATOM   1047  C   GLU A 141      23.112  55.884   8.646  1.00  0.00           C  \\nATOM   1048  O   GLU A 141      23.298  54.673   8.753  1.00  0.00           O  \\nATOM   1049  CB  GLU A 141      24.974  57.575   8.438  1.00  0.00           C  \\nATOM   1050  CG  GLU A 141      26.296  58.004   9.105  1.00  0.00           C  \\nATOM   1051  CD  GLU A 141      27.273  56.839   9.356  1.00  0.00           C  \\nATOM   1052 OE1  GLU A 141      27.857  56.316   8.385  1.00  0.00           O  \\nATOM   1053 OE2  GLU A 141      27.464  56.443  10.524  1.00  0.00           O  \\nATOM   1054  N   HIS A 142      22.137  56.378   7.897  1.00  0.00           N  \\nATOM   1055  CA  HIS A 142      21.272  55.469   7.159  1.00  0.00           C  \\nATOM   1056  C   HIS A 142      21.144  55.907   5.707  1.00  0.00           C  \\nATOM   1057  O   HIS A 142      20.921  57.085   5.420  1.00  0.00           O  \\nATOM   1058  CB  HIS A 142      19.877  55.396   7.801  1.00  0.00           C  \\nATOM   1059  CG  HIS A 142      19.052  54.241   7.317  1.00  0.00           C  \\nATOM   1060 ND1  HIS A 142      18.743  54.048   5.988  1.00  0.00           N  \\nATOM   1061 CE1  HIS A 142      18.038  52.938   5.854  1.00  0.00           C  \\nATOM   1062 NE2  HIS A 142      17.876  52.405   7.051  1.00  0.00           N  \\nATOM   1063 CD2  HIS A 142      18.497  53.199   7.983  1.00  0.00           C  \\nATOM   1064  N   ALA A 143      21.296  54.955   4.792  1.00  0.00           N  \\nATOM   1065  CA  ALA A 143      21.168  55.252   3.373  1.00  0.00           C  \\nATOM   1066  C   ALA A 143      19.685  55.327   3.022  1.00  0.00           C  \\nATOM   1067  O   ALA A 143      18.858  55.738   3.842  1.00  0.00           O  \\nATOM   1068  CB  ALA A 143      21.844  54.168   2.538  1.00  0.00           C  \\nATOM   1069  N   GLN A 144      19.364  54.922   1.801  1.00  0.00           N  \\nATOM   1070  CA  GLN A 144      17.997  54.923   1.299  1.00  0.00           C  \\nATOM   1071  C   GLN A 144      17.065  54.077   2.171  1.00  0.00           C  \\nATOM   1072  O   GLN A 144      17.373  52.928   2.482  1.00  0.00           O  \\nATOM   1073  CB  GLN A 144      17.983  54.367  -0.126  1.00  0.00           C  \\nATOM   1074  CG  GLN A 144      16.600  54.251  -0.734  1.00  0.00           C  \\nATOM   1075  CD  GLN A 144      15.996  55.609  -1.015  1.00  0.00           C  \\nATOM   1076 OE1  GLN A 144      14.829  55.868  -0.692  1.00  0.00           O  \\nATOM   1077 NE2  GLN A 144      16.785  56.487  -1.623  1.00  0.00           N  \\nATOM   1078  N   TRP A 145      15.926  54.647   2.560  1.00  0.00           N  \\nATOM   1079  CA  TRP A 145      14.957  53.909   3.365  1.00  0.00           C  \\nATOM   1080  C   TRP A 145      13.967  53.136   2.491  1.00  0.00           C  \\nATOM   1081  O   TRP A 145      13.594  53.582   1.403  1.00  0.00           O  \\nATOM   1082  CB  TRP A 145      14.181  54.856   4.281  1.00  0.00           C  \\nATOM   1083  CG  TRP A 145      14.982  55.351   5.456  1.00  0.00           C  \\nATOM   1084 CD1  TRP A 145      15.891  56.364   5.459  1.00  0.00           C  \\nATOM   1085 NE1  TRP A 145      16.407  56.534   6.722  1.00  0.00           N  \\nATOM   1086 CE2  TRP A 145      15.839  55.617   7.565  1.00  0.00           C  \\nATOM   1087 CZ2  TRP A 145      16.042  55.396   8.939  1.00  0.00           C  \\nATOM   1088 CH2  TRP A 145      15.322  54.386   9.536  1.00  0.00           C  \\nATOM   1089 CZ3  TRP A 145      14.409  53.607   8.804  1.00  0.00           C  \\nATOM   1090 CE3  TRP A 145      14.207  53.828   7.436  1.00  0.00           C  \\nATOM   1091 CD2  TRP A 145      14.931  54.850   6.803  1.00  0.00           C  \\nATOM   1092  N   SER A 146      13.554  51.966   2.966  1.00  0.00           N  \\nATOM   1093  CA  SER A 146      12.590  51.160   2.239  1.00  0.00           C  \\nATOM   1094  C   SER A 146      11.310  51.107   3.062  1.00  0.00           C  \\nATOM   1095  O   SER A 146      11.285  51.496   4.218  1.00  0.00           O  \\nATOM   1096  CB  SER A 146      13.104  49.738   2.047  1.00  0.00           C  \\nATOM   1097  OG  SER A 146      13.135  49.067   3.292  1.00  0.00           O  \\nATOM   1098  N   MET A 147      10.253  50.598   2.454  1.00  0.00           N  \\nATOM   1099  CA  MET A 147       8.973  50.476   3.135  1.00  0.00           C  \\nATOM   1100  C   MET A 147       9.059  49.525   4.304  1.00  0.00           C  \\nATOM   1101  O   MET A 147       8.597  49.819   5.386  1.00  0.00           O  \\nATOM   1102  CB  MET A 147       7.934  49.975   2.158  1.00  0.00           C  \\nATOM   1103  CG  MET A 147       7.675  50.996   1.114  1.00  0.00           C  \\nATOM   1104  CE  MET A 147       5.089  51.328   0.261  1.00  0.00           C  \\nATOM   1105  N   ALA A 148       9.638  48.364   4.076  1.00  0.00           N  \\nATOM   1106  CA  ALA A 148       9.761  47.403   5.153  1.00  0.00           C  \\nATOM   1107  C   ALA A 148      10.481  48.049   6.339  1.00  0.00           C  \\nATOM   1108  O   ALA A 148      10.070  47.901   7.485  1.00  0.00           O  \\nATOM   1109  CB  ALA A 148      10.520  46.175   4.663  1.00  0.00           C  \\nATOM   1110  N   GLN A 149      11.547  48.790   6.065  1.00  0.00           N  \\nATOM   1111  CA  GLN A 149      12.280  49.415   7.149  1.00  0.00           C  \\nATOM   1112  C   GLN A 149      11.436  50.474   7.854  1.00  0.00           C  \\nATOM   1113  O   GLN A 149      11.444  50.553   9.083  1.00  0.00           O  \\nATOM   1114  CB  GLN A 149      13.585  50.045   6.635  1.00  0.00           C  \\nATOM   1115  CG  GLN A 149      14.587  49.041   6.049  1.00  0.00           C  \\nATOM   1116  CD  GLN A 149      15.752  49.727   5.341  1.00  0.00           C  \\nATOM   1117 OE1  GLN A 149      15.642  50.877   4.912  1.00  0.00           O  \\nATOM   1118 NE2  GLN A 149      16.867  49.012   5.199  1.00  0.00           N  \\nATOM   1119  N   ALA A 150      10.715  51.290   7.087  1.00  0.00           N  \\nATOM   1120  CA  ALA A 150       9.895  52.339   7.686  1.00  0.00           C  \\nATOM   1121  C   ALA A 150       8.780  51.710   8.512  1.00  0.00           C  \\nATOM   1122  O   ALA A 150       8.482  52.151   9.614  1.00  0.00           O  \\nATOM   1123  CB  ALA A 150       9.307  53.248   6.597  1.00  0.00           C  \\nATOM   1124  N   ILE A 151       8.179  50.657   7.987  1.00  0.00           N  \\nATOM   1125  CA  ILE A 151       7.102  49.993   8.711  1.00  0.00           C  \\nATOM   1126  C   ILE A 151       7.623  49.454  10.039  1.00  0.00           C  \\nATOM   1127  O   ILE A 151       7.040  49.688  11.100  1.00  0.00           O  \\nATOM   1128  CB  ILE A 151       6.516  48.849   7.872  1.00  0.00           C  \\nATOM   1129 CG1  ILE A 151       5.816  49.442   6.637  1.00  0.00           C  \\nATOM   1130 CD1  ILE A 151       5.312  48.406   5.638  1.00  0.00           C  \\nATOM   1131 CG2  ILE A 151       5.571  48.017   8.717  1.00  0.00           C  \\nATOM   1132  N   THR A 152       8.738  48.739   9.983  1.00  0.00           N  \\nATOM   1133  CA  THR A 152       9.316  48.190  11.190  1.00  0.00           C  \\nATOM   1134  C   THR A 152       9.661  49.299  12.173  1.00  0.00           C  \\nATOM   1135  O   THR A 152       9.332  49.213  13.353  1.00  0.00           O  \\nATOM   1136  CB  THR A 152      10.564  47.393  10.866  1.00  0.00           C  \\nATOM   1137 OG1  THR A 152      10.202  46.302  10.013  1.00  0.00           O  \\nATOM   1138 CG2  THR A 152      11.210  46.864  12.153  1.00  0.00           C  \\nATOM   1139  N   LEU A 153      10.310  50.350  11.687  1.00  0.00           N  \\nATOM   1140  CA  LEU A 153      10.681  51.452  12.564  1.00  0.00           C  \\nATOM   1141  C   LEU A 153       9.504  52.072  13.311  1.00  0.00           C  \\nATOM   1142  O   LEU A 153       9.527  52.190  14.538  1.00  0.00           O  \\nATOM   1143  CB  LEU A 153      11.389  52.541  11.770  1.00  0.00           C  \\nATOM   1144  CG  LEU A 153      11.703  53.825  12.541  1.00  0.00           C  \\nATOM   1145 CD1  LEU A 153      12.553  53.518  13.769  1.00  0.00           C  \\nATOM   1146 CD2  LEU A 153      12.429  54.796  11.614  1.00  0.00           C  \\nATOM   1147  N   LEU A 154       8.468  52.466  12.581  1.00  0.00           N  \\nATOM   1148  CA  LEU A 154       7.323  53.091  13.226  1.00  0.00           C  \\nATOM   1149  C   LEU A 154       6.647  52.183  14.243  1.00  0.00           C  \\nATOM   1150  O   LEU A 154       6.191  52.643  15.291  1.00  0.00           O  \\nATOM   1151  CB  LEU A 154       6.326  53.572  12.178  1.00  0.00           C  \\nATOM   1152  CG  LEU A 154       6.917  54.620  11.233  1.00  0.00           C  \\nATOM   1153 CD1  LEU A 154       5.786  55.249  10.401  1.00  0.00           C  \\nATOM   1154 CD2  LEU A 154       7.657  55.702  12.044  1.00  0.00           C  \\nATOM   1155  N   ALA A 155       6.600  50.892  13.946  1.00  0.00           N  \\nATOM   1156  CA  ALA A 155       6.004  49.949  14.867  1.00  0.00           C  \\nATOM   1157  C   ALA A 155       6.825  49.964  16.156  1.00  0.00           C  \\nATOM   1158  O   ALA A 155       6.276  50.086  17.249  1.00  0.00           O  \\nATOM   1159  CB  ALA A 155       6.000  48.554  14.260  1.00  0.00           C  \\nATOM   1160  N   ASP A 156       8.146  49.853  16.036  1.00  0.00           N  \\nATOM   1161  CA  ASP A 156       8.984  49.862  17.231  1.00  0.00           C  \\nATOM   1162  C   ASP A 156       8.830  51.169  17.997  1.00  0.00           C  \\nATOM   1163  O   ASP A 156       8.763  51.168  19.217  1.00  0.00           O  \\nATOM   1164  CB  ASP A 156      10.460  49.643  16.881  1.00  0.00           C  \\nATOM   1165  CG  ASP A 156      10.744  48.237  16.389  1.00  0.00           C  \\nATOM   1166 OD1  ASP A 156      10.000  47.310  16.770  1.00  0.00           O  \\nATOM   1167 OD2  ASP A 156      11.729  48.056  15.630  1.00  0.00           O  \\nATOM   1168  N   VAL A 157       8.762  52.286  17.283  1.00  0.00           N  \\nATOM   1169  CA  VAL A 157       8.607  53.571  17.938  1.00  0.00           C  \\nATOM   1170  C   VAL A 157       7.249  53.672  18.642  1.00  0.00           C  \\nATOM   1171  O   VAL A 157       7.143  54.243  19.733  1.00  0.00           O  \\nATOM   1172  CB  VAL A 157       8.753  54.709  16.931  1.00  0.00           C  \\nATOM   1173 CG1  VAL A 157       8.406  56.033  17.586  1.00  0.00           C  \\nATOM   1174 CG2  VAL A 157      10.187  54.738  16.388  1.00  0.00           C  \\nATOM   1175  N   GLU A 158       6.209  53.117  18.021  1.00  0.00           N  \\nATOM   1176  CA  GLU A 158       4.873  53.145  18.614  1.00  0.00           C  \\nATOM   1177  C   GLU A 158       4.898  52.383  19.928  1.00  0.00           C  \\nATOM   1178  O   GLU A 158       4.307  52.816  20.909  1.00  0.00           O  \\nATOM   1179  CB  GLU A 158       3.846  52.504  17.672  1.00  0.00           C  \\nATOM   1180  CG  GLU A 158       3.270  53.469  16.656  1.00  0.00           C  \\nATOM   1181  CD  GLU A 158       2.940  52.814  15.333  1.00  0.00           C  \\nATOM   1182 OE1  GLU A 158       2.772  51.575  15.293  1.00  0.00           O  \\nATOM   1183 OE2  GLU A 158       2.841  53.548  14.328  1.00  0.00           O  \\nATOM   1184  N   ARG A 159       5.591  51.248  19.926  1.00  0.00           N  \\nATOM   1185  CA  ARG A 159       5.719  50.401  21.100  1.00  0.00           C  \\nATOM   1186  C   ARG A 159       6.553  51.000  22.230  1.00  0.00           C  \\nATOM   1187  O   ARG A 159       6.157  50.922  23.387  1.00  0.00           O  \\nATOM   1188  CB  ARG A 159       6.331  49.058  20.706  1.00  0.00           C  \\nATOM   1189  CG  ARG A 159       6.457  48.058  21.844  1.00  0.00           C  \\nATOM   1190  CD  ARG A 159       7.282  46.847  21.404  1.00  0.00           C  \\nATOM   1191  NE  ARG A 159       8.720  47.127  21.447  1.00  0.00           N  \\nATOM   1192  CZ  ARG A 159       9.629  46.521  20.687  1.00  0.00           C  \\nATOM   1193 NH1  ARG A 159       9.259  45.594  19.815  1.00  0.00           N  \\nATOM   1194 NH2  ARG A 159      10.911  46.846  20.790  1.00  0.00           N  \\nATOM   1195  N   LEU A 160       7.700  51.598  21.915  1.00  0.00           N  \\nATOM   1196  CA  LEU A 160       8.561  52.153  22.963  1.00  0.00           C  \\nATOM   1197  C   LEU A 160       8.424  53.641  23.253  1.00  0.00           C  \\nATOM   1198  O   LEU A 160       8.872  54.103  24.301  1.00  0.00           O  \\nATOM   1199  CB  LEU A 160      10.038  51.848  22.658  1.00  0.00           C  \\nATOM   1200  CG  LEU A 160      10.435  50.371  22.710  1.00  0.00           C  \\nATOM   1201 CD1  LEU A 160      11.902  50.197  22.324  1.00  0.00           C  \\nATOM   1202 CD2  LEU A 160      10.197  49.849  24.110  1.00  0.00           C  \\nATOM   1203  N   CYS A 161       7.818  54.399  22.341  1.00  0.00           N  \\nATOM   1204  CA  CYS A 161       7.674  55.834  22.561  1.00  0.00           C  \\nATOM   1205  C   CYS A 161       6.221  56.278  22.375  1.00  0.00           C  \\nATOM   1206  O   CYS A 161       5.933  57.223  21.630  1.00  0.00           O  \\nATOM   1207  CB  CYS A 161       8.584  56.607  21.596  1.00  0.00           C  \\nATOM   1208  SG  CYS A 161      10.301  55.981  21.472  1.00  0.00           S  \\nATOM   1209  N   PRO A 162       5.283  55.608  23.065  1.00  0.00           N  \\nATOM   1210  CA  PRO A 162       3.862  55.947  22.959  1.00  0.00           C  \\nATOM   1211  C   PRO A 162       3.581  57.438  22.964  1.00  0.00           C  \\nATOM   1212  O   PRO A 162       2.677  57.911  22.269  1.00  0.00           O  \\nATOM   1213  CB  PRO A 162       3.242  55.232  24.158  1.00  0.00           C  \\nATOM   1214  CG  PRO A 162       4.409  55.074  25.120  1.00  0.00           C  \\nATOM   1215  CD  PRO A 162       5.503  54.671  24.178  1.00  0.00           C  \\nATOM   1216  N   GLN A 163       4.362  58.178  23.740  1.00  0.00           N  \\nATOM   1217  CA  GLN A 163       4.180  59.618  23.833  1.00  0.00           C  \\nATOM   1218  C   GLN A 163       4.396  60.344  22.507  1.00  0.00           C  \\nATOM   1219  O   GLN A 163       3.662  61.282  22.202  1.00  0.00           O  \\nATOM   1220  CB  GLN A 163       5.100  60.200  24.914  1.00  0.00           C  \\nATOM   1221  CG  GLN A 163       6.591  59.929  24.712  1.00  0.00           C  \\nATOM   1222  CD  GLN A 163       7.380  61.180  24.327  1.00  0.00           C  \\nATOM   1223 OE1  GLN A 163       7.217  62.245  24.929  1.00  0.00           O  \\nATOM   1224 NE2  GLN A 163       8.256  61.045  23.333  1.00  0.00           N  \\nATOM   1225  N   LEU A 164       5.389  59.926  21.719  1.00  0.00           N  \\nATOM   1226  CA  LEU A 164       5.641  60.574  20.428  1.00  0.00           C  \\nATOM   1227  C   LEU A 164       4.407  60.508  19.547  1.00  0.00           C  \\nATOM   1228  O   LEU A 164       4.110  61.434  18.804  1.00  0.00           O  \\nATOM   1229  CB  LEU A 164       6.787  59.904  19.674  1.00  0.00           C  \\nATOM   1230  CG  LEU A 164       8.239  60.301  19.912  1.00  0.00           C  \\nATOM   1231 CD1  LEU A 164       9.094  59.558  18.906  1.00  0.00           C  \\nATOM   1232 CD2  LEU A 164       8.428  61.795  19.743  1.00  0.00           C  \\nATOM   1233  N   VAL A 165       3.701  59.391  19.614  1.00  0.00           N  \\nATOM   1234  CA  VAL A 165       2.499  59.223  18.817  1.00  0.00           C  \\nATOM   1235  C   VAL A 165       1.480  60.292  19.216  1.00  0.00           C  \\nATOM   1236  O   VAL A 165       1.025  61.081  18.383  1.00  0.00           O  \\nATOM   1237  CB  VAL A 165       1.895  57.827  19.043  1.00  0.00           C  \\nATOM   1238 CG1  VAL A 165       0.637  57.662  18.223  1.00  0.00           C  \\nATOM   1239 CG2  VAL A 165       2.906  56.768  18.672  1.00  0.00           C  \\nATOM   1240  N   LYS A 166       1.151  60.323  20.504  1.00  0.00           N  \\nATOM   1241  CA  LYS A 166       0.186  61.274  21.048  1.00  0.00           C  \\nATOM   1242  C   LYS A 166       0.528  62.733  20.754  1.00  0.00           C  \\nATOM   1243  O   LYS A 166      -0.357  63.536  20.477  1.00  0.00           O  \\nATOM   1244  CB  LYS A 166       0.082  61.085  22.561  1.00  0.00           C  \\nATOM   1245  CG  LYS A 166      -0.138  59.643  22.998  1.00  0.00           C  \\nATOM   1246  CD  LYS A 166       0.254  59.466  24.469  1.00  0.00           C  \\nATOM   1247  CE  LYS A 166       0.171  58.013  24.913  1.00  0.00           C  \\nATOM   1248  NZ  LYS A 166       0.827  57.807  26.237  1.00  0.00           N  \\nATOM   1249  N   THR A 167       1.808  63.078  20.819  1.00  0.00           N  \\nATOM   1250  CA  THR A 167       2.223  64.455  20.572  1.00  0.00           C  \\nATOM   1251  C   THR A 167       3.521  64.468  19.781  1.00  0.00           C  \\nATOM   1252  O   THR A 167       4.599  64.649  20.343  1.00  0.00           O  \\nATOM   1253  CB  THR A 167       2.460  65.224  21.899  1.00  0.00           C  \\nATOM   1254 OG1  THR A 167       1.403  64.937  22.824  1.00  0.00           O  \\nATOM   1255 CG2  THR A 167       2.499  66.731  21.645  1.00  0.00           C  \\nATOM   1256  N   PRO A 168       3.438  64.267  18.462  1.00  0.00           N  \\nATOM   1257  CA  PRO A 168       4.643  64.265  17.636  1.00  0.00           C  \\nATOM   1258  C   PRO A 168       5.177  65.659  17.334  1.00  0.00           C  \\nATOM   1259  O   PRO A 168       4.462  66.507  16.814  1.00  0.00           O  \\nATOM   1260  CB  PRO A 168       4.186  63.537  16.376  1.00  0.00           C  \\nATOM   1261  CG  PRO A 168       2.761  63.944  16.268  1.00  0.00           C  \\nATOM   1262  CD  PRO A 168       2.276  63.794  17.691  1.00  0.00           C  \\nATOM   1263  N   PRO A 169       6.451  65.915  17.658  1.00  0.00           N  \\nATOM   1264  CA  PRO A 169       7.034  67.233  17.391  1.00  0.00           C  \\nATOM   1265  C   PRO A 169       7.010  67.587  15.903  1.00  0.00           C  \\nATOM   1266  O   PRO A 169       6.788  66.723  15.054  1.00  0.00           O  \\nATOM   1267  CB  PRO A 169       8.457  67.102  17.948  1.00  0.00           C  \\nATOM   1268  CG  PRO A 169       8.742  65.646  17.833  1.00  0.00           C  \\nATOM   1269  CD  PRO A 169       7.441  65.023  18.284  1.00  0.00           C  \\nATOM   1270  N   GLY A 170       7.243  68.859  15.597  1.00  0.00           N  \\nATOM   1271  CA  GLY A 170       7.226  69.313  14.220  1.00  0.00           C  \\nATOM   1272  C   GLY A 170       8.395  68.841  13.381  1.00  0.00           C  \\nATOM   1273  O   GLY A 170       8.365  68.926  12.144  1.00  0.00           O  \\nATOM   1274  N   GLY A 171       9.438  68.352  14.040  1.00  0.00           N  \\nATOM   1275  CA  GLY A 171      10.590  67.872  13.302  1.00  0.00           C  \\nATOM   1276  C   GLY A 171      10.428  66.398  12.975  1.00  0.00           C  \\nATOM   1277  O   GLY A 171      11.194  65.830  12.199  1.00  0.00           O  \\nATOM   1278  N   LEU A 172       9.422  65.778  13.574  1.00  0.00           N  \\nATOM   1279  CA  LEU A 172       9.154  64.368  13.350  1.00  0.00           C  \\nATOM   1280  C   LEU A 172       8.106  64.111  12.268  1.00  0.00           C  \\nATOM   1281  O   LEU A 172       8.320  63.294  11.371  1.00  0.00           O  \\nATOM   1282  CB  LEU A 172       8.672  63.715  14.645  1.00  0.00           C  \\nATOM   1283  CG  LEU A 172       8.081  62.308  14.495  1.00  0.00           C  \\nATOM   1284 CD1  LEU A 172       9.135  61.366  13.934  1.00  0.00           C  \\nATOM   1285 CD2  LEU A 172       7.576  61.812  15.842  1.00  0.00           C  \\nATOM   1286  N   LEU A 173       6.985  64.826  12.353  1.00  0.00           N  \\nATOM   1287  CA  LEU A 173       5.880  64.627  11.426  1.00  0.00           C  \\nATOM   1288  C   LEU A 173       5.145  65.917  11.072  1.00  0.00           C  \\nATOM   1289  O   LEU A 173       4.824  66.717  11.949  1.00  0.00           O  \\nATOM   1290  CB  LEU A 173       4.907  63.617  12.045  1.00  0.00           C  \\nATOM   1291  CG  LEU A 173       3.555  63.286  11.410  1.00  0.00           C  \\nATOM   1292 CD1  LEU A 173       3.122  61.910  11.870  1.00  0.00           C  \\nATOM   1293 CD2  LEU A 173       2.512  64.325  11.813  1.00  0.00           C  \\nATOM   1294  N   GLN A 174       4.880  66.109   9.782  1.00  0.00           N  \\nATOM   1295  CA  GLN A 174       4.180  67.300   9.311  1.00  0.00           C  \\nATOM   1296  C   GLN A 174       2.945  66.953   8.471  1.00  0.00           C  \\nATOM   1297  O   GLN A 174       2.910  65.941   7.766  1.00  0.00           O  \\nATOM   1298  CB  GLN A 174       5.118  68.177   8.481  1.00  0.00           C  \\nATOM   1299  CG  GLN A 174       6.158  68.939   9.290  1.00  0.00           C  \\nATOM   1300  CD  GLN A 174       5.553  70.055  10.121  1.00  0.00           C  \\nATOM   1301 OE1  GLN A 174       4.855  70.917   9.596  1.00  0.00           O  \\nATOM   1302 NE2  GLN A 174       5.827  70.049  11.422  1.00  0.00           N  \\nATOM   1303  N   SER A 175       1.937  67.814   8.555  1.00  0.00           N  \\nATOM   1304  CA  SER A 175       0.688  67.644   7.816  1.00  0.00           C  \\nATOM   1305  C   SER A 175       0.853  67.891   6.321  1.00  0.00           C  \\nATOM   1306  O   SER A 175       1.511  68.847   5.912  1.00  0.00           O  \\nATOM   1307  CB  SER A 175      -0.370  68.603   8.360  1.00  0.00           C  \\nATOM   1308  OG  SER A 175      -1.442  68.744   7.441  1.00  0.00           O  \\nATOM   1309  N   VAL A 176       0.272  67.010   5.511  1.00  0.00           N  \\nATOM   1310  CA  VAL A 176       0.316  67.171   4.061  1.00  0.00           C  \\nATOM   1311  C   VAL A 176      -1.100  67.589   3.683  1.00  0.00           C  \\nATOM   1312  O   VAL A 176      -2.025  66.771   3.697  1.00  0.00           O  \\nATOM   1313  CB  VAL A 176       0.683  65.864   3.346  1.00  0.00           C  \\nATOM   1314 CG1  VAL A 176       0.612  66.060   1.836  1.00  0.00           C  \\nATOM   1315 CG2  VAL A 176       2.080  65.443   3.749  1.00  0.00           C  \\nATOM   1316  N   ASP A 177      -1.255  68.870   3.359  1.00  0.00           N  \\nATOM   1317  CA  ASP A 177      -2.555  69.451   3.039  1.00  0.00           C  \\nATOM   1318  C   ASP A 177      -3.132  69.086   1.675  1.00  0.00           C  \\nATOM   1319  O   ASP A 177      -2.520  69.323   0.642  1.00  0.00           O  \\nATOM   1320  CB  ASP A 177      -2.465  70.975   3.197  1.00  0.00           C  \\nATOM   1321  CG  ASP A 177      -3.823  71.667   3.117  1.00  0.00           C  \\nATOM   1322 OD1  ASP A 177      -4.834  71.125   3.632  1.00  0.00           O  \\nATOM   1323 OD2  ASP A 177      -3.866  72.780   2.550  1.00  0.00           O  \\nATOM   1324  N   LEU A 178      -4.328  68.512   1.686  1.00  0.00           N  \\nATOM   1325  CA  LEU A 178      -4.987  68.117   0.445  1.00  0.00           C  \\nATOM   1326  C   LEU A 178      -5.924  69.186  -0.118  1.00  0.00           C  \\nATOM   1327  O   LEU A 178      -6.144  69.246  -1.332  1.00  0.00           O  \\nATOM   1328  CB  LEU A 178      -5.763  66.819   0.657  1.00  0.00           C  \\nATOM   1329  CG  LEU A 178      -4.924  65.588   1.012  1.00  0.00           C  \\nATOM   1330 CD1  LEU A 178      -5.839  64.378   1.201  1.00  0.00           C  \\nATOM   1331 CD2  LEU A 178      -3.905  65.329  -0.085  1.00  0.00           C  \\nATOM   1332  N   HIS A 179      -6.459  70.037   0.755  1.00  0.00           N  \\nATOM   1333  CA  HIS A 179      -7.389  71.084   0.333  1.00  0.00           C  \\nATOM   1334  C   HIS A 179      -7.081  71.726  -1.013  1.00  0.00           C  \\nATOM   1335  O   HIS A 179      -7.976  71.895  -1.838  1.00  0.00           O  \\nATOM   1336  CB  HIS A 179      -7.507  72.163   1.408  1.00  0.00           C  \\nATOM   1337  CG  HIS A 179      -8.133  71.670   2.672  1.00  0.00           C  \\nATOM   1338 ND1  HIS A 179      -7.446  70.917   3.597  1.00  0.00           N  \\nATOM   1339 CE1  HIS A 179      -8.265  70.568   4.575  1.00  0.00           C  \\nATOM   1340 NE2  HIS A 179      -9.458  71.072   4.316  1.00  0.00           N  \\nATOM   1341 CD2  HIS A 179      -9.403  71.768   3.133  1.00  0.00           C  \\nATOM   1342  N   PRO A 180      -5.818  72.092  -1.262  1.00  0.00           N  \\nATOM   1343  CA  PRO A 180      -5.514  72.709  -2.557  1.00  0.00           C  \\nATOM   1344  C   PRO A 180      -5.869  71.809  -3.746  1.00  0.00           C  \\nATOM   1345  O   PRO A 180      -6.534  72.247  -4.696  1.00  0.00           O  \\nATOM   1346  CB  PRO A 180      -4.013  72.977  -2.470  1.00  0.00           C  \\nATOM   1347  CG  PRO A 180      -3.803  73.235  -1.009  1.00  0.00           C  \\nATOM   1348  CD  PRO A 180      -4.650  72.149  -0.365  1.00  0.00           C  \\nATOM   1349  N   ALA A 181      -5.422  70.554  -3.698  1.00  0.00           N  \\nATOM   1350  CA  ALA A 181      -5.698  69.617  -4.785  1.00  0.00           C  \\nATOM   1351  C   ALA A 181      -7.197  69.354  -4.922  1.00  0.00           C  \\nATOM   1352  O   ALA A 181      -7.732  69.372  -6.033  1.00  0.00           O  \\nATOM   1353  CB  ALA A 181      -4.942  68.297  -4.562  1.00  0.00           C  \\nATOM   1354  N   ILE A 182      -7.865  69.108  -3.799  1.00  0.00           N  \\nATOM   1355  CA  ILE A 182      -9.299  68.856  -3.802  1.00  0.00           C  \\nATOM   1356  C   ILE A 182     -10.027  70.024  -4.453  1.00  0.00           C  \\nATOM   1357  O   ILE A 182     -10.855  69.830  -5.339  1.00  0.00           O  \\nATOM   1358  CB  ILE A 182      -9.837  68.673  -2.379  1.00  0.00           C  \\nATOM   1359 CG1  ILE A 182      -9.258  67.392  -1.781  1.00  0.00           C  \\nATOM   1360 CD1  ILE A 182      -9.543  67.220  -0.327  1.00  0.00           C  \\nATOM   1361 CG2  ILE A 182     -11.372  68.614  -2.397  1.00  0.00           C  \\nATOM   1362  N   LYS A 183      -9.709  71.236  -4.012  1.00  0.00           N  \\nATOM   1363  CA  LYS A 183     -10.318  72.428  -4.567  1.00  0.00           C  \\nATOM   1364  C   LYS A 183     -10.031  72.506  -6.059  1.00  0.00           C  \\nATOM   1365  O   LYS A 183     -10.941  72.722  -6.867  1.00  0.00           O  \\nATOM   1366  CB  LYS A 183      -9.773  73.678  -3.882  1.00  0.00           C  \\nATOM   1367  CG  LYS A 183     -10.369  74.967  -4.423  1.00  0.00           C  \\nATOM   1368  CD  LYS A 183     -10.395  76.049  -3.359  1.00  0.00           C  \\nATOM   1369  CE  LYS A 183     -11.192  77.260  -3.818  1.00  0.00           C  \\nATOM   1370  NZ  LYS A 183     -11.275  78.288  -2.742  1.00  0.00           N  \\nATOM   1371  N   ALA A 184      -8.763  72.326  -6.417  1.00  0.00           N  \\nATOM   1372  CA  ALA A 184      -8.339  72.374  -7.810  1.00  0.00           C  \\nATOM   1373  C   ALA A 184      -9.072  71.349  -8.666  1.00  0.00           C  \\nATOM   1374  O   ALA A 184      -9.237  71.548  -9.869  1.00  0.00           O  \\nATOM   1375  CB  ALA A 184      -6.839  72.144  -7.906  1.00  0.00           C  \\nATOM   1376  N   LEU A 185      -9.496  70.246  -8.054  1.00  0.00           N  \\nATOM   1377  CA  LEU A 185     -10.215  69.212  -8.787  1.00  0.00           C  \\nATOM   1378  C   LEU A 185     -11.643  69.674  -9.053  1.00  0.00           C  \\nATOM   1379  O   LEU A 185     -12.184  69.447 -10.131  1.00  0.00           O  \\nATOM   1380  CB  LEU A 185     -10.238  67.901  -8.001  1.00  0.00           C  \\nATOM   1381  CG  LEU A 185      -8.948  67.085  -7.928  1.00  0.00           C  \\nATOM   1382 CD1  LEU A 185      -9.196  65.843  -7.100  1.00  0.00           C  \\nATOM   1383 CD2  LEU A 185      -8.495  66.692  -9.320  1.00  0.00           C  \\nATOM   1384  N   LYS A 186     -12.249  70.320  -8.065  1.00  0.00           N  \\nATOM   1385  CA  LYS A 186     -13.609  70.815  -8.213  1.00  0.00           C  \\nATOM   1386  C   LYS A 186     -13.612  72.036  -9.139  1.00  0.00           C  \\nATOM   1387  O   LYS A 186     -14.210  72.012 -10.220  1.00  0.00           O  \\nATOM   1388  CB  LYS A 186     -14.182  71.179  -6.842  1.00  0.00           C  \\nATOM   1389  CG  LYS A 186     -14.237  69.998  -5.884  1.00  0.00           C  \\nATOM   1390  CD  LYS A 186     -14.818  70.372  -4.526  1.00  0.00           C  \\nATOM   1391  CE  LYS A 186     -14.901  69.147  -3.617  1.00  0.00           C  \\nATOM   1392  NZ  LYS A 186     -15.492  69.451  -2.278  1.00  0.00           N  \\nATOM   1393  N   ASP A 187     -12.928  73.093  -8.713  1.00  0.00           N  \\nATOM   1394  CA  ASP A 187     -12.828  74.334  -9.483  1.00  0.00           C  \\nATOM   1395  C   ASP A 187     -12.465  74.122 -10.958  1.00  0.00           C  \\nATOM   1396  O   ASP A 187     -13.186  74.664 -11.826  1.00  0.00           O  \\nATOM   1397  CB  ASP A 187     -11.802  75.268  -8.826  1.00  0.00           C  \\nATOM   1398  CG  ASP A 187     -12.398  76.095  -7.692  1.00  0.00           C  \\nATOM   1399 OD1  ASP A 187     -13.294  75.594  -6.978  1.00  0.00           O  \\nATOM   1400 OD2  ASP A 187     -11.956  77.248  -7.507  1.00  0.00           O  \\nTER\\nEND          \\n\",\"pdb\",{\"keepH\": true});\n",
       "\tviewer_1676338529635565.setStyle({\"cartoon\": {\"color\": \"spectrum\"}, \"stick\": {\"radius\": 0.15}});\n",
       "\tviewer_1676338529635565.zoomTo();\n",
       "viewer_1676338529635565.render();\n",
       "});\n",
       "</script>"
      ]
     },
     "metadata": {},
     "output_type": "display_data"
    },
    {
     "data": {
      "text/plain": [
       "<py3Dmol.view at 0x17ba2e3a0>"
      ]
     },
     "execution_count": 77,
     "metadata": {},
     "output_type": "execute_result"
    }
   ],
   "source": [
    "struct.to_3Dmol(0)"
   ]
  },
  {
   "cell_type": "code",
   "execution_count": 78,
   "id": "9f0ec24e",
   "metadata": {},
   "outputs": [
    {
     "data": {
      "text/plain": [
       "torch.Size([4, 2716, 3])"
      ]
     },
     "execution_count": 78,
     "metadata": {},
     "output_type": "execute_result"
    }
   ],
   "source": [
    "b.crds.shape"
   ]
  },
  {
   "cell_type": "code",
   "execution_count": 83,
   "id": "6acc79e3",
   "metadata": {},
   "outputs": [
    {
     "data": {
      "text/plain": [
       "(280, 3)"
      ]
     },
     "execution_count": 83,
     "metadata": {},
     "output_type": "execute_result"
    }
   ],
   "source": [
    "data['train']['crd'][0].shape"
   ]
  },
  {
   "cell_type": "code",
   "execution_count": 84,
   "id": "3309ed1f",
   "metadata": {},
   "outputs": [
    {
     "data": {
      "text/plain": [
       "25213"
      ]
     },
     "execution_count": 84,
     "metadata": {},
     "output_type": "execute_result"
    }
   ],
   "source": [
    "len(data['train']['crd'])"
   ]
  },
  {
   "cell_type": "code",
   "execution_count": 89,
   "id": "1a15d44d",
   "metadata": {},
   "outputs": [
    {
     "data": {
      "text/plain": [
       "(4620, 3)"
      ]
     },
     "execution_count": 89,
     "metadata": {},
     "output_type": "execute_result"
    }
   ],
   "source": [
    "data['train']['crd'][20000].shape"
   ]
  },
  {
   "cell_type": "code",
   "execution_count": 97,
   "id": "d89ae115",
   "metadata": {},
   "outputs": [
    {
     "data": {
      "text/html": [
       "<div>\n",
       "<style scoped>\n",
       "    .dataframe tbody tr th:only-of-type {\n",
       "        vertical-align: middle;\n",
       "    }\n",
       "\n",
       "    .dataframe tbody tr th {\n",
       "        vertical-align: top;\n",
       "    }\n",
       "\n",
       "    .dataframe thead th {\n",
       "        text-align: right;\n",
       "    }\n",
       "</style>\n",
       "<table border=\"1\" class=\"dataframe\">\n",
       "  <thead>\n",
       "    <tr style=\"text-align: right;\">\n",
       "      <th></th>\n",
       "      <th>0</th>\n",
       "      <th>1</th>\n",
       "      <th>2</th>\n",
       "    </tr>\n",
       "  </thead>\n",
       "  <tbody>\n",
       "    <tr>\n",
       "      <th>count</th>\n",
       "      <td>4620.000000</td>\n",
       "      <td>4620.000000</td>\n",
       "      <td>4620.000000</td>\n",
       "    </tr>\n",
       "    <tr>\n",
       "      <th>mean</th>\n",
       "      <td>-21.858939</td>\n",
       "      <td>-6.410510</td>\n",
       "      <td>-1.280270</td>\n",
       "    </tr>\n",
       "    <tr>\n",
       "      <th>std</th>\n",
       "      <td>23.234828</td>\n",
       "      <td>10.532692</td>\n",
       "      <td>6.294484</td>\n",
       "    </tr>\n",
       "    <tr>\n",
       "      <th>min</th>\n",
       "      <td>-69.325000</td>\n",
       "      <td>-45.087000</td>\n",
       "      <td>-26.488000</td>\n",
       "    </tr>\n",
       "    <tr>\n",
       "      <th>25%</th>\n",
       "      <td>-42.982500</td>\n",
       "      <td>-12.815000</td>\n",
       "      <td>-2.551250</td>\n",
       "    </tr>\n",
       "    <tr>\n",
       "      <th>50%</th>\n",
       "      <td>-22.156000</td>\n",
       "      <td>0.000000</td>\n",
       "      <td>0.000000</td>\n",
       "    </tr>\n",
       "    <tr>\n",
       "      <th>75%</th>\n",
       "      <td>0.000000</td>\n",
       "      <td>0.000000</td>\n",
       "      <td>0.000000</td>\n",
       "    </tr>\n",
       "    <tr>\n",
       "      <th>max</th>\n",
       "      <td>0.000000</td>\n",
       "      <td>12.495000</td>\n",
       "      <td>17.520000</td>\n",
       "    </tr>\n",
       "  </tbody>\n",
       "</table>\n",
       "</div>"
      ],
      "text/plain": [
       "                 0            1            2\n",
       "count  4620.000000  4620.000000  4620.000000\n",
       "mean    -21.858939    -6.410510    -1.280270\n",
       "std      23.234828    10.532692     6.294484\n",
       "min     -69.325000   -45.087000   -26.488000\n",
       "25%     -42.982500   -12.815000    -2.551250\n",
       "50%     -22.156000     0.000000     0.000000\n",
       "75%       0.000000     0.000000     0.000000\n",
       "max       0.000000    12.495000    17.520000"
      ]
     },
     "execution_count": 97,
     "metadata": {},
     "output_type": "execute_result"
    }
   ],
   "source": [
    "pd.DataFrame(data['train']['crd'][20000]).describe()"
   ]
  },
  {
   "cell_type": "code",
   "execution_count": 101,
   "id": "bef3c042",
   "metadata": {},
   "outputs": [
    {
     "ename": "AttributeError",
     "evalue": "'list' object has no attribute 'flatten'",
     "output_type": "error",
     "traceback": [
      "\u001b[0;31m---------------------------------------------------------------------------\u001b[0m",
      "\u001b[0;31mAttributeError\u001b[0m                            Traceback (most recent call last)",
      "Cell \u001b[0;32mIn[101], line 1\u001b[0m\n\u001b[0;32m----> 1\u001b[0m \u001b[43mdata\u001b[49m\u001b[43m[\u001b[49m\u001b[38;5;124;43m'\u001b[39;49m\u001b[38;5;124;43mtrain\u001b[39;49m\u001b[38;5;124;43m'\u001b[39;49m\u001b[43m]\u001b[49m\u001b[43m[\u001b[49m\u001b[38;5;124;43m'\u001b[39;49m\u001b[38;5;124;43mcrd\u001b[39;49m\u001b[38;5;124;43m'\u001b[39;49m\u001b[43m]\u001b[49m\u001b[43m[\u001b[49m\u001b[43m:\u001b[49m\u001b[38;5;241;43m5\u001b[39;49m\u001b[43m]\u001b[49m\u001b[38;5;241;43m.\u001b[39;49m\u001b[43mflatten\u001b[49m()\n",
      "\u001b[0;31mAttributeError\u001b[0m: 'list' object has no attribute 'flatten'"
     ]
    }
   ],
   "source": [
    "data['train']['crd'][:5].flatten()"
   ]
  },
  {
   "cell_type": "code",
   "execution_count": 113,
   "id": "cb9671e6",
   "metadata": {},
   "outputs": [
    {
     "data": {
      "text/html": [
       "<div>\n",
       "<style scoped>\n",
       "    .dataframe tbody tr th:only-of-type {\n",
       "        vertical-align: middle;\n",
       "    }\n",
       "\n",
       "    .dataframe tbody tr th {\n",
       "        vertical-align: top;\n",
       "    }\n",
       "\n",
       "    .dataframe thead th {\n",
       "        text-align: right;\n",
       "    }\n",
       "</style>\n",
       "<table border=\"1\" class=\"dataframe\">\n",
       "  <thead>\n",
       "    <tr style=\"text-align: right;\">\n",
       "      <th></th>\n",
       "      <th>0</th>\n",
       "    </tr>\n",
       "  </thead>\n",
       "  <tbody>\n",
       "    <tr>\n",
       "      <th>count</th>\n",
       "      <td>8400.000000</td>\n",
       "    </tr>\n",
       "    <tr>\n",
       "      <th>mean</th>\n",
       "      <td>1.686662</td>\n",
       "    </tr>\n",
       "    <tr>\n",
       "      <th>std</th>\n",
       "      <td>9.445719</td>\n",
       "    </tr>\n",
       "    <tr>\n",
       "      <th>min</th>\n",
       "      <td>-33.377000</td>\n",
       "    </tr>\n",
       "    <tr>\n",
       "      <th>25%</th>\n",
       "      <td>0.000000</td>\n",
       "    </tr>\n",
       "    <tr>\n",
       "      <th>50%</th>\n",
       "      <td>0.000000</td>\n",
       "    </tr>\n",
       "    <tr>\n",
       "      <th>75%</th>\n",
       "      <td>0.188750</td>\n",
       "    </tr>\n",
       "    <tr>\n",
       "      <th>max</th>\n",
       "      <td>68.337000</td>\n",
       "    </tr>\n",
       "  </tbody>\n",
       "</table>\n",
       "</div>"
      ],
      "text/plain": [
       "                 0\n",
       "count  8400.000000\n",
       "mean      1.686662\n",
       "std       9.445719\n",
       "min     -33.377000\n",
       "25%       0.000000\n",
       "50%       0.000000\n",
       "75%       0.188750\n",
       "max      68.337000"
      ]
     },
     "execution_count": 113,
     "metadata": {},
     "output_type": "execute_result"
    }
   ],
   "source": [
    "values = np.concatenate(data['train']['crd'][:10], axis=0).flatten()\n",
    "pd.DataFrame(values).describe()"
   ]
  },
  {
   "cell_type": "code",
   "execution_count": 115,
   "id": "0ecdee37",
   "metadata": {},
   "outputs": [
    {
     "data": {
      "text/html": [
       "<div>\n",
       "<style scoped>\n",
       "    .dataframe tbody tr th:only-of-type {\n",
       "        vertical-align: middle;\n",
       "    }\n",
       "\n",
       "    .dataframe tbody tr th {\n",
       "        vertical-align: top;\n",
       "    }\n",
       "\n",
       "    .dataframe thead th {\n",
       "        text-align: right;\n",
       "    }\n",
       "</style>\n",
       "<table border=\"1\" class=\"dataframe\">\n",
       "  <thead>\n",
       "    <tr style=\"text-align: right;\">\n",
       "      <th></th>\n",
       "      <th>0</th>\n",
       "    </tr>\n",
       "  </thead>\n",
       "  <tbody>\n",
       "    <tr>\n",
       "      <th>count</th>\n",
       "      <td>2.395369e+08</td>\n",
       "    </tr>\n",
       "    <tr>\n",
       "      <th>mean</th>\n",
       "      <td>1.375437e+01</td>\n",
       "    </tr>\n",
       "    <tr>\n",
       "      <th>std</th>\n",
       "      <td>4.845913e+01</td>\n",
       "    </tr>\n",
       "    <tr>\n",
       "      <th>min</th>\n",
       "      <td>-9.392240e+02</td>\n",
       "    </tr>\n",
       "    <tr>\n",
       "      <th>25%</th>\n",
       "      <td>0.000000e+00</td>\n",
       "    </tr>\n",
       "    <tr>\n",
       "      <th>50%</th>\n",
       "      <td>0.000000e+00</td>\n",
       "    </tr>\n",
       "    <tr>\n",
       "      <th>75%</th>\n",
       "      <td>1.901100e+01</td>\n",
       "    </tr>\n",
       "    <tr>\n",
       "      <th>max</th>\n",
       "      <td>2.982433e+03</td>\n",
       "    </tr>\n",
       "  </tbody>\n",
       "</table>\n",
       "</div>"
      ],
      "text/plain": [
       "                  0\n",
       "count  2.395369e+08\n",
       "mean   1.375437e+01\n",
       "std    4.845913e+01\n",
       "min   -9.392240e+02\n",
       "25%    0.000000e+00\n",
       "50%    0.000000e+00\n",
       "75%    1.901100e+01\n",
       "max    2.982433e+03"
      ]
     },
     "execution_count": 115,
     "metadata": {},
     "output_type": "execute_result"
    }
   ],
   "source": [
    "values = np.concatenate(data['train']['crd'], axis=0).flatten()\n",
    "pd.DataFrame(values).describe()"
   ]
  },
  {
   "cell_type": "code",
   "execution_count": 116,
   "id": "2988eb26",
   "metadata": {},
   "outputs": [],
   "source": [
    "df = pd.DataFrame(values)"
   ]
  },
  {
   "cell_type": "code",
   "execution_count": 117,
   "id": "7259e76f",
   "metadata": {},
   "outputs": [
    {
     "data": {
      "text/html": [
       "<div>\n",
       "<style scoped>\n",
       "    .dataframe tbody tr th:only-of-type {\n",
       "        vertical-align: middle;\n",
       "    }\n",
       "\n",
       "    .dataframe tbody tr th {\n",
       "        vertical-align: top;\n",
       "    }\n",
       "\n",
       "    .dataframe thead th {\n",
       "        text-align: right;\n",
       "    }\n",
       "</style>\n",
       "<table border=\"1\" class=\"dataframe\">\n",
       "  <thead>\n",
       "    <tr style=\"text-align: right;\">\n",
       "      <th></th>\n",
       "      <th>0</th>\n",
       "    </tr>\n",
       "  </thead>\n",
       "  <tbody>\n",
       "    <tr>\n",
       "      <th>0</th>\n",
       "      <td>0.0</td>\n",
       "    </tr>\n",
       "    <tr>\n",
       "      <th>1</th>\n",
       "      <td>0.0</td>\n",
       "    </tr>\n",
       "    <tr>\n",
       "      <th>2</th>\n",
       "      <td>0.0</td>\n",
       "    </tr>\n",
       "    <tr>\n",
       "      <th>3</th>\n",
       "      <td>0.0</td>\n",
       "    </tr>\n",
       "    <tr>\n",
       "      <th>4</th>\n",
       "      <td>0.0</td>\n",
       "    </tr>\n",
       "  </tbody>\n",
       "</table>\n",
       "</div>"
      ],
      "text/plain": [
       "     0\n",
       "0  0.0\n",
       "1  0.0\n",
       "2  0.0\n",
       "3  0.0\n",
       "4  0.0"
      ]
     },
     "execution_count": 117,
     "metadata": {},
     "output_type": "execute_result"
    }
   ],
   "source": [
    "df.head()"
   ]
  },
  {
   "cell_type": "code",
   "execution_count": 120,
   "id": "c4960254",
   "metadata": {},
   "outputs": [],
   "source": [
    "df = df.replace(0, np.nan)\n",
    "df = df.dropna(how='all', axis=0)"
   ]
  },
  {
   "cell_type": "code",
   "execution_count": 123,
   "id": "3ec87c59",
   "metadata": {},
   "outputs": [
    {
     "data": {
      "text/html": [
       "<div>\n",
       "<style scoped>\n",
       "    .dataframe tbody tr th:only-of-type {\n",
       "        vertical-align: middle;\n",
       "    }\n",
       "\n",
       "    .dataframe tbody tr th {\n",
       "        vertical-align: top;\n",
       "    }\n",
       "\n",
       "    .dataframe thead th {\n",
       "        text-align: right;\n",
       "    }\n",
       "</style>\n",
       "<table border=\"1\" class=\"dataframe\">\n",
       "  <thead>\n",
       "    <tr style=\"text-align: right;\">\n",
       "      <th></th>\n",
       "      <th>0</th>\n",
       "    </tr>\n",
       "  </thead>\n",
       "  <tbody>\n",
       "    <tr>\n",
       "      <th>count</th>\n",
       "      <td>1.223652e+08</td>\n",
       "    </tr>\n",
       "    <tr>\n",
       "      <th>mean</th>\n",
       "      <td>2.692498e+01</td>\n",
       "    </tr>\n",
       "    <tr>\n",
       "      <th>std</th>\n",
       "      <td>6.513286e+01</td>\n",
       "    </tr>\n",
       "    <tr>\n",
       "      <th>min</th>\n",
       "      <td>-9.392240e+02</td>\n",
       "    </tr>\n",
       "    <tr>\n",
       "      <th>25%</th>\n",
       "      <td>-1.849000e+00</td>\n",
       "    </tr>\n",
       "    <tr>\n",
       "      <th>50%</th>\n",
       "      <td>1.814300e+01</td>\n",
       "    </tr>\n",
       "    <tr>\n",
       "      <th>75%</th>\n",
       "      <td>4.354000e+01</td>\n",
       "    </tr>\n",
       "    <tr>\n",
       "      <th>max</th>\n",
       "      <td>2.982433e+03</td>\n",
       "    </tr>\n",
       "  </tbody>\n",
       "</table>\n",
       "</div>"
      ],
      "text/plain": [
       "                  0\n",
       "count  1.223652e+08\n",
       "mean   2.692498e+01\n",
       "std    6.513286e+01\n",
       "min   -9.392240e+02\n",
       "25%   -1.849000e+00\n",
       "50%    1.814300e+01\n",
       "75%    4.354000e+01\n",
       "max    2.982433e+03"
      ]
     },
     "execution_count": 123,
     "metadata": {},
     "output_type": "execute_result"
    }
   ],
   "source": [
    "df.describe()"
   ]
  },
  {
   "cell_type": "code",
   "execution_count": 126,
   "id": "2b3e3136",
   "metadata": {},
   "outputs": [
    {
     "data": {
      "text/plain": [
       "array([[<AxesSubplot: title={'center': '0'}>]], dtype=object)"
      ]
     },
     "execution_count": 126,
     "metadata": {},
     "output_type": "execute_result"
    },
    {
     "data": {
      "image/png": "[encoded data removed]",
      "text/plain": [
       "<Figure size 640x480 with 1 Axes>"
      ]
     },
     "metadata": {},
     "output_type": "display_data"
    }
   ],
   "source": [
    "df.hist(bins=100)"
   ]
  },
  {
   "cell_type": "code",
   "execution_count": 134,
   "id": "d6d38ef4",
   "metadata": {},
   "outputs": [],
   "source": [
    "max_val = 400\n",
    "min_val = -200\n",
    "filtered_df = df[df > min_val][df < max_val].dropna(how='all', axis=0)"
   ]
  },
  {
   "cell_type": "code",
   "execution_count": 135,
   "id": "d72588ad",
   "metadata": {},
   "outputs": [
    {
     "data": {
      "text/html": [
       "<div>\n",
       "<style scoped>\n",
       "    .dataframe tbody tr th:only-of-type {\n",
       "        vertical-align: middle;\n",
       "    }\n",
       "\n",
       "    .dataframe tbody tr th {\n",
       "        vertical-align: top;\n",
       "    }\n",
       "\n",
       "    .dataframe thead th {\n",
       "        text-align: right;\n",
       "    }\n",
       "</style>\n",
       "<table border=\"1\" class=\"dataframe\">\n",
       "  <thead>\n",
       "    <tr style=\"text-align: right;\">\n",
       "      <th></th>\n",
       "      <th>0</th>\n",
       "    </tr>\n",
       "  </thead>\n",
       "  <tbody>\n",
       "    <tr>\n",
       "      <th>count</th>\n",
       "      <td>1.220219e+08</td>\n",
       "    </tr>\n",
       "    <tr>\n",
       "      <th>mean</th>\n",
       "      <td>2.586979e+01</td>\n",
       "    </tr>\n",
       "    <tr>\n",
       "      <th>std</th>\n",
       "      <td>5.162392e+01</td>\n",
       "    </tr>\n",
       "    <tr>\n",
       "      <th>min</th>\n",
       "      <td>-1.999990e+02</td>\n",
       "    </tr>\n",
       "    <tr>\n",
       "      <th>25%</th>\n",
       "      <td>-1.832000e+00</td>\n",
       "    </tr>\n",
       "    <tr>\n",
       "      <th>50%</th>\n",
       "      <td>1.810200e+01</td>\n",
       "    </tr>\n",
       "    <tr>\n",
       "      <th>75%</th>\n",
       "      <td>4.336900e+01</td>\n",
       "    </tr>\n",
       "    <tr>\n",
       "      <th>max</th>\n",
       "      <td>3.999990e+02</td>\n",
       "    </tr>\n",
       "  </tbody>\n",
       "</table>\n",
       "</div>"
      ],
      "text/plain": [
       "                  0\n",
       "count  1.220219e+08\n",
       "mean   2.586979e+01\n",
       "std    5.162392e+01\n",
       "min   -1.999990e+02\n",
       "25%   -1.832000e+00\n",
       "50%    1.810200e+01\n",
       "75%    4.336900e+01\n",
       "max    3.999990e+02"
      ]
     },
     "execution_count": 135,
     "metadata": {},
     "output_type": "execute_result"
    }
   ],
   "source": [
    "filtered_df.describe()"
   ]
  },
  {
   "cell_type": "code",
   "execution_count": 136,
   "id": "456a05b1",
   "metadata": {},
   "outputs": [
    {
     "data": {
      "text/plain": [
       "array([[<AxesSubplot: title={'center': '0'}>]], dtype=object)"
      ]
     },
     "execution_count": 136,
     "metadata": {},
     "output_type": "execute_result"
    },
    {
     "data": {
      "image/png": "[encoded data removed]",
      "text/plain": [
       "<Figure size 640x480 with 1 Axes>"
      ]
     },
     "metadata": {},
     "output_type": "display_data"
    }
   ],
   "source": [
    "filtered_df.hist(bins=100)"
   ]
  },
  {
   "cell_type": "code",
   "execution_count": 167,
   "id": "031871e1",
   "metadata": {},
   "outputs": [],
   "source": [
    "msk = crds > 0\n",
    "noise = msk * (5 * torch.randn_like(crds) + 25) "
   ]
  },
  {
   "cell_type": "code",
   "execution_count": 169,
   "id": "37956bb4",
   "metadata": {},
   "outputs": [
    {
     "data": {
      "text/plain": [
       "tensor([[ 0.0000,  0.0000,  0.0000],\n",
       "        [ 0.0000,  0.0000,  0.0000],\n",
       "        [ 0.0000,  0.0000,  0.0000],\n",
       "        [ 0.0000,  0.0000,  0.0000],\n",
       "        [ 0.0000,  0.0000,  0.0000],\n",
       "        [ 0.0000,  0.0000,  0.0000],\n",
       "        [ 0.0000,  0.0000,  0.0000],\n",
       "        [ 0.0000,  0.0000,  0.0000],\n",
       "        [ 0.0000,  0.0000,  0.0000],\n",
       "        [ 0.0000,  0.0000,  0.0000],\n",
       "        [ 0.0000,  0.0000,  0.0000],\n",
       "        [ 0.0000,  0.0000,  0.0000],\n",
       "        [ 0.0000,  0.0000,  0.0000],\n",
       "        [ 0.0000,  0.0000,  0.0000],\n",
       "        [24.6093,  0.0000, 31.5187],\n",
       "        [26.6794,  0.0000, 22.5611],\n",
       "        [30.6111,  0.0000, 17.8513],\n",
       "        [31.1641,  0.0000, 20.4047],\n",
       "        [28.4224,  0.0000, 25.8098],\n",
       "        [26.4463,  0.0000, 21.3520],\n",
       "        [23.2031,  0.0000, 17.9194],\n",
       "        [ 0.0000,  0.0000,  0.0000],\n",
       "        [ 0.0000,  0.0000,  0.0000],\n",
       "        [ 0.0000,  0.0000,  0.0000],\n",
       "        [ 0.0000,  0.0000,  0.0000],\n",
       "        [ 0.0000,  0.0000,  0.0000],\n",
       "        [ 0.0000,  0.0000,  0.0000],\n",
       "        [ 0.0000,  0.0000,  0.0000],\n",
       "        [ 0.0000,  0.0000,  0.0000],\n",
       "        [ 0.0000,  0.0000,  0.0000],\n",
       "        [ 0.0000,  0.0000,  0.0000],\n",
       "        [ 0.0000,  0.0000,  0.0000],\n",
       "        [ 0.0000,  0.0000,  0.0000],\n",
       "        [ 0.0000,  0.0000,  0.0000],\n",
       "        [ 0.0000,  0.0000,  0.0000],\n",
       "        [ 0.0000,  0.0000,  0.0000],\n",
       "        [ 0.0000,  0.0000,  0.0000],\n",
       "        [ 0.0000,  0.0000,  0.0000],\n",
       "        [ 0.0000,  0.0000,  0.0000],\n",
       "        [ 0.0000,  0.0000,  0.0000],\n",
       "        [ 0.0000,  0.0000,  0.0000],\n",
       "        [ 0.0000,  0.0000,  0.0000],\n",
       "        [33.6357,  0.0000, 19.4100],\n",
       "        [22.9434,  0.0000, 24.5164],\n",
       "        [19.1355,  0.0000, 29.8253],\n",
       "        [24.3052,  0.0000, 31.8726],\n",
       "        [ 0.0000,  0.0000,  0.0000],\n",
       "        [ 0.0000,  0.0000,  0.0000],\n",
       "        [ 0.0000,  0.0000,  0.0000],\n",
       "        [ 0.0000,  0.0000,  0.0000],\n",
       "        [ 0.0000,  0.0000,  0.0000],\n",
       "        [ 0.0000,  0.0000,  0.0000],\n",
       "        [ 0.0000,  0.0000,  0.0000],\n",
       "        [ 0.0000,  0.0000,  0.0000],\n",
       "        [ 0.0000,  0.0000,  0.0000],\n",
       "        [ 0.0000,  0.0000,  0.0000],\n",
       "        [21.2525,  0.0000, 31.9501],\n",
       "        [16.5490,  0.0000, 20.0298],\n",
       "        [24.1735,  0.0000, 18.3615],\n",
       "        [30.1320,  0.0000, 29.1234],\n",
       "        [ 0.0000,  0.0000,  0.0000],\n",
       "        [ 0.0000,  0.0000,  0.0000],\n",
       "        [ 0.0000,  0.0000,  0.0000],\n",
       "        [ 0.0000,  0.0000,  0.0000],\n",
       "        [ 0.0000,  0.0000,  0.0000],\n",
       "        [ 0.0000,  0.0000,  0.0000],\n",
       "        [ 0.0000,  0.0000,  0.0000],\n",
       "        [ 0.0000,  0.0000,  0.0000],\n",
       "        [ 0.0000,  0.0000,  0.0000],\n",
       "        [ 0.0000,  0.0000,  0.0000],\n",
       "        [29.1600,  0.0000, 20.4223],\n",
       "        [31.2056,  0.0000, 20.4887],\n",
       "        [26.1382,  0.0000, 25.9400],\n",
       "        [20.6280,  0.0000, 27.3101],\n",
       "        [ 0.0000,  0.0000,  0.0000],\n",
       "        [ 0.0000,  0.0000,  0.0000],\n",
       "        [ 0.0000,  0.0000,  0.0000],\n",
       "        [ 0.0000,  0.0000,  0.0000],\n",
       "        [ 0.0000,  0.0000,  0.0000],\n",
       "        [ 0.0000,  0.0000,  0.0000],\n",
       "        [ 0.0000,  0.0000,  0.0000],\n",
       "        [ 0.0000,  0.0000,  0.0000],\n",
       "        [ 0.0000,  0.0000,  0.0000],\n",
       "        [ 0.0000,  0.0000,  0.0000],\n",
       "        [25.7489,  0.0000, 21.1556],\n",
       "        [25.8280,  0.0000, 24.8654],\n",
       "        [30.2723,  0.0000, 30.6270],\n",
       "        [25.3326,  0.0000, 24.3392],\n",
       "        [ 0.0000,  0.0000,  0.0000],\n",
       "        [ 0.0000,  0.0000,  0.0000],\n",
       "        [ 0.0000,  0.0000,  0.0000],\n",
       "        [ 0.0000,  0.0000,  0.0000],\n",
       "        [ 0.0000,  0.0000,  0.0000],\n",
       "        [ 0.0000,  0.0000,  0.0000],\n",
       "        [ 0.0000,  0.0000,  0.0000],\n",
       "        [ 0.0000,  0.0000,  0.0000],\n",
       "        [ 0.0000,  0.0000,  0.0000],\n",
       "        [ 0.0000,  0.0000,  0.0000],\n",
       "        [24.2222,  0.0000, 21.2020],\n",
       "        [22.9510,  0.0000, 18.3915],\n",
       "        [19.2916,  0.0000, 26.2965],\n",
       "        [24.6826,  0.0000, 27.1274],\n",
       "        [ 0.0000,  0.0000,  0.0000],\n",
       "        [ 0.0000,  0.0000,  0.0000],\n",
       "        [ 0.0000,  0.0000,  0.0000],\n",
       "        [ 0.0000,  0.0000,  0.0000],\n",
       "        [ 0.0000,  0.0000,  0.0000],\n",
       "        [ 0.0000,  0.0000,  0.0000],\n",
       "        [ 0.0000,  0.0000,  0.0000],\n",
       "        [ 0.0000,  0.0000,  0.0000],\n",
       "        [ 0.0000,  0.0000,  0.0000],\n",
       "        [ 0.0000,  0.0000,  0.0000],\n",
       "        [30.6004,  0.0000, 28.5126],\n",
       "        [27.9065,  0.0000, 24.0706],\n",
       "        [25.8280,  0.0000, 27.2635],\n",
       "        [30.4720,  0.0000, 23.8875],\n",
       "        [21.1607,  0.0000, 20.6156],\n",
       "        [22.5054,  0.0000, 22.4850],\n",
       "        [31.7234,  0.0000, 24.0560],\n",
       "        [27.7395,  0.0000, 21.6649],\n",
       "        [ 0.0000,  0.0000,  0.0000],\n",
       "        [ 0.0000,  0.0000,  0.0000],\n",
       "        [ 0.0000,  0.0000,  0.0000],\n",
       "        [ 0.0000,  0.0000,  0.0000],\n",
       "        [ 0.0000,  0.0000,  0.0000],\n",
       "        [ 0.0000,  0.0000,  0.0000],\n",
       "        [29.7952,  0.0000, 26.4567],\n",
       "        [19.8810,  0.0000, 25.2040],\n",
       "        [29.0666,  0.0000, 34.2200],\n",
       "        [17.8498,  0.0000,  0.0000],\n",
       "        [ 0.0000,  0.0000,  0.0000],\n",
       "        [ 0.0000,  0.0000,  0.0000],\n",
       "        [ 0.0000,  0.0000,  0.0000],\n",
       "        [ 0.0000,  0.0000,  0.0000],\n",
       "        [ 0.0000,  0.0000,  0.0000],\n",
       "        [ 0.0000,  0.0000,  0.0000],\n",
       "        [ 0.0000,  0.0000,  0.0000],\n",
       "        [ 0.0000,  0.0000,  0.0000],\n",
       "        [ 0.0000,  0.0000,  0.0000],\n",
       "        [ 0.0000,  0.0000,  0.0000],\n",
       "        [30.0894,  0.0000, 19.5699],\n",
       "        [22.7828,  0.0000, 26.3812],\n",
       "        [22.5346,  0.0000, 25.4017],\n",
       "        [25.8060,  0.0000, 28.4241],\n",
       "        [22.8457,  0.0000, 25.2155],\n",
       "        [31.3270,  0.0000, 22.8031],\n",
       "        [21.4863,  0.0000, 15.6974],\n",
       "        [25.4007,  0.0000, 30.5221],\n",
       "        [ 0.0000,  0.0000,  0.0000],\n",
       "        [ 0.0000,  0.0000,  0.0000],\n",
       "        [ 0.0000,  0.0000,  0.0000],\n",
       "        [ 0.0000,  0.0000,  0.0000],\n",
       "        [ 0.0000,  0.0000,  0.0000],\n",
       "        [ 0.0000,  0.0000,  0.0000],\n",
       "        [ 0.0000,  0.0000,  0.0000],\n",
       "        [ 0.0000,  0.0000,  0.0000],\n",
       "        [ 0.0000,  0.0000,  0.0000],\n",
       "        [ 0.0000,  0.0000,  0.0000],\n",
       "        [ 0.0000,  0.0000,  0.0000],\n",
       "        [ 0.0000,  0.0000,  0.0000],\n",
       "        [ 0.0000,  0.0000,  0.0000],\n",
       "        [ 0.0000,  0.0000,  0.0000],\n",
       "        [ 0.0000,  0.0000,  0.0000],\n",
       "        [ 0.0000,  0.0000,  0.0000],\n",
       "        [ 0.0000,  0.0000,  0.0000],\n",
       "        [ 0.0000,  0.0000,  0.0000],\n",
       "        [ 0.0000,  0.0000,  0.0000],\n",
       "        [ 0.0000,  0.0000,  0.0000],\n",
       "        [27.4301,  0.0000,  0.0000],\n",
       "        [29.2682,  0.0000,  0.0000],\n",
       "        [27.5711,  0.0000,  0.0000],\n",
       "        [33.2192,  0.0000,  0.0000],\n",
       "        [16.6306,  0.0000,  0.0000],\n",
       "        [23.2940,  0.0000,  0.0000],\n",
       "        [22.0879,  0.0000,  0.0000],\n",
       "        [26.1190,  0.0000,  0.0000],\n",
       "        [28.2607,  0.0000,  0.0000],\n",
       "        [ 0.0000,  0.0000,  0.0000],\n",
       "        [ 0.0000,  0.0000,  0.0000],\n",
       "        [ 0.0000,  0.0000,  0.0000],\n",
       "        [ 0.0000,  0.0000,  0.0000],\n",
       "        [ 0.0000,  0.0000,  0.0000],\n",
       "        [18.8721,  0.0000,  0.0000],\n",
       "        [26.8820,  0.0000,  0.0000],\n",
       "        [13.4100,  0.0000,  0.0000],\n",
       "        [23.2482,  0.0000,  0.0000],\n",
       "        [31.9662,  0.0000,  0.0000],\n",
       "        [22.5874,  0.0000,  0.0000],\n",
       "        [24.2770,  0.0000,  0.0000],\n",
       "        [21.3815,  0.0000,  0.0000],\n",
       "        [18.6256,  0.0000,  0.0000],\n",
       "        [ 0.0000,  0.0000,  0.0000],\n",
       "        [ 0.0000,  0.0000,  0.0000],\n",
       "        [ 0.0000,  0.0000,  0.0000],\n",
       "        [ 0.0000,  0.0000,  0.0000],\n",
       "        [ 0.0000,  0.0000,  0.0000],\n",
       "        [27.4327,  0.0000,  0.0000],\n",
       "        [19.6659,  0.0000,  0.0000],\n",
       "        [26.1582,  0.0000,  0.0000],\n",
       "        [26.2506,  0.0000,  0.0000],\n",
       "        [33.0835,  0.0000,  0.0000],\n",
       "        [25.9936,  0.0000,  0.0000],\n",
       "        [24.2227,  0.0000,  0.0000],\n",
       "        [27.4636,  0.0000,  0.0000],\n",
       "        [ 0.0000,  0.0000,  0.0000],\n",
       "        [ 0.0000,  0.0000,  0.0000],\n",
       "        [ 0.0000,  0.0000,  0.0000],\n",
       "        [ 0.0000,  0.0000,  0.0000],\n",
       "        [ 0.0000,  0.0000,  0.0000],\n",
       "        [ 0.0000,  0.0000,  0.0000],\n",
       "        [34.4816,  0.0000,  0.0000],\n",
       "        [29.3337, 17.3992,  0.0000],\n",
       "        [23.2231, 20.0906,  0.0000],\n",
       "        [23.0861, 15.9983,  0.0000],\n",
       "        [19.7156, 27.5603,  0.0000],\n",
       "        [41.5004, 31.3501,  0.0000],\n",
       "        [22.7810, 29.7548,  0.0000],\n",
       "        [ 0.0000,  0.0000,  0.0000],\n",
       "        [ 0.0000,  0.0000,  0.0000],\n",
       "        [ 0.0000,  0.0000,  0.0000],\n",
       "        [ 0.0000,  0.0000,  0.0000],\n",
       "        [ 0.0000,  0.0000,  0.0000],\n",
       "        [ 0.0000,  0.0000,  0.0000],\n",
       "        [ 0.0000,  0.0000,  0.0000],\n",
       "        [29.0398,  0.0000,  0.0000],\n",
       "        [31.0160,  0.0000,  0.0000],\n",
       "        [23.3832, 25.7194,  0.0000],\n",
       "        [21.1834, 27.4559,  0.0000],\n",
       "        [17.5673,  0.0000,  0.0000],\n",
       "        [19.9370,  0.0000,  0.0000],\n",
       "        [20.3802,  0.0000,  0.0000],\n",
       "        [26.0587,  0.0000,  0.0000],\n",
       "        [29.1157,  0.0000,  0.0000],\n",
       "        [ 0.0000,  0.0000,  0.0000],\n",
       "        [ 0.0000,  0.0000,  0.0000],\n",
       "        [ 0.0000,  0.0000,  0.0000],\n",
       "        [ 0.0000,  0.0000,  0.0000],\n",
       "        [ 0.0000,  0.0000,  0.0000],\n",
       "        [20.0798, 12.8236,  0.0000],\n",
       "        [31.4121, 32.8485,  0.0000],\n",
       "        [21.1072, 19.0297,  0.0000],\n",
       "        [28.7900, 26.2301,  0.0000],\n",
       "        [24.7137, 25.3011,  0.0000],\n",
       "        [15.8875, 27.4497,  0.0000],\n",
       "        [16.4090, 28.2275,  0.0000],\n",
       "        [14.1575, 23.2621,  0.0000],\n",
       "        [23.8549, 25.5903,  0.0000],\n",
       "        [ 0.0000,  0.0000,  0.0000],\n",
       "        [ 0.0000,  0.0000,  0.0000],\n",
       "        [ 0.0000,  0.0000,  0.0000],\n",
       "        [ 0.0000,  0.0000,  0.0000],\n",
       "        [ 0.0000,  0.0000,  0.0000],\n",
       "        [29.1843, 22.7811,  0.0000],\n",
       "        [15.6900, 20.2370,  0.0000],\n",
       "        [27.5897, 29.5676,  0.0000],\n",
       "        [27.9844, 20.0277,  0.0000],\n",
       "        [16.7842, 24.9190,  0.0000],\n",
       "        [27.6654, 30.3718,  0.0000],\n",
       "        [21.3125, 24.9390,  0.0000],\n",
       "        [23.2344, 22.5868,  0.0000],\n",
       "        [16.2892, 26.4448,  0.0000],\n",
       "        [18.6817, 21.2525,  0.0000],\n",
       "        [21.6950, 27.4635,  0.0000],\n",
       "        [25.6001, 23.6071,  0.0000],\n",
       "        [ 0.0000,  0.0000,  0.0000],\n",
       "        [ 0.0000,  0.0000,  0.0000],\n",
       "        [31.1771, 29.7757,  0.0000],\n",
       "        [20.6133,  0.0000,  0.0000],\n",
       "        [35.8903,  0.0000,  0.0000],\n",
       "        [25.4607, 28.6058,  0.0000],\n",
       "        [23.2869,  0.0000,  0.0000],\n",
       "        [31.0273,  0.0000,  0.0000],\n",
       "        [28.6873,  0.0000,  0.0000],\n",
       "        [28.0402,  0.0000,  0.0000],\n",
       "        [ 0.0000,  0.0000,  0.0000],\n",
       "        [ 0.0000,  0.0000,  0.0000],\n",
       "        [ 0.0000,  0.0000,  0.0000],\n",
       "        [ 0.0000,  0.0000,  0.0000],\n",
       "        [ 0.0000,  0.0000,  0.0000],\n",
       "        [ 0.0000,  0.0000,  0.0000]], dtype=torch.float64)"
      ]
     },
     "execution_count": 169,
     "metadata": {},
     "output_type": "execute_result"
    }
   ],
   "source": [
    "noise[1]"
   ]
  },
  {
   "cell_type": "code",
   "execution_count": 170,
   "id": "7fe24e20",
   "metadata": {},
   "outputs": [],
   "source": [
    "amount = 0.01"
   ]
  },
  {
   "cell_type": "code",
   "execution_count": 171,
   "id": "bc9ebbac",
   "metadata": {},
   "outputs": [],
   "source": [
    "amount = torch.linspace(0, 1, crds.shape[0])"
   ]
  },
  {
   "cell_type": "code",
   "execution_count": 172,
   "id": "618720a1",
   "metadata": {},
   "outputs": [
    {
     "data": {
      "text/plain": [
       "tensor([0., 1.])"
      ]
     },
     "execution_count": 172,
     "metadata": {},
     "output_type": "execute_result"
    }
   ],
   "source": [
    "amount"
   ]
  },
  {
   "cell_type": "code",
   "execution_count": 173,
   "id": "66756af6",
   "metadata": {},
   "outputs": [
    {
     "data": {
      "text/plain": [
       "2"
      ]
     },
     "execution_count": 173,
     "metadata": {},
     "output_type": "execute_result"
    }
   ],
   "source": [
    "crds.shape[0]"
   ]
  },
  {
   "cell_type": "code",
   "execution_count": 175,
   "id": "1011f637",
   "metadata": {},
   "outputs": [
    {
     "data": {
      "text/plain": [
       "torch.Size([2, 1, 1, 1])"
      ]
     },
     "execution_count": 175,
     "metadata": {},
     "output_type": "execute_result"
    }
   ],
   "source": [
    "amount.view(-1, 1, 1, 1).size()"
   ]
  },
  {
   "cell_type": "code",
   "execution_count": 195,
   "id": "3e27b956",
   "metadata": {},
   "outputs": [
    {
     "data": {
      "text/plain": [
       "tensor([[  0.0000,   0.0000,   0.0000],\n",
       "        [  0.0000,   0.0000,   0.0000],\n",
       "        [  0.0000,   0.0000,   0.0000],\n",
       "        [  0.0000,   0.0000,   0.0000],\n",
       "        [  0.0000,   0.0000,   0.0000],\n",
       "        [  0.0000,   0.0000,   0.0000],\n",
       "        [  0.0000,   0.0000,   0.0000],\n",
       "        [  0.0000,   0.0000,   0.0000],\n",
       "        [  0.0000,   0.0000,   0.0000],\n",
       "        [  0.0000,   0.0000,   0.0000],\n",
       "        [  0.0000,   0.0000,   0.0000],\n",
       "        [  0.0000,   0.0000,   0.0000],\n",
       "        [  0.0000,   0.0000,   0.0000],\n",
       "        [  0.0000,   0.0000,   0.0000],\n",
       "        [  0.0000,   0.0000,   0.0000],\n",
       "        [  0.0000,   0.0000,   0.0000],\n",
       "        [  0.0000,   0.0000,   0.0000],\n",
       "        [  0.0000,   0.0000,   0.0000],\n",
       "        [  0.0000,   0.0000,   0.0000],\n",
       "        [  0.0000,   0.0000,   0.0000],\n",
       "        [  0.0000,   0.0000,   0.0000],\n",
       "        [  0.0000,   0.0000,   0.0000],\n",
       "        [  0.0000,   0.0000,   0.0000],\n",
       "        [  0.0000,   0.0000,   0.0000],\n",
       "        [  0.0000,   0.0000,   0.0000],\n",
       "        [  0.0000,   0.0000,   0.0000],\n",
       "        [  0.0000,   0.0000,   0.0000],\n",
       "        [  0.0000,   0.0000,   0.0000],\n",
       "        [  0.0000,   0.0000,   0.0000],\n",
       "        [  0.0000,   0.0000,   0.0000],\n",
       "        [  0.0000,   0.0000,   0.0000],\n",
       "        [  0.0000,   0.0000,   0.0000],\n",
       "        [  0.0000,   0.0000,   0.0000],\n",
       "        [  0.0000,   0.0000,   0.0000],\n",
       "        [  0.0000,   0.0000,   0.0000],\n",
       "        [  0.0000,   0.0000,   0.0000],\n",
       "        [  0.0000,   0.0000,   0.0000],\n",
       "        [  0.0000,   0.0000,   0.0000],\n",
       "        [  0.0000,   0.0000,   0.0000],\n",
       "        [  0.0000,   0.0000,   0.0000],\n",
       "        [  0.0000,   0.0000,   0.0000],\n",
       "        [  0.0000,   0.0000,   0.0000],\n",
       "        [  0.0000,   0.0000,   0.0000],\n",
       "        [  0.0000,   0.0000,   0.0000],\n",
       "        [  0.0000,   0.0000,   0.0000],\n",
       "        [  0.0000,   0.0000,   0.0000],\n",
       "        [  0.0000,   0.0000,   0.0000],\n",
       "        [  0.0000,   0.0000,   0.0000],\n",
       "        [  0.0000,   0.0000,   0.0000],\n",
       "        [  0.0000,   0.0000,   0.0000],\n",
       "        [  0.0000,   0.0000,   0.0000],\n",
       "        [  0.0000,   0.0000,   0.0000],\n",
       "        [  0.0000,   0.0000,   0.0000],\n",
       "        [  0.0000,   0.0000,   0.0000],\n",
       "        [  0.0000,   0.0000,   0.0000],\n",
       "        [  0.0000,   0.0000,   0.0000],\n",
       "        [  0.0000,   0.0000,   0.0000],\n",
       "        [  0.0000,   0.0000,   0.0000],\n",
       "        [  0.0000,   0.0000,   0.0000],\n",
       "        [  0.0000,   0.0000,   0.0000],\n",
       "        [  0.0000,   0.0000,   0.0000],\n",
       "        [  0.0000,   0.0000,   0.0000],\n",
       "        [  0.0000,   0.0000,   0.0000],\n",
       "        [  0.0000,   0.0000,   0.0000],\n",
       "        [  0.0000,   0.0000,   0.0000],\n",
       "        [  0.0000,   0.0000,   0.0000],\n",
       "        [  0.0000,   0.0000,   0.0000],\n",
       "        [  0.0000,   0.0000,   0.0000],\n",
       "        [  0.0000,   0.0000,   0.0000],\n",
       "        [  0.0000,   0.0000,   0.0000],\n",
       "        [  0.0000,   0.0000,   0.0000],\n",
       "        [  0.0000,   0.0000,   0.0000],\n",
       "        [  0.0000,   0.0000,   0.0000],\n",
       "        [  0.0000,   0.0000,   0.0000],\n",
       "        [  0.0000,   0.0000,   0.0000],\n",
       "        [  0.0000,   0.0000,   0.0000],\n",
       "        [  0.0000,   0.0000,   0.0000],\n",
       "        [  0.0000,   0.0000,   0.0000],\n",
       "        [  0.0000,   0.0000,   0.0000],\n",
       "        [  0.0000,   0.0000,   0.0000],\n",
       "        [  0.0000,   0.0000,   0.0000],\n",
       "        [  0.0000,   0.0000,   0.0000],\n",
       "        [  0.0000,   0.0000,   0.0000],\n",
       "        [  0.0000,   0.0000,   0.0000],\n",
       "        [  0.0000,   0.0000,   0.0000],\n",
       "        [  0.0000,   0.0000,   0.0000],\n",
       "        [  0.0000,   0.0000,   0.0000],\n",
       "        [  0.0000,   0.0000,   0.0000],\n",
       "        [  0.0000,   0.0000,   0.0000],\n",
       "        [  0.0000,   0.0000,   0.0000],\n",
       "        [  0.0000,   0.0000,   0.0000],\n",
       "        [  0.0000,   0.0000,   0.0000],\n",
       "        [  0.0000,   0.0000,   0.0000],\n",
       "        [  0.0000,   0.0000,   0.0000],\n",
       "        [  0.0000,   0.0000,   0.0000],\n",
       "        [  0.0000,   0.0000,   0.0000],\n",
       "        [  0.0000,   0.0000,   0.0000],\n",
       "        [  0.0000,   0.0000,   0.0000],\n",
       "        [  0.0000,   0.0000,   0.0000],\n",
       "        [  0.0000,   0.0000,   0.0000],\n",
       "        [  0.0000,   0.0000,   0.0000],\n",
       "        [  0.0000,   0.0000,   0.0000],\n",
       "        [  0.0000,   0.0000,   0.0000],\n",
       "        [  0.0000,   0.0000,   0.0000],\n",
       "        [  0.0000,   0.0000,   0.0000],\n",
       "        [  0.0000,   0.0000,   0.0000],\n",
       "        [  0.0000,   0.0000,   0.0000],\n",
       "        [  0.0000,   0.0000,   0.0000],\n",
       "        [  0.0000,   0.0000,   0.0000],\n",
       "        [  0.0000,   0.0000,   0.0000],\n",
       "        [  0.0000,   0.0000,   0.0000],\n",
       "        [  0.0000,   0.0000,   0.0000],\n",
       "        [  0.0000,   0.0000,   0.0000],\n",
       "        [  0.0000,   0.0000,   0.0000],\n",
       "        [  0.0000,   0.0000,   0.0000],\n",
       "        [  0.0000,   0.0000,   0.0000],\n",
       "        [  0.0000,   0.0000,   0.0000],\n",
       "        [  0.0000,   0.0000,   0.0000],\n",
       "        [  0.0000,   0.0000,   0.0000],\n",
       "        [  0.0000,   0.0000,   0.0000],\n",
       "        [  0.0000,   0.0000,   0.0000],\n",
       "        [  0.0000,   0.0000,   0.0000],\n",
       "        [  0.0000,   0.0000,   0.0000],\n",
       "        [  0.0000,   0.0000,   0.0000],\n",
       "        [  0.0000,   0.0000,   0.0000],\n",
       "        [  0.0000,   0.0000,   0.0000],\n",
       "        [  9.1920,  64.2680,   3.3370],\n",
       "        [ 10.0050,  64.7540,   2.1820],\n",
       "        [  9.9800,  63.6780,   1.0680],\n",
       "        [  9.4220,  62.6010,   1.2670],\n",
       "        [ 11.4280,  65.0700,   2.6870],\n",
       "        [ 12.3400,  65.8630,   1.7450],\n",
       "        [ 12.0780,  66.2460,   0.4450],\n",
       "        [ 13.1990,  66.8160,  -0.1220],\n",
       "        [ 14.2060,  66.8290,   0.8060],\n",
       "        [ 15.5160,  67.3040,   0.7030],\n",
       "        [ 16.3170,  67.1960,   1.8120],\n",
       "        [ 15.8440,  66.6310,   3.0130],\n",
       "        [ 14.5450,  66.1570,   3.1180],\n",
       "        [ 13.7010,  66.2500,   2.0000],\n",
       "        [ 10.4980,  63.9990,  -0.1190],\n",
       "        [ 10.5270,  63.0540,  -1.2470],\n",
       "        [ 11.9230,  62.8670,  -1.8760],\n",
       "        [ 12.9590,  63.1150,  -1.2480],\n",
       "        [  9.5600,  63.5110,  -2.3470],\n",
       "        [ 10.0530,  64.6440,  -3.2600],\n",
       "        [  9.2350,  64.6880,  -4.5400],\n",
       "        [ 10.0250,  65.9760,  -2.5330],\n",
       "        [  0.0000,   0.0000,   0.0000],\n",
       "        [  0.0000,   0.0000,   0.0000],\n",
       "        [  0.0000,   0.0000,   0.0000],\n",
       "        [  0.0000,   0.0000,   0.0000],\n",
       "        [  0.0000,   0.0000,   0.0000],\n",
       "        [  0.0000,   0.0000,   0.0000],\n",
       "        [ 11.9330,  62.3970,  -3.1190],\n",
       "        [ 13.1700,  62.1960,  -3.8540],\n",
       "        [ 13.3270,  63.3330,  -4.8620],\n",
       "        [ 12.3410,  63.8710,  -5.3730],\n",
       "        [ 13.1600,  60.8410,  -4.5590],\n",
       "        [ 14.5210,  60.4570,  -5.1070],\n",
       "        [ 15.0780,  61.2080,  -5.9300],\n",
       "        [ 15.0360,  59.3880,  -4.7290],\n",
       "        [  0.0000,   0.0000,   0.0000],\n",
       "        [  0.0000,   0.0000,   0.0000],\n",
       "        [  0.0000,   0.0000,   0.0000],\n",
       "        [  0.0000,   0.0000,   0.0000],\n",
       "        [  0.0000,   0.0000,   0.0000],\n",
       "        [  0.0000,   0.0000,   0.0000],\n",
       "        [ 14.5730,  63.6250,  -5.2110],\n",
       "        [ 14.8940,  64.7260,  -6.1130],\n",
       "        [ 16.2100,  64.5090,  -6.9120],\n",
       "        [ 17.0660,  63.7270,  -6.4870],\n",
       "        [ 15.0310,  65.9650,  -5.2130],\n",
       "        [ 15.4200,  67.3410,  -5.7340],\n",
       "        [ 14.3060,  67.7890,  -6.6420],\n",
       "        [ 15.6320,  68.3370,  -4.5770],\n",
       "        [  0.0000,   0.0000,   0.0000],\n",
       "        [  0.0000,   0.0000,   0.0000],\n",
       "        [  0.0000,   0.0000,   0.0000],\n",
       "        [  0.0000,   0.0000,   0.0000],\n",
       "        [  0.0000,   0.0000,   0.0000],\n",
       "        [  0.0000,   0.0000,   0.0000],\n",
       "        [ 16.3420,  65.1450,  -8.0830],\n",
       "        [ 17.5860,  65.0960,  -8.8890],\n",
       "        [ 17.7800,  66.3900,  -9.6920],\n",
       "        [ 16.7950,  66.8630, -10.2970],\n",
       "        [ 17.6770,  63.8950,  -9.8520],\n",
       "        [ 19.0770,  63.8170, -10.5390],\n",
       "        [ 19.1590,  62.8800, -11.7410],\n",
       "        [ 18.3380,  61.9500, -11.8410],\n",
       "        [ 20.0600,  63.0720, -12.5890],\n",
       "        [  0.0000,   0.0000,   0.0000],\n",
       "        [  0.0000,   0.0000,   0.0000],\n",
       "        [  0.0000,   0.0000,   0.0000],\n",
       "        [  0.0000,   0.0000,   0.0000],\n",
       "        [  0.0000,   0.0000,   0.0000],\n",
       "        [  0.0000,   0.0000,   0.0000],\n",
       "        [  0.0000,   0.0000,   0.0000],\n",
       "        [  0.0000,   0.0000,   0.0000],\n",
       "        [  0.0000,   0.0000,   0.0000],\n",
       "        [  0.0000,   0.0000,   0.0000],\n",
       "        [  0.0000,   0.0000,   0.0000],\n",
       "        [  0.0000,   0.0000,   0.0000],\n",
       "        [  0.0000,   0.0000,   0.0000],\n",
       "        [  0.0000,   0.0000,   0.0000],\n",
       "        [  0.0000,   0.0000,   0.0000],\n",
       "        [  0.0000,   0.0000,   0.0000],\n",
       "        [  0.0000,   0.0000,   0.0000],\n",
       "        [  0.0000,   0.0000,   0.0000],\n",
       "        [  0.0000,   0.0000,   0.0000],\n",
       "        [  0.0000,   0.0000,   0.0000],\n",
       "        [  0.0000,   0.0000,   0.0000],\n",
       "        [  0.0000,   0.0000,   0.0000],\n",
       "        [  0.0000,   0.0000,   0.0000],\n",
       "        [  0.0000,   0.0000,   0.0000],\n",
       "        [  0.0000,   0.0000,   0.0000],\n",
       "        [  0.0000,   0.0000,   0.0000],\n",
       "        [  0.0000,   0.0000,   0.0000],\n",
       "        [  0.0000,   0.0000,   0.0000],\n",
       "        [  0.0000,   0.0000,   0.0000],\n",
       "        [  0.0000,   0.0000,   0.0000],\n",
       "        [  0.0000,   0.0000,   0.0000],\n",
       "        [  0.0000,   0.0000,   0.0000],\n",
       "        [  0.0000,   0.0000,   0.0000],\n",
       "        [  0.0000,   0.0000,   0.0000],\n",
       "        [  0.0000,   0.0000,   0.0000],\n",
       "        [  0.0000,   0.0000,   0.0000],\n",
       "        [  0.0000,   0.0000,   0.0000],\n",
       "        [  0.0000,   0.0000,   0.0000],\n",
       "        [  0.0000,   0.0000,   0.0000],\n",
       "        [  0.0000,   0.0000,   0.0000],\n",
       "        [  0.0000,   0.0000,   0.0000],\n",
       "        [  0.0000,   0.0000,   0.0000],\n",
       "        [  0.0000,   0.0000,   0.0000],\n",
       "        [  0.0000,   0.0000,   0.0000],\n",
       "        [  0.0000,   0.0000,   0.0000],\n",
       "        [  0.0000,   0.0000,   0.0000],\n",
       "        [  0.0000,   0.0000,   0.0000],\n",
       "        [  0.0000,   0.0000,   0.0000],\n",
       "        [  0.0000,   0.0000,   0.0000],\n",
       "        [  0.0000,   0.0000,   0.0000],\n",
       "        [  0.0000,   0.0000,   0.0000],\n",
       "        [  0.0000,   0.0000,   0.0000],\n",
       "        [  0.0000,   0.0000,   0.0000],\n",
       "        [  0.0000,   0.0000,   0.0000],\n",
       "        [  0.0000,   0.0000,   0.0000],\n",
       "        [  0.0000,   0.0000,   0.0000],\n",
       "        [  0.0000,   0.0000,   0.0000],\n",
       "        [  0.0000,   0.0000,   0.0000],\n",
       "        [  0.0000,   0.0000,   0.0000],\n",
       "        [  0.0000,   0.0000,   0.0000],\n",
       "        [  0.0000,   0.0000,   0.0000],\n",
       "        [  0.0000,   0.0000,   0.0000],\n",
       "        [  0.0000,   0.0000,   0.0000],\n",
       "        [  0.0000,   0.0000,   0.0000],\n",
       "        [  0.0000,   0.0000,   0.0000],\n",
       "        [  0.0000,   0.0000,   0.0000],\n",
       "        [  0.0000,   0.0000,   0.0000],\n",
       "        [  0.0000,   0.0000,   0.0000],\n",
       "        [  0.0000,   0.0000,   0.0000],\n",
       "        [  0.0000,   0.0000,   0.0000],\n",
       "        [  0.0000,   0.0000,   0.0000],\n",
       "        [  0.0000,   0.0000,   0.0000],\n",
       "        [  0.0000,   0.0000,   0.0000],\n",
       "        [  0.0000,   0.0000,   0.0000],\n",
       "        [  0.0000,   0.0000,   0.0000],\n",
       "        [  0.0000,   0.0000,   0.0000],\n",
       "        [  0.0000,   0.0000,   0.0000],\n",
       "        [  0.0000,   0.0000,   0.0000],\n",
       "        [  0.0000,   0.0000,   0.0000],\n",
       "        [  0.0000,   0.0000,   0.0000],\n",
       "        [  0.0000,   0.0000,   0.0000],\n",
       "        [  0.0000,   0.0000,   0.0000],\n",
       "        [  0.0000,   0.0000,   0.0000],\n",
       "        [  0.0000,   0.0000,   0.0000],\n",
       "        [  0.0000,   0.0000,   0.0000],\n",
       "        [  0.0000,   0.0000,   0.0000],\n",
       "        [  0.0000,   0.0000,   0.0000],\n",
       "        [  0.0000,   0.0000,   0.0000],\n",
       "        [  0.0000,   0.0000,   0.0000]], dtype=torch.float64)"
      ]
     },
     "execution_count": 195,
     "metadata": {},
     "output_type": "execute_result"
    }
   ],
   "source": [
    "crds[0]"
   ]
  },
  {
   "cell_type": "code",
   "execution_count": 176,
   "id": "33ec4cbf",
   "metadata": {},
   "outputs": [
    {
     "data": {
      "text/plain": [
       "torch.Size([2, 280, 3])"
      ]
     },
     "execution_count": 176,
     "metadata": {},
     "output_type": "execute_result"
    }
   ],
   "source": [
    "crds.shape"
   ]
  },
  {
   "cell_type": "code",
   "execution_count": 197,
   "id": "9b5d9b67",
   "metadata": {},
   "outputs": [
    {
     "data": {
      "text/plain": [
       "tensor([[ 2.3467, 10.8226, -0.6109],\n",
       "        [ 5.0431, -2.3180,  0.3852]], dtype=torch.float64)"
      ]
     },
     "execution_count": 197,
     "metadata": {},
     "output_type": "execute_result"
    }
   ],
   "source": [
    "crds.mean(dim=-2)"
   ]
  },
  {
   "cell_type": "code",
   "execution_count": 208,
   "id": "dd277a46",
   "metadata": {},
   "outputs": [],
   "source": [
    "masks = crds != 0"
   ]
  },
  {
   "cell_type": "code",
   "execution_count": 213,
   "id": "872063d5",
   "metadata": {},
   "outputs": [
    {
     "data": {
      "text/plain": [
       "tensor([[13.9801, 64.4752, -3.6394],\n",
       "        [11.9667, -5.5004,  0.9142]], dtype=torch.float64)"
      ]
     },
     "execution_count": 213,
     "metadata": {},
     "output_type": "execute_result"
    }
   ],
   "source": [
    "(masks * crds).sum(dim=1) / masks.sum(dim=1)"
   ]
  },
  {
   "cell_type": "code",
   "execution_count": 216,
   "id": "796ed6c8",
   "metadata": {},
   "outputs": [],
   "source": [
    "mask = crds[0] != 0"
   ]
  },
  {
   "cell_type": "code",
   "execution_count": 227,
   "id": "0d21e11e",
   "metadata": {},
   "outputs": [],
   "source": [
    "crd_mean = (mask * crds[0]).sum(dim=0) / mask.sum(dim=0)"
   ]
  },
  {
   "cell_type": "code",
   "execution_count": 230,
   "id": "09ea34e1",
   "metadata": {},
   "outputs": [
    {
     "data": {
      "text/plain": [
       "tensor([[ 0.0000,  0.0000,  0.0000],\n",
       "        [ 0.0000,  0.0000,  0.0000],\n",
       "        [ 0.0000,  0.0000,  0.0000],\n",
       "        [ 0.0000,  0.0000,  0.0000],\n",
       "        [ 0.0000,  0.0000,  0.0000],\n",
       "        [ 0.0000,  0.0000,  0.0000],\n",
       "        [ 0.0000,  0.0000,  0.0000],\n",
       "        [ 0.0000,  0.0000,  0.0000],\n",
       "        [ 0.0000,  0.0000,  0.0000],\n",
       "        [ 0.0000,  0.0000,  0.0000],\n",
       "        [ 0.0000,  0.0000,  0.0000],\n",
       "        [ 0.0000,  0.0000,  0.0000],\n",
       "        [ 0.0000,  0.0000,  0.0000],\n",
       "        [ 0.0000,  0.0000,  0.0000],\n",
       "        [ 0.0000,  0.0000,  0.0000],\n",
       "        [ 0.0000,  0.0000,  0.0000],\n",
       "        [ 0.0000,  0.0000,  0.0000],\n",
       "        [ 0.0000,  0.0000,  0.0000],\n",
       "        [ 0.0000,  0.0000,  0.0000],\n",
       "        [ 0.0000,  0.0000,  0.0000],\n",
       "        [ 0.0000,  0.0000,  0.0000],\n",
       "        [ 0.0000,  0.0000,  0.0000],\n",
       "        [ 0.0000,  0.0000,  0.0000],\n",
       "        [ 0.0000,  0.0000,  0.0000],\n",
       "        [ 0.0000,  0.0000,  0.0000],\n",
       "        [ 0.0000,  0.0000,  0.0000],\n",
       "        [ 0.0000,  0.0000,  0.0000],\n",
       "        [ 0.0000,  0.0000,  0.0000],\n",
       "        [ 0.0000,  0.0000,  0.0000],\n",
       "        [ 0.0000,  0.0000,  0.0000],\n",
       "        [ 0.0000,  0.0000,  0.0000],\n",
       "        [ 0.0000,  0.0000,  0.0000],\n",
       "        [ 0.0000,  0.0000,  0.0000],\n",
       "        [ 0.0000,  0.0000,  0.0000],\n",
       "        [ 0.0000,  0.0000,  0.0000],\n",
       "        [ 0.0000,  0.0000,  0.0000],\n",
       "        [ 0.0000,  0.0000,  0.0000],\n",
       "        [ 0.0000,  0.0000,  0.0000],\n",
       "        [ 0.0000,  0.0000,  0.0000],\n",
       "        [ 0.0000,  0.0000,  0.0000],\n",
       "        [ 0.0000,  0.0000,  0.0000],\n",
       "        [ 0.0000,  0.0000,  0.0000],\n",
       "        [ 0.0000,  0.0000,  0.0000],\n",
       "        [ 0.0000,  0.0000,  0.0000],\n",
       "        [ 0.0000,  0.0000,  0.0000],\n",
       "        [ 0.0000,  0.0000,  0.0000],\n",
       "        [ 0.0000,  0.0000,  0.0000],\n",
       "        [ 0.0000,  0.0000,  0.0000],\n",
       "        [ 0.0000,  0.0000,  0.0000],\n",
       "        [ 0.0000,  0.0000,  0.0000],\n",
       "        [ 0.0000,  0.0000,  0.0000],\n",
       "        [ 0.0000,  0.0000,  0.0000],\n",
       "        [ 0.0000,  0.0000,  0.0000],\n",
       "        [ 0.0000,  0.0000,  0.0000],\n",
       "        [ 0.0000,  0.0000,  0.0000],\n",
       "        [ 0.0000,  0.0000,  0.0000],\n",
       "        [ 0.0000,  0.0000,  0.0000],\n",
       "        [ 0.0000,  0.0000,  0.0000],\n",
       "        [ 0.0000,  0.0000,  0.0000],\n",
       "        [ 0.0000,  0.0000,  0.0000],\n",
       "        [ 0.0000,  0.0000,  0.0000],\n",
       "        [ 0.0000,  0.0000,  0.0000],\n",
       "        [ 0.0000,  0.0000,  0.0000],\n",
       "        [ 0.0000,  0.0000,  0.0000],\n",
       "        [ 0.0000,  0.0000,  0.0000],\n",
       "        [ 0.0000,  0.0000,  0.0000],\n",
       "        [ 0.0000,  0.0000,  0.0000],\n",
       "        [ 0.0000,  0.0000,  0.0000],\n",
       "        [ 0.0000,  0.0000,  0.0000],\n",
       "        [ 0.0000,  0.0000,  0.0000],\n",
       "        [ 0.0000,  0.0000,  0.0000],\n",
       "        [ 0.0000,  0.0000,  0.0000],\n",
       "        [ 0.0000,  0.0000,  0.0000],\n",
       "        [ 0.0000,  0.0000,  0.0000],\n",
       "        [ 0.0000,  0.0000,  0.0000],\n",
       "        [ 0.0000,  0.0000,  0.0000],\n",
       "        [ 0.0000,  0.0000,  0.0000],\n",
       "        [ 0.0000,  0.0000,  0.0000],\n",
       "        [ 0.0000,  0.0000,  0.0000],\n",
       "        [ 0.0000,  0.0000,  0.0000],\n",
       "        [ 0.0000,  0.0000,  0.0000],\n",
       "        [ 0.0000,  0.0000,  0.0000],\n",
       "        [ 0.0000,  0.0000,  0.0000],\n",
       "        [ 0.0000,  0.0000,  0.0000],\n",
       "        [ 0.0000,  0.0000,  0.0000],\n",
       "        [ 0.0000,  0.0000,  0.0000],\n",
       "        [ 0.0000,  0.0000,  0.0000],\n",
       "        [ 0.0000,  0.0000,  0.0000],\n",
       "        [ 0.0000,  0.0000,  0.0000],\n",
       "        [ 0.0000,  0.0000,  0.0000],\n",
       "        [ 0.0000,  0.0000,  0.0000],\n",
       "        [ 0.0000,  0.0000,  0.0000],\n",
       "        [ 0.0000,  0.0000,  0.0000],\n",
       "        [ 0.0000,  0.0000,  0.0000],\n",
       "        [ 0.0000,  0.0000,  0.0000],\n",
       "        [ 0.0000,  0.0000,  0.0000],\n",
       "        [ 0.0000,  0.0000,  0.0000],\n",
       "        [ 0.0000,  0.0000,  0.0000],\n",
       "        [ 0.0000,  0.0000,  0.0000],\n",
       "        [ 0.0000,  0.0000,  0.0000],\n",
       "        [ 0.0000,  0.0000,  0.0000],\n",
       "        [ 0.0000,  0.0000,  0.0000],\n",
       "        [ 0.0000,  0.0000,  0.0000],\n",
       "        [ 0.0000,  0.0000,  0.0000],\n",
       "        [ 0.0000,  0.0000,  0.0000],\n",
       "        [ 0.0000,  0.0000,  0.0000],\n",
       "        [ 0.0000,  0.0000,  0.0000],\n",
       "        [ 0.0000,  0.0000,  0.0000],\n",
       "        [ 0.0000,  0.0000,  0.0000],\n",
       "        [ 0.0000,  0.0000,  0.0000],\n",
       "        [ 0.0000,  0.0000,  0.0000],\n",
       "        [ 0.0000,  0.0000,  0.0000],\n",
       "        [ 0.0000,  0.0000,  0.0000],\n",
       "        [ 0.0000,  0.0000,  0.0000],\n",
       "        [ 0.0000,  0.0000,  0.0000],\n",
       "        [ 0.0000,  0.0000,  0.0000],\n",
       "        [ 0.0000,  0.0000,  0.0000],\n",
       "        [ 0.0000,  0.0000,  0.0000],\n",
       "        [ 0.0000,  0.0000,  0.0000],\n",
       "        [ 0.0000,  0.0000,  0.0000],\n",
       "        [ 0.0000,  0.0000,  0.0000],\n",
       "        [ 0.0000,  0.0000,  0.0000],\n",
       "        [ 0.0000,  0.0000,  0.0000],\n",
       "        [ 0.0000,  0.0000,  0.0000],\n",
       "        [ 0.0000,  0.0000,  0.0000],\n",
       "        [ 0.0000,  0.0000,  0.0000],\n",
       "        [-4.7881, -0.2072,  6.9764],\n",
       "        [-3.9751,  0.2788,  5.8214],\n",
       "        [-4.0001, -0.7972,  4.7074],\n",
       "        [-4.5581, -1.8742,  4.9064],\n",
       "        [-2.5521,  0.5948,  6.3264],\n",
       "        [-1.6401,  1.3878,  5.3844],\n",
       "        [-1.9021,  1.7708,  4.0844],\n",
       "        [-0.7811,  2.3408,  3.5174],\n",
       "        [ 0.2259,  2.3538,  4.4454],\n",
       "        [ 1.5359,  2.8288,  4.3424],\n",
       "        [ 2.3369,  2.7208,  5.4514],\n",
       "        [ 1.8639,  2.1558,  6.6524],\n",
       "        [ 0.5649,  1.6818,  6.7574],\n",
       "        [-0.2791,  1.7748,  5.6394],\n",
       "        [-3.4821, -0.4762,  3.5204],\n",
       "        [-3.4531, -1.4212,  2.3924],\n",
       "        [-2.0571, -1.6082,  1.7634],\n",
       "        [-1.0211, -1.3602,  2.3914],\n",
       "        [-4.4201, -0.9642,  1.2924],\n",
       "        [-3.9271,  0.1688,  0.3794],\n",
       "        [-4.7451,  0.2128, -0.9006],\n",
       "        [-3.9551,  1.5008,  1.1064],\n",
       "        [ 0.0000,  0.0000,  0.0000],\n",
       "        [ 0.0000,  0.0000,  0.0000],\n",
       "        [ 0.0000,  0.0000,  0.0000],\n",
       "        [ 0.0000,  0.0000,  0.0000],\n",
       "        [ 0.0000,  0.0000,  0.0000],\n",
       "        [ 0.0000,  0.0000,  0.0000],\n",
       "        [-2.0471, -2.0782,  0.5204],\n",
       "        [-0.8101, -2.2792, -0.2146],\n",
       "        [-0.6531, -1.1422, -1.2226],\n",
       "        [-1.6391, -0.6042, -1.7336],\n",
       "        [-0.8201, -3.6342, -0.9196],\n",
       "        [ 0.5409, -4.0182, -1.4676],\n",
       "        [ 1.0979, -3.2672, -2.2906],\n",
       "        [ 1.0559, -5.0872, -1.0896],\n",
       "        [ 0.0000,  0.0000,  0.0000],\n",
       "        [ 0.0000,  0.0000,  0.0000],\n",
       "        [ 0.0000,  0.0000,  0.0000],\n",
       "        [ 0.0000,  0.0000,  0.0000],\n",
       "        [ 0.0000,  0.0000,  0.0000],\n",
       "        [ 0.0000,  0.0000,  0.0000],\n",
       "        [ 0.5929, -0.8502, -1.5716],\n",
       "        [ 0.9139,  0.2508, -2.4736],\n",
       "        [ 2.2299,  0.0338, -3.2726],\n",
       "        [ 3.0859, -0.7482, -2.8476],\n",
       "        [ 1.0509,  1.4898, -1.5736],\n",
       "        [ 1.4399,  2.8658, -2.0946],\n",
       "        [ 0.3259,  3.3138, -3.0026],\n",
       "        [ 1.6519,  3.8618, -0.9376],\n",
       "        [ 0.0000,  0.0000,  0.0000],\n",
       "        [ 0.0000,  0.0000,  0.0000],\n",
       "        [ 0.0000,  0.0000,  0.0000],\n",
       "        [ 0.0000,  0.0000,  0.0000],\n",
       "        [ 0.0000,  0.0000,  0.0000],\n",
       "        [ 0.0000,  0.0000,  0.0000],\n",
       "        [ 2.3619,  0.6698, -4.4436],\n",
       "        [ 3.6059,  0.6208, -5.2496],\n",
       "        [ 3.7999,  1.9148, -6.0526],\n",
       "        [ 2.8149,  2.3878, -6.6576],\n",
       "        [ 3.6969, -0.5802, -6.2126],\n",
       "        [ 5.0969, -0.6582, -6.8996],\n",
       "        [ 5.1789, -1.5952, -8.1016],\n",
       "        [ 4.3579, -2.5252, -8.2016],\n",
       "        [ 6.0799, -1.4032, -8.9496],\n",
       "        [ 0.0000,  0.0000,  0.0000],\n",
       "        [ 0.0000,  0.0000,  0.0000],\n",
       "        [ 0.0000,  0.0000,  0.0000],\n",
       "        [ 0.0000,  0.0000,  0.0000],\n",
       "        [ 0.0000,  0.0000,  0.0000],\n",
       "        [ 0.0000,  0.0000,  0.0000],\n",
       "        [ 0.0000,  0.0000,  0.0000],\n",
       "        [ 0.0000,  0.0000,  0.0000],\n",
       "        [ 0.0000,  0.0000,  0.0000],\n",
       "        [ 0.0000,  0.0000,  0.0000],\n",
       "        [ 0.0000,  0.0000,  0.0000],\n",
       "        [ 0.0000,  0.0000,  0.0000],\n",
       "        [ 0.0000,  0.0000,  0.0000],\n",
       "        [ 0.0000,  0.0000,  0.0000],\n",
       "        [ 0.0000,  0.0000,  0.0000],\n",
       "        [ 0.0000,  0.0000,  0.0000],\n",
       "        [ 0.0000,  0.0000,  0.0000],\n",
       "        [ 0.0000,  0.0000,  0.0000],\n",
       "        [ 0.0000,  0.0000,  0.0000],\n",
       "        [ 0.0000,  0.0000,  0.0000],\n",
       "        [ 0.0000,  0.0000,  0.0000],\n",
       "        [ 0.0000,  0.0000,  0.0000],\n",
       "        [ 0.0000,  0.0000,  0.0000],\n",
       "        [ 0.0000,  0.0000,  0.0000],\n",
       "        [ 0.0000,  0.0000,  0.0000],\n",
       "        [ 0.0000,  0.0000,  0.0000],\n",
       "        [ 0.0000,  0.0000,  0.0000],\n",
       "        [ 0.0000,  0.0000,  0.0000],\n",
       "        [ 0.0000,  0.0000,  0.0000],\n",
       "        [ 0.0000,  0.0000,  0.0000],\n",
       "        [ 0.0000,  0.0000,  0.0000],\n",
       "        [ 0.0000,  0.0000,  0.0000],\n",
       "        [ 0.0000,  0.0000,  0.0000],\n",
       "        [ 0.0000,  0.0000,  0.0000],\n",
       "        [ 0.0000,  0.0000,  0.0000],\n",
       "        [ 0.0000,  0.0000,  0.0000],\n",
       "        [ 0.0000,  0.0000,  0.0000],\n",
       "        [ 0.0000,  0.0000,  0.0000],\n",
       "        [ 0.0000,  0.0000,  0.0000],\n",
       "        [ 0.0000,  0.0000,  0.0000],\n",
       "        [ 0.0000,  0.0000,  0.0000],\n",
       "        [ 0.0000,  0.0000,  0.0000],\n",
       "        [ 0.0000,  0.0000,  0.0000],\n",
       "        [ 0.0000,  0.0000,  0.0000],\n",
       "        [ 0.0000,  0.0000,  0.0000],\n",
       "        [ 0.0000,  0.0000,  0.0000],\n",
       "        [ 0.0000,  0.0000,  0.0000],\n",
       "        [ 0.0000,  0.0000,  0.0000],\n",
       "        [ 0.0000,  0.0000,  0.0000],\n",
       "        [ 0.0000,  0.0000,  0.0000],\n",
       "        [ 0.0000,  0.0000,  0.0000],\n",
       "        [ 0.0000,  0.0000,  0.0000],\n",
       "        [ 0.0000,  0.0000,  0.0000],\n",
       "        [ 0.0000,  0.0000,  0.0000],\n",
       "        [ 0.0000,  0.0000,  0.0000],\n",
       "        [ 0.0000,  0.0000,  0.0000],\n",
       "        [ 0.0000,  0.0000,  0.0000],\n",
       "        [ 0.0000,  0.0000,  0.0000],\n",
       "        [ 0.0000,  0.0000,  0.0000],\n",
       "        [ 0.0000,  0.0000,  0.0000],\n",
       "        [ 0.0000,  0.0000,  0.0000],\n",
       "        [ 0.0000,  0.0000,  0.0000],\n",
       "        [ 0.0000,  0.0000,  0.0000],\n",
       "        [ 0.0000,  0.0000,  0.0000],\n",
       "        [ 0.0000,  0.0000,  0.0000],\n",
       "        [ 0.0000,  0.0000,  0.0000],\n",
       "        [ 0.0000,  0.0000,  0.0000],\n",
       "        [ 0.0000,  0.0000,  0.0000],\n",
       "        [ 0.0000,  0.0000,  0.0000],\n",
       "        [ 0.0000,  0.0000,  0.0000],\n",
       "        [ 0.0000,  0.0000,  0.0000],\n",
       "        [ 0.0000,  0.0000,  0.0000],\n",
       "        [ 0.0000,  0.0000,  0.0000],\n",
       "        [ 0.0000,  0.0000,  0.0000],\n",
       "        [ 0.0000,  0.0000,  0.0000],\n",
       "        [ 0.0000,  0.0000,  0.0000],\n",
       "        [ 0.0000,  0.0000,  0.0000],\n",
       "        [ 0.0000,  0.0000,  0.0000],\n",
       "        [ 0.0000,  0.0000,  0.0000],\n",
       "        [ 0.0000,  0.0000,  0.0000],\n",
       "        [ 0.0000,  0.0000,  0.0000],\n",
       "        [ 0.0000,  0.0000,  0.0000],\n",
       "        [ 0.0000,  0.0000,  0.0000],\n",
       "        [ 0.0000,  0.0000,  0.0000],\n",
       "        [ 0.0000,  0.0000,  0.0000],\n",
       "        [ 0.0000,  0.0000,  0.0000],\n",
       "        [ 0.0000,  0.0000,  0.0000],\n",
       "        [ 0.0000,  0.0000,  0.0000],\n",
       "        [ 0.0000,  0.0000,  0.0000]], dtype=torch.float64)"
      ]
     },
     "execution_count": 230,
     "metadata": {},
     "output_type": "execute_result"
    }
   ],
   "source": [
    "crds[0] - mask * crd_mean"
   ]
  },
  {
   "cell_type": "code",
   "execution_count": 224,
   "id": "a7213c18",
   "metadata": {},
   "outputs": [
    {
     "data": {
      "text/plain": [
       "torch.Size([280, 3])"
      ]
     },
     "execution_count": 224,
     "metadata": {},
     "output_type": "execute_result"
    }
   ],
   "source": [
    "crds[0].size()"
   ]
  },
  {
   "cell_type": "code",
   "execution_count": 225,
   "id": "af97b1c3",
   "metadata": {},
   "outputs": [
    {
     "data": {
      "text/plain": [
       "3"
      ]
     },
     "execution_count": 225,
     "metadata": {},
     "output_type": "execute_result"
    }
   ],
   "source": [
    "crds[0].size(-1)"
   ]
  },
  {
   "cell_type": "code",
   "execution_count": 231,
   "id": "abbe3960",
   "metadata": {},
   "outputs": [],
   "source": [
    "coords_std = torch.sqrt(torch.sum((crds[0] - crd_mean * mask) ** 2, dim=0) / mask.sum(dim=0))"
   ]
  },
  {
   "cell_type": "code",
   "execution_count": 232,
   "id": "b538228b",
   "metadata": {},
   "outputs": [
    {
     "data": {
      "text/plain": [
       "tensor([2.9152, 2.0280, 4.4569], dtype=torch.float64)"
      ]
     },
     "execution_count": 232,
     "metadata": {},
     "output_type": "execute_result"
    }
   ],
   "source": [
    "coords_std"
   ]
  },
  {
   "cell_type": "code",
   "execution_count": 234,
   "id": "1eb48cc6",
   "metadata": {},
   "outputs": [
    {
     "data": {
      "text/plain": [
       "tensor([13.9801, 64.4752, -3.6394], dtype=torch.float64)"
      ]
     },
     "execution_count": 234,
     "metadata": {},
     "output_type": "execute_result"
    }
   ],
   "source": [
    "crd_mean"
   ]
  },
  {
   "cell_type": "code",
   "execution_count": 235,
   "id": "7967558d",
   "metadata": {},
   "outputs": [
    {
     "data": {
      "text/plain": [
       "tensor([[ 0.0000,  0.0000,  0.0000],\n",
       "        [ 0.0000,  0.0000,  0.0000],\n",
       "        [ 0.0000,  0.0000,  0.0000],\n",
       "        [ 0.0000,  0.0000,  0.0000],\n",
       "        [ 0.0000,  0.0000,  0.0000],\n",
       "        [ 0.0000,  0.0000,  0.0000],\n",
       "        [ 0.0000,  0.0000,  0.0000],\n",
       "        [ 0.0000,  0.0000,  0.0000],\n",
       "        [ 0.0000,  0.0000,  0.0000],\n",
       "        [ 0.0000,  0.0000,  0.0000],\n",
       "        [ 0.0000,  0.0000,  0.0000],\n",
       "        [ 0.0000,  0.0000,  0.0000],\n",
       "        [ 0.0000,  0.0000,  0.0000],\n",
       "        [ 0.0000,  0.0000,  0.0000],\n",
       "        [ 0.0000,  0.0000,  0.0000],\n",
       "        [ 0.0000,  0.0000,  0.0000],\n",
       "        [ 0.0000,  0.0000,  0.0000],\n",
       "        [ 0.0000,  0.0000,  0.0000],\n",
       "        [ 0.0000,  0.0000,  0.0000],\n",
       "        [ 0.0000,  0.0000,  0.0000],\n",
       "        [ 0.0000,  0.0000,  0.0000],\n",
       "        [ 0.0000,  0.0000,  0.0000],\n",
       "        [ 0.0000,  0.0000,  0.0000],\n",
       "        [ 0.0000,  0.0000,  0.0000],\n",
       "        [ 0.0000,  0.0000,  0.0000],\n",
       "        [ 0.0000,  0.0000,  0.0000],\n",
       "        [ 0.0000,  0.0000,  0.0000],\n",
       "        [ 0.0000,  0.0000,  0.0000],\n",
       "        [ 0.0000,  0.0000,  0.0000],\n",
       "        [ 0.0000,  0.0000,  0.0000],\n",
       "        [ 0.0000,  0.0000,  0.0000],\n",
       "        [ 0.0000,  0.0000,  0.0000],\n",
       "        [ 0.0000,  0.0000,  0.0000],\n",
       "        [ 0.0000,  0.0000,  0.0000],\n",
       "        [ 0.0000,  0.0000,  0.0000],\n",
       "        [ 0.0000,  0.0000,  0.0000],\n",
       "        [ 0.0000,  0.0000,  0.0000],\n",
       "        [ 0.0000,  0.0000,  0.0000],\n",
       "        [ 0.0000,  0.0000,  0.0000],\n",
       "        [ 0.0000,  0.0000,  0.0000],\n",
       "        [ 0.0000,  0.0000,  0.0000],\n",
       "        [ 0.0000,  0.0000,  0.0000],\n",
       "        [ 0.0000,  0.0000,  0.0000],\n",
       "        [ 0.0000,  0.0000,  0.0000],\n",
       "        [ 0.0000,  0.0000,  0.0000],\n",
       "        [ 0.0000,  0.0000,  0.0000],\n",
       "        [ 0.0000,  0.0000,  0.0000],\n",
       "        [ 0.0000,  0.0000,  0.0000],\n",
       "        [ 0.0000,  0.0000,  0.0000],\n",
       "        [ 0.0000,  0.0000,  0.0000],\n",
       "        [ 0.0000,  0.0000,  0.0000],\n",
       "        [ 0.0000,  0.0000,  0.0000],\n",
       "        [ 0.0000,  0.0000,  0.0000],\n",
       "        [ 0.0000,  0.0000,  0.0000],\n",
       "        [ 0.0000,  0.0000,  0.0000],\n",
       "        [ 0.0000,  0.0000,  0.0000],\n",
       "        [ 0.0000,  0.0000,  0.0000],\n",
       "        [ 0.0000,  0.0000,  0.0000],\n",
       "        [ 0.0000,  0.0000,  0.0000],\n",
       "        [ 0.0000,  0.0000,  0.0000],\n",
       "        [ 0.0000,  0.0000,  0.0000],\n",
       "        [ 0.0000,  0.0000,  0.0000],\n",
       "        [ 0.0000,  0.0000,  0.0000],\n",
       "        [ 0.0000,  0.0000,  0.0000],\n",
       "        [ 0.0000,  0.0000,  0.0000],\n",
       "        [ 0.0000,  0.0000,  0.0000],\n",
       "        [ 0.0000,  0.0000,  0.0000],\n",
       "        [ 0.0000,  0.0000,  0.0000],\n",
       "        [ 0.0000,  0.0000,  0.0000],\n",
       "        [ 0.0000,  0.0000,  0.0000],\n",
       "        [ 0.0000,  0.0000,  0.0000],\n",
       "        [ 0.0000,  0.0000,  0.0000],\n",
       "        [ 0.0000,  0.0000,  0.0000],\n",
       "        [ 0.0000,  0.0000,  0.0000],\n",
       "        [ 0.0000,  0.0000,  0.0000],\n",
       "        [ 0.0000,  0.0000,  0.0000],\n",
       "        [ 0.0000,  0.0000,  0.0000],\n",
       "        [ 0.0000,  0.0000,  0.0000],\n",
       "        [ 0.0000,  0.0000,  0.0000],\n",
       "        [ 0.0000,  0.0000,  0.0000],\n",
       "        [ 0.0000,  0.0000,  0.0000],\n",
       "        [ 0.0000,  0.0000,  0.0000],\n",
       "        [ 0.0000,  0.0000,  0.0000],\n",
       "        [ 0.0000,  0.0000,  0.0000],\n",
       "        [ 0.0000,  0.0000,  0.0000],\n",
       "        [ 0.0000,  0.0000,  0.0000],\n",
       "        [ 0.0000,  0.0000,  0.0000],\n",
       "        [ 0.0000,  0.0000,  0.0000],\n",
       "        [ 0.0000,  0.0000,  0.0000],\n",
       "        [ 0.0000,  0.0000,  0.0000],\n",
       "        [ 0.0000,  0.0000,  0.0000],\n",
       "        [ 0.0000,  0.0000,  0.0000],\n",
       "        [ 0.0000,  0.0000,  0.0000],\n",
       "        [ 0.0000,  0.0000,  0.0000],\n",
       "        [ 0.0000,  0.0000,  0.0000],\n",
       "        [ 0.0000,  0.0000,  0.0000],\n",
       "        [ 0.0000,  0.0000,  0.0000],\n",
       "        [ 0.0000,  0.0000,  0.0000],\n",
       "        [ 0.0000,  0.0000,  0.0000],\n",
       "        [ 0.0000,  0.0000,  0.0000],\n",
       "        [ 0.0000,  0.0000,  0.0000],\n",
       "        [ 0.0000,  0.0000,  0.0000],\n",
       "        [ 0.0000,  0.0000,  0.0000],\n",
       "        [ 0.0000,  0.0000,  0.0000],\n",
       "        [ 0.0000,  0.0000,  0.0000],\n",
       "        [ 0.0000,  0.0000,  0.0000],\n",
       "        [ 0.0000,  0.0000,  0.0000],\n",
       "        [ 0.0000,  0.0000,  0.0000],\n",
       "        [ 0.0000,  0.0000,  0.0000],\n",
       "        [ 0.0000,  0.0000,  0.0000],\n",
       "        [ 0.0000,  0.0000,  0.0000],\n",
       "        [ 0.0000,  0.0000,  0.0000],\n",
       "        [ 0.0000,  0.0000,  0.0000],\n",
       "        [ 0.0000,  0.0000,  0.0000],\n",
       "        [ 0.0000,  0.0000,  0.0000],\n",
       "        [ 0.0000,  0.0000,  0.0000],\n",
       "        [ 0.0000,  0.0000,  0.0000],\n",
       "        [ 0.0000,  0.0000,  0.0000],\n",
       "        [ 0.0000,  0.0000,  0.0000],\n",
       "        [ 0.0000,  0.0000,  0.0000],\n",
       "        [ 0.0000,  0.0000,  0.0000],\n",
       "        [ 0.0000,  0.0000,  0.0000],\n",
       "        [ 0.0000,  0.0000,  0.0000],\n",
       "        [ 0.0000,  0.0000,  0.0000],\n",
       "        [ 0.0000,  0.0000,  0.0000],\n",
       "        [ 0.0000,  0.0000,  0.0000],\n",
       "        [-1.6425, -0.1022,  1.5653],\n",
       "        [-1.3636,  0.1375,  1.3062],\n",
       "        [-1.3722, -0.3931,  1.0562],\n",
       "        [-1.5636, -0.9242,  1.1009],\n",
       "        [-0.8754,  0.2933,  1.4195],\n",
       "        [-0.5626,  0.6843,  1.2081],\n",
       "        [-0.6525,  0.8732,  0.9164],\n",
       "        [-0.2679,  1.1542,  0.7892],\n",
       "        [ 0.0775,  1.1606,  0.9974],\n",
       "        [ 0.5269,  1.3949,  0.9743],\n",
       "        [ 0.8016,  1.3416,  1.2232],\n",
       "        [ 0.6394,  1.0630,  1.4926],\n",
       "        [ 0.1938,  0.8293,  1.5162],\n",
       "        [-0.0957,  0.8751,  1.2653],\n",
       "        [-1.1945, -0.2348,  0.7899],\n",
       "        [-1.1845, -0.7008,  0.5368],\n",
       "        [-0.7056, -0.7930,  0.3957],\n",
       "        [-0.3503, -0.6707,  0.5366],\n",
       "        [-1.5162, -0.4755,  0.2900],\n",
       "        [-1.3471,  0.0832,  0.0851],\n",
       "        [-1.6277,  0.1049, -0.2021],\n",
       "        [-1.3567,  0.7400,  0.2483],\n",
       "        [ 0.0000,  0.0000,  0.0000],\n",
       "        [ 0.0000,  0.0000,  0.0000],\n",
       "        [ 0.0000,  0.0000,  0.0000],\n",
       "        [ 0.0000,  0.0000,  0.0000],\n",
       "        [ 0.0000,  0.0000,  0.0000],\n",
       "        [ 0.0000,  0.0000,  0.0000],\n",
       "        [-0.7022, -1.0248,  0.1168],\n",
       "        [-0.2779, -1.1239, -0.0481],\n",
       "        [-0.2240, -0.5632, -0.2743],\n",
       "        [-0.5623, -0.2979, -0.3890],\n",
       "        [-0.2813, -1.7920, -0.2063],\n",
       "        [ 0.1855, -1.9814, -0.3293],\n",
       "        [ 0.3766, -1.6111, -0.5139],\n",
       "        [ 0.3622, -2.5085, -0.2445],\n",
       "        [ 0.0000,  0.0000,  0.0000],\n",
       "        [ 0.0000,  0.0000,  0.0000],\n",
       "        [ 0.0000,  0.0000,  0.0000],\n",
       "        [ 0.0000,  0.0000,  0.0000],\n",
       "        [ 0.0000,  0.0000,  0.0000],\n",
       "        [ 0.0000,  0.0000,  0.0000],\n",
       "        [ 0.2034, -0.4192, -0.3526],\n",
       "        [ 0.3135,  0.1237, -0.5550],\n",
       "        [ 0.7649,  0.0167, -0.7343],\n",
       "        [ 1.0586, -0.3689, -0.6389],\n",
       "        [ 0.3605,  0.7346, -0.3531],\n",
       "        [ 0.4939,  1.4131, -0.4700],\n",
       "        [ 0.1118,  1.6340, -0.6737],\n",
       "        [ 0.5666,  1.9042, -0.2104],\n",
       "        [ 0.0000,  0.0000,  0.0000],\n",
       "        [ 0.0000,  0.0000,  0.0000],\n",
       "        [ 0.0000,  0.0000,  0.0000],\n",
       "        [ 0.0000,  0.0000,  0.0000],\n",
       "        [ 0.0000,  0.0000,  0.0000],\n",
       "        [ 0.0000,  0.0000,  0.0000],\n",
       "        [ 0.8102,  0.3303, -0.9970],\n",
       "        [ 1.2369,  0.3061, -1.1779],\n",
       "        [ 1.3035,  0.9442, -1.3580],\n",
       "        [ 0.9656,  1.1774, -1.4938],\n",
       "        [ 1.2681, -0.2861, -1.3939],\n",
       "        [ 1.7484, -0.3246, -1.5481],\n",
       "        [ 1.7765, -0.7866, -1.8178],\n",
       "        [ 1.4949, -1.2452, -1.8402],\n",
       "        [ 2.0856, -0.6919, -2.0080],\n",
       "        [ 0.0000,  0.0000,  0.0000],\n",
       "        [ 0.0000,  0.0000,  0.0000],\n",
       "        [ 0.0000,  0.0000,  0.0000],\n",
       "        [ 0.0000,  0.0000,  0.0000],\n",
       "        [ 0.0000,  0.0000,  0.0000],\n",
       "        [ 0.0000,  0.0000,  0.0000],\n",
       "        [ 0.0000,  0.0000,  0.0000],\n",
       "        [ 0.0000,  0.0000,  0.0000],\n",
       "        [ 0.0000,  0.0000,  0.0000],\n",
       "        [ 0.0000,  0.0000,  0.0000],\n",
       "        [ 0.0000,  0.0000,  0.0000],\n",
       "        [ 0.0000,  0.0000,  0.0000],\n",
       "        [ 0.0000,  0.0000,  0.0000],\n",
       "        [ 0.0000,  0.0000,  0.0000],\n",
       "        [ 0.0000,  0.0000,  0.0000],\n",
       "        [ 0.0000,  0.0000,  0.0000],\n",
       "        [ 0.0000,  0.0000,  0.0000],\n",
       "        [ 0.0000,  0.0000,  0.0000],\n",
       "        [ 0.0000,  0.0000,  0.0000],\n",
       "        [ 0.0000,  0.0000,  0.0000],\n",
       "        [ 0.0000,  0.0000,  0.0000],\n",
       "        [ 0.0000,  0.0000,  0.0000],\n",
       "        [ 0.0000,  0.0000,  0.0000],\n",
       "        [ 0.0000,  0.0000,  0.0000],\n",
       "        [ 0.0000,  0.0000,  0.0000],\n",
       "        [ 0.0000,  0.0000,  0.0000],\n",
       "        [ 0.0000,  0.0000,  0.0000],\n",
       "        [ 0.0000,  0.0000,  0.0000],\n",
       "        [ 0.0000,  0.0000,  0.0000],\n",
       "        [ 0.0000,  0.0000,  0.0000],\n",
       "        [ 0.0000,  0.0000,  0.0000],\n",
       "        [ 0.0000,  0.0000,  0.0000],\n",
       "        [ 0.0000,  0.0000,  0.0000],\n",
       "        [ 0.0000,  0.0000,  0.0000],\n",
       "        [ 0.0000,  0.0000,  0.0000],\n",
       "        [ 0.0000,  0.0000,  0.0000],\n",
       "        [ 0.0000,  0.0000,  0.0000],\n",
       "        [ 0.0000,  0.0000,  0.0000],\n",
       "        [ 0.0000,  0.0000,  0.0000],\n",
       "        [ 0.0000,  0.0000,  0.0000],\n",
       "        [ 0.0000,  0.0000,  0.0000],\n",
       "        [ 0.0000,  0.0000,  0.0000],\n",
       "        [ 0.0000,  0.0000,  0.0000],\n",
       "        [ 0.0000,  0.0000,  0.0000],\n",
       "        [ 0.0000,  0.0000,  0.0000],\n",
       "        [ 0.0000,  0.0000,  0.0000],\n",
       "        [ 0.0000,  0.0000,  0.0000],\n",
       "        [ 0.0000,  0.0000,  0.0000],\n",
       "        [ 0.0000,  0.0000,  0.0000],\n",
       "        [ 0.0000,  0.0000,  0.0000],\n",
       "        [ 0.0000,  0.0000,  0.0000],\n",
       "        [ 0.0000,  0.0000,  0.0000],\n",
       "        [ 0.0000,  0.0000,  0.0000],\n",
       "        [ 0.0000,  0.0000,  0.0000],\n",
       "        [ 0.0000,  0.0000,  0.0000],\n",
       "        [ 0.0000,  0.0000,  0.0000],\n",
       "        [ 0.0000,  0.0000,  0.0000],\n",
       "        [ 0.0000,  0.0000,  0.0000],\n",
       "        [ 0.0000,  0.0000,  0.0000],\n",
       "        [ 0.0000,  0.0000,  0.0000],\n",
       "        [ 0.0000,  0.0000,  0.0000],\n",
       "        [ 0.0000,  0.0000,  0.0000],\n",
       "        [ 0.0000,  0.0000,  0.0000],\n",
       "        [ 0.0000,  0.0000,  0.0000],\n",
       "        [ 0.0000,  0.0000,  0.0000],\n",
       "        [ 0.0000,  0.0000,  0.0000],\n",
       "        [ 0.0000,  0.0000,  0.0000],\n",
       "        [ 0.0000,  0.0000,  0.0000],\n",
       "        [ 0.0000,  0.0000,  0.0000],\n",
       "        [ 0.0000,  0.0000,  0.0000],\n",
       "        [ 0.0000,  0.0000,  0.0000],\n",
       "        [ 0.0000,  0.0000,  0.0000],\n",
       "        [ 0.0000,  0.0000,  0.0000],\n",
       "        [ 0.0000,  0.0000,  0.0000],\n",
       "        [ 0.0000,  0.0000,  0.0000],\n",
       "        [ 0.0000,  0.0000,  0.0000],\n",
       "        [ 0.0000,  0.0000,  0.0000],\n",
       "        [ 0.0000,  0.0000,  0.0000],\n",
       "        [ 0.0000,  0.0000,  0.0000],\n",
       "        [ 0.0000,  0.0000,  0.0000],\n",
       "        [ 0.0000,  0.0000,  0.0000],\n",
       "        [ 0.0000,  0.0000,  0.0000],\n",
       "        [ 0.0000,  0.0000,  0.0000],\n",
       "        [ 0.0000,  0.0000,  0.0000],\n",
       "        [ 0.0000,  0.0000,  0.0000],\n",
       "        [ 0.0000,  0.0000,  0.0000],\n",
       "        [ 0.0000,  0.0000,  0.0000],\n",
       "        [ 0.0000,  0.0000,  0.0000],\n",
       "        [ 0.0000,  0.0000,  0.0000]], dtype=torch.float64)"
      ]
     },
     "execution_count": 235,
     "metadata": {},
     "output_type": "execute_result"
    }
   ],
   "source": [
    "(crds[0] - mask * crd_mean) / coords_std"
   ]
  },
  {
   "cell_type": "code",
   "execution_count": 24,
   "id": "f7d85234",
   "metadata": {},
   "outputs": [
    {
     "data": {
      "text/plain": [
       "(10, 5)"
      ]
     },
     "execution_count": 24,
     "metadata": {},
     "output_type": "execute_result"
    }
   ],
   "source": [
    "np.concatenate([np.zeros((5,5)), np.zeros((5,5))]).shape"
   ]
  },
  {
   "cell_type": "code",
   "execution_count": 25,
   "id": "5eaddcd5",
   "metadata": {},
   "outputs": [],
   "source": [
    "std = [np.array([1,2,3]), np.array([4,5,6])]"
   ]
  },
  {
   "cell_type": "code",
   "execution_count": 29,
   "id": "7f51d3b0",
   "metadata": {},
   "outputs": [
    {
     "data": {
      "text/plain": [
       "array([2.5, 3.5, 4.5])"
      ]
     },
     "execution_count": 29,
     "metadata": {},
     "output_type": "execute_result"
    }
   ],
   "source": [
    "np.stack(std).mean(axis=0)"
   ]
  },
  {
   "cell_type": "code",
   "execution_count": null,
   "id": "daaec048",
   "metadata": {},
   "outputs": [],
   "source": []
  }
 ],
 "metadata": {
  "kernelspec": {
   "display_name": "genomator",
   "language": "python",
   "name": "genomator"
  },
  "language_info": {
   "codemirror_mode": {
    "name": "ipython",
    "version": 3
   },
   "file_extension": ".py",
   "mimetype": "text/x-python",
   "name": "python",
   "nbconvert_exporter": "python",
   "pygments_lexer": "ipython3",
   "version": "3.8.0"
  }
 },
 "nbformat": 4,
 "nbformat_minor": 5
}
